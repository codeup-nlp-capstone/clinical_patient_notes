{
 "cells": [
  {
   "cell_type": "code",
   "execution_count": 1,
   "metadata": {},
   "outputs": [
    {
     "name": "stdout",
     "output_type": "stream",
     "text": [
      "Collecting en-core-web-lg==3.2.0\n",
      "  Downloading https://github.com/explosion/spacy-models/releases/download/en_core_web_lg-3.2.0/en_core_web_lg-3.2.0-py3-none-any.whl (777.4 MB)\n",
      "\u001b[K     |████████████████████████████████| 777.4 MB 17 kB/s s eta 0:00:01\n",
      "\u001b[?25hRequirement already satisfied: spacy<3.3.0,>=3.2.0 in /opt/miniconda3/envs/tf/lib/python3.7/site-packages (from en-core-web-lg==3.2.0) (3.2.1)\n",
      "Requirement already satisfied: typing-extensions<4.0.0.0,>=3.7.4 in /opt/miniconda3/envs/tf/lib/python3.7/site-packages (from spacy<3.3.0,>=3.2.0->en-core-web-lg==3.2.0) (3.10.0.2)\n",
      "Requirement already satisfied: requests<3.0.0,>=2.13.0 in /opt/miniconda3/envs/tf/lib/python3.7/site-packages (from spacy<3.3.0,>=3.2.0->en-core-web-lg==3.2.0) (2.27.1)\n",
      "Requirement already satisfied: setuptools in /opt/miniconda3/envs/tf/lib/python3.7/site-packages (from spacy<3.3.0,>=3.2.0->en-core-web-lg==3.2.0) (58.0.4)\n",
      "Requirement already satisfied: numpy>=1.15.0 in /opt/miniconda3/envs/tf/lib/python3.7/site-packages (from spacy<3.3.0,>=3.2.0->en-core-web-lg==3.2.0) (1.21.2)\n",
      "Requirement already satisfied: wasabi<1.1.0,>=0.8.1 in /opt/miniconda3/envs/tf/lib/python3.7/site-packages (from spacy<3.3.0,>=3.2.0->en-core-web-lg==3.2.0) (0.8.2)\n",
      "Requirement already satisfied: catalogue<2.1.0,>=2.0.6 in /opt/miniconda3/envs/tf/lib/python3.7/site-packages (from spacy<3.3.0,>=3.2.0->en-core-web-lg==3.2.0) (2.0.6)\n",
      "Requirement already satisfied: langcodes<4.0.0,>=3.2.0 in /opt/miniconda3/envs/tf/lib/python3.7/site-packages (from spacy<3.3.0,>=3.2.0->en-core-web-lg==3.2.0) (3.3.0)\n",
      "Requirement already satisfied: pydantic!=1.8,!=1.8.1,<1.9.0,>=1.7.4 in /opt/miniconda3/envs/tf/lib/python3.7/site-packages (from spacy<3.3.0,>=3.2.0->en-core-web-lg==3.2.0) (1.8.2)\n",
      "Requirement already satisfied: spacy-loggers<2.0.0,>=1.0.0 in /opt/miniconda3/envs/tf/lib/python3.7/site-packages (from spacy<3.3.0,>=3.2.0->en-core-web-lg==3.2.0) (1.0.1)\n",
      "Requirement already satisfied: jinja2 in /opt/miniconda3/envs/tf/lib/python3.7/site-packages (from spacy<3.3.0,>=3.2.0->en-core-web-lg==3.2.0) (3.0.2)\n",
      "Requirement already satisfied: typer<0.5.0,>=0.3.0 in /opt/miniconda3/envs/tf/lib/python3.7/site-packages (from spacy<3.3.0,>=3.2.0->en-core-web-lg==3.2.0) (0.4.0)\n",
      "Requirement already satisfied: blis<0.8.0,>=0.4.0 in /opt/miniconda3/envs/tf/lib/python3.7/site-packages (from spacy<3.3.0,>=3.2.0->en-core-web-lg==3.2.0) (0.7.4)\n",
      "Requirement already satisfied: tqdm<5.0.0,>=4.38.0 in /opt/miniconda3/envs/tf/lib/python3.7/site-packages (from spacy<3.3.0,>=3.2.0->en-core-web-lg==3.2.0) (4.62.3)\n",
      "Requirement already satisfied: thinc<8.1.0,>=8.0.12 in /opt/miniconda3/envs/tf/lib/python3.7/site-packages (from spacy<3.3.0,>=3.2.0->en-core-web-lg==3.2.0) (8.0.13)\n",
      "Requirement already satisfied: cymem<2.1.0,>=2.0.2 in /opt/miniconda3/envs/tf/lib/python3.7/site-packages (from spacy<3.3.0,>=3.2.0->en-core-web-lg==3.2.0) (2.0.5)\n",
      "Requirement already satisfied: srsly<3.0.0,>=2.4.1 in /opt/miniconda3/envs/tf/lib/python3.7/site-packages (from spacy<3.3.0,>=3.2.0->en-core-web-lg==3.2.0) (2.4.1)\n",
      "Requirement already satisfied: pathy>=0.3.5 in /opt/miniconda3/envs/tf/lib/python3.7/site-packages (from spacy<3.3.0,>=3.2.0->en-core-web-lg==3.2.0) (0.6.0)\n",
      "Requirement already satisfied: spacy-legacy<3.1.0,>=3.0.8 in /opt/miniconda3/envs/tf/lib/python3.7/site-packages (from spacy<3.3.0,>=3.2.0->en-core-web-lg==3.2.0) (3.0.8)\n",
      "Requirement already satisfied: packaging>=20.0 in /opt/miniconda3/envs/tf/lib/python3.7/site-packages (from spacy<3.3.0,>=3.2.0->en-core-web-lg==3.2.0) (21.3)\n",
      "Requirement already satisfied: preshed<3.1.0,>=3.0.2 in /opt/miniconda3/envs/tf/lib/python3.7/site-packages (from spacy<3.3.0,>=3.2.0->en-core-web-lg==3.2.0) (3.0.5)\n",
      "Requirement already satisfied: murmurhash<1.1.0,>=0.28.0 in /opt/miniconda3/envs/tf/lib/python3.7/site-packages (from spacy<3.3.0,>=3.2.0->en-core-web-lg==3.2.0) (1.0.5)\n",
      "Requirement already satisfied: zipp>=0.5 in /opt/miniconda3/envs/tf/lib/python3.7/site-packages (from catalogue<2.1.0,>=2.0.6->spacy<3.3.0,>=3.2.0->en-core-web-lg==3.2.0) (3.7.0)\n",
      "Requirement already satisfied: pyparsing!=3.0.5,>=2.0.2 in /opt/miniconda3/envs/tf/lib/python3.7/site-packages (from packaging>=20.0->spacy<3.3.0,>=3.2.0->en-core-web-lg==3.2.0) (3.0.4)\n",
      "Requirement already satisfied: smart-open<6.0.0,>=5.0.0 in /opt/miniconda3/envs/tf/lib/python3.7/site-packages (from pathy>=0.3.5->spacy<3.3.0,>=3.2.0->en-core-web-lg==3.2.0) (5.1.0)\n",
      "Requirement already satisfied: certifi>=2017.4.17 in /opt/miniconda3/envs/tf/lib/python3.7/site-packages (from requests<3.0.0,>=2.13.0->spacy<3.3.0,>=3.2.0->en-core-web-lg==3.2.0) (2021.10.8)\n",
      "Requirement already satisfied: charset-normalizer~=2.0.0 in /opt/miniconda3/envs/tf/lib/python3.7/site-packages (from requests<3.0.0,>=2.13.0->spacy<3.3.0,>=3.2.0->en-core-web-lg==3.2.0) (2.0.4)\n",
      "Requirement already satisfied: idna<4,>=2.5 in /opt/miniconda3/envs/tf/lib/python3.7/site-packages (from requests<3.0.0,>=2.13.0->spacy<3.3.0,>=3.2.0->en-core-web-lg==3.2.0) (3.3)\n",
      "Requirement already satisfied: urllib3<1.27,>=1.21.1 in /opt/miniconda3/envs/tf/lib/python3.7/site-packages (from requests<3.0.0,>=2.13.0->spacy<3.3.0,>=3.2.0->en-core-web-lg==3.2.0) (1.26.8)\n",
      "Requirement already satisfied: click<9.0.0,>=7.1.1 in /opt/miniconda3/envs/tf/lib/python3.7/site-packages (from typer<0.5.0,>=0.3.0->spacy<3.3.0,>=3.2.0->en-core-web-lg==3.2.0) (8.0.3)\n",
      "Requirement already satisfied: importlib-metadata in /opt/miniconda3/envs/tf/lib/python3.7/site-packages (from click<9.0.0,>=7.1.1->typer<0.5.0,>=0.3.0->spacy<3.3.0,>=3.2.0->en-core-web-lg==3.2.0) (4.8.2)\n",
      "Requirement already satisfied: MarkupSafe>=2.0 in /opt/miniconda3/envs/tf/lib/python3.7/site-packages (from jinja2->spacy<3.3.0,>=3.2.0->en-core-web-lg==3.2.0) (2.0.1)\n",
      "\u001b[38;5;2m✔ Download and installation successful\u001b[0m\n",
      "You can now load the package via spacy.load('en_core_web_lg')\n"
     ]
    },
    {
     "name": "stderr",
     "output_type": "stream",
     "text": [
      "[nltk_data] Downloading package stopwords to\n",
      "[nltk_data]     /Users/dragonzord/nltk_data...\n",
      "[nltk_data]   Package stopwords is already up-to-date!\n"
     ]
    },
    {
     "data": {
      "text/plain": [
       "True"
      ]
     },
     "execution_count": 1,
     "metadata": {},
     "output_type": "execute_result"
    }
   ],
   "source": [
    "import pandas as pd\n",
    "pd.set_option('display.max_colwidth', None)\n",
    "\n",
    "import numpy as np\n",
    "\n",
    "import spacy\n",
    "#!python -m spacy download en_core_web_sm\n",
    "!python -m spacy download en_core_web_lg\n",
    "\n",
    "import nltk\n",
    "nltk.download('stopwords')"
   ]
  },
  {
   "cell_type": "code",
   "execution_count": 2,
   "metadata": {},
   "outputs": [
    {
     "data": {
      "text/html": [
       "<div>\n",
       "<style scoped>\n",
       "    .dataframe tbody tr th:only-of-type {\n",
       "        vertical-align: middle;\n",
       "    }\n",
       "\n",
       "    .dataframe tbody tr th {\n",
       "        vertical-align: top;\n",
       "    }\n",
       "\n",
       "    .dataframe thead th {\n",
       "        text-align: right;\n",
       "    }\n",
       "</style>\n",
       "<table border=\"1\" class=\"dataframe\">\n",
       "  <thead>\n",
       "    <tr style=\"text-align: right;\">\n",
       "      <th></th>\n",
       "      <th>pn_num</th>\n",
       "      <th>case_num</th>\n",
       "      <th>pn_history</th>\n",
       "    </tr>\n",
       "  </thead>\n",
       "  <tbody>\n",
       "    <tr>\n",
       "      <th>0</th>\n",
       "      <td>0</td>\n",
       "      <td>0</td>\n",
       "      <td>17-year-old male, has come to the student health clinic complaining of heart pounding. Mr. Cleveland's mother has given verbal consent for a history, physical examination, and treatment\\r\\n-began 2-3 months ago,sudden,intermittent for 2 days(lasting 3-4 min),worsening,non-allev/aggrav\\r\\n-associated with dispnea on exersion and rest,stressed out about school\\r\\n-reports fe feels like his heart is jumping out of his chest\\r\\n-ros:denies chest pain,dyaphoresis,wt loss,chills,fever,nausea,vomiting,pedal edeam\\r\\n-pmh:non,meds :aderol (from a friend),nkda\\r\\n-fh:father had MI recently,mother has thyroid dz\\r\\n-sh:non-smoker,mariguana 5-6 months ago,3 beers on the weekend, basketball at school\\r\\n-sh:no std</td>\n",
       "    </tr>\n",
       "    <tr>\n",
       "      <th>1</th>\n",
       "      <td>1</td>\n",
       "      <td>0</td>\n",
       "      <td>17 yo male with recurrent palpitations for the past 3 mo lasting about 3 - 4 min, it happened about 5 - 6 times since the beginning. One time durign a baskeball game two days ago light headedness, pressure in the chest, catching breath, but no fainting. During teh episodes no sweating. No diarrhea, no heat intolerance, no weight loss. Has tried aterol to be able to better concentrate, has received it from his roommate. .</td>\n",
       "    </tr>\n",
       "  </tbody>\n",
       "</table>\n",
       "</div>"
      ],
      "text/plain": [
       "   pn_num  case_num  \\\n",
       "0       0         0   \n",
       "1       1         0   \n",
       "\n",
       "                                                                                                                                                                                                                                                                                                                                                                                                                                                                                                                                                                                                                                                                                                                                pn_history  \n",
       "0  17-year-old male, has come to the student health clinic complaining of heart pounding. Mr. Cleveland's mother has given verbal consent for a history, physical examination, and treatment\\r\\n-began 2-3 months ago,sudden,intermittent for 2 days(lasting 3-4 min),worsening,non-allev/aggrav\\r\\n-associated with dispnea on exersion and rest,stressed out about school\\r\\n-reports fe feels like his heart is jumping out of his chest\\r\\n-ros:denies chest pain,dyaphoresis,wt loss,chills,fever,nausea,vomiting,pedal edeam\\r\\n-pmh:non,meds :aderol (from a friend),nkda\\r\\n-fh:father had MI recently,mother has thyroid dz\\r\\n-sh:non-smoker,mariguana 5-6 months ago,3 beers on the weekend, basketball at school\\r\\n-sh:no std  \n",
       "1                                                                                                                                                                                                                                                                                                 17 yo male with recurrent palpitations for the past 3 mo lasting about 3 - 4 min, it happened about 5 - 6 times since the beginning. One time durign a baskeball game two days ago light headedness, pressure in the chest, catching breath, but no fainting. During teh episodes no sweating. No diarrhea, no heat intolerance, no weight loss. Has tried aterol to be able to better concentrate, has received it from his roommate. .  "
      ]
     },
     "execution_count": 2,
     "metadata": {},
     "output_type": "execute_result"
    }
   ],
   "source": [
    "patient_notes = pd.read_csv(\"patient_notes.csv\")\n",
    "patient_notes.head(2)"
   ]
  },
  {
   "cell_type": "code",
   "execution_count": 3,
   "metadata": {},
   "outputs": [
    {
     "data": {
      "text/html": [
       "<div>\n",
       "<style scoped>\n",
       "    .dataframe tbody tr th:only-of-type {\n",
       "        vertical-align: middle;\n",
       "    }\n",
       "\n",
       "    .dataframe tbody tr th {\n",
       "        vertical-align: top;\n",
       "    }\n",
       "\n",
       "    .dataframe thead th {\n",
       "        text-align: right;\n",
       "    }\n",
       "</style>\n",
       "<table border=\"1\" class=\"dataframe\">\n",
       "  <thead>\n",
       "    <tr style=\"text-align: right;\">\n",
       "      <th></th>\n",
       "      <th>feature_num</th>\n",
       "      <th>case_num</th>\n",
       "      <th>feature_text</th>\n",
       "    </tr>\n",
       "  </thead>\n",
       "  <tbody>\n",
       "    <tr>\n",
       "      <th>0</th>\n",
       "      <td>0</td>\n",
       "      <td>0</td>\n",
       "      <td>Family-history-of-MI-OR-Family-history-of-myocardial-infarction</td>\n",
       "    </tr>\n",
       "    <tr>\n",
       "      <th>1</th>\n",
       "      <td>1</td>\n",
       "      <td>0</td>\n",
       "      <td>Family-history-of-thyroid-disorder</td>\n",
       "    </tr>\n",
       "  </tbody>\n",
       "</table>\n",
       "</div>"
      ],
      "text/plain": [
       "   feature_num  case_num  \\\n",
       "0            0         0   \n",
       "1            1         0   \n",
       "\n",
       "                                                      feature_text  \n",
       "0  Family-history-of-MI-OR-Family-history-of-myocardial-infarction  \n",
       "1                               Family-history-of-thyroid-disorder  "
      ]
     },
     "execution_count": 3,
     "metadata": {},
     "output_type": "execute_result"
    }
   ],
   "source": [
    "features = pd.read_csv(\"features.csv\")\n",
    "features.head(2)"
   ]
  },
  {
   "cell_type": "code",
   "execution_count": 4,
   "metadata": {},
   "outputs": [
    {
     "name": "stdout",
     "output_type": "stream",
     "text": [
      "17 yo male with recurrent palpitations for the past 3 mo lasting about 3 - 4 min, it happened about 5 - 6 times since the beginning. One time durign a baskeball game two days ago light headedness, pressure in the chest, catching breath, but no fainting. During teh episodes no sweating. No diarrhea, no heat intolerance, no weight loss. Has tried aterol to be able to better concentrate, has received it from his roommate. .\n",
      "Family-history-of-thyroid-disorder\n"
     ]
    }
   ],
   "source": [
    "second_note = patient_notes.iloc[1, 2]\n",
    "second_feature = features.iloc[1, 2]\n",
    "\n",
    "print(second_note)\n",
    "print(second_feature)"
   ]
  },
  {
   "cell_type": "code",
   "execution_count": 5,
   "metadata": {},
   "outputs": [
    {
     "data": {
      "text/plain": [
       "0                                                                                                                                                                                                                                                 17-year-old male, has come to the student health clinic complaining of heart pounding. Mr. Cleveland's mother has given verbal consent for a history, physical examination, and treatment\\r\\n-began 2-3 months ago,sudden,intermittent for 2 days(lasting 3-4 min),worsening,non-allev/aggrav\\r\\n-associated with dispnea on exersion and rest,stressed out about school\\r\\n-reports fe feels like his heart is jumping out of his chest\\r\\n-ros:denies chest pain,dyaphoresis,wt loss,chills,fever,nausea,vomiting,pedal edeam\\r\\n-pmh:non,meds :aderol (from a friend),nkda\\r\\n-fh:father had MI recently,mother has thyroid dz\\r\\n-sh:non-smoker,mariguana 5-6 months ago,3 beers on the weekend, basketball at school\\r\\n-sh:no std\n",
       "1                                                                                                                                                                                                                                                                                                                                                                                                                                                                                                                                                17 yo male with recurrent palpitations for the past 3 mo lasting about 3 - 4 min, it happened about 5 - 6 times since the beginning. One time durign a baskeball game two days ago light headedness, pressure in the chest, catching breath, but no fainting. During teh episodes no sweating. No diarrhea, no heat intolerance, no weight loss. Has tried aterol to be able to better concentrate, has received it from his roommate. .\n",
       "2                                                                                                         Dillon Cleveland is a 17 y.o. male patient with no significant PMH who presents with complaints of heart pounding. This has been going on for a few months and happens once or twice a month. He cannot think of any triggers, and it has occurred both with activity and at rest. Occasionally, it is accompanied by chest pressure but not pain that is located at the center of his chest. On one instance, he experienced chest pressure, lightheadedness and shortness of breath for 10 minutes with the heart pounding. \\r\\n\\r\\nOtherwise, he has not had shortness of breath, chest pain, anxiety, \\r\\n\\r\\nMedication: adderall twice a week as study aid (not prescribed)\\r\\nFH: mother - thyroid disease, father - heart attack at age 52, both living\\r\\nSH: no smoking; 3-4 drinks on the weekend per sitting; marijuanna once recently, no other recreational drugs\n",
       "3                                                                                                                                                                                                                                    a 17 yo m c/o palpitation started 3 mos ago; \\r\\nNOTHING IMPROVES OR EXACERBATES THE SYMPTOMS ACCORDING TO HIM; IT CAN HAPPEN ANY TIME; MAY TAKE A FEW MINUTES; LAST TIME HAPPENED 2 DAYS AGO DURING PLAYING A GAME AND IT WAS ASSOCIATED WITH RETROSTERNAL PRESSURE LIKE DISCOMFORT; AND HE FELT LIGHTHEADED. BUT HE DID NOT LOSE CONCIOUSNESS AND DID NOT FALL. \\r\\nNOT ASSOCIATED WITH NAUSEA VOMITING; HEADACHE; ABDOMINAL PAIN; CHANGES IN URINATION OR BOWEL HABITS, OR TREMOR OR SKIN OR HAIR CHANGE OR INTOLERABC\\r\\n\\r\\nPMH NONE\\r\\nPSHH: NONE\\r\\nMEDS: ADEROL TO STAY AWAKE\\r\\nHOSP: NONE\\r\\nFH: MOTHER HAS THYROID DISEASE; FATHER HAS CAD X 1 YR\\r\\nSH: NO SMOKING; DRINKING ON WEEKENDS CAGE 0/4; ONE TIME USE OF MARIJUANA\\r\\n\\r\\n\\r\\n\n",
       "4    17yo male with no pmh here for evaluation of palpitations. States for the last 3-4mo he has felt that his heart with intermittently \"beat out of his chest,\" with some associated difficulty catching his breath. States that the most recent event was 2 days ago, and during activity at a soccer game. He does not seem to note any specific precipitatinig factors at this time. He also states that he feels as if he will faint during these events, but has not lost consciousness at any point. Furthermore, he does endorse theses attacks occuring 1-2 times a month and peak at 4 mins. He denies any stressors at home. ROS: denies weight loss, fevers, recnet illness, change in bowel habits. PMH: negative, PSH negative, FHX mom with thyroid disorder, dad with heart condition and MI at 52yo. SHX no tobacco, ETOH on weekends, Marijuana tried a month ago. Med: is taking some of roommates Adderoll intermittently (last was 2 days ago prior to event). KNDA\n",
       "5                                                              17 yo m, presenting with palpitations/increased heart rate, 5-6 episodes in the past few months, most recently 2 days ago. 2 days ago, episode was associated with chest pressure, shortness of breath, and lightheadedness.\\r\\nNo diaphoresis, no vomiting, no tremor, no loss of consciousness\\r\\nNo fever, no nausea or vomiting or diarrhea\\r\\nNo rash, no change in skin colour\\r\\nAppetite good\\r\\nDenies anxiety prior to or during this episode\\r\\nPHx: healthy\\r\\nMedications: Taking friend's prescription Adderral to help study for tests (not prescribed for him); taking a few times per week - reported no temporal relation to palpitations\\r\\nAllergies: none\\r\\nSubstances: no cigarettes, 3-4 beers on weekends, Adderall; no cocaine use or other substances\\r\\nSocial history: freshman in college - reported no concerns about school\\r\\nFamily history: father - MI at 52, mother - thyroid disease\n",
       "6                                                                                                                       17 yo male presents with 3-4 month history of heart pounding and racing. The episodes last 3-4 minutes. He has had 5-6 total episodes. The stop on their own. Most recent episode was accompanied by chest pressure and shortness of breath, and lasted 10 minutes. He consumes 3-4 cups of coffee/night and drinks energy drinks weekly. - fever, weight loss, sleeping problems. - temperature intolerance, skin changes, bowel changes. \\r\\nROS: negative except per HPI\\r\\nPMH: none\\r\\nPSH: none\\r\\nSH: Denies tobacco use. Has tried marijuana once, no other illicit use. Alcohol 3-4/weekend. Patient has been using roommates Adderall prescription a few times per week starting a few months ago. Last time of use was 2 days ago. Sexually active with girlfriend; uses condoms. College student studying marketing.\\r\\nMeds: none\\r\\nAllergies: none\n",
       "7                                                                                                                                                                   17 yo male presents with a 2-3 month history of episodic pounding heart with increased rate. Episodes are sporadic with no association with physical activity or use of adderall. No alleviating or aggrevating factors. Denies syncope. Endorses single episode 2 days ago of increased heart rate with associated feeling of chest pressure, lightheadedness, and difficulty breathing. Episode lasted 10 minutes and required him to sit down. \\r\\n\\r\\nPMHx, PSurgHx: none\\r\\nFH: mother \"thyroid problems.\" Father MI at 52 yo. \\r\\nMeds: none\\r\\nAllergies: NKA\\r\\nSH: full time college student studying philosophy. EtOH: 3-4 beers on the weekends. Tobacco: never. Recreational drug use: routinely uses roommate Aderall for studying. Sex: girlfriend of a year, routinely uses condoms for contraception.\n",
       "8                                                                                                                                                        HPI: 17 YO complains of intermittent heart palpitations x 2-3 months, it has ocurred 5-6 times in total, with no precipitant events, although it happened at a basketball game once. He also had associated SOB 2 days ago. He denies any cough, swelling, LOC, no dizziness, no pain, no changes in bowel habits, no abnormal sweating, no heat or cold intolerance, no weight changes, no fever, no mood changes, not stressed or anxious recently. \\r\\nROS: negative except as above\\r\\nPMH: none, PSH: none\\r\\nAllergies: NKDA\\r\\nMedications: Adderol\\r\\nFH: Dad had an MI at 52 yo, mom has a thyroid problem\\r\\nSH: college freshman, non smoker, etOH on weekends with friends, marihuana once. Plays basketball and runs. \\r\\nSexual history: sexually active with girlfriend, uses condoms for contraception. No STDs.\n",
       "9                                                                                                                                 Mr. Cleveland is a 17 yo M who presents to clinic with the complaint of palpitations. Reports having 5-6 episodes of palpitations over the past 3-4 months. Palpitations usually resolve spontaneously within a few minutes. They have occurred at rest and with activity, happening at random times w/o association with a particular physical activity. The last episode of palpitations occurred 2 days ago after taking a friends adderall earlier in the day. He reports having 10 minutes of palpitations, chest pressure, SOB and presyncope before it resolved spontaneously. He reports that most episodes of palpitations occurred at times that coincide with taking adderall. Denies PMHx, medications, pshx, NKDA. FHx: father had MI at age 52; thyroid disorder in mother. Drinks socially, denies tobacco, distant h/o cannabinoid use.\n",
       "Name: pn_history, dtype: object"
      ]
     },
     "execution_count": 5,
     "metadata": {},
     "output_type": "execute_result"
    }
   ],
   "source": [
    "patient_notes[\"pn_history\"][patient_notes[\"case_num\"] == 0][:10]"
   ]
  },
  {
   "cell_type": "code",
   "execution_count": 6,
   "metadata": {},
   "outputs": [
    {
     "data": {
      "text/plain": [
       "\"17-year-old male, has come to the student health clinic complaining of heart pounding. Mr. Cleveland's mother has given verbal consent for a history, physical examination, and treatment\\r\\n-began 2-3 months ago,sudden,intermittent for 2 days(lasting 3-4 min),worsening,non-allev/aggrav\\r\\n-associated with dispnea on exersion and rest,stressed out about school\\r\\n-reports fe feels like his heart is jumping out of his chest\\r\\n-ros:denies chest pain,dyaphoresis,wt loss,chills,fever,nausea,vomiting,pedal edeam\\r\\n-pmh:non,meds :aderol (from a friend),nkda\\r\\n-fh:father had MI recently,mother has thyroid dz\\r\\n-sh:non-smoker,mariguana 5-6 months ago,3 beers on the weekend, basketball at school\\r\\n-sh:no std\\n17 yo male with recurrent palpitations for the past 3 mo lasting about 3 - 4 min, it happened about 5 - 6 times since the beginning. One time durign a baskeball game two days ago light headedness, pressure in the chest, catching breath, but no fainting. During teh episodes no sweating. No diarrhea, no h\""
      ]
     },
     "execution_count": 6,
     "metadata": {},
     "output_type": "execute_result"
    }
   ],
   "source": [
    "case_num_zero = patient_notes[\"pn_history\"][patient_notes[\"case_num\"] == 0][:1500]\n",
    "whole_case_num_zero = \"\\n\".join(case_num_zero.to_list())\n",
    "whole_case_num_zero[:1000]"
   ]
  },
  {
   "cell_type": "markdown",
   "metadata": {},
   "source": [
    "### brents acquire"
   ]
  },
  {
   "cell_type": "code",
   "execution_count": 7,
   "metadata": {},
   "outputs": [],
   "source": [
    "import acquire"
   ]
  },
  {
   "cell_type": "code",
   "execution_count": null,
   "metadata": {},
   "outputs": [],
   "source": []
  },
  {
   "cell_type": "markdown",
   "metadata": {},
   "source": [
    "### jareds prepare file"
   ]
  },
  {
   "cell_type": "code",
   "execution_count": 8,
   "metadata": {},
   "outputs": [
    {
     "data": {
      "text/plain": [
       "966554"
      ]
     },
     "execution_count": 8,
     "metadata": {},
     "output_type": "execute_result"
    }
   ],
   "source": [
    "import prepare_jag\n",
    "clean_note = prepare_jag.basic_clean2(whole_case_num_zero)\n",
    "clean_note = prepare_jag.remove_stopwords(clean_note, exclude_words=[\"no\"])\n",
    "len(clean_note)"
   ]
  },
  {
   "cell_type": "code",
   "execution_count": null,
   "metadata": {},
   "outputs": [],
   "source": []
  },
  {
   "cell_type": "markdown",
   "metadata": {},
   "source": [
    "### Using spacy"
   ]
  },
  {
   "cell_type": "code",
   "execution_count": 9,
   "metadata": {},
   "outputs": [
    {
     "name": "stdout",
     "output_type": "stream",
     "text": [
      "155762\n"
     ]
    },
    {
     "data": {
      "text/plain": [
       "17-year-old male come student health clinic complaining heart pounding mr cleveland's mother given verbal consent history physical examination treatment -began 2-3 months ago sudden intermittent 2 days lasting 3-4 min worsening non-allev aggrav -associated dispnea exersion rest stressed school -reports fe feels like heart jumping chest -ros denies chest pain dyaphoresis wt loss chills fever nausea vomiting pedal edeam -pmh non meds aderol friend nkda -fh father mi recently mother thyroid dz -sh non-smoker mariguana 5-6 months ago 3 beers weekend basketball school -sh no"
      ]
     },
     "execution_count": 9,
     "metadata": {},
     "output_type": "execute_result"
    }
   ],
   "source": [
    "nlp = spacy.load(\"en_core_web_lg\")\n",
    "doc = nlp(clean_note)\n",
    "print(len(doc))\n",
    "doc[:100]"
   ]
  },
  {
   "cell_type": "code",
   "execution_count": 10,
   "metadata": {},
   "outputs": [
    {
     "name": "stdout",
     "output_type": "stream",
     "text": [
      "year I DATE NOUN\n",
      "old I DATE ADJ\n",
      "male O  NOUN\n",
      "come O  VERB\n",
      "student O  NOUN\n",
      "health O  NOUN\n",
      "clinic O  NOUN\n",
      "complaining O  VERB\n",
      "heart O  NOUN\n",
      "pounding O  VERB\n",
      "mr O  PROPN\n",
      "cleveland B GPE PROPN\n",
      "'s O  PART\n",
      "mother O  NOUN\n",
      "given O  VERB\n",
      "verbal O  ADJ\n",
      "consent O  NOUN\n",
      "history O  NOUN\n",
      "physical O  ADJ\n",
      "examination O  NOUN\n",
      "treatment O  NOUN\n",
      "months I DATE NOUN\n",
      "ago I DATE ADV\n",
      "sudden O  ADJ\n",
      "intermittent O  ADJ\n",
      "days I DATE NOUN\n",
      "lasting O  VERB\n",
      "min I TIME NOUN\n",
      "worsening O  VERB\n",
      "non O  ADJ\n",
      "- O  ADJ\n",
      "allev O  ADJ\n",
      "aggrav O  PROPN\n",
      "-associated O  VERB\n",
      "dispnea O  PROPN\n",
      "exersion O  NOUN\n",
      "rest O  NOUN\n",
      "stressed O  VERB\n",
      "school O  NOUN\n",
      "-reports O  NOUN\n",
      "fe O  PROPN\n",
      "feels O  VERB\n",
      "like O  ADP\n",
      "heart O  NOUN\n",
      "jumping O  VERB\n",
      "chest O  NOUN\n",
      "-ros O  PROPN\n",
      "denies O  VERB\n",
      "chest O  NOUN\n",
      "pain O  NOUN\n",
      "dyaphoresis O  NOUN\n",
      "wt O  NOUN\n",
      "loss O  NOUN\n",
      "chills O  NOUN\n",
      "fever O  NOUN\n",
      "nausea O  NOUN\n",
      "vomiting O  NOUN\n",
      "pedal O  NOUN\n",
      "edeam O  NOUN\n",
      "-pmh O  ADJ\n",
      "non O  ADJ\n",
      "meds O  NOUN\n",
      "aderol O  VERB\n",
      "friend O  PROPN\n",
      "nkda O  NOUN\n",
      "father O  PROPN\n",
      "mi B PERSON PROPN\n",
      "recently O  ADV\n",
      "mother O  NOUN\n",
      "thyroid O  PROPN\n",
      "dz O  PROPN\n",
      "non O  ADJ\n",
      "- O  ADJ\n",
      "smoker O  ADJ\n",
      "mariguana O  NOUN\n",
      "months I DATE NOUN\n",
      "ago I DATE ADV\n",
      "beers O  NOUN\n",
      "weekend O  NOUN\n",
      "basketball O  NOUN\n",
      "school O  NOUN\n",
      "no O  DET\n"
     ]
    }
   ],
   "source": [
    "for token in doc[:100]:\n",
    "    if token.pos_ not in [\"NUM\", \"PUNCT\", \"SYM\"]:\n",
    "        print(token.text, token.ent_iob_, token.ent_type_, token.pos_)"
   ]
  },
  {
   "cell_type": "code",
   "execution_count": 11,
   "metadata": {},
   "outputs": [
    {
     "name": "stdout",
     "output_type": "stream",
     "text": [
      "17-year-old male come student health clinic\n",
      "{'year': 'NOUN', 'old': 'ADJ', 'male': 'NOUN', 'come': 'VERB', 'student': 'NOUN', 'health': 'NOUN', 'clinic': 'NOUN'}\n",
      "heart\n",
      "{'heart': 'NOUN'}\n",
      "mr cleveland's mother\n",
      "{'mr': 'PROPN', 'cleveland': 'PROPN', \"'s\": 'PART', 'mother': 'NOUN'}\n",
      "verbal consent history physical examination treatment\n",
      "{'verbal': 'ADJ', 'consent': 'NOUN', 'history': 'NOUN', 'physical': 'ADJ', 'examination': 'NOUN', 'treatment': 'NOUN'}\n",
      "3-4 min\n",
      "{'min': 'NOUN'}\n",
      "worsening non-allev aggrav\n",
      "{'worsening': 'VERB', 'non': 'ADJ', '-': 'ADJ', 'allev': 'ADJ', 'aggrav': 'PROPN'}\n",
      "dispnea exersion rest\n",
      "{'dispnea': 'PROPN', 'exersion': 'NOUN', 'rest': 'NOUN'}\n",
      "school -reports fe\n",
      "{'school': 'NOUN', '-reports': 'NOUN', 'fe': 'PROPN'}\n",
      "heart\n",
      "{'heart': 'NOUN'}\n",
      "chest\n",
      "{'chest': 'NOUN'}\n",
      "chest pain dyaphoresis\n",
      "{'chest': 'NOUN', 'pain': 'NOUN', 'dyaphoresis': 'NOUN'}\n",
      "loss chills fever nausea vomiting pedal edeam\n",
      "{'loss': 'NOUN', 'chills': 'NOUN', 'fever': 'NOUN', 'nausea': 'NOUN', 'vomiting': 'NOUN', 'pedal': 'NOUN', 'edeam': 'NOUN'}\n",
      "non meds\n",
      "{'non': 'ADJ', 'meds': 'NOUN'}\n",
      "friend nkda\n",
      "{'friend': 'PROPN', 'nkda': 'NOUN'}\n",
      "mother thyroid\n",
      "{'mother': 'NOUN', 'thyroid': 'PROPN'}\n"
     ]
    }
   ],
   "source": [
    "for token in doc[:100].noun_chunks:\n",
    "    print(token)\n",
    "    print({tok.text: tok.pos_ for tok in token if tok.pos_ not in [\"NUM\", \"PUNCT\", \"SYM\"]})"
   ]
  },
  {
   "cell_type": "code",
   "execution_count": null,
   "metadata": {},
   "outputs": [],
   "source": [
    "colors = {\"Annotation\" :\"linear-gradient(to right, #2980b9, #6dd5fa, #ffffff);\" } \n",
    "options = {\"colors\": colors}\n",
    "spacy.displacy.render(doc, style='ent', options=options , manual=True, jupyter=True);"
   ]
  },
  {
   "cell_type": "code",
   "execution_count": null,
   "metadata": {},
   "outputs": [],
   "source": [
    "for ent in doc[:10000].ents:\n",
    "    print(f\"text: {ent.text}, start_char: {ent.start_char}, end_char: {ent.end_char}, label_: {ent.label_}, start: {ent.start}, ent_id: {ent.ent_id_}, label: {ent.label}, vector_norm: {ent.vector_norm}\")"
   ]
  },
  {
   "cell_type": "markdown",
   "metadata": {},
   "source": [
    "### Using Scispacy\n",
    "#### scispacy is not working in this environment"
   ]
  },
  {
   "cell_type": "code",
   "execution_count": 14,
   "metadata": {},
   "outputs": [],
   "source": [
    "#%pip install https://s3-us-west-2.amazonaws.com/ai2-s2-scispacy/releases/v0.4.0/en_core_sci_lg-0.4.0.tar.gz"
   ]
  },
  {
   "cell_type": "code",
   "execution_count": 17,
   "metadata": {},
   "outputs": [],
   "source": [
    "# print(\"works1\")\n",
    "# import scispacy\n",
    "# print(\"works2\")\n",
    "\n",
    "# from scispacy.linking import EntityLinker\n",
    "\n",
    "# print(\"works3\")\n",
    "# sci_nlp = spacy.load(\"en_core_sci_lg\")\n",
    "# # This line takes a while, because we have to download ~1GB of data\n",
    "# # and load a large JSON file (the knowledge base). Be patient!\n",
    "# # Thankfully it should be faster after the first time you use it, because\n",
    "# # the downloads are cached.\n",
    "# print(\"works4\")\n"
   ]
  },
  {
   "cell_type": "code",
   "execution_count": 18,
   "metadata": {},
   "outputs": [],
   "source": [
    "\n",
    "# # NOTE: The resolve_abbreviations parameter is optional, and requires that\n",
    "# # the AbbreviationDetector pipe has already been added to the pipeline. Adding\n",
    "# # the AbbreviationDetector pipe and setting resolve_abbreviations to True means\n",
    "# # that linking will only be performed on the long form of abbreviations.\n",
    "# sci_nlp.add_pipe(\"scispacy_linker\", config={\"linker_name\": \"umls\"})\n",
    "\n",
    "# doc = sci_nlp(clean_note)\n",
    "# # Let's look at a random entity!\n",
    "# # doc comes from above\n",
    "# entity = doc.ents[1]\n",
    "# print(f\"Name: {entity}\")\n",
    "\n",
    "# # Each entity is linked to UMLS with a score\n",
    "# # (currently just char-3gram matching).\n",
    "# linker = nlp.get_pipe(\"scispacy_linker\")\n",
    "# for umls_ent in entity._.kb_ents:\n",
    "# \tprint(linker.kb.cui_to_entity[umls_ent[0]])"
   ]
  },
  {
   "cell_type": "code",
   "execution_count": null,
   "metadata": {},
   "outputs": [],
   "source": []
  }
 ],
 "metadata": {
  "interpreter": {
   "hash": "ee3717197db56dab91ad083a26bef10706ce761f0ab8e349ac843a6f8d1f4192"
  },
  "kernelspec": {
   "display_name": "Python 3.7.11 ('tf')",
   "language": "python",
   "name": "python3"
  },
  "language_info": {
   "codemirror_mode": {
    "name": "ipython",
    "version": 3
   },
   "file_extension": ".py",
   "mimetype": "text/x-python",
   "name": "python",
   "nbconvert_exporter": "python",
   "pygments_lexer": "ipython3",
   "version": "3.7.11"
  },
  "orig_nbformat": 4
 },
 "nbformat": 4,
 "nbformat_minor": 2
}
