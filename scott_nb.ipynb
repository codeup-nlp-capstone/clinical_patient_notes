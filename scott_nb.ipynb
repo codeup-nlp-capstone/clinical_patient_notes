{
 "cells": [
  {
   "cell_type": "code",
   "execution_count": null,
   "metadata": {},
   "outputs": [],
   "source": [
    "import pandas as pd\n",
    "pd.set_option('display.max_colwidth', None)\n",
    "\n",
    "import numpy as np\n",
    "\n",
    "import spacy\n",
    "#!python -m spacy download en_core_web_sm\n",
    "!python -m spacy download en_core_web_lg\n",
    "\n",
    "import nltk\n",
    "nltk.download('stopwords')"
   ]
  },
  {
   "cell_type": "code",
   "execution_count": 2,
   "metadata": {},
   "outputs": [
    {
     "data": {
      "text/html": [
       "<div>\n",
       "<style scoped>\n",
       "    .dataframe tbody tr th:only-of-type {\n",
       "        vertical-align: middle;\n",
       "    }\n",
       "\n",
       "    .dataframe tbody tr th {\n",
       "        vertical-align: top;\n",
       "    }\n",
       "\n",
       "    .dataframe thead th {\n",
       "        text-align: right;\n",
       "    }\n",
       "</style>\n",
       "<table border=\"1\" class=\"dataframe\">\n",
       "  <thead>\n",
       "    <tr style=\"text-align: right;\">\n",
       "      <th></th>\n",
       "      <th>pn_num</th>\n",
       "      <th>case_num</th>\n",
       "      <th>pn_history</th>\n",
       "    </tr>\n",
       "  </thead>\n",
       "  <tbody>\n",
       "    <tr>\n",
       "      <th>0</th>\n",
       "      <td>0</td>\n",
       "      <td>0</td>\n",
       "      <td>17-year-old male, has come to the student health clinic complaining of heart pounding. Mr. Cleveland's mother has given verbal consent for a history, physical examination, and treatment\\r\\n-began 2-3 months ago,sudden,intermittent for 2 days(lasting 3-4 min),worsening,non-allev/aggrav\\r\\n-associated with dispnea on exersion and rest,stressed out about school\\r\\n-reports fe feels like his heart is jumping out of his chest\\r\\n-ros:denies chest pain,dyaphoresis,wt loss,chills,fever,nausea,vomiting,pedal edeam\\r\\n-pmh:non,meds :aderol (from a friend),nkda\\r\\n-fh:father had MI recently,mother has thyroid dz\\r\\n-sh:non-smoker,mariguana 5-6 months ago,3 beers on the weekend, basketball at school\\r\\n-sh:no std</td>\n",
       "    </tr>\n",
       "    <tr>\n",
       "      <th>1</th>\n",
       "      <td>1</td>\n",
       "      <td>0</td>\n",
       "      <td>17 yo male with recurrent palpitations for the past 3 mo lasting about 3 - 4 min, it happened about 5 - 6 times since the beginning. One time durign a baskeball game two days ago light headedness, pressure in the chest, catching breath, but no fainting. During teh episodes no sweating. No diarrhea, no heat intolerance, no weight loss. Has tried aterol to be able to better concentrate, has received it from his roommate. .</td>\n",
       "    </tr>\n",
       "  </tbody>\n",
       "</table>\n",
       "</div>"
      ],
      "text/plain": [
       "   pn_num  case_num  \\\n",
       "0       0         0   \n",
       "1       1         0   \n",
       "\n",
       "                                                                                                                                                                                                                                                                                                                                                                                                                                                                                                                                                                                                                                                                                                                                pn_history  \n",
       "0  17-year-old male, has come to the student health clinic complaining of heart pounding. Mr. Cleveland's mother has given verbal consent for a history, physical examination, and treatment\\r\\n-began 2-3 months ago,sudden,intermittent for 2 days(lasting 3-4 min),worsening,non-allev/aggrav\\r\\n-associated with dispnea on exersion and rest,stressed out about school\\r\\n-reports fe feels like his heart is jumping out of his chest\\r\\n-ros:denies chest pain,dyaphoresis,wt loss,chills,fever,nausea,vomiting,pedal edeam\\r\\n-pmh:non,meds :aderol (from a friend),nkda\\r\\n-fh:father had MI recently,mother has thyroid dz\\r\\n-sh:non-smoker,mariguana 5-6 months ago,3 beers on the weekend, basketball at school\\r\\n-sh:no std  \n",
       "1                                                                                                                                                                                                                                                                                                 17 yo male with recurrent palpitations for the past 3 mo lasting about 3 - 4 min, it happened about 5 - 6 times since the beginning. One time durign a baskeball game two days ago light headedness, pressure in the chest, catching breath, but no fainting. During teh episodes no sweating. No diarrhea, no heat intolerance, no weight loss. Has tried aterol to be able to better concentrate, has received it from his roommate. .  "
      ]
     },
     "execution_count": 2,
     "metadata": {},
     "output_type": "execute_result"
    }
   ],
   "source": [
    "patient_notes = pd.read_csv(\"patient_notes.csv\")\n",
    "patient_notes.head(2)"
   ]
  },
  {
   "cell_type": "code",
   "execution_count": 3,
   "metadata": {},
   "outputs": [
    {
     "data": {
      "text/html": [
       "<div>\n",
       "<style scoped>\n",
       "    .dataframe tbody tr th:only-of-type {\n",
       "        vertical-align: middle;\n",
       "    }\n",
       "\n",
       "    .dataframe tbody tr th {\n",
       "        vertical-align: top;\n",
       "    }\n",
       "\n",
       "    .dataframe thead th {\n",
       "        text-align: right;\n",
       "    }\n",
       "</style>\n",
       "<table border=\"1\" class=\"dataframe\">\n",
       "  <thead>\n",
       "    <tr style=\"text-align: right;\">\n",
       "      <th></th>\n",
       "      <th>feature_num</th>\n",
       "      <th>case_num</th>\n",
       "      <th>feature_text</th>\n",
       "    </tr>\n",
       "  </thead>\n",
       "  <tbody>\n",
       "    <tr>\n",
       "      <th>0</th>\n",
       "      <td>0</td>\n",
       "      <td>0</td>\n",
       "      <td>Family-history-of-MI-OR-Family-history-of-myocardial-infarction</td>\n",
       "    </tr>\n",
       "    <tr>\n",
       "      <th>1</th>\n",
       "      <td>1</td>\n",
       "      <td>0</td>\n",
       "      <td>Family-history-of-thyroid-disorder</td>\n",
       "    </tr>\n",
       "  </tbody>\n",
       "</table>\n",
       "</div>"
      ],
      "text/plain": [
       "   feature_num  case_num  \\\n",
       "0            0         0   \n",
       "1            1         0   \n",
       "\n",
       "                                                      feature_text  \n",
       "0  Family-history-of-MI-OR-Family-history-of-myocardial-infarction  \n",
       "1                               Family-history-of-thyroid-disorder  "
      ]
     },
     "execution_count": 3,
     "metadata": {},
     "output_type": "execute_result"
    }
   ],
   "source": [
    "features = pd.read_csv(\"features.csv\")\n",
    "features.head(2)"
   ]
  },
  {
   "cell_type": "code",
   "execution_count": 4,
   "metadata": {},
   "outputs": [
    {
     "name": "stdout",
     "output_type": "stream",
     "text": [
      "17 yo male with recurrent palpitations for the past 3 mo lasting about 3 - 4 min, it happened about 5 - 6 times since the beginning. One time durign a baskeball game two days ago light headedness, pressure in the chest, catching breath, but no fainting. During teh episodes no sweating. No diarrhea, no heat intolerance, no weight loss. Has tried aterol to be able to better concentrate, has received it from his roommate. .\n",
      "Family-history-of-thyroid-disorder\n"
     ]
    }
   ],
   "source": [
    "second_note = patient_notes.iloc[1, 2]\n",
    "second_feature = features.iloc[1, 2]\n",
    "\n",
    "print(second_note)\n",
    "print(second_feature)"
   ]
  },
  {
   "cell_type": "code",
   "execution_count": 5,
   "metadata": {},
   "outputs": [
    {
     "data": {
      "text/plain": [
       "0                                                                                                                                                                                                                                                 17-year-old male, has come to the student health clinic complaining of heart pounding. Mr. Cleveland's mother has given verbal consent for a history, physical examination, and treatment\\r\\n-began 2-3 months ago,sudden,intermittent for 2 days(lasting 3-4 min),worsening,non-allev/aggrav\\r\\n-associated with dispnea on exersion and rest,stressed out about school\\r\\n-reports fe feels like his heart is jumping out of his chest\\r\\n-ros:denies chest pain,dyaphoresis,wt loss,chills,fever,nausea,vomiting,pedal edeam\\r\\n-pmh:non,meds :aderol (from a friend),nkda\\r\\n-fh:father had MI recently,mother has thyroid dz\\r\\n-sh:non-smoker,mariguana 5-6 months ago,3 beers on the weekend, basketball at school\\r\\n-sh:no std\n",
       "1                                                                                                                                                                                                                                                                                                                                                                                                                                                                                                                                                17 yo male with recurrent palpitations for the past 3 mo lasting about 3 - 4 min, it happened about 5 - 6 times since the beginning. One time durign a baskeball game two days ago light headedness, pressure in the chest, catching breath, but no fainting. During teh episodes no sweating. No diarrhea, no heat intolerance, no weight loss. Has tried aterol to be able to better concentrate, has received it from his roommate. .\n",
       "2                                                                                                         Dillon Cleveland is a 17 y.o. male patient with no significant PMH who presents with complaints of heart pounding. This has been going on for a few months and happens once or twice a month. He cannot think of any triggers, and it has occurred both with activity and at rest. Occasionally, it is accompanied by chest pressure but not pain that is located at the center of his chest. On one instance, he experienced chest pressure, lightheadedness and shortness of breath for 10 minutes with the heart pounding. \\r\\n\\r\\nOtherwise, he has not had shortness of breath, chest pain, anxiety, \\r\\n\\r\\nMedication: adderall twice a week as study aid (not prescribed)\\r\\nFH: mother - thyroid disease, father - heart attack at age 52, both living\\r\\nSH: no smoking; 3-4 drinks on the weekend per sitting; marijuanna once recently, no other recreational drugs\n",
       "3                                                                                                                                                                                                                                    a 17 yo m c/o palpitation started 3 mos ago; \\r\\nNOTHING IMPROVES OR EXACERBATES THE SYMPTOMS ACCORDING TO HIM; IT CAN HAPPEN ANY TIME; MAY TAKE A FEW MINUTES; LAST TIME HAPPENED 2 DAYS AGO DURING PLAYING A GAME AND IT WAS ASSOCIATED WITH RETROSTERNAL PRESSURE LIKE DISCOMFORT; AND HE FELT LIGHTHEADED. BUT HE DID NOT LOSE CONCIOUSNESS AND DID NOT FALL. \\r\\nNOT ASSOCIATED WITH NAUSEA VOMITING; HEADACHE; ABDOMINAL PAIN; CHANGES IN URINATION OR BOWEL HABITS, OR TREMOR OR SKIN OR HAIR CHANGE OR INTOLERABC\\r\\n\\r\\nPMH NONE\\r\\nPSHH: NONE\\r\\nMEDS: ADEROL TO STAY AWAKE\\r\\nHOSP: NONE\\r\\nFH: MOTHER HAS THYROID DISEASE; FATHER HAS CAD X 1 YR\\r\\nSH: NO SMOKING; DRINKING ON WEEKENDS CAGE 0/4; ONE TIME USE OF MARIJUANA\\r\\n\\r\\n\\r\\n\n",
       "4    17yo male with no pmh here for evaluation of palpitations. States for the last 3-4mo he has felt that his heart with intermittently \"beat out of his chest,\" with some associated difficulty catching his breath. States that the most recent event was 2 days ago, and during activity at a soccer game. He does not seem to note any specific precipitatinig factors at this time. He also states that he feels as if he will faint during these events, but has not lost consciousness at any point. Furthermore, he does endorse theses attacks occuring 1-2 times a month and peak at 4 mins. He denies any stressors at home. ROS: denies weight loss, fevers, recnet illness, change in bowel habits. PMH: negative, PSH negative, FHX mom with thyroid disorder, dad with heart condition and MI at 52yo. SHX no tobacco, ETOH on weekends, Marijuana tried a month ago. Med: is taking some of roommates Adderoll intermittently (last was 2 days ago prior to event). KNDA\n",
       "5                                                              17 yo m, presenting with palpitations/increased heart rate, 5-6 episodes in the past few months, most recently 2 days ago. 2 days ago, episode was associated with chest pressure, shortness of breath, and lightheadedness.\\r\\nNo diaphoresis, no vomiting, no tremor, no loss of consciousness\\r\\nNo fever, no nausea or vomiting or diarrhea\\r\\nNo rash, no change in skin colour\\r\\nAppetite good\\r\\nDenies anxiety prior to or during this episode\\r\\nPHx: healthy\\r\\nMedications: Taking friend's prescription Adderral to help study for tests (not prescribed for him); taking a few times per week - reported no temporal relation to palpitations\\r\\nAllergies: none\\r\\nSubstances: no cigarettes, 3-4 beers on weekends, Adderall; no cocaine use or other substances\\r\\nSocial history: freshman in college - reported no concerns about school\\r\\nFamily history: father - MI at 52, mother - thyroid disease\n",
       "6                                                                                                                       17 yo male presents with 3-4 month history of heart pounding and racing. The episodes last 3-4 minutes. He has had 5-6 total episodes. The stop on their own. Most recent episode was accompanied by chest pressure and shortness of breath, and lasted 10 minutes. He consumes 3-4 cups of coffee/night and drinks energy drinks weekly. - fever, weight loss, sleeping problems. - temperature intolerance, skin changes, bowel changes. \\r\\nROS: negative except per HPI\\r\\nPMH: none\\r\\nPSH: none\\r\\nSH: Denies tobacco use. Has tried marijuana once, no other illicit use. Alcohol 3-4/weekend. Patient has been using roommates Adderall prescription a few times per week starting a few months ago. Last time of use was 2 days ago. Sexually active with girlfriend; uses condoms. College student studying marketing.\\r\\nMeds: none\\r\\nAllergies: none\n",
       "7                                                                                                                                                                   17 yo male presents with a 2-3 month history of episodic pounding heart with increased rate. Episodes are sporadic with no association with physical activity or use of adderall. No alleviating or aggrevating factors. Denies syncope. Endorses single episode 2 days ago of increased heart rate with associated feeling of chest pressure, lightheadedness, and difficulty breathing. Episode lasted 10 minutes and required him to sit down. \\r\\n\\r\\nPMHx, PSurgHx: none\\r\\nFH: mother \"thyroid problems.\" Father MI at 52 yo. \\r\\nMeds: none\\r\\nAllergies: NKA\\r\\nSH: full time college student studying philosophy. EtOH: 3-4 beers on the weekends. Tobacco: never. Recreational drug use: routinely uses roommate Aderall for studying. Sex: girlfriend of a year, routinely uses condoms for contraception.\n",
       "8                                                                                                                                                        HPI: 17 YO complains of intermittent heart palpitations x 2-3 months, it has ocurred 5-6 times in total, with no precipitant events, although it happened at a basketball game once. He also had associated SOB 2 days ago. He denies any cough, swelling, LOC, no dizziness, no pain, no changes in bowel habits, no abnormal sweating, no heat or cold intolerance, no weight changes, no fever, no mood changes, not stressed or anxious recently. \\r\\nROS: negative except as above\\r\\nPMH: none, PSH: none\\r\\nAllergies: NKDA\\r\\nMedications: Adderol\\r\\nFH: Dad had an MI at 52 yo, mom has a thyroid problem\\r\\nSH: college freshman, non smoker, etOH on weekends with friends, marihuana once. Plays basketball and runs. \\r\\nSexual history: sexually active with girlfriend, uses condoms for contraception. No STDs.\n",
       "9                                                                                                                                 Mr. Cleveland is a 17 yo M who presents to clinic with the complaint of palpitations. Reports having 5-6 episodes of palpitations over the past 3-4 months. Palpitations usually resolve spontaneously within a few minutes. They have occurred at rest and with activity, happening at random times w/o association with a particular physical activity. The last episode of palpitations occurred 2 days ago after taking a friends adderall earlier in the day. He reports having 10 minutes of palpitations, chest pressure, SOB and presyncope before it resolved spontaneously. He reports that most episodes of palpitations occurred at times that coincide with taking adderall. Denies PMHx, medications, pshx, NKDA. FHx: father had MI at age 52; thyroid disorder in mother. Drinks socially, denies tobacco, distant h/o cannabinoid use.\n",
       "Name: pn_history, dtype: object"
      ]
     },
     "execution_count": 5,
     "metadata": {},
     "output_type": "execute_result"
    }
   ],
   "source": [
    "patient_notes[\"pn_history\"][patient_notes[\"case_num\"] == 0][:10]"
   ]
  },
  {
   "cell_type": "code",
   "execution_count": 6,
   "metadata": {},
   "outputs": [
    {
     "data": {
      "text/plain": [
       "\"17-year-old male, has come to the student health clinic complaining of heart pounding. Mr. Cleveland's mother has given verbal consent for a history, physical examination, and treatment\\r\\n-began 2-3 months ago,sudden,intermittent for 2 days(lasting 3-4 min),worsening,non-allev/aggrav\\r\\n-associated with dispnea on exersion and rest,stressed out about school\\r\\n-reports fe feels like his heart is jumping out of his chest\\r\\n-ros:denies chest pain,dyaphoresis,wt loss,chills,fever,nausea,vomiting,pedal edeam\\r\\n-pmh:non,meds :aderol (from a friend),nkda\\r\\n-fh:father had MI recently,mother has thyroid dz\\r\\n-sh:non-smoker,mariguana 5-6 months ago,3 beers on the weekend, basketball at school\\r\\n-sh:no std\\n17 yo male with recurrent palpitations for the past 3 mo lasting about 3 - 4 min, it happened about 5 - 6 times since the beginning. One time durign a baskeball game two days ago light headedness, pressure in the chest, catching breath, but no fainting. During teh episodes no sweating. No diarrhea, no h\""
      ]
     },
     "execution_count": 6,
     "metadata": {},
     "output_type": "execute_result"
    }
   ],
   "source": [
    "case_num_zero = patient_notes[\"pn_history\"][patient_notes[\"case_num\"] == 0][:1500]\n",
    "whole_case_num_zero = \"\\n\".join(case_num_zero.to_list())\n",
    "whole_case_num_zero[:1000]"
   ]
  },
  {
   "cell_type": "markdown",
   "metadata": {},
   "source": [
    "### brents acquire"
   ]
  },
  {
   "cell_type": "code",
   "execution_count": 7,
   "metadata": {},
   "outputs": [],
   "source": [
    "import acquire"
   ]
  },
  {
   "cell_type": "code",
   "execution_count": null,
   "metadata": {},
   "outputs": [],
   "source": []
  },
  {
   "cell_type": "markdown",
   "metadata": {},
   "source": [
    "### jareds prepare file"
   ]
  },
  {
   "cell_type": "code",
   "execution_count": 8,
   "metadata": {},
   "outputs": [
    {
     "data": {
      "text/plain": [
       "964036"
      ]
     },
     "execution_count": 8,
     "metadata": {},
     "output_type": "execute_result"
    }
   ],
   "source": [
    "import prepare_jag\n",
    "clean_note = prepare_jag.basic_clean2(whole_case_num_zero)\n",
    "clean_note = prepare_jag.remove_stopwords(clean_note, exclude_words=[\"no\"])\n",
    "len(clean_note)"
   ]
  },
  {
   "cell_type": "code",
   "execution_count": null,
   "metadata": {},
   "outputs": [],
   "source": []
  },
  {
   "cell_type": "markdown",
   "metadata": {},
   "source": [
    "### Using spacy"
   ]
  },
  {
   "cell_type": "code",
   "execution_count": 9,
   "metadata": {},
   "outputs": [
    {
     "name": "stdout",
     "output_type": "stream",
     "text": [
      "150066\n"
     ]
    },
    {
     "data": {
      "text/plain": [
       "17 year old male come student health clinic complaining heart pounding mr cleveland's mother given verbal consent history physical examination treatment began 2 3 months ago sudden intermittent 2 days lasting 3 4 min worsening non allev aggrav associated dispnea exersion rest stressed school reports fe feels like heart jumping chest ros denies chest pain dyaphoresis wt loss chills fever nausea vomiting pedal edeam pmh non meds aderol friend nkda fh father mi recently mother thyroid dz sh non smoker mariguana 5 6 months ago 3 beers weekend basketball school sh no std 17 yo male recurrent palpitations past"
      ]
     },
     "execution_count": 9,
     "metadata": {},
     "output_type": "execute_result"
    }
   ],
   "source": [
    "nlp = spacy.load(\"en_core_web_lg\")\n",
    "doc = nlp(clean_note)\n",
    "print(len(doc))\n",
    "doc[:100]"
   ]
  },
  {
   "cell_type": "code",
   "execution_count": null,
   "metadata": {},
   "outputs": [],
   "source": [
    "for token in doc[:100]:\n",
    "    if token.pos_ not in [\"NUM\", \"PUNCT\", \"SYM\"]:\n",
    "        print(token.text, token.ent_iob_, token.ent_type_, token.pos_)"
   ]
  },
  {
   "cell_type": "code",
   "execution_count": null,
   "metadata": {},
   "outputs": [],
   "source": [
    "for token in doc[:100].noun_chunks:\n",
    "    print(token)\n",
    "    print({tok.text: tok.pos_ for tok in token if tok.pos_ not in [\"NUM\", \"PUNCT\", \"SYM\"]})"
   ]
  },
  {
   "cell_type": "code",
   "execution_count": null,
   "metadata": {},
   "outputs": [],
   "source": [
    "# colors = {\"Annotation\" :\"linear-gradient(to right, #2980b9, #6dd5fa, #ffffff);\" } \n",
    "# options = {\"colors\": colors}\n",
    "#spacy.displacy.render(doc, style='ent', options=options , manual=True, jupyter=True);\n",
    "spacy.displacy.render(doc, style='ent', jupyter=True);"
   ]
  },
  {
   "cell_type": "code",
   "execution_count": null,
   "metadata": {},
   "outputs": [],
   "source": [
    "for ent in doc[:10000].ents:\n",
    "    print(f\"text: {ent.text}, start_char: {ent.start_char}, end_char: {ent.end_char}, label_: {ent.label_}, start: {ent.start}, ent_id: {ent.ent_id_}, label: {ent.label}, vector_norm: {ent.vector_norm}\")"
   ]
  },
  {
   "cell_type": "code",
   "execution_count": null,
   "metadata": {},
   "outputs": [],
   "source": [
    "for text, labels in data:\n",
    "        doc=[]\n",
    "        #print(text)\n",
    "        doc = nlp(text)\n",
    "    \n",
    "        ents = []\n",
    "        labels[\"entities\"]=sorted(labels[\"entities\"])\n",
    "        for start, end, label in labels[\"entities\"]:\n",
    "            print(start,end,label)\n",
    "            ents.append(doc.char_span(start, end, label))\n",
    "        \n",
    "        print(ents)"
   ]
  },
  {
   "cell_type": "code",
   "execution_count": null,
   "metadata": {},
   "outputs": [],
   "source": []
  },
  {
   "cell_type": "markdown",
   "metadata": {},
   "source": [
    "### Using Scispacy\n",
    "#### scispacy is not working in this environment"
   ]
  },
  {
   "cell_type": "code",
   "execution_count": 14,
   "metadata": {},
   "outputs": [],
   "source": [
    "#%pip install https://s3-us-west-2.amazonaws.com/ai2-s2-scispacy/releases/v0.4.0/en_core_sci_lg-0.4.0.tar.gz"
   ]
  },
  {
   "cell_type": "code",
   "execution_count": 17,
   "metadata": {},
   "outputs": [],
   "source": [
    "# print(\"works1\")\n",
    "# import scispacy\n",
    "# print(\"works2\")\n",
    "\n",
    "# from scispacy.linking import EntityLinker\n",
    "\n",
    "# print(\"works3\")\n",
    "# sci_nlp = spacy.load(\"en_core_sci_lg\")\n",
    "# # This line takes a while, because we have to download ~1GB of data\n",
    "# # and load a large JSON file (the knowledge base). Be patient!\n",
    "# # Thankfully it should be faster after the first time you use it, because\n",
    "# # the downloads are cached.\n",
    "# print(\"works4\")\n"
   ]
  },
  {
   "cell_type": "code",
   "execution_count": 18,
   "metadata": {},
   "outputs": [],
   "source": [
    "\n",
    "# # NOTE: The resolve_abbreviations parameter is optional, and requires that\n",
    "# # the AbbreviationDetector pipe has already been added to the pipeline. Adding\n",
    "# # the AbbreviationDetector pipe and setting resolve_abbreviations to True means\n",
    "# # that linking will only be performed on the long form of abbreviations.\n",
    "# sci_nlp.add_pipe(\"scispacy_linker\", config={\"linker_name\": \"umls\"})\n",
    "\n",
    "# doc = sci_nlp(clean_note)\n",
    "# # Let's look at a random entity!\n",
    "# # doc comes from above\n",
    "# entity = doc.ents[1]\n",
    "# print(f\"Name: {entity}\")\n",
    "\n",
    "# # Each entity is linked to UMLS with a score\n",
    "# # (currently just char-3gram matching).\n",
    "# linker = nlp.get_pipe(\"scispacy_linker\")\n",
    "# for umls_ent in entity._.kb_ents:\n",
    "# \tprint(linker.kb.cui_to_entity[umls_ent[0]])"
   ]
  },
  {
   "cell_type": "code",
   "execution_count": null,
   "metadata": {},
   "outputs": [],
   "source": []
  }
 ],
 "metadata": {
  "interpreter": {
   "hash": "ee3717197db56dab91ad083a26bef10706ce761f0ab8e349ac843a6f8d1f4192"
  },
  "kernelspec": {
   "display_name": "Python 3.7.11 ('tf')",
   "language": "python",
   "name": "python3"
  },
  "language_info": {
   "codemirror_mode": {
    "name": "ipython",
    "version": 3
   },
   "file_extension": ".py",
   "mimetype": "text/x-python",
   "name": "python",
   "nbconvert_exporter": "python",
   "pygments_lexer": "ipython3",
   "version": "3.7.11"
  },
  "orig_nbformat": 4
 },
 "nbformat": 4,
 "nbformat_minor": 2
}
