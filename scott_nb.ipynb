{
 "cells": [
  {
   "cell_type": "code",
   "execution_count": 1,
   "metadata": {},
   "outputs": [],
   "source": [
    "import pandas as pd\n",
    "pd.set_option('display.max_colwidth', None)\n",
    "\n",
    "import numpy as np\n",
    "\n",
    "import spacy\n",
    "#!python -m spacy download en_core_web_sm\n",
    "#!python -m spacy download en_core_web_lg\n",
    "\n",
    "import nltk\n",
    "nltk.download('stopwords')"
   ]
  },
  {
   "cell_type": "code",
   "execution_count": 16,
   "metadata": {},
   "outputs": [
    {
     "data": {
      "text/html": [
       "<div>\n",
       "<style scoped>\n",
       "    .dataframe tbody tr th:only-of-type {\n",
       "        vertical-align: middle;\n",
       "    }\n",
       "\n",
       "    .dataframe tbody tr th {\n",
       "        vertical-align: top;\n",
       "    }\n",
       "\n",
       "    .dataframe thead th {\n",
       "        text-align: right;\n",
       "    }\n",
       "</style>\n",
       "<table border=\"1\" class=\"dataframe\">\n",
       "  <thead>\n",
       "    <tr style=\"text-align: right;\">\n",
       "      <th></th>\n",
       "      <th>pn_num</th>\n",
       "      <th>case_num</th>\n",
       "      <th>pn_history</th>\n",
       "    </tr>\n",
       "  </thead>\n",
       "  <tbody>\n",
       "    <tr>\n",
       "      <th>0</th>\n",
       "      <td>0</td>\n",
       "      <td>0</td>\n",
       "      <td>17-year-old male, has come to the student health clinic complaining of heart pounding. Mr. Cleveland's mother has given verbal consent for a history, physical examination, and treatment\\r\\n-began 2-3 months ago,sudden,intermittent for 2 days(lasting 3-4 min),worsening,non-allev/aggrav\\r\\n-associated with dispnea on exersion and rest,stressed out about school\\r\\n-reports fe feels like his heart is jumping out of his chest\\r\\n-ros:denies chest pain,dyaphoresis,wt loss,chills,fever,nausea,vomiting,pedal edeam\\r\\n-pmh:non,meds :aderol (from a friend),nkda\\r\\n-fh:father had MI recently,mother has thyroid dz\\r\\n-sh:non-smoker,mariguana 5-6 months ago,3 beers on the weekend, basketball at school\\r\\n-sh:no std</td>\n",
       "    </tr>\n",
       "    <tr>\n",
       "      <th>1</th>\n",
       "      <td>1</td>\n",
       "      <td>0</td>\n",
       "      <td>17 yo male with recurrent palpitations for the past 3 mo lasting about 3 - 4 min, it happened about 5 - 6 times since the beginning. One time durign a baskeball game two days ago light headedness, pressure in the chest, catching breath, but no fainting. During teh episodes no sweating. No diarrhea, no heat intolerance, no weight loss. Has tried aterol to be able to better concentrate, has received it from his roommate. .</td>\n",
       "    </tr>\n",
       "  </tbody>\n",
       "</table>\n",
       "</div>"
      ],
      "text/plain": [
       "   pn_num  case_num  \\\n",
       "0       0         0   \n",
       "1       1         0   \n",
       "\n",
       "                                                                                                                                                                                                                                                                                                                                                                                                                                                                                                                                                                                                                                                                                                                                pn_history  \n",
       "0  17-year-old male, has come to the student health clinic complaining of heart pounding. Mr. Cleveland's mother has given verbal consent for a history, physical examination, and treatment\\r\\n-began 2-3 months ago,sudden,intermittent for 2 days(lasting 3-4 min),worsening,non-allev/aggrav\\r\\n-associated with dispnea on exersion and rest,stressed out about school\\r\\n-reports fe feels like his heart is jumping out of his chest\\r\\n-ros:denies chest pain,dyaphoresis,wt loss,chills,fever,nausea,vomiting,pedal edeam\\r\\n-pmh:non,meds :aderol (from a friend),nkda\\r\\n-fh:father had MI recently,mother has thyroid dz\\r\\n-sh:non-smoker,mariguana 5-6 months ago,3 beers on the weekend, basketball at school\\r\\n-sh:no std  \n",
       "1                                                                                                                                                                                                                                                                                                 17 yo male with recurrent palpitations for the past 3 mo lasting about 3 - 4 min, it happened about 5 - 6 times since the beginning. One time durign a baskeball game two days ago light headedness, pressure in the chest, catching breath, but no fainting. During teh episodes no sweating. No diarrhea, no heat intolerance, no weight loss. Has tried aterol to be able to better concentrate, has received it from his roommate. .  "
      ]
     },
     "execution_count": 16,
     "metadata": {},
     "output_type": "execute_result"
    }
   ],
   "source": [
    "patient_notes = pd.read_csv(\"patient_notes.csv\")\n",
    "patient_notes.head(2)"
   ]
  },
  {
   "cell_type": "code",
   "execution_count": 17,
   "metadata": {},
   "outputs": [
    {
     "data": {
      "text/html": [
       "<div>\n",
       "<style scoped>\n",
       "    .dataframe tbody tr th:only-of-type {\n",
       "        vertical-align: middle;\n",
       "    }\n",
       "\n",
       "    .dataframe tbody tr th {\n",
       "        vertical-align: top;\n",
       "    }\n",
       "\n",
       "    .dataframe thead th {\n",
       "        text-align: right;\n",
       "    }\n",
       "</style>\n",
       "<table border=\"1\" class=\"dataframe\">\n",
       "  <thead>\n",
       "    <tr style=\"text-align: right;\">\n",
       "      <th></th>\n",
       "      <th>feature_num</th>\n",
       "      <th>case_num</th>\n",
       "      <th>feature_text</th>\n",
       "    </tr>\n",
       "  </thead>\n",
       "  <tbody>\n",
       "    <tr>\n",
       "      <th>0</th>\n",
       "      <td>0</td>\n",
       "      <td>0</td>\n",
       "      <td>Family-history-of-MI-OR-Family-history-of-myocardial-infarction</td>\n",
       "    </tr>\n",
       "    <tr>\n",
       "      <th>1</th>\n",
       "      <td>1</td>\n",
       "      <td>0</td>\n",
       "      <td>Family-history-of-thyroid-disorder</td>\n",
       "    </tr>\n",
       "  </tbody>\n",
       "</table>\n",
       "</div>"
      ],
      "text/plain": [
       "   feature_num  case_num  \\\n",
       "0            0         0   \n",
       "1            1         0   \n",
       "\n",
       "                                                      feature_text  \n",
       "0  Family-history-of-MI-OR-Family-history-of-myocardial-infarction  \n",
       "1                               Family-history-of-thyroid-disorder  "
      ]
     },
     "execution_count": 17,
     "metadata": {},
     "output_type": "execute_result"
    }
   ],
   "source": [
    "features = pd.read_csv(\"features.csv\")\n",
    "features.head(2)"
   ]
  },
  {
   "cell_type": "code",
   "execution_count": 18,
   "metadata": {},
   "outputs": [],
   "source": [
    "second_note = patient_notes.iloc[1, 2]\n",
    "second_feature = features.iloc[1, 2]\n",
    "\n",
    "print(second_note)\n",
    "print(second_feature)"
   ]
  },
  {
   "cell_type": "code",
   "execution_count": 41,
   "metadata": {},
   "outputs": [
    {
     "data": {
      "text/plain": [
       "0                                                                                                                                            17-year-old male, has come to the student health clinic complaining of heart pounding. Mr. Cleveland's mother has given verbal consent for a history, physical examination, and treatment\\r\\n-began 2-3 months ago,sudden,intermittent for 2 days(lasting 3-4 min),worsening,non-allev/aggrav\\r\\n-associated with dispnea on exersion and rest,stressed out about school\\r\\n-reports fe feels like his heart is jumping out of his chest\\r\\n-ros:denies chest pain,dyaphoresis,wt loss,chills,fever,nausea,vomiting,pedal edeam\\r\\n-pmh:non,meds :aderol (from a friend),nkda\\r\\n-fh:father had MI recently,mother has thyroid dz\\r\\n-sh:non-smoker,mariguana 5-6 months ago,3 beers on the weekend, basketball at school\\r\\n-sh:no std\n",
       "1                                                                                                                                                                                                                                                                                                                                                                                                                                           17 yo male with recurrent palpitations for the past 3 mo lasting about 3 - 4 min, it happened about 5 - 6 times since the beginning. One time durign a baskeball game two days ago light headedness, pressure in the chest, catching breath, but no fainting. During teh episodes no sweating. No diarrhea, no heat intolerance, no weight loss. Has tried aterol to be able to better concentrate, has received it from his roommate. .\n",
       "2    Dillon Cleveland is a 17 y.o. male patient with no significant PMH who presents with complaints of heart pounding. This has been going on for a few months and happens once or twice a month. He cannot think of any triggers, and it has occurred both with activity and at rest. Occasionally, it is accompanied by chest pressure but not pain that is located at the center of his chest. On one instance, he experienced chest pressure, lightheadedness and shortness of breath for 10 minutes with the heart pounding. \\r\\n\\r\\nOtherwise, he has not had shortness of breath, chest pain, anxiety, \\r\\n\\r\\nMedication: adderall twice a week as study aid (not prescribed)\\r\\nFH: mother - thyroid disease, father - heart attack at age 52, both living\\r\\nSH: no smoking; 3-4 drinks on the weekend per sitting; marijuanna once recently, no other recreational drugs\n",
       "Name: pn_history, dtype: object"
      ]
     },
     "execution_count": 41,
     "metadata": {},
     "output_type": "execute_result"
    }
   ],
   "source": [
    "patient_notes[\"pn_history\"][patient_notes[\"case_num\"] == 0][:3]"
   ]
  },
  {
   "cell_type": "code",
   "execution_count": 54,
   "metadata": {},
   "outputs": [
    {
     "data": {
      "text/plain": [
       "\"17-year-old male, has come to the student health clinic complaining of heart pounding. Mr. Cleveland's mother has given verbal consent for a history, physical examination, and treatment\\r\\n-began 2-3 months ago,sudden,intermittent for 2 days(lasting 3-4 min),worsening,non-allev/aggrav\\r\\n-associated with dispnea on exersion and rest,stressed out about school\\r\\n-reports fe feels like his heart is jumping out of his chest\\r\\n-ros:denies chest pain,dyaphoresis,wt loss,chills,fever,nausea,vomiting,pedal edeam\\r\\n-pmh:non,meds :aderol (from a friend),nkda\\r\\n-fh:father had MI recently,mother has thyroid dz\\r\\n-sh:non-smoker,mariguana 5-6 months ago,3 beers on the weekend, basketball at school\\r\\n-sh:no std\\n17 yo male with recurrent palpitations for the past 3 mo lasting about 3 - 4 min, it happened about 5 - 6 times since the beginning. One time durign a baskeball game two days ago light headedness, pressure in the chest, catching breath, but no fainting. \""
      ]
     },
     "execution_count": 54,
     "metadata": {},
     "output_type": "execute_result"
    }
   ],
   "source": [
    "case_num_zero = patient_notes[\"pn_history\"][patient_notes[\"case_num\"] == 0][:1500]\n",
    "whole_case_num_zero = \"\\n\".join(case_num_zero.to_list())\n",
    "whole_case_num_zero[:950]"
   ]
  },
  {
   "cell_type": "code",
   "execution_count": 21,
   "metadata": {},
   "outputs": [],
   "source": [
    "import prepare_jag\n",
    "clean_note = prepare_jag.basic_clean2(whole_case_num_zero)\n",
    "clean_note = prepare_jag.remove_stopwords(clean_note, exclude_words=[\"no\"])\n",
    "len(clean_note)"
   ]
  },
  {
   "cell_type": "markdown",
   "metadata": {},
   "source": [
    "### Using spacy"
   ]
  },
  {
   "cell_type": "code",
   "execution_count": 23,
   "metadata": {},
   "outputs": [],
   "source": [
    "nlp = spacy.load(\"en_core_web_lg\")\n",
    "doc = nlp(clean_note)\n",
    "len(doc)"
   ]
  },
  {
   "cell_type": "code",
   "execution_count": 33,
   "metadata": {},
   "outputs": [
    {
     "name": "stdout",
     "output_type": "stream",
     "text": [
      "year I DATE NOUN\n",
      "old I DATE ADJ\n",
      "male O  NOUN\n",
      "come O  VERB\n",
      "student O  NOUN\n",
      "health O  NOUN\n",
      "clinic O  NOUN\n",
      "complaining O  VERB\n",
      "heart O  NOUN\n",
      "pounding O  VERB\n",
      "mr O  PROPN\n",
      "cleveland B GPE PROPN\n",
      "'s O  PART\n",
      "mother O  NOUN\n",
      "given O  VERB\n",
      "verbal O  ADJ\n",
      "consent O  NOUN\n",
      "history O  NOUN\n",
      "physical O  ADJ\n",
      "examination O  NOUN\n",
      "treatment O  NOUN\n",
      "months I DATE NOUN\n",
      "agosuddenintermittent O  PROPN\n",
      "dayslasting O  VERB\n",
      "minworseningnon B ORG ADJ\n",
      "- I ORG ADJ\n",
      "allevaggrav I ORG NOUN\n",
      "-associated O  VERB\n",
      "dispnea B ORG NOUN\n",
      "exersion I ORG NOUN\n",
      "reststressed I ORG VERB\n",
      "school I ORG NOUN\n",
      "-reports I ORG NOUN\n",
      "fe O  PROPN\n",
      "feels O  VERB\n",
      "like O  ADP\n",
      "heart O  NOUN\n",
      "jumping O  VERB\n",
      "chest O  NOUN\n",
      "-rosdenies O  NOUN\n",
      "chest O  NOUN\n",
      "paindyaphoresiswt O  NOUN\n",
      "losschillsfevernauseavomitingpedal O  NOUN\n",
      "edeam O  NOUN\n",
      "-pmhnonmeds O  NOUN\n",
      "aderol O  VERB\n",
      "friendnkda O  NOUN\n",
      "-fhfather O  ADP\n",
      "mi O  PROPN\n",
      "recentlymother O  X\n",
      "thyroid O  PROPN\n",
      "dz O  NOUN\n",
      "-shnon O  ADV\n",
      "smokermariguana O  ADJ\n",
      "months I DATE NOUN\n",
      "ago3 O  VERB\n",
      "beers O  NOUN\n",
      "weekend O  NOUN\n",
      "basketball O  NOUN\n",
      "school O  NOUN\n",
      "-shno O  PROPN\n",
      "std O  NOUN\n",
      "yo O  NOUN\n",
      "male O  ADJ\n",
      "recurrent O  ADJ\n",
      "palpitations O  NOUN\n",
      "past O  ADP\n",
      "mo O  NOUN\n",
      "lasting O  VERB\n",
      "min I TIME NOUN\n",
      "happened O  VERB\n",
      "times O  NOUN\n",
      "since O  SCONJ\n",
      "beginning O  VERB\n",
      "time O  NOUN\n",
      "durign O  VERB\n"
     ]
    }
   ],
   "source": [
    "for token in doc[:100]:\n",
    "    if token.pos_ not in [\"NUM\", \"PUNCT\", \"SYM\"]:\n",
    "        print(token.text, token.ent_iob_, token.ent_type_, token.pos_)"
   ]
  },
  {
   "cell_type": "code",
   "execution_count": 29,
   "metadata": {},
   "outputs": [
    {
     "name": "stdout",
     "output_type": "stream",
     "text": [
      "17-year-old male come student health clinic\n",
      "{'year': 'NOUN', 'old': 'ADJ', 'male': 'NOUN', 'come': 'VERB', 'student': 'NOUN', 'health': 'NOUN', 'clinic': 'NOUN'}\n",
      "heart\n",
      "{'heart': 'NOUN'}\n",
      "mr cleveland's mother\n",
      "{'mr': 'PROPN', 'cleveland': 'PROPN', \"'s\": 'PART', 'mother': 'NOUN'}\n",
      "verbal consent history physical examination treatment\n",
      "{'verbal': 'ADJ', 'consent': 'NOUN', 'history': 'NOUN', 'physical': 'ADJ', 'examination': 'NOUN', 'treatment': 'NOUN'}\n",
      "2-3 months\n",
      "{'months': 'NOUN'}\n",
      "-associated dispnea exersion\n",
      "{'-associated': 'VERB', 'dispnea': 'NOUN', 'exersion': 'NOUN'}\n",
      "fe\n",
      "{'fe': 'PROPN'}\n",
      "heart\n",
      "{'heart': 'NOUN'}\n",
      "-pmhnonmeds\n",
      "{'-pmhnonmeds': 'NOUN'}\n",
      "friendnkda\n",
      "{'friendnkda': 'NOUN'}\n",
      "mi recentlymother thyroid dz -shnon-smokermariguana 5-6 months\n",
      "{'mi': 'PROPN', 'recentlymother': 'X', 'thyroid': 'PROPN', 'dz': 'NOUN', '-shnon': 'ADV', 'smokermariguana': 'ADJ', 'months': 'NOUN'}\n",
      "3 - 4 min\n",
      "{'min': 'NOUN'}\n"
     ]
    }
   ],
   "source": [
    "for token in doc[:100].noun_chunks:\n",
    "    print(token)\n",
    "    print({tok.text: tok.pos_ for tok in token if tok.pos_ not in [\"NUM\", \"PUNCT\", \"SYM\"]})"
   ]
  },
  {
   "cell_type": "code",
   "execution_count": null,
   "metadata": {},
   "outputs": [],
   "source": [
    "colors = {\"Annotation\" :\"linear-gradient(to right, #2980b9, #6dd5fa, #ffffff);\" } \n",
    "options = {\"colors\": colors}\n",
    "spacy.displacy.render(doc, style='ent', options=options , manual=True, jupyter=True);"
   ]
  },
  {
   "cell_type": "code",
   "execution_count": null,
   "metadata": {},
   "outputs": [],
   "source": [
    "for ent in doc[:10000].ents:\n",
    "    print(f\"text: {ent.text}, start_char: {ent.start_char}, end_char: {ent.end_char}, label_: {ent.label_}, start: {ent.start}, ent_id: {ent.ent_id_}, label: {ent.label}, vector_norm: {ent.vector_norm}\")"
   ]
  },
  {
   "cell_type": "markdown",
   "metadata": {},
   "source": [
    "### Using Scispacy\n",
    "#### scispacy is not working in this environment"
   ]
  },
  {
   "cell_type": "code",
   "execution_count": 14,
   "metadata": {},
   "outputs": [],
   "source": [
    "#%pip install https://s3-us-west-2.amazonaws.com/ai2-s2-scispacy/releases/v0.4.0/en_core_sci_lg-0.4.0.tar.gz"
   ]
  },
  {
   "cell_type": "code",
   "execution_count": 17,
   "metadata": {},
   "outputs": [],
   "source": [
    "# print(\"works1\")\n",
    "# import scispacy\n",
    "# print(\"works2\")\n",
    "\n",
    "# from scispacy.linking import EntityLinker\n",
    "\n",
    "# print(\"works3\")\n",
    "# sci_nlp = spacy.load(\"en_core_sci_lg\")\n",
    "# # This line takes a while, because we have to download ~1GB of data\n",
    "# # and load a large JSON file (the knowledge base). Be patient!\n",
    "# # Thankfully it should be faster after the first time you use it, because\n",
    "# # the downloads are cached.\n",
    "# print(\"works4\")\n"
   ]
  },
  {
   "cell_type": "code",
   "execution_count": 18,
   "metadata": {},
   "outputs": [],
   "source": [
    "\n",
    "# # NOTE: The resolve_abbreviations parameter is optional, and requires that\n",
    "# # the AbbreviationDetector pipe has already been added to the pipeline. Adding\n",
    "# # the AbbreviationDetector pipe and setting resolve_abbreviations to True means\n",
    "# # that linking will only be performed on the long form of abbreviations.\n",
    "# sci_nlp.add_pipe(\"scispacy_linker\", config={\"linker_name\": \"umls\"})\n",
    "\n",
    "# doc = sci_nlp(clean_note)\n",
    "# # Let's look at a random entity!\n",
    "# # doc comes from above\n",
    "# entity = doc.ents[1]\n",
    "# print(f\"Name: {entity}\")\n",
    "\n",
    "# # Each entity is linked to UMLS with a score\n",
    "# # (currently just char-3gram matching).\n",
    "# linker = nlp.get_pipe(\"scispacy_linker\")\n",
    "# for umls_ent in entity._.kb_ents:\n",
    "# \tprint(linker.kb.cui_to_entity[umls_ent[0]])"
   ]
  },
  {
   "cell_type": "code",
   "execution_count": null,
   "metadata": {},
   "outputs": [],
   "source": []
  }
 ],
 "metadata": {
  "interpreter": {
   "hash": "ee3717197db56dab91ad083a26bef10706ce761f0ab8e349ac843a6f8d1f4192"
  },
  "kernelspec": {
   "display_name": "Python 3.7.11 ('tf')",
   "language": "python",
   "name": "python3"
  },
  "language_info": {
   "codemirror_mode": {
    "name": "ipython",
    "version": 3
   },
   "file_extension": ".py",
   "mimetype": "text/x-python",
   "name": "python",
   "nbconvert_exporter": "python",
   "pygments_lexer": "ipython3",
   "version": "3.7.11"
  },
  "orig_nbformat": 4
 },
 "nbformat": 4,
 "nbformat_minor": 2
}
