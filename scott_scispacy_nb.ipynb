{
 "cells": [
  {
   "cell_type": "markdown",
   "metadata": {},
   "source": [
    "### Using Scispacy"
   ]
  },
  {
   "cell_type": "code",
   "execution_count": 1,
   "metadata": {},
   "outputs": [],
   "source": [
    "### chose to do this from cli\n",
    "#%pip install https://s3-us-west-2.amazonaws.com/ai2-s2-scispacy/releases/v0.4.0/en_core_sci_sm-0.4.0.tar.gz"
   ]
  },
  {
   "cell_type": "code",
   "execution_count": 2,
   "metadata": {},
   "outputs": [],
   "source": [
    "import pandas as pd"
   ]
  },
  {
   "cell_type": "code",
   "execution_count": 3,
   "metadata": {},
   "outputs": [
    {
     "data": {
      "text/plain": [
       "0    17-year-old male, has come to the student heal...\n",
       "1    17 yo male with recurrent palpitations for the...\n",
       "2    Dillon Cleveland is a 17 y.o. male patient wit...\n",
       "3    a 17 yo m c/o palpitation started 3 mos ago; \\...\n",
       "4    17yo male with no pmh here for evaluation of p...\n",
       "5    17 yo m, presenting with palpitations/increase...\n",
       "6    17 yo male presents with 3-4 month history of ...\n",
       "7    17 yo male presents with a 2-3 month history o...\n",
       "8    HPI: 17 YO complains of intermittent heart pal...\n",
       "9    Mr. Cleveland is a 17 yo M who presents to cli...\n",
       "Name: pn_history, dtype: object"
      ]
     },
     "execution_count": 3,
     "metadata": {},
     "output_type": "execute_result"
    }
   ],
   "source": [
    "patient_notes = pd.read_csv(\"patient_notes.csv\")\n",
    "patient_notes[\"pn_history\"][patient_notes[\"case_num\"] == 0][:10]"
   ]
  },
  {
   "cell_type": "code",
   "execution_count": 4,
   "metadata": {},
   "outputs": [
    {
     "data": {
      "text/plain": [
       "\"17-year-old male, has come to the student health clinic complaining of heart pounding. Mr. Cleveland's mother has given verbal consent for a history, physical examination, and treatment\\r\\n-began 2-3 months ago,sudden,intermittent for 2 days(lasting 3-4 min),worsening,non-allev/aggrav\\r\\n-associated with dispnea on exersion and rest,stressed out about school\\r\\n-reports fe feels like his heart is jumping out of his chest\\r\\n-ros:denies chest pain,dyaphoresis,wt loss,chills,fever,nausea,vomiting,pedal edeam\\r\\n-pmh:non,meds :aderol (from a friend),nkda\\r\\n-fh:father had MI recently,mother has thyroid dz\\r\\n-sh:non-smoker,mariguana 5-6 months ago,3 beers on the weekend, basketball at school\\r\\n-sh:no std\\n17 yo male with recurrent palpitations for the past 3 mo lasting about 3 - 4 min, it happened about 5 - 6 times since the beginning. One time durign a baskeball game two days ago light headedness, pressure in the chest, catching breath, but no fainting. During teh episodes no sweating. No diarrhea, no h\""
      ]
     },
     "execution_count": 4,
     "metadata": {},
     "output_type": "execute_result"
    }
   ],
   "source": [
    "case_num_zero = patient_notes[\"pn_history\"][patient_notes[\"case_num\"] == 0][:1500]\n",
    "whole_case_num_zero = \"\\n\".join(case_num_zero.to_list())\n",
    "whole_case_num_zero[:1000]"
   ]
  },
  {
   "cell_type": "code",
   "execution_count": 5,
   "metadata": {},
   "outputs": [],
   "source": [
    "# import prepare_jag\n",
    "# clean_note = prepare_jag.basic_clean2(whole_case_num_zero)\n",
    "# clean_note = prepare_jag.remove_stopwords(clean_note, exclude_words=[\"no\"])\n",
    "# len(clean_note)"
   ]
  },
  {
   "cell_type": "markdown",
   "metadata": {},
   "source": [
    "### From Scispacy GitHub"
   ]
  },
  {
   "cell_type": "code",
   "execution_count": 8,
   "metadata": {},
   "outputs": [
    {
     "name": "stdout",
     "output_type": "stream",
     "text": [
      "works1\n",
      "works2\n",
      "works3\n",
      "works4\n"
     ]
    }
   ],
   "source": [
    "print(\"works1\")\n",
    "import scispacy\n",
    "import spacy\n",
    "print(\"works2\")\n",
    "\n",
    "from scispacy.linking import EntityLinker\n",
    "\n",
    "print(\"works3\")\n",
    "sci_nlp = spacy.load(\"en_ner_bc5cdr_md\")\n",
    "# This line takes a while, because we have to download ~1GB of data\n",
    "# and load a large JSON file (the knowledge base). Be patient!\n",
    "# Thankfully it should be faster after the first time you use it, because\n",
    "# the downloads are cached.\n",
    "print(\"works4\")"
   ]
  },
  {
   "cell_type": "code",
   "execution_count": null,
   "metadata": {},
   "outputs": [],
   "source": [
    "# NOTE: The resolve_abbreviations parameter is optional, and requires that\n",
    "# the AbbreviationDetector pipe has already been added to the pipeline. Adding\n",
    "# the AbbreviationDetector pipe and setting resolve_abbreviations to True means\n",
    "# that linking will only be performed on the long form of abbreviations.\n",
    "sci_nlp.add_pipe(\"scispacy_linker\", config={\"linker_name\": \"umls\"})\n",
    "\n",
    "doc = sci_nlp(clean_note)\n",
    "# Let's look at a random entity!\n",
    "# doc comes from above\n",
    "entity = doc.ents[1]\n",
    "print(f\"Name: {entity}\")\n",
    "\n",
    "# Each entity is linked to UMLS with a score\n",
    "# (currently just char-3gram matching).\n",
    "linker = nlp.get_pipe(\"scispacy_linker\")\n",
    "for umls_ent in entity._.kb_ents:\n",
    "\tprint(linker.kb.cui_to_entity[umls_ent[0]])"
   ]
  },
  {
   "cell_type": "markdown",
   "metadata": {},
   "source": [
    "### From https://gbnegrini.com/post/biomedical-text-nlp-scispacy-named-entity-recognition-medical-records/"
   ]
  },
  {
   "cell_type": "code",
   "execution_count": null,
   "metadata": {},
   "outputs": [],
   "source": []
  }
 ],
 "metadata": {
  "interpreter": {
   "hash": "224266041085884618f6085fcfb69664e3b25455f6c771e6653be1f9fbf573ea"
  },
  "kernelspec": {
   "display_name": "Python 3 (ipykernel)",
   "language": "python",
   "name": "python3"
  },
  "language_info": {
   "codemirror_mode": {
    "name": "ipython",
    "version": 3
   },
   "file_extension": ".py",
   "mimetype": "text/x-python",
   "name": "python",
   "nbconvert_exporter": "python",
   "pygments_lexer": "ipython3",
   "version": "3.9.7"
  }
 },
 "nbformat": 4,
 "nbformat_minor": 2
}
