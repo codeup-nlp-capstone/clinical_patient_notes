{
 "cells": [
  {
   "cell_type": "code",
   "execution_count": 7,
   "metadata": {},
   "outputs": [],
   "source": [
    "import numpy as np\n",
    "from tensorflow import keras\n",
    "from tensorflow.keras import layers"
   ]
  },
  {
   "cell_type": "code",
   "execution_count": null,
   "metadata": {},
   "outputs": [],
   "source": [
    "## From TensorFlow website\n",
    "# with tf.device('cpu:0'):\n",
    "#     embedding_layer = Embedding(...)\n",
    "#     embedding_layer.build()\n",
    "\n",
    "max_features = 20000\n",
    "# Input for variable-length sequences of integers\n",
    "inputs = keras.Input(shape=(None,), dtype=\"int32\")\n",
    "# Embed each integer in a 128-dimensional vector\n",
    "x = layers.Embedding(max_features , 128)(inputs)\n",
    "# Add 2 bidirectional LSTMs\n",
    "x = layers.Bidirectional(layers.LSTM(64, return_sequences=True))(x)\n",
    "x = layers.Bidirectional(layers.LSTM(64))(x)\n",
    "# Add a classifier\n",
    "outputs = layers.Dense(1, activation=\"sigmoid\")(x)\n",
    "model = keras.Model(inputs, outputs)\n",
    "model.summary()"
   ]
  },
  {
   "cell_type": "code",
   "execution_count": null,
   "metadata": {},
   "outputs": [],
   "source": [
    "model.compile(\"adam\", \"binary_crossentropy\", metrics=[\"accuracy\"])\n",
    "model.fit(x_train, y_train, batch_size=32, epochs=2, validation_data=(x_val, y_val))"
   ]
  },
  {
   "cell_type": "markdown",
   "metadata": {},
   "source": [
    "### testing new file structure and imports"
   ]
  },
  {
   "cell_type": "code",
   "execution_count": 3,
   "metadata": {},
   "outputs": [],
   "source": [
    "import sys\n",
    "directory_path = \"/Users/dragonzord/Documents/SchoolDocs/codeup-data-science/exercises/methodologies2/capstone/nlp-capstone/src/\"\n",
    "for path in os.listdir(directory_path):\n",
    "    if path[-2:] == \"py\":\n",
    "        module_path = f\"{directory_path}{path}\"        \n",
    "        if module_path in sys.path: print(\"added successfully\")\n",
    "        else: sys.path.append(module_path)"
   ]
  },
  {
   "cell_type": "code",
   "execution_count": 4,
   "metadata": {},
   "outputs": [
    {
     "name": "stdout",
     "output_type": "stream",
     "text": [
      "/Users/dragonzord/.vscode/extensions/ms-toolsai.jupyter-2022.2.1020642448/pythonFiles\n",
      "/Users/dragonzord/.vscode/extensions/ms-toolsai.jupyter-2022.2.1020642448/pythonFiles/lib/python\n",
      "/opt/miniconda3/envs/tf/lib/python37.zip\n",
      "/opt/miniconda3/envs/tf/lib/python3.7\n",
      "/opt/miniconda3/envs/tf/lib/python3.7/lib-dynload\n",
      "\n",
      "/opt/miniconda3/envs/tf/lib/python3.7/site-packages\n",
      "/opt/miniconda3/envs/tf/lib/python3.7/site-packages/IPython/extensions\n",
      "/Users/dragonzord/.ipython\n",
      "/Users/dragonzord/.local/lib/python3.7/site-packages\n",
      "/Users/dragonzord/Documents/SchoolDocs/codeup-data-science/exercises/methodologies2/capstone/nlp-capstone/src/acquire.py\n",
      "/Users/dragonzord/Documents/SchoolDocs/codeup-data-science/exercises/methodologies2/capstone/nlp-capstone/src/scott.py\n",
      "/Users/dragonzord/Documents/SchoolDocs/codeup-data-science/exercises/methodologies2/capstone/nlp-capstone/src/casenums.py\n",
      "/Users/dragonzord/Documents/SchoolDocs/codeup-data-science/exercises/methodologies2/capstone/nlp-capstone/src/prepare_jag.py\n"
     ]
    }
   ],
   "source": [
    "for p in sys.path:\n",
    "    print(p)"
   ]
  },
  {
   "cell_type": "code",
   "execution_count": null,
   "metadata": {},
   "outputs": [],
   "source": []
  }
 ],
 "metadata": {
  "interpreter": {
   "hash": "ee3717197db56dab91ad083a26bef10706ce761f0ab8e349ac843a6f8d1f4192"
  },
  "kernelspec": {
   "display_name": "Python 3.7.11 ('tf')",
   "language": "python",
   "name": "python3"
  },
  "language_info": {
   "codemirror_mode": {
    "name": "ipython",
    "version": 3
   },
   "file_extension": ".py",
   "mimetype": "text/x-python",
   "name": "python",
   "nbconvert_exporter": "python",
   "pygments_lexer": "ipython3",
   "version": "3.7.11"
  },
  "orig_nbformat": 4
 },
 "nbformat": 4,
 "nbformat_minor": 2
}
