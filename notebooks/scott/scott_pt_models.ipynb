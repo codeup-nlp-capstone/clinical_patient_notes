{
 "cells": [
  {
   "cell_type": "code",
   "execution_count": 1,
   "metadata": {},
   "outputs": [],
   "source": [
    "from casenums import UniqueDataFrames\n",
    "udf = UniqueDataFrames(\"../../data/patient_notes.csv\", \"../../data/features.csv\")\n",
    "notes_features = udf.merge_dfs()"
   ]
  },
  {
   "cell_type": "code",
   "execution_count": 2,
   "metadata": {},
   "outputs": [
    {
     "data": {
      "text/plain": [
       "dict_keys([0, 1, 2, 3, 4, 5, 6, 7, 8, 9])"
      ]
     },
     "execution_count": 2,
     "metadata": {},
     "output_type": "execute_result"
    }
   ],
   "source": [
    "unique_casenum_dict_df = udf.each_dataframe(notes_features)\n",
    "unique_casenum_dict_df.keys()"
   ]
  },
  {
   "cell_type": "code",
   "execution_count": 3,
   "metadata": {},
   "outputs": [
    {
     "data": {
      "text/html": [
       "<div>\n",
       "<style scoped>\n",
       "    .dataframe tbody tr th:only-of-type {\n",
       "        vertical-align: middle;\n",
       "    }\n",
       "\n",
       "    .dataframe tbody tr th {\n",
       "        vertical-align: top;\n",
       "    }\n",
       "\n",
       "    .dataframe thead th {\n",
       "        text-align: right;\n",
       "    }\n",
       "</style>\n",
       "<table border=\"1\" class=\"dataframe\">\n",
       "  <thead>\n",
       "    <tr style=\"text-align: right;\">\n",
       "      <th></th>\n",
       "      <th>pn_num</th>\n",
       "      <th>case_num</th>\n",
       "      <th>pn_history</th>\n",
       "      <th>features</th>\n",
       "    </tr>\n",
       "  </thead>\n",
       "  <tbody>\n",
       "    <tr>\n",
       "      <th>0</th>\n",
       "      <td>0</td>\n",
       "      <td>0</td>\n",
       "      <td>17-year-old male, has come to the student heal...</td>\n",
       "      <td>{0: 'Family-history-of-MI-OR-Family-history-of...</td>\n",
       "    </tr>\n",
       "    <tr>\n",
       "      <th>1</th>\n",
       "      <td>1</td>\n",
       "      <td>0</td>\n",
       "      <td>17 yo male with recurrent palpitations for the...</td>\n",
       "      <td>{0: 'Family-history-of-MI-OR-Family-history-of...</td>\n",
       "    </tr>\n",
       "  </tbody>\n",
       "</table>\n",
       "</div>"
      ],
      "text/plain": [
       "   pn_num case_num                                         pn_history  \\\n",
       "0       0        0  17-year-old male, has come to the student heal...   \n",
       "1       1        0  17 yo male with recurrent palpitations for the...   \n",
       "\n",
       "                                            features  \n",
       "0  {0: 'Family-history-of-MI-OR-Family-history-of...  \n",
       "1  {0: 'Family-history-of-MI-OR-Family-history-of...  "
      ]
     },
     "execution_count": 3,
     "metadata": {},
     "output_type": "execute_result"
    }
   ],
   "source": [
    "unique_casenum_dict_df[0].head(2)"
   ]
  },
  {
   "cell_type": "code",
   "execution_count": 4,
   "metadata": {},
   "outputs": [
    {
     "data": {
      "text/html": [
       "<div>\n",
       "<style scoped>\n",
       "    .dataframe tbody tr th:only-of-type {\n",
       "        vertical-align: middle;\n",
       "    }\n",
       "\n",
       "    .dataframe tbody tr th {\n",
       "        vertical-align: top;\n",
       "    }\n",
       "\n",
       "    .dataframe thead th {\n",
       "        text-align: right;\n",
       "    }\n",
       "</style>\n",
       "<table border=\"1\" class=\"dataframe\">\n",
       "  <thead>\n",
       "    <tr style=\"text-align: right;\">\n",
       "      <th></th>\n",
       "      <th>pn_num</th>\n",
       "      <th>case_num</th>\n",
       "      <th>pn_history</th>\n",
       "      <th>features</th>\n",
       "    </tr>\n",
       "  </thead>\n",
       "  <tbody>\n",
       "    <tr>\n",
       "      <th>20192</th>\n",
       "      <td>50001</td>\n",
       "      <td>5</td>\n",
       "      <td>26 yo F presents for follow up after ED visit ...</td>\n",
       "      <td>{500: 'Onset-5-years-ago', 501: 'Female', 502:...</td>\n",
       "    </tr>\n",
       "    <tr>\n",
       "      <th>20193</th>\n",
       "      <td>50002</td>\n",
       "      <td>5</td>\n",
       "      <td>26 yo F c/o worsening heart palpitations for t...</td>\n",
       "      <td>{500: 'Onset-5-years-ago', 501: 'Female', 502:...</td>\n",
       "    </tr>\n",
       "  </tbody>\n",
       "</table>\n",
       "</div>"
      ],
      "text/plain": [
       "       pn_num case_num                                         pn_history  \\\n",
       "20192   50001        5  26 yo F presents for follow up after ED visit ...   \n",
       "20193   50002        5  26 yo F c/o worsening heart palpitations for t...   \n",
       "\n",
       "                                                features  \n",
       "20192  {500: 'Onset-5-years-ago', 501: 'Female', 502:...  \n",
       "20193  {500: 'Onset-5-years-ago', 501: 'Female', 502:...  "
      ]
     },
     "execution_count": 4,
     "metadata": {},
     "output_type": "execute_result"
    }
   ],
   "source": [
    "unique_casenum_dict_df[5].head(2)"
   ]
  },
  {
   "cell_type": "markdown",
   "metadata": {},
   "source": [
    "### testing new file structure setup and imports"
   ]
  },
  {
   "cell_type": "code",
   "execution_count": 4,
   "metadata": {},
   "outputs": [],
   "source": [
    "import sys\n",
    "directory_path = \"/Users/dragonzord/Documents/SchoolDocs/codeup-data-science/exercises/methodologies2/capstone/nlp-capstone/src/\"\n",
    "for path in os.listdir(directory_path):\n",
    "    if path[-2:] == \"py\":\n",
    "        module_path = f\"{directory_path}{path}\"        \n",
    "        if module_path in sys.path: print(\"added successfully\")\n",
    "        else: sys.path.append(module_path)"
   ]
  },
  {
   "cell_type": "code",
   "execution_count": 5,
   "metadata": {},
   "outputs": [
    {
     "name": "stdout",
     "output_type": "stream",
     "text": [
      "/Users/dragonzord/.vscode/extensions/ms-toolsai.jupyter-2022.2.1020642448/pythonFiles\n",
      "/Users/dragonzord/.vscode/extensions/ms-toolsai.jupyter-2022.2.1020642448/pythonFiles/lib/python\n",
      "/opt/miniconda3/envs/pytorch/lib/python39.zip\n",
      "/opt/miniconda3/envs/pytorch/lib/python3.9\n",
      "/opt/miniconda3/envs/pytorch/lib/python3.9/lib-dynload\n",
      "\n",
      "/opt/miniconda3/envs/pytorch/lib/python3.9/site-packages\n",
      "/opt/miniconda3/envs/pytorch/lib/python3.9/site-packages/IPython/extensions\n",
      "/Users/dragonzord/.ipython\n",
      "/Users/dragonzord/.local/lib/python3.9/site-packages\n",
      "/Users/dragonzord/Documents/SchoolDocs/codeup-data-science/exercises/methodologies2/capstone/nlp-capstone/src/acquire.py\n",
      "/Users/dragonzord/Documents/SchoolDocs/codeup-data-science/exercises/methodologies2/capstone/nlp-capstone/src/scott.py\n",
      "/Users/dragonzord/Documents/SchoolDocs/codeup-data-science/exercises/methodologies2/capstone/nlp-capstone/src/casenums.py\n",
      "/Users/dragonzord/Documents/SchoolDocs/codeup-data-science/exercises/methodologies2/capstone/nlp-capstone/src/prepare_jag.py\n"
     ]
    }
   ],
   "source": [
    "for p in sys.path:\n",
    "    print(p)"
   ]
  },
  {
   "cell_type": "code",
   "execution_count": null,
   "metadata": {},
   "outputs": [],
   "source": []
  }
 ],
 "metadata": {
  "interpreter": {
   "hash": "87998d4b2a08f200e53bd85c2d7b01bf2b69127f748e5c1e9a18138bae014c82"
  },
  "kernelspec": {
   "display_name": "Python 3.9.7 ('pytorch')",
   "language": "python",
   "name": "python3"
  },
  "language_info": {
   "codemirror_mode": {
    "name": "ipython",
    "version": 3
   },
   "file_extension": ".py",
   "mimetype": "text/x-python",
   "name": "python",
   "nbconvert_exporter": "python",
   "pygments_lexer": "ipython3",
   "version": "3.9.7"
  },
  "orig_nbformat": 4
 },
 "nbformat": 4,
 "nbformat_minor": 2
}
