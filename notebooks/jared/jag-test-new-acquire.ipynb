{
 "cells": [
  {
   "cell_type": "code",
   "execution_count": 1,
   "metadata": {},
   "outputs": [],
   "source": [
    "import matplotlib.pyplot as plt\n",
    "import seaborn as sns\n",
    "import pandas as pd\n",
    "import json\n",
    "import numpy as np\n",
    "pd.set_option('display.max_rows', 500)\n",
    "\n",
    "# make sure these imports are before ->\n",
    "import sys\n",
    "directory_path = \"/Users/dragonzord/Documents/SchoolDocs/codeup-data-science/exercises/methodologies2/capstone/nlp-capstone/src\"\n",
    "sys.path.append(directory_path)\n",
    "\n",
    "# <- these imports\n",
    "import acquire\n",
    "import prepare_jag"
   ]
  },
  {
   "cell_type": "code",
   "execution_count": 2,
   "metadata": {},
   "outputs": [
    {
     "name": "stdout",
     "output_type": "stream",
     "text": [
      "Test, notes, and features loaded.\n",
      "Merged dataframes\n",
      "Renamed 'pn_history' column to 'original'\n",
      "Added a basic clean column lowercaseing and removing special characters\n",
      "Added stemmed column with tokenized words and stopwords removed\n",
      "Added lemmatized column with lemmatized words and stopwords removed\n",
      "Data preparation complete\n"
     ]
    }
   ],
   "source": [
    "df = prepare_jag.prep_train()"
   ]
  },
  {
   "cell_type": "code",
   "execution_count": 6,
   "metadata": {},
   "outputs": [
    {
     "data": {
      "text/plain": [
       "'Mr. Cleveland is a 17yo M who was consented by parents to be alone today and provide information.  He has no notable PMH and presented today with palpitations that have been occurring sporadically for 2-3 months.  He started college 7-8 months ago and described feelings of nervousness and anxiousness with starting school and exams.  He endorses using his roommates prescription adderall to study for tests and this coincides with the palpitations at times.  Nothing makes his palpitations worse or better when they occur.  ROS is negative except for light headedness and SOB.  He has not had any cold/heat intolerance, diarrhea, changes in voiding habits, or weight loss.  Worried about being able to play basketball.\\r\\n\\r\\nMeds:  Adderall from his roommate\\r\\nPMH:  none\\r\\nPSH:  none\\r\\nAll:  NKDA\\r\\nFamily:  mom: thyroid issues, father: heart attack\\r\\nsocial:  no tob, occ EtOH, no illicits\\r\\nsex:  with gf, use condoms\\r\\ndiet:  good\\r\\nexercise:  basketball'"
      ]
     },
     "execution_count": 6,
     "metadata": {},
     "output_type": "execute_result"
    }
   ],
   "source": [
    "df.original[2]"
   ]
  },
  {
   "cell_type": "code",
   "execution_count": 5,
   "metadata": {},
   "outputs": [
    {
     "data": {
      "text/plain": [
       "'17 yo came clinic co heart pounding started 2-3 mo ago started suddenly recall triggering events comes goes happened 5-6 times since started lasts 3-4 min goes away also experiencing sob pressure chest attack college student experiencing stress recently denies cough chest pain ros neg except pmh none meds aterol studies sharing w roommate nkda psh hosp travel trauma none fh mom thyroid problems sh sex active w girlfriend no stds using condoms smoke none etoh weekends drug 1 mo ago'"
      ]
     },
     "execution_count": 5,
     "metadata": {},
     "output_type": "execute_result"
    }
   ],
   "source": [
    "df.clean[1]"
   ]
  },
  {
   "cell_type": "code",
   "execution_count": null,
   "metadata": {},
   "outputs": [],
   "source": []
  }
 ],
 "metadata": {
  "interpreter": {
   "hash": "0d66913bb719389121bab79020f7a52c6e05d87274bae621f301af382c19c893"
  },
  "kernelspec": {
   "display_name": "Python 3.7.11 ('tf')",
   "language": "python",
   "name": "python3"
  },
  "language_info": {
   "codemirror_mode": {
    "name": "ipython",
    "version": 3
   },
   "file_extension": ".py",
   "mimetype": "text/x-python",
   "name": "python",
   "nbconvert_exporter": "python",
   "pygments_lexer": "ipython3",
   "version": "3.7.11"
  },
  "orig_nbformat": 4
 },
 "nbformat": 4,
 "nbformat_minor": 2
}
