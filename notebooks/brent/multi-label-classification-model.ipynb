{
 "cells": [
  {
   "cell_type": "code",
   "execution_count": 1,
   "id": "7cf25339",
   "metadata": {},
   "outputs": [],
   "source": [
    "import matplotlib.pyplot as plt\n",
    "import seaborn as sns\n",
    "import pandas as pd\n",
    "import json\n",
    "import numpy as np\n",
    "from acquire import remove_stopwords, basic_clean, tokenize , prep_and_split_data\n",
    "from prepare_jag import prep_train, basic_clean3\n",
    "import re\n",
    "import os\n",
    "from re import search\n",
    "import tensorflow as tf\n",
    "from sklearn.model_selection import train_test_split\n",
    "from tensorflow.keras import layers\n",
    "from tensorflow import keras\n",
    "\n",
    "from nltk.corpus import stopwords\n",
    "import nltk\n",
    "\n",
    "import random\n",
    "random.seed(333)"
   ]
  },
  {
   "cell_type": "code",
   "execution_count": 2,
   "id": "2e953a50",
   "metadata": {},
   "outputs": [
    {
     "name": "stdout",
     "output_type": "stream",
     "text": [
      "Number of rows in training set: 37931\n",
      "Number of rows in validation set: 2108\n",
      "Number of rows in test set: 2107\n"
     ]
    },
    {
     "name": "stderr",
     "output_type": "stream",
     "text": [
      "/usr/local/anaconda3/lib/python3.8/site-packages/pandas/core/frame.py:4308: SettingWithCopyWarning: \n",
      "A value is trying to be set on a copy of a slice from a DataFrame\n",
      "\n",
      "See the caveats in the documentation: https://pandas.pydata.org/pandas-docs/stable/user_guide/indexing.html#returning-a-view-versus-a-copy\n",
      "  return super().drop(\n"
     ]
    }
   ],
   "source": [
    "train_df, val_df, test_df = prep_and_split_data()"
   ]
  },
  {
   "cell_type": "code",
   "execution_count": 3,
   "id": "c568cee3",
   "metadata": {},
   "outputs": [
    {
     "data": {
      "text/html": [
       "<div>\n",
       "<style scoped>\n",
       "    .dataframe tbody tr th:only-of-type {\n",
       "        vertical-align: middle;\n",
       "    }\n",
       "\n",
       "    .dataframe tbody tr th {\n",
       "        vertical-align: top;\n",
       "    }\n",
       "\n",
       "    .dataframe thead th {\n",
       "        text-align: right;\n",
       "    }\n",
       "</style>\n",
       "<table border=\"1\" class=\"dataframe\">\n",
       "  <thead>\n",
       "    <tr style=\"text-align: right;\">\n",
       "      <th></th>\n",
       "      <th>case</th>\n",
       "      <th>student_notes</th>\n",
       "      <th>clean</th>\n",
       "      <th>targets</th>\n",
       "    </tr>\n",
       "  </thead>\n",
       "  <tbody>\n",
       "    <tr>\n",
       "      <th>40751</th>\n",
       "      <td>9</td>\n",
       "      <td>Stephanie Madden, a 20-year-old female, has co...</td>\n",
       "      <td>stephanie madden 20 year old female come docto...</td>\n",
       "      <td>[no relief with motrin or no relief with tylen...</td>\n",
       "    </tr>\n",
       "    <tr>\n",
       "      <th>37802</th>\n",
       "      <td>9</td>\n",
       "      <td>HPI: 20 yo f c/o headachesince yesterday which...</td>\n",
       "      <td>hpi 20 yo f c headachesince yesterday started ...</td>\n",
       "      <td>[no relief with motrin or no relief with tylen...</td>\n",
       "    </tr>\n",
       "    <tr>\n",
       "      <th>7459</th>\n",
       "      <td>3</td>\n",
       "      <td>Mr. Hamilton is a 35 year old male with 10 pac...</td>\n",
       "      <td>mr hamilton 35 year old male 10 pack year hist...</td>\n",
       "      <td>[fhx of pud or family history of peptic ulcer ...</td>\n",
       "    </tr>\n",
       "    <tr>\n",
       "      <th>33437</th>\n",
       "      <td>8</td>\n",
       "      <td>CC: difficult sleeping\\r\\nHPI: Pt is a 67F wit...</td>\n",
       "      <td>cc difficult sleeping hpi pt 67f 3weeks diffic...</td>\n",
       "      <td>[increased appetite, son died 3 weeks ago, fem...</td>\n",
       "    </tr>\n",
       "    <tr>\n",
       "      <th>39488</th>\n",
       "      <td>9</td>\n",
       "      <td>Ms. Madden is a 20 y/o female who presents wit...</td>\n",
       "      <td>ms madden 20 female presents severe headache o...</td>\n",
       "      <td>[no relief with motrin or no relief with tylen...</td>\n",
       "    </tr>\n",
       "    <tr>\n",
       "      <th>...</th>\n",
       "      <td>...</td>\n",
       "      <td>...</td>\n",
       "      <td>...</td>\n",
       "      <td>...</td>\n",
       "    </tr>\n",
       "    <tr>\n",
       "      <th>26853</th>\n",
       "      <td>5</td>\n",
       "      <td>Edie Whelan is 26 yo female with 5 year histor...</td>\n",
       "      <td>edie whelan 26 yo female 5 year history heart ...</td>\n",
       "      <td>[onset 5 years ago, female, no caffeine use, a...</td>\n",
       "    </tr>\n",
       "    <tr>\n",
       "      <th>16376</th>\n",
       "      <td>4</td>\n",
       "      <td>Patient is a 34 year old patient with a two we...</td>\n",
       "      <td>patient 34 year old patient two week history n...</td>\n",
       "      <td>[lack of other thyroid symptoms, anxious or ne...</td>\n",
       "    </tr>\n",
       "    <tr>\n",
       "      <th>22225</th>\n",
       "      <td>5</td>\n",
       "      <td>Edie Whelan is a 26 y/o F with a history of pa...</td>\n",
       "      <td>edie whelan 26 f history palpitations presents...</td>\n",
       "      <td>[onset 5 years ago, female, no caffeine use, a...</td>\n",
       "    </tr>\n",
       "    <tr>\n",
       "      <th>24524</th>\n",
       "      <td>5</td>\n",
       "      <td>HPI : 26 YO F C/O PALPITATION THAT STARTS SUDD...</td>\n",
       "      <td>hpi 26 yo f c palpitation starts suddenly sinc...</td>\n",
       "      <td>[onset 5 years ago, female, no caffeine use, a...</td>\n",
       "    </tr>\n",
       "    <tr>\n",
       "      <th>27593</th>\n",
       "      <td>6</td>\n",
       "      <td>HPI: 17 y.o. patient who presents with sharp, ...</td>\n",
       "      <td>hpi 17 patient presents sharp pleuritic chest ...</td>\n",
       "      <td>[subjective fevers, male, 17 year, recent uppe...</td>\n",
       "    </tr>\n",
       "  </tbody>\n",
       "</table>\n",
       "<p>37931 rows × 4 columns</p>\n",
       "</div>"
      ],
      "text/plain": [
       "       case                                      student_notes  \\\n",
       "40751     9  Stephanie Madden, a 20-year-old female, has co...   \n",
       "37802     9  HPI: 20 yo f c/o headachesince yesterday which...   \n",
       "7459      3  Mr. Hamilton is a 35 year old male with 10 pac...   \n",
       "33437     8  CC: difficult sleeping\\r\\nHPI: Pt is a 67F wit...   \n",
       "39488     9  Ms. Madden is a 20 y/o female who presents wit...   \n",
       "...     ...                                                ...   \n",
       "26853     5  Edie Whelan is 26 yo female with 5 year histor...   \n",
       "16376     4  Patient is a 34 year old patient with a two we...   \n",
       "22225     5  Edie Whelan is a 26 y/o F with a history of pa...   \n",
       "24524     5  HPI : 26 YO F C/O PALPITATION THAT STARTS SUDD...   \n",
       "27593     6  HPI: 17 y.o. patient who presents with sharp, ...   \n",
       "\n",
       "                                                   clean  \\\n",
       "40751  stephanie madden 20 year old female come docto...   \n",
       "37802  hpi 20 yo f c headachesince yesterday started ...   \n",
       "7459   mr hamilton 35 year old male 10 pack year hist...   \n",
       "33437  cc difficult sleeping hpi pt 67f 3weeks diffic...   \n",
       "39488  ms madden 20 female presents severe headache o...   \n",
       "...                                                  ...   \n",
       "26853  edie whelan 26 yo female 5 year history heart ...   \n",
       "16376  patient 34 year old patient two week history n...   \n",
       "22225  edie whelan 26 f history palpitations presents...   \n",
       "24524  hpi 26 yo f c palpitation starts suddenly sinc...   \n",
       "27593  hpi 17 patient presents sharp pleuritic chest ...   \n",
       "\n",
       "                                                 targets  \n",
       "40751  [no relief with motrin or no relief with tylen...  \n",
       "37802  [no relief with motrin or no relief with tylen...  \n",
       "7459   [fhx of pud or family history of peptic ulcer ...  \n",
       "33437  [increased appetite, son died 3 weeks ago, fem...  \n",
       "39488  [no relief with motrin or no relief with tylen...  \n",
       "...                                                  ...  \n",
       "26853  [onset 5 years ago, female, no caffeine use, a...  \n",
       "16376  [lack of other thyroid symptoms, anxious or ne...  \n",
       "22225  [onset 5 years ago, female, no caffeine use, a...  \n",
       "24524  [onset 5 years ago, female, no caffeine use, a...  \n",
       "27593  [subjective fevers, male, 17 year, recent uppe...  \n",
       "\n",
       "[37931 rows x 4 columns]"
      ]
     },
     "execution_count": 3,
     "metadata": {},
     "output_type": "execute_result"
    }
   ],
   "source": [
    "train_df"
   ]
  },
  {
   "cell_type": "markdown",
   "id": "8d177ae2",
   "metadata": {},
   "source": [
    "## Multi-label binarization\n",
    "Let's preprocess our labels using the [StringLookup](https://keras.io/api/layers/preprocessing_layers/categorical/string_lookup) layer."
   ]
  },
  {
   "cell_type": "code",
   "execution_count": 4,
   "id": "fd24a52c",
   "metadata": {},
   "outputs": [
    {
     "name": "stderr",
     "output_type": "stream",
     "text": [
      "2022-03-06 10:19:49.904801: I tensorflow/core/platform/cpu_feature_guard.cc:151] This TensorFlow binary is optimized with oneAPI Deep Neural Network Library (oneDNN) to use the following CPU instructions in performance-critical operations:  AVX2 FMA\n",
      "To enable them in other operations, rebuild TensorFlow with the appropriate compiler flags.\n"
     ]
    }
   ],
   "source": [
    "features = tf.ragged.constant(train_df['targets'].values)\n",
    "lookup = tf.keras.layers.StringLookup(output_mode='multi_hot')\n",
    "lookup.adapt(features)\n",
    "vocab = lookup.get_vocabulary()"
   ]
  },
  {
   "cell_type": "code",
   "execution_count": 5,
   "id": "1951acbc",
   "metadata": {},
   "outputs": [
    {
     "name": "stdout",
     "output_type": "stream",
     "text": [
      "Vocabulary:\n",
      "\n",
      "['[UNK]', 'female', 'nausea', '35 year', 'male', 'post prandial bloating or fullness with meals', 'nsaid use or nonsteroidal anti inflammatory drug use', 'no blood in stool', 'minimal to no change with tums', 'intermittent', 'getting worse or progressive or symptoms now daily', 'fhx of pud or family history of peptic ulcer disease', 'epigastric discomfort', 'duration 2 months', 'darker bowel movements', 'burning or gnawing or burning and gnawing', 'awakens at night', '2 to 3 beers a week', 'recent visit to emergency department with negative workup', 'onset 5 years ago', 'no illicit drug use', 'no chest pain', 'no caffeine use', 'increased stress', 'increased frequency recently', 'feels hot or feels clammy', 'fatigue or difficulty concentrating', 'episodes of heart racing', 'episodes last 15 to 30 minutes', 'episode of hand numbness or episode of finger numbness', 'associated throat tightness', 'associated sob or associated shortness of breath', 'associated nausea', 'associated feeling of impending doom', '26 year', '20 year', 'weight stable', 'stress due to caring for elderly parents', 'no depressed mood', 'lack of other thyroid symptoms', 'insomnia', 'heavy caffeine use', 'decreased appetite', 'anxious or nervous', '45 year', 'vomiting', 'viral symptoms or rhinorrhea or scratchy throat', 'subjective fever', 'shares an apartment', 'photophobia', 'no relief with motrin or no relief with tylenol', 'no rash', 'no known illness contacts', 'neck pain', 'myalgias', 'meningococcal vaccine status unknown', 'global headache or diffuse headache', 'family history of migraines', '1 day duration or 2 days duration', 'visual hallucination once', 'unsuccessful napping', 'tossing and turning', 'son died 3 weeks ago', 'sleeping medication ineffective', 'no suicidal ideations', 'loss of interest', 'increased appetite', 'hallucinations after taking ambien', 'fhx of depression or family history of depression', 'early wakening', 'duration 3 weeks', 'diminished energy or feeling drained', 'difficulty with sleep', 'difficulty falling asleep', 'auditory hallucination once', '67 year', 'weight gain', 'unprotected sex', 'symptoms for 6 months', 'last menstrual period 2 months ago', 'infertility hx or infertility history', 'heavy periods or irregular periods', 'fatigue', '17 year', 'shortness of breath', 'no hair changes or no nail changes or no temperature intolerance', 'lightheaded', 'intermittent symptoms', 'heart pounding or heart racing', 'few months duration', 'family history of thyroid disorder', 'family history of mi or family history of myocardial infarction', 'chest pressure', 'caffeine use', 'adderall use', 'vaginal dryness', 'stress', 'sleep disturbance or early awakenings', 'sexually active', 'recent nausea vomiting or recent flulike symptoms', 'prior normal periods', 'onset 3 years ago', 'no premenstrual symptoms', 'lmp 2 months ago or last menstrual period 2 months ago', 'last pap smear i year ago', 'iud', 'irregular menses', 'irregular flow or irregular frequency or irregular intervals', 'hot flashes', 'heavy sweating', '44 year', 'worse with deep breath or pleuritic', 'subjective fevers', 'sharp or stabbing or 7 to 8 out of 10 on pain scale', 'recent upper respiratory symptoms', 'recent heavy lifting at work or recent rock climbing', 'no shortness of breath', 'no relief with asthma inhaler', 'exercise induced asthma', 'duration x 1 day', 'chest pain', 'weight loss', 'right sided lq abdominal pain or right lower quadrant abdominal pain', 'recurrent bouts over past 6 months', 'prior episodes of diarrhea', 'not sexually active', 'normal lmp 2 weeks ago or normal last menstrual period 2 weeks ago', 'no vaginal discharge', 'no urinary symptoms', 'no bloody bowel movements', 'diminished appetite', '8 to 10 hours of acute pain']\n"
     ]
    }
   ],
   "source": [
    "def invert_multi_hot(encoded_labels):\n",
    "    '''Reverse a single multi-hot encoded label to a tuple of vocab terms.'''\n",
    "    hot_indices = np.argwhere(encoded_labels == 1.0)[...,0]\n",
    "    return np.take(vocab, hot_indices)\n",
    "\n",
    "print('Vocabulary:\\n')\n",
    "print(vocab)"
   ]
  },
  {
   "cell_type": "markdown",
   "id": "47645f85",
   "metadata": {},
   "source": [
    "### Separate the individual targets from the label pool and then use it to represent a given label set with 0's and 1's"
   ]
  },
  {
   "cell_type": "code",
   "execution_count": 6,
   "id": "6b4af335",
   "metadata": {},
   "outputs": [
    {
     "name": "stdout",
     "output_type": "stream",
     "text": [
      "Original label: ['no relief with motrin or no relief with tylenol', '20 year', '1 day duration or 2 days duration', 'myalgias', 'global headache or diffuse headache', 'neck pain', 'vomiting', 'no rash', 'nausea', 'viral symptoms or rhinorrhea or scratchy throat', 'shares an apartment', 'meningococcal vaccine status unknown', 'family history of migraines', 'female', 'photophobia', 'no known illness contacts', 'subjective fever']\n",
      "Label-binarized representation: [[0. 1. 1. 0. 0. 0. 0. 0. 0. 0. 0. 0. 0. 0. 0. 0. 0. 0. 0. 0. 0. 0. 0. 0.\n",
      "  0. 0. 0. 0. 0. 0. 0. 0. 0. 0. 0. 1. 0. 0. 0. 0. 0. 0. 0. 0. 0. 1. 1. 1.\n",
      "  1. 1. 1. 1. 1. 1. 1. 1. 1. 1. 1. 0. 0. 0. 0. 0. 0. 0. 0. 0. 0. 0. 0. 0.\n",
      "  0. 0. 0. 0. 0. 0. 0. 0. 0. 0. 0. 0. 0. 0. 0. 0. 0. 0. 0. 0. 0. 0. 0. 0.\n",
      "  0. 0. 0. 0. 0. 0. 0. 0. 0. 0. 0. 0. 0. 0. 0. 0. 0. 0. 0. 0. 0. 0. 0. 0.\n",
      "  0. 0. 0. 0. 0. 0. 0. 0. 0. 0. 0. 0.]]\n"
     ]
    }
   ],
   "source": [
    "sample_label = train_df['targets'].iloc[0]\n",
    "print(f'Original label: {sample_label}')\n",
    "\n",
    "label_binarized = lookup([sample_label])\n",
    "print(f'Label-binarized representation: {label_binarized}')"
   ]
  },
  {
   "cell_type": "markdown",
   "id": "de1776c2",
   "metadata": {},
   "source": [
    "## Data preprocessing and [tf.data.Dataset](https://www.tensorflow.org/api_docs/python/tf/data/Dataset) objects"
   ]
  },
  {
   "cell_type": "code",
   "execution_count": 7,
   "id": "48b7086c",
   "metadata": {},
   "outputs": [
    {
     "data": {
      "text/plain": [
       "count    37931.000000\n",
       "mean        97.733332\n",
       "std         16.316496\n",
       "min          7.000000\n",
       "25%         88.000000\n",
       "50%        100.000000\n",
       "75%        109.000000\n",
       "max        150.000000\n",
       "Name: clean, dtype: float64"
      ]
     },
     "execution_count": 7,
     "metadata": {},
     "output_type": "execute_result"
    }
   ],
   "source": [
    "train_df['clean'].apply(lambda x: len(x.split(\" \"))).describe()"
   ]
  },
  {
   "cell_type": "code",
   "execution_count": 8,
   "id": "44dac1bb",
   "metadata": {},
   "outputs": [],
   "source": [
    "max_seqlen = 98\n",
    "batch_size = 128\n",
    "padding_token = '<pad>'\n",
    "auto = tf.data.AUTOTUNE\n",
    "\n",
    "def make_dataset(dataframe, is_train=True):\n",
    "    labels = tf.ragged.constant(dataframe['targets'].values)\n",
    "    label_binarized = lookup(labels).numpy()\n",
    "    dataset = tf.data.Dataset.from_tensor_slices(\n",
    "        (dataframe['clean'].values, label_binarized)\n",
    "    )\n",
    "    dataset = dataset.shuffle(batch_size * 10) if is_train else dataset\n",
    "    return dataset.batch(batch_size)"
   ]
  },
  {
   "cell_type": "markdown",
   "id": "76a09421",
   "metadata": {},
   "source": [
    "## Prepare the [tf.data.Dataset](https://www.tensorflow.org/api_docs/python/tf/data/Dataset) objects."
   ]
  },
  {
   "cell_type": "code",
   "execution_count": 9,
   "id": "73f47c8f",
   "metadata": {},
   "outputs": [],
   "source": [
    "train_dataset = make_dataset(train_df, is_train=True)\n",
    "validation_dataset = make_dataset(val_df, is_train=False)\n",
    "test_dataset = make_dataset(test_df, is_train=False)"
   ]
  },
  {
   "cell_type": "markdown",
   "id": "0e592805",
   "metadata": {},
   "source": [
    "## Preview the dataset"
   ]
  },
  {
   "cell_type": "code",
   "execution_count": 10,
   "id": "42d92419",
   "metadata": {},
   "outputs": [
    {
     "name": "stdout",
     "output_type": "stream",
     "text": [
      "Student note: b'45 yo f complaint feelings nervousness constant worsening past weeks 3 weeks ago started giving lectures thinking giving lectures makes anxiety worse negatively impacting life causing decreased appetite mostly sunday nights monday morning prior lectures caused decreased libido ros heart racing pounding palpitations lightheadedness dizziness chest pain sob abd pain diarrhea constipations fever chills change hair cold heat intolerance agoraphobia pmh none lmp 1 week ago occurs regularly every 4 weeks heavy fhx father died heart attack age 65 shx lives 2 kids husband mother feels safe home denies tobacco illicit drug use drinks 1 2 alcoholic beverages month'\n",
      "Targets: ['female' 'weight stable' 'stress due to caring for elderly parents'\n",
      " 'no depressed mood' 'lack of other thyroid symptoms' 'insomnia'\n",
      " 'heavy caffeine use' 'decreased appetite' 'anxious or nervous' '45 year']\n",
      " \n",
      "Student note: b'hpi 67 yo f presents c inability sleep x 3wks pt reports difficulty falling asleep staying asleep pt reports son killed mva approx 3 wks ago since time fatigued able basic adls housework no problems conc anhedonia present no guilt thoughts suicide pt reports taking ambien received friend help pt reports seen images dead son knows real thought heard noise neighbors validated pmh htn remision breast ca menapause age 52yrs sh 2 3 drinks wine dinner wk since death son denies smoking drug use fh non contributory ros decreased appetite no weight bowel habits'\n",
      "Targets: ['female' 'visual hallucination once' 'unsuccessful napping'\n",
      " 'tossing and turning' 'son died 3 weeks ago'\n",
      " 'sleeping medication ineffective' 'no suicidal ideations'\n",
      " 'loss of interest' 'increased appetite'\n",
      " 'hallucinations after taking ambien'\n",
      " 'fhx of depression or family history of depression' 'early wakening'\n",
      " 'duration 3 weeks' 'diminished energy or feeling drained'\n",
      " 'difficulty with sleep' 'difficulty falling asleep'\n",
      " 'auditory hallucination once' '67 year']\n",
      " \n",
      "Student note: b'edie whelan 26 year old caucasian female come outpatient clinic follow visit palpitations pt states first started palpitations 5 years ago seek medical help 3 weeks ago palpitations started getting worse associated episodes sob nausea throat closing 2 times day two weeks ago pt also experienced numbness fingers prompted visit ed states since past week palpitations along sob nausea throat closing every couple days denies chest pain si long car rides reports recent stressor losing job 3 months ago ros negative except stated pmhx denies medicatons denies allergies nkda fmhx mother father healthy shx denies smoking drinking alcohol illicit drug use'\n",
      "Targets: ['female' 'recent visit to emergency department with negative workup'\n",
      " 'onset 5 years ago' 'no illicit drug use' 'no chest pain'\n",
      " 'no caffeine use' 'increased stress' 'increased frequency recently'\n",
      " 'feels hot or feels clammy' 'fatigue or difficulty concentrating'\n",
      " 'episodes of heart racing' 'episodes last 15 to 30 minutes'\n",
      " 'episode of hand numbness or episode of finger numbness'\n",
      " 'associated throat tightness'\n",
      " 'associated sob or associated shortness of breath' 'associated nausea'\n",
      " 'associated feeling of impending doom' '26 year']\n",
      " \n",
      "Student note: b'karin moore 45 year old woman presents nervousness reports past 2 3 weeks felt periods intense nervousness preparing academic college lectures giving says nervousness anxiety new affected parts life takes care mother inlaws well 17 year old home high performing also endorses multiple responsibilities home require drink upwards 5 6 cups coffee per day reports difficulty falling asleep admits sleeps 7 hours day prefers sleep 8 decreased appetite motivates eat experiend no weight loss denies headaches changes vision impact daily performance work home palpitations chest pain sweating episodes denies smoking ilicit drug use social drinker'\n",
      "Targets: ['female' 'weight stable' 'stress due to caring for elderly parents'\n",
      " 'no depressed mood' 'lack of other thyroid symptoms' 'insomnia'\n",
      " 'heavy caffeine use' 'decreased appetite' 'anxious or nervous' '45 year']\n",
      " \n",
      "Student note: b'angela tompkins 35 yo female presents period became heavier last 6 moths first period occured 12 period used occur every 30 days occurs every months lasts 7 days especially first days change pads every couple hours no associated pain vaginal discharge symptoms itching lmp 5 weeks ago last pap smear normal 6 months ago trying get children previous partner 9 years coulldn get pregnant adopted two girls active partner without contraceptives condoms no hx stds no medial conditions surgeries no medications allergies weigh gain no change bowel habits hair loss no cold intolerance'\n",
      "Targets: ['female' '35 year' 'weight gain' 'unprotected sex'\n",
      " 'symptoms for 6 months' 'last menstrual period 2 months ago'\n",
      " 'infertility hx or infertility history'\n",
      " 'heavy periods or irregular periods' 'fatigue']\n",
      " \n"
     ]
    }
   ],
   "source": [
    "text_batch, label_batch = next(iter(train_dataset))\n",
    "\n",
    "for i, text in enumerate(text_batch[:5]):\n",
    "    label = label_batch[i].numpy()[None, ...]\n",
    "    print(f'Student note: {text}')\n",
    "    print(f'Targets: {invert_multi_hot(label[0])}')\n",
    "    print(' ')"
   ]
  },
  {
   "cell_type": "markdown",
   "id": "5b3ce7d3",
   "metadata": {},
   "source": [
    "## Vectorization\n",
    "Vectorize the text to represent it as a quantitative value. We will use [TextVectorization layer](https://keras.io/api/layers/preprocessing_layers/text/text_vectorization)"
   ]
  },
  {
   "cell_type": "code",
   "execution_count": 11,
   "id": "39597f1c",
   "metadata": {},
   "outputs": [
    {
     "name": "stdout",
     "output_type": "stream",
     "text": [
      "42110\n"
     ]
    }
   ],
   "source": [
    "# Get unique words in student notes.\n",
    "vocabulary = set()\n",
    "train_df['clean'].str.split().apply(vocabulary.update)\n",
    "vocabulary_size = len(vocabulary)\n",
    "print(vocabulary_size)"
   ]
  },
  {
   "cell_type": "markdown",
   "id": "37594eb7",
   "metadata": {},
   "source": [
    "## Now we create our vectorization layer and map() to the [tf.data.Datasets](https://www.tensorflow.org/api_docs/python/tf/data/Dataset) created earlier."
   ]
  },
  {
   "cell_type": "code",
   "execution_count": 12,
   "id": "00403449",
   "metadata": {},
   "outputs": [],
   "source": [
    "text_vectorizer = layers.TextVectorization(\n",
    "    max_tokens=vocabulary_size, ngrams=2, output_mode='tf_idf'\n",
    ")\n",
    "\n",
    "with tf.device('/CPU:0'):\n",
    "    text_vectorizer.adapt(train_dataset.map(lambda text, label: text))\n",
    "\n",
    "train_dataset = train_dataset.map(\n",
    "    lambda text, label: (text_vectorizer(text), label), num_parallel_calls=auto).prefetch(auto)\n",
    "validation_dataset = validation_dataset.map(\n",
    "    lambda text, label: (text_vectorizer(text), label), num_parallel_calls=auto).prefetch(auto)\n",
    "test_dataset = test_dataset.map(\n",
    "    lambda text, label: (text_vectorizer(text), label), num_parallel_calls=auto).prefetch(auto)"
   ]
  },
  {
   "cell_type": "code",
   "execution_count": 13,
   "id": "1243a804",
   "metadata": {},
   "outputs": [],
   "source": [
    "text_batch, label_batch = next(iter(train_dataset))"
   ]
  },
  {
   "cell_type": "code",
   "execution_count": 14,
   "id": "cc9b4b4c",
   "metadata": {},
   "outputs": [
    {
     "data": {
      "text/plain": [
       "(42110, 132)"
      ]
     },
     "execution_count": 14,
     "metadata": {},
     "output_type": "execute_result"
    }
   ],
   "source": [
    "len(text_batch[0]), len(label_batch[0])"
   ]
  },
  {
   "cell_type": "markdown",
   "id": "779c175f",
   "metadata": {},
   "source": [
    "## Create a text classification model"
   ]
  },
  {
   "cell_type": "code",
   "execution_count": 15,
   "id": "97e576f1",
   "metadata": {},
   "outputs": [],
   "source": [
    "def make_model():\n",
    "    shallow_mlp_model = keras.Sequential(\n",
    "        [\n",
    "            layers.Dense(512, activation=\"relu\"),\n",
    "            layers.Dense(256, activation=\"relu\"),\n",
    "            layers.Dense(lookup.vocabulary_size(), activation=\"softmax\"),\n",
    "        ]\n",
    "    )\n",
    "    return shallow_mlp_model"
   ]
  },
  {
   "cell_type": "markdown",
   "id": "c65c18c4",
   "metadata": {},
   "source": [
    "## Train our model"
   ]
  },
  {
   "cell_type": "code",
   "execution_count": 16,
   "id": "9fdc8c54",
   "metadata": {},
   "outputs": [
    {
     "name": "stdout",
     "output_type": "stream",
     "text": [
      "Epoch 1/2\n",
      "297/297 [==============================] - 29s 96ms/step - loss: 0.0202 - categorical_accuracy: 0.2570 - val_loss: 1.1700e-04 - val_categorical_accuracy: 0.1546\n",
      "Epoch 2/2\n",
      "297/297 [==============================] - 29s 98ms/step - loss: 2.3018e-05 - categorical_accuracy: 0.2510 - val_loss: 1.0444e-04 - val_categorical_accuracy: 0.2116\n"
     ]
    },
    {
     "data": {
      "image/png": "[encoded data removed]",
      "text/plain": [
       "<Figure size 432x288 with 1 Axes>"
      ]
     },
     "metadata": {
      "needs_background": "light"
     },
     "output_type": "display_data"
    },
    {
     "data": {
      "image/png": "[encoded data removed]",
      "text/plain": [
       "<Figure size 432x288 with 1 Axes>"
      ]
     },
     "metadata": {
      "needs_background": "light"
     },
     "output_type": "display_data"
    }
   ],
   "source": [
    "epochs = 2\n",
    "\n",
    "shallow_mlp_model = make_model()\n",
    "shallow_mlp_model.compile(\n",
    "    loss=\"binary_crossentropy\", optimizer=\"adam\", metrics=[\"categorical_accuracy\"]\n",
    ")\n",
    "\n",
    "history = shallow_mlp_model.fit(\n",
    "    train_dataset, validation_data=validation_dataset, epochs=epochs\n",
    ")\n",
    "\n",
    "\n",
    "def plot_result(item):\n",
    "    plt.plot(history.history[item], label=item)\n",
    "    plt.plot(history.history[\"val_\" + item], label=\"val_\" + item)\n",
    "    plt.xlabel(\"Epochs\")\n",
    "    plt.ylabel(item)\n",
    "    plt.title(\"Train and Validation {} Over Epochs\".format(item), fontsize=14)\n",
    "    plt.legend()\n",
    "    plt.grid()\n",
    "    plt.show()\n",
    "\n",
    "\n",
    "plot_result(\"loss\")\n",
    "plot_result(\"categorical_accuracy\")"
   ]
  },
  {
   "cell_type": "markdown",
   "id": "601b02c7",
   "metadata": {},
   "source": [
    "## Evaluate the model"
   ]
  },
  {
   "cell_type": "code",
   "execution_count": 17,
   "id": "cc48d5e2",
   "metadata": {},
   "outputs": [
    {
     "data": {
      "text/plain": [
       "<PrefetchDataset element_spec=(TensorSpec(shape=(None, 42110), dtype=tf.float32, name=None), TensorSpec(shape=(None, 132), dtype=tf.float32, name=None))>"
      ]
     },
     "execution_count": 17,
     "metadata": {},
     "output_type": "execute_result"
    }
   ],
   "source": [
    "train_dataset"
   ]
  },
  {
   "cell_type": "code",
   "execution_count": 18,
   "id": "89491213",
   "metadata": {},
   "outputs": [
    {
     "data": {
      "text/plain": [
       "<PrefetchDataset element_spec=(TensorSpec(shape=(None, 42110), dtype=tf.float32, name=None), TensorSpec(shape=(None, 132), dtype=tf.float32, name=None))>"
      ]
     },
     "execution_count": 18,
     "metadata": {},
     "output_type": "execute_result"
    }
   ],
   "source": [
    "validation_dataset"
   ]
  },
  {
   "cell_type": "code",
   "execution_count": 19,
   "id": "de2ad453",
   "metadata": {},
   "outputs": [
    {
     "data": {
      "text/plain": [
       "<PrefetchDataset element_spec=(TensorSpec(shape=(None, 42110), dtype=tf.float32, name=None), TensorSpec(shape=(None, 132), dtype=tf.float32, name=None))>"
      ]
     },
     "execution_count": 19,
     "metadata": {},
     "output_type": "execute_result"
    }
   ],
   "source": [
    "test_dataset"
   ]
  },
  {
   "cell_type": "code",
   "execution_count": 20,
   "id": "2618eec6",
   "metadata": {},
   "outputs": [
    {
     "name": "stdout",
     "output_type": "stream",
     "text": [
      "17/17 [==============================] - 1s 27ms/step - loss: 7.8455e-05 - categorical_accuracy: 0.2140\n",
      "Categorical accuracy on the test set: 21.4%.\n"
     ]
    }
   ],
   "source": [
    "_, categorical_acc = shallow_mlp_model.evaluate(test_dataset)\n",
    "print(f\"Categorical accuracy on the test set: {round(categorical_acc * 100, 2)}%.\")"
   ]
  },
  {
   "cell_type": "code",
   "execution_count": 22,
   "id": "2dd36a59",
   "metadata": {},
   "outputs": [
    {
     "name": "stdout",
     "output_type": "stream",
     "text": [
      "Student notes: b'ms moore 45 female presenting generalized feelings nervousness last 3 4 weeks lots stress past couple months regarding work family 2 weeks ago workload increased feels anxious night giving lecture also reports decrease appetite however change weight also reports difficulty falling asleep last couple weeks thinking things falls asleep stays asleep gets 7 hours drinks 5 6 cups coffee day done years nothing makes nervousness better worse denies palpitations chest pain constipation fatigue meds otc tylenol needed allergies nkda pmhx none family hx dad sudden heart attack 61 social history occupation english professor etoh 1 2 drinks month tobacco never drugs never'\n",
      "Targets(s): ['female' 'weight stable' 'stress due to caring for elderly parents'\n",
      " 'no depressed mood' 'lack of other thyroid symptoms' 'insomnia'\n",
      " 'heavy caffeine use' 'decreased appetite' 'anxious or nervous' '45 year']\n",
      "Predicted Targets(s): (insomnia, stress due to caring for elderly parents, heavy caffeine use, no depressed mood, anxious or nervous, weight stable, lack of other thyroid symptoms, 45 year, decreased appetite, female)\n",
      " \n",
      "Student notes: b'26 year old f presenting palpitations associated dyspnea nausea sense impending doom ongoing past 5 years worsened 3 weeks ago 2x week ago developed acute episode dyspnea nausea tachycardia new onset numbness bilateral fingers work including ekg cardiac enzymes cbc electrolytes normal ed episodes last 15 30 minutes initially occured per month 3x weeks ago worsened 1 2x day past 2 weeks occurs every days no alleviating aggravating factors associated stress lmp 2x weeks ago regular ros denies headache vision changes loc head trauma fever chills vomiting changes urinary bowel habits weakness change mood pmhx none pshx none allergies nkda meds none fmhx healthy shx no alcohol tobacco recreational drug use unemployed sexually active monogamous boyfriend no h sti no children'\n",
      "Targets(s): ['female' 'recent visit to emergency department with negative workup'\n",
      " 'onset 5 years ago' 'no illicit drug use' 'no chest pain'\n",
      " 'no caffeine use' 'increased stress' 'increased frequency recently'\n",
      " 'feels hot or feels clammy' 'fatigue or difficulty concentrating'\n",
      " 'episodes of heart racing' 'episodes last 15 to 30 minutes'\n",
      " 'episode of hand numbness or episode of finger numbness'\n",
      " 'associated throat tightness'\n",
      " 'associated sob or associated shortness of breath' 'associated nausea'\n",
      " 'associated feeling of impending doom' '26 year']\n",
      "Predicted Targets(s): (associated throat tightness, increased stress, associated feeling of impending doom, female, 26 year, no illicit drug use, episodes last 15 to 30 minutes, no caffeine use, no chest pain, associated nausea, increased frequency recently, onset 5 years ago, episodes of heart racing, fatigue or difficulty concentrating, associated sob or associated shortness of breath, feels hot or feels clammy, episode of hand numbness or episode of finger numbness, recent visit to emergency department with negative workup)\n",
      " \n",
      "Student notes: b'26 yo f presenting follow recent ed visit palpitations 2 weeks ago palpitations fingers went numb went ed test results normal episodes heart pounding past 5 years recently approximately 3 weeks ago episodes occurring 1 2 times day occur every days associated physical emotional situational trigger think associated symtpoms including shortness breath throat tightness nausea feeling hot episodes feel cold clammy 3 months ago purchased condo subsequently lost job resulting added stress pmh none meds none surgical history none fh noncontributory sh lives alone recently lost job denies alcohol tobacco drug use sexually active boyfriend uses condoms ros negative except'\n",
      "Targets(s): ['female' 'recent visit to emergency department with negative workup'\n",
      " 'onset 5 years ago' 'no illicit drug use' 'no chest pain'\n",
      " 'no caffeine use' 'increased stress' 'increased frequency recently'\n",
      " 'feels hot or feels clammy' 'fatigue or difficulty concentrating'\n",
      " 'episodes of heart racing' 'episodes last 15 to 30 minutes'\n",
      " 'episode of hand numbness or episode of finger numbness'\n",
      " 'associated throat tightness'\n",
      " 'associated sob or associated shortness of breath' 'associated nausea'\n",
      " 'associated feeling of impending doom' '26 year']\n",
      "Predicted Targets(s): (associated throat tightness, associated feeling of impending doom, no illicit drug use, associated nausea, episodes last 15 to 30 minutes, increased stress, no caffeine use, increased frequency recently, no chest pain, 26 year, episodes of heart racing, feels hot or feels clammy, fatigue or difficulty concentrating, onset 5 years ago, associated sob or associated shortness of breath, episode of hand numbness or episode of finger numbness, female, recent visit to emergency department with negative workup)\n",
      " \n",
      "Student notes: b'35m smoker 2 3 months epigastric gnawing burning pain radiating back associated nausea melena episodes times week times day patient associate pain eating lying activity feel better worse fasting tried tums antactid minimal relief also tried abstinence alcohol smaller meals endorses bloating sensation nausea no vomiting no dysphagia no regurgitation acid taste no brbpr pmh patient endorses nsaid use occasional aches 1x per week ros denies cp shortness breath fatigue weight loss fevers chills cough dysphagia fhc patient uncle gastric ulber social hx former social drinker current ppd smoker x 20 years'\n",
      "Targets(s): ['nausea' '35 year' 'male' 'post prandial bloating or fullness with meals'\n",
      " 'nsaid use or nonsteroidal anti inflammatory drug use'\n",
      " 'no blood in stool' 'minimal to no change with tums' 'intermittent'\n",
      " 'getting worse or progressive or symptoms now daily'\n",
      " 'fhx of pud or family history of peptic ulcer disease'\n",
      " 'epigastric discomfort' 'duration 2 months' 'darker bowel movements'\n",
      " 'burning or gnawing or burning and gnawing' 'awakens at night'\n",
      " '2 to 3 beers a week']\n",
      "Predicted Targets(s): (fhx of pud or family history of peptic ulcer disease, male, nausea, nsaid use or nonsteroidal anti inflammatory drug use, intermittent, no blood in stool, burning or gnawing or burning and gnawing, 2 to 3 beers a week, duration 2 months, getting worse or progressive or symptoms now daily, epigastric discomfort, awakens at night, darker bowel movements, post prandial bloating or fullness with meals, minimal to no change with tums, 35 year)\n",
      " \n",
      "Student notes: b'pt 35 yo f menstrual problems c heavy flow x 5 months normal periods 6 mo ago regular used 4 tampons day heavy flow changes tampons every 2 hours assoc w pain discomfort vaginal discharge itching redness last pap smear 4 mo ao also c feeling fatigue gaine 15 lbs weight since past 6 mo unintentionally no changes appetite fever ros except obgyn hist 2 adopted kids never pregnant trying 9 years w previous husband no miscarriages sexual hist sexually active w boyfriend no discomfort fh aunt breast ca sister cervical ca pmh psh ed allegies non contributory social no smoking alcohol illicit drug use'\n",
      "Targets(s): ['female' '35 year' 'weight gain' 'unprotected sex'\n",
      " 'symptoms for 6 months' 'last menstrual period 2 months ago'\n",
      " 'infertility hx or infertility history'\n",
      " 'heavy periods or irregular periods' 'fatigue']\n",
      "Predicted Targets(s): (35 year, weight gain, symptoms for 6 months, unprotected sex, heavy periods or irregular periods, last menstrual period 2 months ago, female, fatigue, infertility hx or infertility history)\n",
      " \n",
      "Student notes: b'f 26 yo chief complaint palpitation sudden onset first episode life no diagnosis far last 15 30 min ang disappear spontaneously no syncope no lightheadness no chest pain associated numbness fingers noly last episode se went er negative findings including cbc metabolic panel ecg cardiac enzymes ros nothing pmh unremarkable sh no smokes alcohol illicit drug use sexually active boyfriend no std no medications nkda'\n",
      "Targets(s): ['female' 'recent visit to emergency department with negative workup'\n",
      " 'onset 5 years ago' 'no illicit drug use' 'no chest pain'\n",
      " 'no caffeine use' 'increased stress' 'increased frequency recently'\n",
      " 'feels hot or feels clammy' 'fatigue or difficulty concentrating'\n",
      " 'episodes of heart racing' 'episodes last 15 to 30 minutes'\n",
      " 'episode of hand numbness or episode of finger numbness'\n",
      " 'associated throat tightness'\n",
      " 'associated sob or associated shortness of breath' 'associated nausea'\n",
      " 'associated feeling of impending doom' '26 year']\n",
      "Predicted Targets(s): (associated throat tightness, associated nausea, no illicit drug use, episodes last 15 to 30 minutes, increased stress, 26 year, increased frequency recently, no chest pain, associated feeling of impending doom, episodes of heart racing, no caffeine use, feels hot or feels clammy, onset 5 years ago, fatigue or difficulty concentrating, female, associated sob or associated shortness of breath, episode of hand numbness or episode of finger numbness, recent visit to emergency department with negative workup)\n",
      " \n",
      "Student notes: b'ch 35 year old male presented clinic 2 month hx burning epigastric pain pain intermittent occurs 2x day appear related food intake positional changes pain 5 10 severity progressing pain wakes patient night pain radiate previously alleiviated antacids longer associated symptoms bloated early satiety fatigue nausea no vomiting no changes weight stool become darker no constipation diarrhea no urinary symptoms no fever chills night sweats pmhx n pshx n medications motrin 2x200 mg tablets work related aches fhx uncle peptic ulcer disease sohx construction worker drinks 2 beers wk c due pain 10 20 year pack history no current intention reduce smoking no recent travel sick contacts sr negative aside'\n",
      "Targets(s): ['nausea' '35 year' 'male' 'post prandial bloating or fullness with meals'\n",
      " 'nsaid use or nonsteroidal anti inflammatory drug use'\n",
      " 'no blood in stool' 'minimal to no change with tums' 'intermittent'\n",
      " 'getting worse or progressive or symptoms now daily'\n",
      " 'fhx of pud or family history of peptic ulcer disease'\n",
      " 'epigastric discomfort' 'duration 2 months' 'darker bowel movements'\n",
      " 'burning or gnawing or burning and gnawing' 'awakens at night'\n",
      " '2 to 3 beers a week']\n",
      "Predicted Targets(s): (fhx of pud or family history of peptic ulcer disease, nsaid use or nonsteroidal anti inflammatory drug use, burning or gnawing or burning and gnawing, no blood in stool, awakens at night, nausea, duration 2 months, intermittent, epigastric discomfort, male, 2 to 3 beers a week, getting worse or progressive or symptoms now daily, darker bowel movements, minimal to no change with tums, 35 year, post prandial bloating or fullness with meals)\n",
      " \n",
      "Student notes: b'45 yo woman presenting 3 weeks nervousness 3 weeks ago patient started experiencing constant nervousness endorse obvious singular trigger endorse stress caring mother laws well children additionally patient works teacher new responsibilities including public speaking feels nervousness constant severely affected life able function normally home work complete responsibilities endorses decreased appetite decreased sleep sexual desire denies suicidal homicidal ideation denies palpitations chest pain shortness breath fevers chills weight loss headache changes vision med surg hx none meds none allergies none sh lives home mother husband 3 kids no tobacco occ alcohol no drugs fh pertinent ros otherwise neg'\n",
      "Targets(s): ['female' 'weight stable' 'stress due to caring for elderly parents'\n",
      " 'no depressed mood' 'lack of other thyroid symptoms' 'insomnia'\n",
      " 'heavy caffeine use' 'decreased appetite' 'anxious or nervous' '45 year']\n",
      "Predicted Targets(s): (female, insomnia, no depressed mood, anxious or nervous, 45 year, heavy caffeine use, stress due to caring for elderly parents, decreased appetite, lack of other thyroid symptoms, weight stable)\n",
      " \n",
      "Student notes: b'pt 35yo presenting x2 months worsening abdominal pain non radiating pain epigastric region described gnawing burning quality occurring 1 2x per week increased 2 3x per day lasting 1 2 hours no specific aggrivating factors noted tums used alleviate pain working associated nausea no vomiting no constipation diarrhea pt endorses dark stools past 2 weeks denies cp sob right shoulder pain ros stated hpi pmh back pain muscle spasm 2 2 heavy lifting meds motrin prn back pain 1 2 pills 1 2 times per week allergies none surgeries none family hx uncle bleeding ulcer'\n",
      "Targets(s): ['nausea' '35 year' 'male' 'post prandial bloating or fullness with meals'\n",
      " 'nsaid use or nonsteroidal anti inflammatory drug use'\n",
      " 'no blood in stool' 'minimal to no change with tums' 'intermittent'\n",
      " 'getting worse or progressive or symptoms now daily'\n",
      " 'fhx of pud or family history of peptic ulcer disease'\n",
      " 'epigastric discomfort' 'duration 2 months' 'darker bowel movements'\n",
      " 'burning or gnawing or burning and gnawing' 'awakens at night'\n",
      " '2 to 3 beers a week']\n",
      "Predicted Targets(s): (fhx of pud or family history of peptic ulcer disease, nsaid use or nonsteroidal anti inflammatory drug use, nausea, awakens at night, no blood in stool, 35 year, burning or gnawing or burning and gnawing, male, getting worse or progressive or symptoms now daily, intermittent, duration 2 months, epigastric discomfort, post prandial bloating or fullness with meals, minimal to no change with tums, 2 to 3 beers a week, darker bowel movements)\n",
      " \n",
      "Student notes: b'35 yo f presents due irregular menses six months duration ptnt notes 2 cycles last 6 mos heavier normal current rregular heavier cycles using 4 tampons first day period feeling soaked ptnt notes still gets usual cramping periods lmp two months ago reports no spotting periods ptnt tried getting pregnant last 11 yrs unable adopted 2 children ptnt started period age 12 irregular took birth control pills 11 years ago trying get pregnant thought get pregnant stopped taking pill since periods regular recently ros pos weight gain 10 15lbs last months neg fatigue fever chills no hx stis last pap smear normal 6 months ago shx ptnt lives two children sexually active boyfriend first used condoms use anymore'\n",
      "Targets(s): ['female' '35 year' 'weight gain' 'unprotected sex'\n",
      " 'symptoms for 6 months' 'last menstrual period 2 months ago'\n",
      " 'infertility hx or infertility history'\n",
      " 'heavy periods or irregular periods' 'fatigue']\n",
      "Predicted Targets(s): (weight gain, heavy periods or irregular periods, unprotected sex, 35 year, symptoms for 6 months, fatigue, last menstrual period 2 months ago, female, infertility hx or infertility history)\n",
      " \n"
     ]
    }
   ],
   "source": [
    "# Create a model for inference.\n",
    "model_for_inference = keras.Sequential([text_vectorizer, shallow_mlp_model])\n",
    "\n",
    "# Create a small dataset just for demoing inference.\n",
    "inference_dataset = make_dataset(test_df.sample(100), is_train=False)\n",
    "text_batch, label_batch = next(iter(inference_dataset))\n",
    "predicted_probabilities = model_for_inference.predict(text_batch)\n",
    "\n",
    "# Perform inference.\n",
    "for i, text in enumerate(text_batch[:10]):\n",
    "    label = label_batch[i].numpy()[None, ...]\n",
    "    print(f\"Student notes: {text}\")\n",
    "    print(f\"Targets(s): {invert_multi_hot(label[0])}\")\n",
    "    predicted_proba = [proba for proba in predicted_probabilities[i]]\n",
    "    all_labels = [\n",
    "        x\n",
    "        for _, x in sorted(\n",
    "            zip(predicted_probabilities[i], lookup.get_vocabulary()),\n",
    "            key=lambda pair: pair[0],\n",
    "            reverse=True,\n",
    "            \n",
    "        )\n",
    "    ][:len(invert_multi_hot(label[0]))]\n",
    "    print(f\"Predicted Targets(s): ({', '.join([label for label in all_labels])})\")\n",
    "    print(\" \")"
   ]
  },
  {
   "cell_type": "code",
   "execution_count": null,
   "id": "450d3cae",
   "metadata": {},
   "outputs": [],
   "source": []
  }
 ],
 "metadata": {
  "kernelspec": {
   "display_name": "Python 3 (ipykernel)",
   "language": "python",
   "name": "python3"
  },
  "language_info": {
   "codemirror_mode": {
    "name": "ipython",
    "version": 3
   },
   "file_extension": ".py",
   "mimetype": "text/x-python",
   "name": "python",
   "nbconvert_exporter": "python",
   "pygments_lexer": "ipython3",
   "version": "3.8.8"
  }
 },
 "nbformat": 4,
 "nbformat_minor": 5
}
