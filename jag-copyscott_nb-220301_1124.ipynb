{
 "cells": [
  {
   "cell_type": "code",
   "execution_count": 1,
   "metadata": {},
   "outputs": [
    {
     "name": "stdout",
     "output_type": "stream",
     "text": [
      "Collecting en-core-web-lg==3.2.0\n",
      "  Downloading https://github.com/explosion/spacy-models/releases/download/en_core_web_lg-3.2.0/en_core_web_lg-3.2.0-py3-none-any.whl (777.4 MB)\n",
      "\u001b[K     |████████████████████████████████| 777.4 MB 16 kB/s  eta 0:00:013   |█▎                              | 31.6 MB 451 kB/s eta 0:27:34     |██████▌                         | 156.9 MB 1.0 MB/s eta 0:09:58     |██████████████████████▊         | 551.2 MB 274 kB/s eta 0:13:44     |███████████████████████▉        | 579.0 MB 459 kB/s eta 0:07:12     |████████████████████████████▎   | 686.3 MB 219 kB/s eta 0:06:55     |███████████████████████████████▊| 771.0 MB 465 kB/s eta 0:00:14\n",
      "\u001b[?25hRequirement already satisfied: spacy<3.3.0,>=3.2.0 in /opt/miniconda3/envs/tf/lib/python3.7/site-packages (from en-core-web-lg==3.2.0) (3.2.1)\n",
      "Requirement already satisfied: packaging>=20.0 in /opt/miniconda3/envs/tf/lib/python3.7/site-packages (from spacy<3.3.0,>=3.2.0->en-core-web-lg==3.2.0) (21.3)\n",
      "Requirement already satisfied: preshed<3.1.0,>=3.0.2 in /opt/miniconda3/envs/tf/lib/python3.7/site-packages (from spacy<3.3.0,>=3.2.0->en-core-web-lg==3.2.0) (3.0.5)\n",
      "Requirement already satisfied: setuptools in /opt/miniconda3/envs/tf/lib/python3.7/site-packages (from spacy<3.3.0,>=3.2.0->en-core-web-lg==3.2.0) (58.0.4)\n",
      "Requirement already satisfied: catalogue<2.1.0,>=2.0.6 in /opt/miniconda3/envs/tf/lib/python3.7/site-packages (from spacy<3.3.0,>=3.2.0->en-core-web-lg==3.2.0) (2.0.6)\n",
      "Requirement already satisfied: spacy-loggers<2.0.0,>=1.0.0 in /opt/miniconda3/envs/tf/lib/python3.7/site-packages (from spacy<3.3.0,>=3.2.0->en-core-web-lg==3.2.0) (1.0.1)\n",
      "Requirement already satisfied: pydantic!=1.8,!=1.8.1,<1.9.0,>=1.7.4 in /opt/miniconda3/envs/tf/lib/python3.7/site-packages (from spacy<3.3.0,>=3.2.0->en-core-web-lg==3.2.0) (1.8.2)\n",
      "Requirement already satisfied: srsly<3.0.0,>=2.4.1 in /opt/miniconda3/envs/tf/lib/python3.7/site-packages (from spacy<3.3.0,>=3.2.0->en-core-web-lg==3.2.0) (2.4.1)\n",
      "Requirement already satisfied: typer<0.5.0,>=0.3.0 in /opt/miniconda3/envs/tf/lib/python3.7/site-packages (from spacy<3.3.0,>=3.2.0->en-core-web-lg==3.2.0) (0.4.0)\n",
      "Requirement already satisfied: thinc<8.1.0,>=8.0.12 in /opt/miniconda3/envs/tf/lib/python3.7/site-packages (from spacy<3.3.0,>=3.2.0->en-core-web-lg==3.2.0) (8.0.13)\n",
      "Requirement already satisfied: requests<3.0.0,>=2.13.0 in /opt/miniconda3/envs/tf/lib/python3.7/site-packages (from spacy<3.3.0,>=3.2.0->en-core-web-lg==3.2.0) (2.27.1)\n",
      "Requirement already satisfied: typing-extensions<4.0.0.0,>=3.7.4 in /opt/miniconda3/envs/tf/lib/python3.7/site-packages (from spacy<3.3.0,>=3.2.0->en-core-web-lg==3.2.0) (3.10.0.2)\n",
      "Requirement already satisfied: spacy-legacy<3.1.0,>=3.0.8 in /opt/miniconda3/envs/tf/lib/python3.7/site-packages (from spacy<3.3.0,>=3.2.0->en-core-web-lg==3.2.0) (3.0.8)\n",
      "Requirement already satisfied: pathy>=0.3.5 in /opt/miniconda3/envs/tf/lib/python3.7/site-packages (from spacy<3.3.0,>=3.2.0->en-core-web-lg==3.2.0) (0.6.0)\n",
      "Requirement already satisfied: murmurhash<1.1.0,>=0.28.0 in /opt/miniconda3/envs/tf/lib/python3.7/site-packages (from spacy<3.3.0,>=3.2.0->en-core-web-lg==3.2.0) (1.0.5)\n",
      "Requirement already satisfied: blis<0.8.0,>=0.4.0 in /opt/miniconda3/envs/tf/lib/python3.7/site-packages (from spacy<3.3.0,>=3.2.0->en-core-web-lg==3.2.0) (0.7.4)\n",
      "Requirement already satisfied: tqdm<5.0.0,>=4.38.0 in /opt/miniconda3/envs/tf/lib/python3.7/site-packages (from spacy<3.3.0,>=3.2.0->en-core-web-lg==3.2.0) (4.62.3)\n",
      "Requirement already satisfied: cymem<2.1.0,>=2.0.2 in /opt/miniconda3/envs/tf/lib/python3.7/site-packages (from spacy<3.3.0,>=3.2.0->en-core-web-lg==3.2.0) (2.0.5)\n",
      "Requirement already satisfied: numpy>=1.15.0 in /opt/miniconda3/envs/tf/lib/python3.7/site-packages (from spacy<3.3.0,>=3.2.0->en-core-web-lg==3.2.0) (1.21.2)\n",
      "Requirement already satisfied: langcodes<4.0.0,>=3.2.0 in /opt/miniconda3/envs/tf/lib/python3.7/site-packages (from spacy<3.3.0,>=3.2.0->en-core-web-lg==3.2.0) (3.3.0)\n",
      "Requirement already satisfied: wasabi<1.1.0,>=0.8.1 in /opt/miniconda3/envs/tf/lib/python3.7/site-packages (from spacy<3.3.0,>=3.2.0->en-core-web-lg==3.2.0) (0.8.2)\n",
      "Requirement already satisfied: jinja2 in /opt/miniconda3/envs/tf/lib/python3.7/site-packages (from spacy<3.3.0,>=3.2.0->en-core-web-lg==3.2.0) (3.0.2)\n",
      "Requirement already satisfied: zipp>=0.5 in /opt/miniconda3/envs/tf/lib/python3.7/site-packages (from catalogue<2.1.0,>=2.0.6->spacy<3.3.0,>=3.2.0->en-core-web-lg==3.2.0) (3.7.0)\n",
      "Requirement already satisfied: pyparsing!=3.0.5,>=2.0.2 in /opt/miniconda3/envs/tf/lib/python3.7/site-packages (from packaging>=20.0->spacy<3.3.0,>=3.2.0->en-core-web-lg==3.2.0) (3.0.4)\n",
      "Requirement already satisfied: smart-open<6.0.0,>=5.0.0 in /opt/miniconda3/envs/tf/lib/python3.7/site-packages (from pathy>=0.3.5->spacy<3.3.0,>=3.2.0->en-core-web-lg==3.2.0) (5.1.0)\n",
      "Requirement already satisfied: urllib3<1.27,>=1.21.1 in /opt/miniconda3/envs/tf/lib/python3.7/site-packages (from requests<3.0.0,>=2.13.0->spacy<3.3.0,>=3.2.0->en-core-web-lg==3.2.0) (1.26.8)\n",
      "Requirement already satisfied: charset-normalizer~=2.0.0 in /opt/miniconda3/envs/tf/lib/python3.7/site-packages (from requests<3.0.0,>=2.13.0->spacy<3.3.0,>=3.2.0->en-core-web-lg==3.2.0) (2.0.4)\n",
      "Requirement already satisfied: idna<4,>=2.5 in /opt/miniconda3/envs/tf/lib/python3.7/site-packages (from requests<3.0.0,>=2.13.0->spacy<3.3.0,>=3.2.0->en-core-web-lg==3.2.0) (3.3)\n",
      "Requirement already satisfied: certifi>=2017.4.17 in /opt/miniconda3/envs/tf/lib/python3.7/site-packages (from requests<3.0.0,>=2.13.0->spacy<3.3.0,>=3.2.0->en-core-web-lg==3.2.0) (2021.10.8)\n",
      "Requirement already satisfied: click<9.0.0,>=7.1.1 in /opt/miniconda3/envs/tf/lib/python3.7/site-packages (from typer<0.5.0,>=0.3.0->spacy<3.3.0,>=3.2.0->en-core-web-lg==3.2.0) (8.0.3)\n",
      "Requirement already satisfied: importlib-metadata in /opt/miniconda3/envs/tf/lib/python3.7/site-packages (from click<9.0.0,>=7.1.1->typer<0.5.0,>=0.3.0->spacy<3.3.0,>=3.2.0->en-core-web-lg==3.2.0) (4.8.2)\n",
      "Requirement already satisfied: MarkupSafe>=2.0 in /opt/miniconda3/envs/tf/lib/python3.7/site-packages (from jinja2->spacy<3.3.0,>=3.2.0->en-core-web-lg==3.2.0) (2.0.1)\n",
      "\u001b[38;5;2m✔ Download and installation successful\u001b[0m\n",
      "You can now load the package via spacy.load('en_core_web_lg')\n"
     ]
    },
    {
     "name": "stderr",
     "output_type": "stream",
     "text": [
      "[nltk_data] Downloading package stopwords to\n",
      "[nltk_data]     /Users/dragonzord/nltk_data...\n",
      "[nltk_data]   Package stopwords is already up-to-date!\n"
     ]
    },
    {
     "data": {
      "text/plain": [
       "True"
      ]
     },
     "execution_count": 1,
     "metadata": {},
     "output_type": "execute_result"
    }
   ],
   "source": [
    "import pandas as pd\n",
    "pd.set_option('display.max_colwidth', None)\n",
    "\n",
    "import numpy as np\n",
    "\n",
    "import spacy\n",
    "#!python -m spacy download en_core_web_sm\n",
    "!python -m spacy download en_core_web_lg\n",
    "\n",
    "import nltk\n",
    "nltk.download('stopwords')"
   ]
  },
  {
   "cell_type": "code",
   "execution_count": 39,
   "metadata": {},
   "outputs": [
    {
     "name": "stdout",
     "output_type": "stream",
     "text": [
      "(42146, 3)\n"
     ]
    },
    {
     "data": {
      "text/html": [
       "<div>\n",
       "<style scoped>\n",
       "    .dataframe tbody tr th:only-of-type {\n",
       "        vertical-align: middle;\n",
       "    }\n",
       "\n",
       "    .dataframe tbody tr th {\n",
       "        vertical-align: top;\n",
       "    }\n",
       "\n",
       "    .dataframe thead th {\n",
       "        text-align: right;\n",
       "    }\n",
       "</style>\n",
       "<table border=\"1\" class=\"dataframe\">\n",
       "  <thead>\n",
       "    <tr style=\"text-align: right;\">\n",
       "      <th></th>\n",
       "      <th>pn_num</th>\n",
       "      <th>case_num</th>\n",
       "      <th>pn_history</th>\n",
       "    </tr>\n",
       "  </thead>\n",
       "  <tbody>\n",
       "    <tr>\n",
       "      <th>0</th>\n",
       "      <td>0</td>\n",
       "      <td>0</td>\n",
       "      <td>17-year-old male, has come to the student health clinic complaining of heart pounding. Mr. Cleveland's mother has given verbal consent for a history, physical examination, and treatment\\r\\n-began 2-3 months ago,sudden,intermittent for 2 days(lasting 3-4 min),worsening,non-allev/aggrav\\r\\n-associated with dispnea on exersion and rest,stressed out about school\\r\\n-reports fe feels like his heart is jumping out of his chest\\r\\n-ros:denies chest pain,dyaphoresis,wt loss,chills,fever,nausea,vomiting,pedal edeam\\r\\n-pmh:non,meds :aderol (from a friend),nkda\\r\\n-fh:father had MI recently,mother has thyroid dz\\r\\n-sh:non-smoker,mariguana 5-6 months ago,3 beers on the weekend, basketball at school\\r\\n-sh:no std</td>\n",
       "    </tr>\n",
       "    <tr>\n",
       "      <th>1</th>\n",
       "      <td>1</td>\n",
       "      <td>0</td>\n",
       "      <td>17 yo male with recurrent palpitations for the past 3 mo lasting about 3 - 4 min, it happened about 5 - 6 times since the beginning. One time durign a baskeball game two days ago light headedness, pressure in the chest, catching breath, but no fainting. During teh episodes no sweating. No diarrhea, no heat intolerance, no weight loss. Has tried aterol to be able to better concentrate, has received it from his roommate. .</td>\n",
       "    </tr>\n",
       "  </tbody>\n",
       "</table>\n",
       "</div>"
      ],
      "text/plain": [
       "   pn_num  case_num  \\\n",
       "0       0         0   \n",
       "1       1         0   \n",
       "\n",
       "                                                                                                                                                                                                                                                                                                                                                                                                                                                                                                                                                                                                                                                                                                                                pn_history  \n",
       "0  17-year-old male, has come to the student health clinic complaining of heart pounding. Mr. Cleveland's mother has given verbal consent for a history, physical examination, and treatment\\r\\n-began 2-3 months ago,sudden,intermittent for 2 days(lasting 3-4 min),worsening,non-allev/aggrav\\r\\n-associated with dispnea on exersion and rest,stressed out about school\\r\\n-reports fe feels like his heart is jumping out of his chest\\r\\n-ros:denies chest pain,dyaphoresis,wt loss,chills,fever,nausea,vomiting,pedal edeam\\r\\n-pmh:non,meds :aderol (from a friend),nkda\\r\\n-fh:father had MI recently,mother has thyroid dz\\r\\n-sh:non-smoker,mariguana 5-6 months ago,3 beers on the weekend, basketball at school\\r\\n-sh:no std  \n",
       "1                                                                                                                                                                                                                                                                                                 17 yo male with recurrent palpitations for the past 3 mo lasting about 3 - 4 min, it happened about 5 - 6 times since the beginning. One time durign a baskeball game two days ago light headedness, pressure in the chest, catching breath, but no fainting. During teh episodes no sweating. No diarrhea, no heat intolerance, no weight loss. Has tried aterol to be able to better concentrate, has received it from his roommate. .  "
      ]
     },
     "execution_count": 39,
     "metadata": {},
     "output_type": "execute_result"
    }
   ],
   "source": [
    "patient_notes = pd.read_csv(\"patient_notes.csv\")\n",
    "print(patient_notes.shape)\n",
    "patient_notes.head(2)"
   ]
  },
  {
   "cell_type": "code",
   "execution_count": 112,
   "metadata": {},
   "outputs": [
    {
     "data": {
      "text/html": [
       "<div>\n",
       "<style scoped>\n",
       "    .dataframe tbody tr th:only-of-type {\n",
       "        vertical-align: middle;\n",
       "    }\n",
       "\n",
       "    .dataframe tbody tr th {\n",
       "        vertical-align: top;\n",
       "    }\n",
       "\n",
       "    .dataframe thead th {\n",
       "        text-align: right;\n",
       "    }\n",
       "</style>\n",
       "<table border=\"1\" class=\"dataframe\">\n",
       "  <thead>\n",
       "    <tr style=\"text-align: right;\">\n",
       "      <th></th>\n",
       "      <th>pn_num</th>\n",
       "      <th>case_num</th>\n",
       "      <th>pn_history</th>\n",
       "    </tr>\n",
       "  </thead>\n",
       "  <tbody>\n",
       "    <tr>\n",
       "      <th>0</th>\n",
       "      <td>0</td>\n",
       "      <td>0</td>\n",
       "      <td>17-year-old male, has come to the student health clinic complaining of heart pounding. Mr. Cleveland's mother has given verbal consent for a history, physical examination, and treatment\\r\\n-began 2-3 months ago,sudden,intermittent for 2 days(lasting 3-4 min),worsening,non-allev/aggrav\\r\\n-associated with dispnea on exersion and rest,stressed out about school\\r\\n-reports fe feels like his heart is jumping out of his chest\\r\\n-ros:denies chest pain,dyaphoresis,wt loss,chills,fever,nausea,vomiting,pedal edeam\\r\\n-pmh:non,meds :aderol (from a friend),nkda\\r\\n-fh:father had MI recently,mother has thyroid dz\\r\\n-sh:non-smoker,mariguana 5-6 months ago,3 beers on the weekend, basketball at school\\r\\n-sh:no std</td>\n",
       "    </tr>\n",
       "    <tr>\n",
       "      <th>1</th>\n",
       "      <td>1</td>\n",
       "      <td>0</td>\n",
       "      <td>17 yo male with recurrent palpitations for the past 3 mo lasting about 3 - 4 min, it happened about 5 - 6 times since the beginning. One time durign a baskeball game two days ago light headedness, pressure in the chest, catching breath, but no fainting. During teh episodes no sweating. No diarrhea, no heat intolerance, no weight loss. Has tried aterol to be able to better concentrate, has received it from his roommate. .</td>\n",
       "    </tr>\n",
       "    <tr>\n",
       "      <th>2</th>\n",
       "      <td>2</td>\n",
       "      <td>0</td>\n",
       "      <td>Dillon Cleveland is a 17 y.o. male patient with no significant PMH who presents with complaints of heart pounding. This has been going on for a few months and happens once or twice a month. He cannot think of any triggers, and it has occurred both with activity and at rest. Occasionally, it is accompanied by chest pressure but not pain that is located at the center of his chest. On one instance, he experienced chest pressure, lightheadedness and shortness of breath for 10 minutes with the heart pounding. \\r\\n\\r\\nOtherwise, he has not had shortness of breath, chest pain, anxiety, \\r\\n\\r\\nMedication: adderall twice a week as study aid (not prescribed)\\r\\nFH: mother - thyroid disease, father - heart attack at age 52, both living\\r\\nSH: no smoking; 3-4 drinks on the weekend per sitting; marijuanna once recently, no other recreational drugs</td>\n",
       "    </tr>\n",
       "    <tr>\n",
       "      <th>3</th>\n",
       "      <td>3</td>\n",
       "      <td>0</td>\n",
       "      <td>a 17 yo m c/o palpitation started 3 mos ago; \\r\\nNOTHING IMPROVES OR EXACERBATES THE SYMPTOMS ACCORDING TO HIM; IT CAN HAPPEN ANY TIME; MAY TAKE A FEW MINUTES; LAST TIME HAPPENED 2 DAYS AGO DURING PLAYING A GAME AND IT WAS ASSOCIATED WITH RETROSTERNAL PRESSURE LIKE DISCOMFORT; AND HE FELT LIGHTHEADED. BUT HE DID NOT LOSE CONCIOUSNESS AND DID NOT FALL. \\r\\nNOT ASSOCIATED WITH NAUSEA VOMITING; HEADACHE; ABDOMINAL PAIN; CHANGES IN URINATION OR BOWEL HABITS, OR TREMOR OR SKIN OR HAIR CHANGE OR INTOLERABC\\r\\n\\r\\nPMH NONE\\r\\nPSHH: NONE\\r\\nMEDS: ADEROL TO STAY AWAKE\\r\\nHOSP: NONE\\r\\nFH: MOTHER HAS THYROID DISEASE; FATHER HAS CAD X 1 YR\\r\\nSH: NO SMOKING; DRINKING ON WEEKENDS CAGE 0/4; ONE TIME USE OF MARIJUANA\\r\\n\\r\\n\\r\\n</td>\n",
       "    </tr>\n",
       "    <tr>\n",
       "      <th>4</th>\n",
       "      <td>4</td>\n",
       "      <td>0</td>\n",
       "      <td>17yo male with no pmh here for evaluation of palpitations. States for the last 3-4mo he has felt that his heart with intermittently \"beat out of his chest,\" with some associated difficulty catching his breath. States that the most recent event was 2 days ago, and during activity at a soccer game. He does not seem to note any specific precipitatinig factors at this time. He also states that he feels as if he will faint during these events, but has not lost consciousness at any point. Furthermore, he does endorse theses attacks occuring 1-2 times a month and peak at 4 mins. He denies any stressors at home. ROS: denies weight loss, fevers, recnet illness, change in bowel habits. PMH: negative, PSH negative, FHX mom with thyroid disorder, dad with heart condition and MI at 52yo. SHX no tobacco, ETOH on weekends, Marijuana tried a month ago. Med: is taking some of roommates Adderoll intermittently (last was 2 days ago prior to event). KNDA</td>\n",
       "    </tr>\n",
       "  </tbody>\n",
       "</table>\n",
       "</div>"
      ],
      "text/plain": [
       "   pn_num  case_num  \\\n",
       "0       0         0   \n",
       "1       1         0   \n",
       "2       2         0   \n",
       "3       3         0   \n",
       "4       4         0   \n",
       "\n",
       "                                                                                                                                                                                                                                                                                                                                                                                                                                                                                                                                                                                                                                                                                                                                                                                                                                                                                                                                                                             pn_history  \n",
       "0                                                                                                                                                                                                                                               17-year-old male, has come to the student health clinic complaining of heart pounding. Mr. Cleveland's mother has given verbal consent for a history, physical examination, and treatment\\r\\n-began 2-3 months ago,sudden,intermittent for 2 days(lasting 3-4 min),worsening,non-allev/aggrav\\r\\n-associated with dispnea on exersion and rest,stressed out about school\\r\\n-reports fe feels like his heart is jumping out of his chest\\r\\n-ros:denies chest pain,dyaphoresis,wt loss,chills,fever,nausea,vomiting,pedal edeam\\r\\n-pmh:non,meds :aderol (from a friend),nkda\\r\\n-fh:father had MI recently,mother has thyroid dz\\r\\n-sh:non-smoker,mariguana 5-6 months ago,3 beers on the weekend, basketball at school\\r\\n-sh:no std  \n",
       "1                                                                                                                                                                                                                                                                                                                                                                                                                                                                                                                                              17 yo male with recurrent palpitations for the past 3 mo lasting about 3 - 4 min, it happened about 5 - 6 times since the beginning. One time durign a baskeball game two days ago light headedness, pressure in the chest, catching breath, but no fainting. During teh episodes no sweating. No diarrhea, no heat intolerance, no weight loss. Has tried aterol to be able to better concentrate, has received it from his roommate. .  \n",
       "2                                                                                                       Dillon Cleveland is a 17 y.o. male patient with no significant PMH who presents with complaints of heart pounding. This has been going on for a few months and happens once or twice a month. He cannot think of any triggers, and it has occurred both with activity and at rest. Occasionally, it is accompanied by chest pressure but not pain that is located at the center of his chest. On one instance, he experienced chest pressure, lightheadedness and shortness of breath for 10 minutes with the heart pounding. \\r\\n\\r\\nOtherwise, he has not had shortness of breath, chest pain, anxiety, \\r\\n\\r\\nMedication: adderall twice a week as study aid (not prescribed)\\r\\nFH: mother - thyroid disease, father - heart attack at age 52, both living\\r\\nSH: no smoking; 3-4 drinks on the weekend per sitting; marijuanna once recently, no other recreational drugs  \n",
       "3                                                                                                                                                                                                                                  a 17 yo m c/o palpitation started 3 mos ago; \\r\\nNOTHING IMPROVES OR EXACERBATES THE SYMPTOMS ACCORDING TO HIM; IT CAN HAPPEN ANY TIME; MAY TAKE A FEW MINUTES; LAST TIME HAPPENED 2 DAYS AGO DURING PLAYING A GAME AND IT WAS ASSOCIATED WITH RETROSTERNAL PRESSURE LIKE DISCOMFORT; AND HE FELT LIGHTHEADED. BUT HE DID NOT LOSE CONCIOUSNESS AND DID NOT FALL. \\r\\nNOT ASSOCIATED WITH NAUSEA VOMITING; HEADACHE; ABDOMINAL PAIN; CHANGES IN URINATION OR BOWEL HABITS, OR TREMOR OR SKIN OR HAIR CHANGE OR INTOLERABC\\r\\n\\r\\nPMH NONE\\r\\nPSHH: NONE\\r\\nMEDS: ADEROL TO STAY AWAKE\\r\\nHOSP: NONE\\r\\nFH: MOTHER HAS THYROID DISEASE; FATHER HAS CAD X 1 YR\\r\\nSH: NO SMOKING; DRINKING ON WEEKENDS CAGE 0/4; ONE TIME USE OF MARIJUANA\\r\\n\\r\\n\\r\\n  \n",
       "4  17yo male with no pmh here for evaluation of palpitations. States for the last 3-4mo he has felt that his heart with intermittently \"beat out of his chest,\" with some associated difficulty catching his breath. States that the most recent event was 2 days ago, and during activity at a soccer game. He does not seem to note any specific precipitatinig factors at this time. He also states that he feels as if he will faint during these events, but has not lost consciousness at any point. Furthermore, he does endorse theses attacks occuring 1-2 times a month and peak at 4 mins. He denies any stressors at home. ROS: denies weight loss, fevers, recnet illness, change in bowel habits. PMH: negative, PSH negative, FHX mom with thyroid disorder, dad with heart condition and MI at 52yo. SHX no tobacco, ETOH on weekends, Marijuana tried a month ago. Med: is taking some of roommates Adderoll intermittently (last was 2 days ago prior to event). KNDA  "
      ]
     },
     "execution_count": 112,
     "metadata": {},
     "output_type": "execute_result"
    }
   ],
   "source": [
    "patient_notes[patient_notes[\"case_num\"] == 0].head()"
   ]
  },
  {
   "cell_type": "code",
   "execution_count": 40,
   "metadata": {},
   "outputs": [
    {
     "name": "stdout",
     "output_type": "stream",
     "text": [
      "(143, 3)\n"
     ]
    },
    {
     "data": {
      "text/html": [
       "<div>\n",
       "<style scoped>\n",
       "    .dataframe tbody tr th:only-of-type {\n",
       "        vertical-align: middle;\n",
       "    }\n",
       "\n",
       "    .dataframe tbody tr th {\n",
       "        vertical-align: top;\n",
       "    }\n",
       "\n",
       "    .dataframe thead th {\n",
       "        text-align: right;\n",
       "    }\n",
       "</style>\n",
       "<table border=\"1\" class=\"dataframe\">\n",
       "  <thead>\n",
       "    <tr style=\"text-align: right;\">\n",
       "      <th></th>\n",
       "      <th>feature_num</th>\n",
       "      <th>case_num</th>\n",
       "      <th>feature_text</th>\n",
       "    </tr>\n",
       "  </thead>\n",
       "  <tbody>\n",
       "    <tr>\n",
       "      <th>0</th>\n",
       "      <td>0</td>\n",
       "      <td>0</td>\n",
       "      <td>Family-history-of-MI-OR-Family-history-of-myocardial-infarction</td>\n",
       "    </tr>\n",
       "    <tr>\n",
       "      <th>1</th>\n",
       "      <td>1</td>\n",
       "      <td>0</td>\n",
       "      <td>Family-history-of-thyroid-disorder</td>\n",
       "    </tr>\n",
       "  </tbody>\n",
       "</table>\n",
       "</div>"
      ],
      "text/plain": [
       "   feature_num  case_num  \\\n",
       "0            0         0   \n",
       "1            1         0   \n",
       "\n",
       "                                                      feature_text  \n",
       "0  Family-history-of-MI-OR-Family-history-of-myocardial-infarction  \n",
       "1                               Family-history-of-thyroid-disorder  "
      ]
     },
     "execution_count": 40,
     "metadata": {},
     "output_type": "execute_result"
    }
   ],
   "source": [
    "features = pd.read_csv(\"features.csv\")\n",
    "print(features.shape)\n",
    "features.head(2)"
   ]
  },
  {
   "cell_type": "code",
   "execution_count": 117,
   "metadata": {},
   "outputs": [
    {
     "data": {
      "text/plain": [
       "feature_num     143\n",
       "case_num        143\n",
       "feature_text    143\n",
       "dtype: int64"
      ]
     },
     "execution_count": 117,
     "metadata": {},
     "output_type": "execute_result"
    }
   ],
   "source": [
    "features.count()"
   ]
  },
  {
   "cell_type": "code",
   "execution_count": 165,
   "metadata": {},
   "outputs": [
    {
     "data": {
      "text/plain": [
       "0      1\n",
       "611    1\n",
       "605    1\n",
       "606    1\n",
       "607    1\n",
       "      ..\n",
       "305    1\n",
       "306    1\n",
       "307    1\n",
       "308    1\n",
       "916    1\n",
       "Name: feature_num, Length: 143, dtype: int64"
      ]
     },
     "execution_count": 165,
     "metadata": {},
     "output_type": "execute_result"
    }
   ],
   "source": [
    "features.feature_num.value_counts()"
   ]
  },
  {
   "cell_type": "code",
   "execution_count": 119,
   "metadata": {},
   "outputs": [
    {
     "data": {
      "text/plain": [
       "5    18\n",
       "8    18\n",
       "2    17\n",
       "9    17\n",
       "3    16\n",
       "0    13\n",
       "1    13\n",
       "6    12\n",
       "4    10\n",
       "7     9\n",
       "Name: case_num, dtype: int64"
      ]
     },
     "execution_count": 119,
     "metadata": {},
     "output_type": "execute_result"
    }
   ],
   "source": [
    "features.case_num.value_counts()"
   ]
  },
  {
   "cell_type": "code",
   "execution_count": 116,
   "metadata": {},
   "outputs": [
    {
     "data": {
      "text/html": [
       "<div>\n",
       "<style scoped>\n",
       "    .dataframe tbody tr th:only-of-type {\n",
       "        vertical-align: middle;\n",
       "    }\n",
       "\n",
       "    .dataframe tbody tr th {\n",
       "        vertical-align: top;\n",
       "    }\n",
       "\n",
       "    .dataframe thead th {\n",
       "        text-align: right;\n",
       "    }\n",
       "</style>\n",
       "<table border=\"1\" class=\"dataframe\">\n",
       "  <thead>\n",
       "    <tr style=\"text-align: right;\">\n",
       "      <th></th>\n",
       "      <th>feature_num</th>\n",
       "      <th>case_num</th>\n",
       "      <th>feature_text</th>\n",
       "    </tr>\n",
       "  </thead>\n",
       "  <tbody>\n",
       "    <tr>\n",
       "      <th>1</th>\n",
       "      <td>1</td>\n",
       "      <td>0</td>\n",
       "      <td>Family-history-of-thyroid-disorder</td>\n",
       "    </tr>\n",
       "  </tbody>\n",
       "</table>\n",
       "</div>"
      ],
      "text/plain": [
       "   feature_num  case_num                        feature_text\n",
       "1            1         0  Family-history-of-thyroid-disorder"
      ]
     },
     "execution_count": 116,
     "metadata": {},
     "output_type": "execute_result"
    }
   ],
   "source": [
    "features[(features[\"case_num\"] == 0) & (features[\"feature_num\"] == 1)]"
   ]
  },
  {
   "cell_type": "markdown",
   "metadata": {},
   "source": [
    "### Dictionary of case numbers and the phrases for which to look"
   ]
  },
  {
   "cell_type": "code",
   "execution_count": 173,
   "metadata": {},
   "outputs": [
    {
     "data": {
      "text/plain": [
       "{0: ['Family-history-of-MI-OR-Family-history-of-myocardial-infarction',\n",
       "  'Family-history-of-thyroid-disorder',\n",
       "  'Chest-pressure',\n",
       "  'Intermittent-symptoms',\n",
       "  'Lightheaded',\n",
       "  'No-hair-changes-OR-no-nail-changes-OR-no-temperature-intolerance',\n",
       "  'Adderall-use',\n",
       "  'Shortness-of-breath',\n",
       "  'Caffeine-use',\n",
       "  'heart-pounding-OR-heart-racing',\n",
       "  'Few-months-duration',\n",
       "  '17-year',\n",
       "  'Male'],\n",
       " 1: ['No-vaginal-discharge',\n",
       "  'Weight-loss',\n",
       "  'Not-sexually-active',\n",
       "  'Prior-episodes-of-diarrhea',\n",
       "  '20-year',\n",
       "  'No-bloody-bowel-movements',\n",
       "  'Recurrent-bouts-over-past-6-months',\n",
       "  'Right-sided-LQ-abdominal-pain-OR-Right-lower-quadrant-abdominal-pain',\n",
       "  'No-urinary-symptoms',\n",
       "  'Diminished-appetite',\n",
       "  'Normal-LMP-2-weeks-ago-OR-Normal-last-menstrual-period-2-weeks-ago',\n",
       "  '8-to-10-hours-of-acute-pain',\n",
       "  'Female'],\n",
       " 2: ['Prior-normal-periods',\n",
       "  'Last-Pap-smear-I-year-ago',\n",
       "  'IUD',\n",
       "  'Sexually-active',\n",
       "  'Vaginal-dryness',\n",
       "  'Irregular-menses',\n",
       "  'Recent-nausea-vomiting-OR-Recent-flulike-symptoms',\n",
       "  'No-premenstrual-symptoms',\n",
       "  'Female',\n",
       "  'Stress',\n",
       "  'LMP-2-months-ago-or-Last-menstrual-period-2-months-ago',\n",
       "  'Hot-flashes',\n",
       "  'Irregular-flow-OR-Irregular-frequency-OR-Irregular-intervals',\n",
       "  'Onset-3-years-ago',\n",
       "  'Heavy-sweating',\n",
       "  'Sleep-disturbance-OR-Early-awakenings',\n",
       "  '44-year'],\n",
       " 3: ['FHx-of-PUD-OR-Family-history-of-peptic-ulcer-disease',\n",
       "  'Epigastric-discomfort',\n",
       "  'Darker-bowel-movements',\n",
       "  'NSAID-use-OR-Nonsteroidal-anti-inflammatory-drug-use',\n",
       "  'burning-OR-gnawing-OR-burning-and-gnawing',\n",
       "  'Post-prandial-bloating-OR-fullness-with-meals',\n",
       "  'getting-worse-OR-progressive-OR-symptoms-now-daily',\n",
       "  '2-to-3-beers-a-week',\n",
       "  'Male',\n",
       "  'duration-2-months',\n",
       "  'Awakens-at-night',\n",
       "  'No-blood-in-stool',\n",
       "  'Intermittent',\n",
       "  'Minimal-to-no-change-with-Tums',\n",
       "  'Nausea',\n",
       "  '35-year'],\n",
       " 4: ['Lack-of-other-thyroid-symptoms',\n",
       "  'anxious-OR-nervous',\n",
       "  'Stress-due-to-caring-for-elderly-parents',\n",
       "  'Heavy-caffeine-use',\n",
       "  'No-depressed-mood',\n",
       "  'Weight-stable',\n",
       "  'Insomnia',\n",
       "  'Female',\n",
       "  'Decreased-appetite',\n",
       "  '45-year'],\n",
       " 5: ['Onset-5-years-ago',\n",
       "  'Female',\n",
       "  'No-caffeine-use',\n",
       "  'Associated-SOB-OR-Associated-shortness-of-breath',\n",
       "  'Episodes-of-heart-racing',\n",
       "  'Recent-visit-to-emergency-department-with-negative-workup',\n",
       "  'No-chest-pain',\n",
       "  'No-illicit-drug-use',\n",
       "  'Associated-nausea',\n",
       "  'Increased-frequency-recently',\n",
       "  'Associated-feeling-of-impending-doom',\n",
       "  'Episodes-last-15-to-30-minutes',\n",
       "  'Associated-throat-tightness',\n",
       "  'Feels-hot-OR-Feels-clammy',\n",
       "  'Episode-of-hand-numbness-OR-Episode-of-finger-numbness',\n",
       "  'Fatigue-OR-Difficulty-concentrating',\n",
       "  'Increased-stress',\n",
       "  '26-year'],\n",
       " 6: ['Subjective-fevers',\n",
       "  'Male',\n",
       "  '17-year',\n",
       "  'Recent-upper-respiratory-symptoms',\n",
       "  'Worse-with-deep-breath-OR-pleuritic',\n",
       "  'Exercise-induced-asthma',\n",
       "  'Chest-pain',\n",
       "  'Duration-x-1-day',\n",
       "  'No-shortness-of-breath',\n",
       "  'Recent-heavy-lifting-at-work-OR-recent-rock-climbing',\n",
       "  'No-relief-with-asthma-inhaler',\n",
       "  'Sharp-OR-stabbing-OR-7-to-8-out-of-10-on-pain-scale'],\n",
       " 7: ['Female',\n",
       "  'Weight-Gain',\n",
       "  'heavy-periods-OR-irregular-periods',\n",
       "  'Last-menstrual-period-2-months-ago',\n",
       "  'Unprotected-Sex',\n",
       "  'Fatigue',\n",
       "  'Infertility-HX-OR-Infertility-history',\n",
       "  '35-year',\n",
       "  'symptoms-for-6-months'],\n",
       " 8: ['Increased-appetite',\n",
       "  'Son-died-3-weeks-ago',\n",
       "  'Female',\n",
       "  'Auditory-hallucination-once',\n",
       "  'tossing-and-turning',\n",
       "  '67-year',\n",
       "  'Difficulty-falling-asleep',\n",
       "  'Hallucinations-after-taking-Ambien',\n",
       "  'duration-3-weeks',\n",
       "  'Unsuccessful-napping',\n",
       "  'Sleeping-medication-ineffective',\n",
       "  'Diminished-energy-OR-feeling-drained',\n",
       "  'loss-of-interest',\n",
       "  'Visual-hallucination-once',\n",
       "  'FHx-of-depression-OR-Family-history-of-depression',\n",
       "  'Early-wakening',\n",
       "  'No-suicidal-ideations',\n",
       "  'Difficulty-with-sleep'],\n",
       " 9: ['No-relief-with-Motrin-OR-no-relief-with-tylenol',\n",
       "  '20-year',\n",
       "  '1-day-duration-OR-2-days-duration',\n",
       "  'Myalgias',\n",
       "  'Global-headache-OR-diffuse-headache',\n",
       "  'Neck-pain',\n",
       "  'Vomiting',\n",
       "  'No-rash',\n",
       "  'Nausea',\n",
       "  'viral-symptoms-OR-rhinorrhea-OR-scratchy-throat',\n",
       "  'Shares-an-apartment',\n",
       "  'Meningococcal-vaccine-status-unknown',\n",
       "  'Family-history-of-migraines',\n",
       "  'Female',\n",
       "  'Photophobia',\n",
       "  'No-known-illness-contacts',\n",
       "  'Subjective-fever']}"
      ]
     },
     "execution_count": 173,
     "metadata": {},
     "output_type": "execute_result"
    }
   ],
   "source": [
    "case_num_feature_text = {}\n",
    "for i in range(10):\n",
    "    case_num_feature_text[i] = (features[\"feature_text\"][features[\"case_num\"] == i]).to_list()\n",
    "case_num_feature_text"
   ]
  },
  {
   "cell_type": "code",
   "execution_count": null,
   "metadata": {},
   "outputs": [],
   "source": [
    "features.feature_text.value_counts().to_dict()"
   ]
  },
  {
   "cell_type": "code",
   "execution_count": null,
   "metadata": {},
   "outputs": [],
   "source": [
    "notes_features[[\"feature_num\", \"feature_text\", \"case_num\"]][(notes_features[\"feature_num\"] == 1)]"
   ]
  },
  {
   "cell_type": "code",
   "execution_count": null,
   "metadata": {},
   "outputs": [],
   "source": [
    "notes_features = patient_notes.merge(right=features, left_on=\"case_num\", right_on=\"case_num\")#.drop(\"case_num_y\", axis=1).rename({\"case_num_x\": \"case_num\"}, axis=1)\n",
    "print(notes_features.shape)\n",
    "notes_features.head()"
   ]
  },
  {
   "cell_type": "code",
   "execution_count": null,
   "metadata": {},
   "outputs": [],
   "source": [
    "notes_features.isnull().sum()"
   ]
  },
  {
   "cell_type": "code",
   "execution_count": null,
   "metadata": {},
   "outputs": [],
   "source": [
    "notes_features[notes_features[\"case_num\"] == 0].head()"
   ]
  },
  {
   "cell_type": "code",
   "execution_count": 138,
   "metadata": {},
   "outputs": [
    {
     "data": {
      "text/plain": [
       "305    9753\n",
       "308    9753\n",
       "300    9753\n",
       "301    9753\n",
       "302    9753\n",
       "       ... \n",
       "107     808\n",
       "108     808\n",
       "112     808\n",
       "111     808\n",
       "100     808\n",
       "Name: feature_num, Length: 143, dtype: int64"
      ]
     },
     "execution_count": 138,
     "metadata": {},
     "output_type": "execute_result"
    }
   ],
   "source": [
    "notes_features[\"feature_num\"].value_counts()"
   ]
  },
  {
   "cell_type": "code",
   "execution_count": 139,
   "metadata": {},
   "outputs": [
    {
     "data": {
      "text/plain": [
       "3    156048\n",
       "5    124362\n",
       "9     87567\n",
       "8     75528\n",
       "4     54050\n",
       "7     36909\n",
       "2     33286\n",
       "0     29484\n",
       "6     19164\n",
       "1     10504\n",
       "Name: case_num, dtype: int64"
      ]
     },
     "execution_count": 139,
     "metadata": {},
     "output_type": "execute_result"
    }
   ],
   "source": [
    "notes_features[\"case_num\"].value_counts()"
   ]
  },
  {
   "cell_type": "code",
   "execution_count": 150,
   "metadata": {},
   "outputs": [
    {
     "data": {
      "text/plain": [
       "10"
      ]
     },
     "execution_count": 150,
     "metadata": {},
     "output_type": "execute_result"
    }
   ],
   "source": [
    "len(notes_features[\"case_num\"].value_counts().index)"
   ]
  },
  {
   "cell_type": "code",
   "execution_count": null,
   "metadata": {},
   "outputs": [],
   "source": [
    "feature_dict = {i: [(notes_features[\"feature_text\"][notes_features[\"case_num\"] == i]).values] for i in range(len(notes_features[\"case_num\"].value_counts().index))}\n",
    "feature_dict"
   ]
  },
  {
   "cell_type": "code",
   "execution_count": null,
   "metadata": {},
   "outputs": [],
   "source": [
    "notes_features[\"pn_history\"][notes_features[\"case_num\"] == 0][:10]"
   ]
  },
  {
   "cell_type": "code",
   "execution_count": 141,
   "metadata": {},
   "outputs": [
    {
     "data": {
      "text/plain": [
       "\"17-year-old male, has come to the student health clinic complaining of heart pounding. Mr. Cleveland's mother has given verbal consent for a history, physical examination, and treatment\\r\\n-began 2-3 months ago,sudden,intermittent for 2 days(lasting 3-4 min),worsening,non-allev/aggrav\\r\\n-associated with dispnea on exersion and rest,stressed out about school\\r\\n-reports fe feels like his heart is jumping out of his chest\\r\\n-ros:denies chest pain,dyaphoresis,wt loss,chills,fever,nausea,vomiting,pedal edeam\\r\\n-pmh:non,meds :aderol (from a friend),nkda\\r\\n-fh:father had MI recently,mother has thyroid dz\\r\\n-sh:non-smoker,mariguana 5-6 months ago,3 beers on the weekend, basketball at school\\r\\n-sh:no std\\n17-year-old male, has come to the student health clinic complaining of heart pounding. Mr. Cleveland's mother has given verbal consent for a history, physical examination, and treatment\\r\\n-began 2-3 months ago,sudden,intermittent for 2 days(lasting 3-4 min),worsening,non-allev/aggrav\\r\\n-associated with dispnea on exersion and rest,stressed out about school\\r\\n-reports fe feels like his heart is jumping out of his chest\\r\\n-ros:denies chest pain,dyaphoresis,wt loss,chills,fever,nausea,vomiting,pedal edeam\\r\\n-pmh:non,meds :aderol (from a friend),nkda\\r\\n-fh:father had MI recently,mother has thyroid dz\\r\\n-sh:non-smoker,mariguana 5-6 months ago,3 beers on the weekend, basketball at school\\r\\n-sh:no std\\n17-year-old male, has come to the student health clinic complaining of heart pounding. Mr. Cleveland's mother has given verbal consent for a history, physical examination, and treatment\\r\\n-began 2-3 months ago,sudden,intermittent for 2 days(lasting 3-4 min),worsening,non-allev/aggrav\\r\\n-associated with dispnea on exersion and rest,stressed out about school\\r\\n-reports fe feels like his heart is jumping out of his chest\\r\\n-ros:denies chest pain,dyaphoresis,wt loss,chills,fever,nausea,vomiting,pedal edeam\\r\\n-pmh:non,meds :aderol (from a friend),nkda\\r\\n-fh:father had MI\""
      ]
     },
     "execution_count": 141,
     "metadata": {},
     "output_type": "execute_result"
    }
   ],
   "source": [
    "case_num_zero = notes_features[\"pn_history\"][notes_features[\"case_num\"] == 0][:1500]\n",
    "whole_case_num_zero = \"\\n\".join(case_num_zero.to_list())\n",
    "whole_case_num_zero[:1958]"
   ]
  },
  {
   "cell_type": "markdown",
   "metadata": {},
   "source": [
    "### brents acquire"
   ]
  },
  {
   "cell_type": "code",
   "execution_count": 142,
   "metadata": {},
   "outputs": [],
   "source": [
    "import acquire"
   ]
  },
  {
   "cell_type": "markdown",
   "metadata": {},
   "source": [
    "### jareds prepare file"
   ]
  },
  {
   "cell_type": "code",
   "execution_count": 143,
   "metadata": {},
   "outputs": [
    {
     "data": {
      "text/plain": [
       "966764"
      ]
     },
     "execution_count": 143,
     "metadata": {},
     "output_type": "execute_result"
    }
   ],
   "source": [
    "import prepare_jag\n",
    "clean_note = prepare_jag.basic_clean3(whole_case_num_zero)\n",
    "clean_note = prepare_jag.remove_stopwords(clean_note, exclude_words=[\"no\"])\n",
    "len(clean_note)"
   ]
  },
  {
   "cell_type": "markdown",
   "metadata": {},
   "source": [
    "### Using spacy"
   ]
  },
  {
   "cell_type": "code",
   "execution_count": 2,
   "metadata": {},
   "outputs": [
    {
     "ename": "NameError",
     "evalue": "name 'spacy' is not defined",
     "output_type": "error",
     "traceback": [
      "\u001b[0;31m---------------------------------------------------------------------------\u001b[0m",
      "\u001b[0;31mNameError\u001b[0m                                 Traceback (most recent call last)",
      "\u001b[0;32m/var/folders/yy/q6jwg969557_l99pjxsqc6vm0000gn/T/ipykernel_38694/3378604543.py\u001b[0m in \u001b[0;36m<module>\u001b[0;34m\u001b[0m\n\u001b[0;32m----> 1\u001b[0;31m \u001b[0mnlp\u001b[0m \u001b[0;34m=\u001b[0m \u001b[0mspacy\u001b[0m\u001b[0;34m.\u001b[0m\u001b[0mload\u001b[0m\u001b[0;34m(\u001b[0m\u001b[0;34m\"en_core_web_lg\"\u001b[0m\u001b[0;34m)\u001b[0m\u001b[0;34m\u001b[0m\u001b[0;34m\u001b[0m\u001b[0m\n\u001b[0m\u001b[1;32m      2\u001b[0m \u001b[0mdoc\u001b[0m \u001b[0;34m=\u001b[0m \u001b[0mnlp\u001b[0m\u001b[0;34m(\u001b[0m\u001b[0mclean_note\u001b[0m\u001b[0;34m)\u001b[0m\u001b[0;34m\u001b[0m\u001b[0;34m\u001b[0m\u001b[0m\n",
      "\u001b[0;31mNameError\u001b[0m: name 'spacy' is not defined"
     ]
    }
   ],
   "source": [
    "nlp = spacy.load(\"en_core_web_lg\")\n",
    "doc = nlp(clean_note)"
   ]
  },
  {
   "cell_type": "code",
   "execution_count": 82,
   "metadata": {},
   "outputs": [
    {
     "name": "stdout",
     "output_type": "stream",
     "text": [
      "158876\n"
     ]
    },
    {
     "data": {
      "text/plain": [
       "17-year-old male come student health clinic complaining heart pounding mr cleveland's mother given verbal consent history physical examination treatment -began 2-3 months ago sudden intermittent 2 days lasting 3-4 min worsening non-allev/aggrav -associated dispnea exersion rest stressed school -reports fe feels like heart jumping chest -ros denies chest pain dyaphoresis wt loss chills fever nausea vomiting pedal edeam -pmh non meds aderol friend nkda -fh father mi recently mother thyroid dz -sh non-smoker mariguana 5-6 months ago 3 beers weekend basketball school -sh no std 17 yo male recurrent palpitations past 3 mo lasting 3 - 4 min happened 5 - 6 times since beginning one time durign baskeball game two days ago light headedness pressure chest catching breath no fainting teh episodes no sweating no diarrhea no heat intolerance no weight loss tried aterol able better concentrate received roommate dillon cleveland 17 male patient no significant pmh presents complaints heart pounding going months happens twice month cannot think triggers occurred activity rest occasionally accompanied chest pressure pain located center chest one instance experienced chest pressure lightheadedness shortness breath 10 minutes heart"
      ]
     },
     "execution_count": 82,
     "metadata": {},
     "output_type": "execute_result"
    }
   ],
   "source": [
    "print(len(doc))\n",
    "doc[:200]"
   ]
  },
  {
   "cell_type": "markdown",
   "metadata": {},
   "source": [
    "### This might be the way to go to find locations"
   ]
  },
  {
   "cell_type": "code",
   "execution_count": 83,
   "metadata": {},
   "outputs": [
    {
     "name": "stdout",
     "output_type": "stream",
     "text": [
      "male O  NOUN\n",
      "come O  VERB\n",
      "student O  NOUN\n",
      "health O  NOUN\n",
      "clinic O  NOUN\n",
      "complaining O  VERB\n",
      "heart O  NOUN\n",
      "pounding O  VERB\n",
      "mr O  PROPN\n",
      "cleveland B GPE PROPN\n",
      "'s O  PART\n",
      "mother O  NOUN\n",
      "given O  VERB\n",
      "verbal O  ADJ\n",
      "consent O  NOUN\n",
      "history O  NOUN\n",
      "physical O  ADJ\n",
      "examination O  NOUN\n",
      "treatment O  NOUN\n",
      "sudden O  ADJ\n",
      "intermittent O  ADJ\n",
      "lasting O  VERB\n",
      "worsening O  VERB\n",
      "non O  ADJ\n",
      "- O  ADJ\n",
      "allev O  ADJ\n",
      "aggrav O  PROPN\n",
      "-associated O  VERB\n",
      "dispnea O  PROPN\n",
      "exersion O  NOUN\n",
      "rest O  NOUN\n",
      "stressed O  VERB\n",
      "school O  NOUN\n",
      "-reports O  NOUN\n",
      "fe O  PROPN\n",
      "feels O  VERB\n",
      "like O  ADP\n",
      "heart O  NOUN\n",
      "jumping O  VERB\n",
      "chest O  NOUN\n",
      "-ros O  PROPN\n",
      "denies O  VERB\n",
      "chest O  NOUN\n",
      "pain O  NOUN\n",
      "dyaphoresis O  NOUN\n",
      "wt O  NOUN\n",
      "loss O  NOUN\n",
      "chills O  NOUN\n",
      "fever O  NOUN\n",
      "nausea O  NOUN\n",
      "vomiting O  NOUN\n",
      "pedal O  NOUN\n",
      "edeam O  NOUN\n",
      "-pmh O  ADJ\n",
      "non O  ADJ\n",
      "meds O  NOUN\n",
      "aderol O  VERB\n",
      "friend O  PROPN\n",
      "nkda O  NOUN\n",
      "father O  PROPN\n",
      "mi B PERSON PROPN\n",
      "recently O  ADV\n",
      "mother O  NOUN\n",
      "thyroid O  PROPN\n",
      "dz O  PROPN\n",
      "non O  ADJ\n",
      "- O  ADJ\n",
      "smoker O  ADJ\n",
      "mariguana O  NOUN\n",
      "beers O  NOUN\n",
      "weekend O  NOUN\n",
      "basketball O  NOUN\n",
      "school O  NOUN\n",
      "no O  DET\n",
      "std O  NOUN\n",
      "yo O  NOUN\n",
      "male O  ADJ\n",
      "recurrent O  ADJ\n",
      "palpitations O  NOUN\n",
      "past O  ADP\n",
      "mo O  NOUN\n",
      "lasting O  VERB\n",
      "happened O  VERB\n",
      "times O  NOUN\n",
      "since O  SCONJ\n",
      "beginning O  VERB\n",
      "time O  NOUN\n",
      "durign O  VERB\n",
      "baskeball O  NOUN\n",
      "game O  NOUN\n",
      "light O  ADJ\n",
      "headedness O  NOUN\n",
      "pressure O  NOUN\n",
      "chest O  NOUN\n",
      "catching O  VERB\n",
      "breath O  NOUN\n",
      "no O  DET\n",
      "fainting O  NOUN\n",
      "teh O  NOUN\n",
      "episodes O  NOUN\n",
      "no O  DET\n",
      "sweating O  NOUN\n",
      "no O  DET\n",
      "diarrhea O  NOUN\n",
      "no O  DET\n",
      "heat O  NOUN\n",
      "intolerance O  NOUN\n",
      "no O  DET\n",
      "weight O  NOUN\n",
      "loss O  NOUN\n",
      "tried O  VERB\n",
      "aterol O  PROPN\n",
      "able O  ADJ\n",
      "better O  ADV\n",
      "concentrate O  VERB\n",
      "received O  VERB\n",
      "roommate O  NOUN\n",
      "dillon B PERSON PROPN\n",
      "cleveland I PERSON PROPN\n",
      "male O  ADJ\n",
      "patient O  NOUN\n",
      "no O  DET\n",
      "significant O  ADJ\n",
      "pmh O  NOUN\n",
      "presents O  VERB\n",
      "complaints O  NOUN\n",
      "heart O  NOUN\n",
      "pounding O  VERB\n",
      "happens O  VERB\n",
      "can O  AUX\n",
      "not O  PART\n",
      "think O  VERB\n",
      "triggers O  NOUN\n",
      "occurred O  VERB\n",
      "activity O  NOUN\n",
      "rest O  NOUN\n",
      "occasionally O  ADV\n",
      "accompanied O  VERB\n",
      "chest O  NOUN\n",
      "pressure O  NOUN\n",
      "pain O  NOUN\n",
      "located O  VERB\n",
      "center O  NOUN\n",
      "chest O  NOUN\n",
      "instance O  NOUN\n",
      "experienced O  VERB\n",
      "chest O  NOUN\n",
      "pressure O  NOUN\n",
      "lightheadedness O  NOUN\n",
      "shortness O  NOUN\n",
      "breath O  PROPN\n",
      "heart O  NOUN\n"
     ]
    }
   ],
   "source": [
    "for token in doc[:200]:\n",
    "    if token.pos_ not in [\"NUM\", \"PUNCT\", \"SYM\"] and token.ent_type_ not in [\"DATE\", \"TIME\"]:\n",
    "        print(token.text, token.ent_iob_, token.ent_type_, token.pos_)"
   ]
  },
  {
   "cell_type": "code",
   "execution_count": 1,
   "metadata": {},
   "outputs": [
    {
     "ename": "NameError",
     "evalue": "name 'doc' is not defined",
     "output_type": "error",
     "traceback": [
      "\u001b[0;31m---------------------------------------------------------------------------\u001b[0m",
      "\u001b[0;31mNameError\u001b[0m                                 Traceback (most recent call last)",
      "\u001b[0;32m/var/folders/yy/q6jwg969557_l99pjxsqc6vm0000gn/T/ipykernel_38694/3123333694.py\u001b[0m in \u001b[0;36m<module>\u001b[0;34m\u001b[0m\n\u001b[0;32m----> 1\u001b[0;31m \u001b[0;32mfor\u001b[0m \u001b[0mtoken\u001b[0m \u001b[0;32min\u001b[0m \u001b[0mdoc\u001b[0m\u001b[0;34m[\u001b[0m\u001b[0;34m:\u001b[0m\u001b[0;36m100\u001b[0m\u001b[0;34m]\u001b[0m\u001b[0;34m.\u001b[0m\u001b[0mnoun_chunks\u001b[0m\u001b[0;34m:\u001b[0m\u001b[0;34m\u001b[0m\u001b[0;34m\u001b[0m\u001b[0m\n\u001b[0m\u001b[1;32m      2\u001b[0m     \u001b[0mprint\u001b[0m\u001b[0;34m(\u001b[0m\u001b[0mtoken\u001b[0m\u001b[0;34m)\u001b[0m\u001b[0;34m\u001b[0m\u001b[0;34m\u001b[0m\u001b[0m\n\u001b[1;32m      3\u001b[0m     \u001b[0mprint\u001b[0m\u001b[0;34m(\u001b[0m\u001b[0;34m{\u001b[0m\u001b[0mtok\u001b[0m\u001b[0;34m.\u001b[0m\u001b[0mtext\u001b[0m\u001b[0;34m:\u001b[0m \u001b[0mtok\u001b[0m\u001b[0;34m.\u001b[0m\u001b[0mpos_\u001b[0m \u001b[0;32mfor\u001b[0m \u001b[0mtok\u001b[0m \u001b[0;32min\u001b[0m \u001b[0mtoken\u001b[0m \u001b[0;32mif\u001b[0m \u001b[0mtok\u001b[0m\u001b[0;34m.\u001b[0m\u001b[0mpos_\u001b[0m \u001b[0;32mnot\u001b[0m \u001b[0;32min\u001b[0m \u001b[0;34m[\u001b[0m\u001b[0;34m\"NUM\"\u001b[0m\u001b[0;34m,\u001b[0m \u001b[0;34m\"PUNCT\"\u001b[0m\u001b[0;34m,\u001b[0m \u001b[0;34m\"SYM\"\u001b[0m\u001b[0;34m,\u001b[0m \u001b[0;34m\"DATE\"\u001b[0m\u001b[0;34m]\u001b[0m\u001b[0;34m}\u001b[0m\u001b[0;34m)\u001b[0m\u001b[0;34m\u001b[0m\u001b[0;34m\u001b[0m\u001b[0m\n",
      "\u001b[0;31mNameError\u001b[0m: name 'doc' is not defined"
     ]
    }
   ],
   "source": [
    "for token in doc[:100].noun_chunks:\n",
    "    print(token)\n",
    "    print({tok.text: tok.pos_ for tok in token if tok.pos_ not in [\"NUM\", \"PUNCT\", \"SYM\", \"DATE\"]})"
   ]
  },
  {
   "cell_type": "code",
   "execution_count": null,
   "metadata": {},
   "outputs": [],
   "source": [
    "# colors = {\"Annotation\" :\"linear-gradient(to right, #2980b9, #6dd5fa, #ffffff);\" } \n",
    "# options = {\"colors\": colors}\n",
    "#spacy.displacy.render(doc, style='ent', options=options , manual=True, jupyter=True);\n",
    "spacy.displacy.render(doc, style='ent', jupyter=True);"
   ]
  },
  {
   "cell_type": "code",
   "execution_count": null,
   "metadata": {},
   "outputs": [],
   "source": [
    "# for ent in doc[:10000].ents:\n",
    "#     print(f\"text: {ent.text}, start_char: {ent.start_char}, end_char: {ent.end_char}, label_: {ent.label_}, start: {ent.start}, ent_id: {ent.ent_id_}, label: {ent.label}, vector_norm: {ent.vector_norm}\")"
   ]
  },
  {
   "cell_type": "code",
   "execution_count": null,
   "metadata": {},
   "outputs": [],
   "source": [
    "# for text, labels in data:\n",
    "#         doc=[]\n",
    "#         #print(text)\n",
    "#         doc = nlp(text)\n",
    "    \n",
    "#         ents = []\n",
    "#         labels[\"entities\"]=sorted(labels[\"entities\"])\n",
    "#         for start, end, label in labels[\"entities\"]:\n",
    "#             print(start,end,label)\n",
    "#             ents.append(doc.char_span(start, end, label))\n",
    "        \n",
    "#         print(ents)"
   ]
  },
  {
   "cell_type": "code",
   "execution_count": null,
   "metadata": {},
   "outputs": [],
   "source": []
  }
 ],
 "metadata": {
  "interpreter": {
   "hash": "ee3717197db56dab91ad083a26bef10706ce761f0ab8e349ac843a6f8d1f4192"
  },
  "kernelspec": {
   "display_name": "Python 3.7.11 ('tf')",
   "language": "python",
   "name": "python3"
  },
  "language_info": {
   "codemirror_mode": {
    "name": "ipython",
    "version": 3
   },
   "file_extension": ".py",
   "mimetype": "text/x-python",
   "name": "python",
   "nbconvert_exporter": "python",
   "pygments_lexer": "ipython3",
   "version": "3.7.11"
  },
  "orig_nbformat": 4
 },
 "nbformat": 4,
 "nbformat_minor": 2
}
