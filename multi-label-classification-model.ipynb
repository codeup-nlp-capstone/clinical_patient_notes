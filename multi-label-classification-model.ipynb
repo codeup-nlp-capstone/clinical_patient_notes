{
 "cells": [
  {
   "cell_type": "code",
   "execution_count": 1,
   "id": "7cf25339",
   "metadata": {},
   "outputs": [],
   "source": [
    "import matplotlib.pyplot as plt\n",
    "import seaborn as sns\n",
    "import pandas as pd\n",
    "import json\n",
    "import numpy as np\n",
    "from acquire import remove_stopwords, basic_clean, tokenize , prep_and_split_data\n",
    "from prepare_jag import prep_train, basic_clean3\n",
    "import re\n",
    "import os\n",
    "from re import search\n",
    "import tensorflow as tf\n",
    "from sklearn.model_selection import train_test_split\n",
    "from tensorflow.keras import layers\n",
    "from tensorflow import keras\n",
    "\n",
    "from nltk.corpus import stopwords\n",
    "import nltk\n",
    "\n",
    "import random\n",
    "random.seed(333)"
   ]
  },
  {
   "cell_type": "code",
   "execution_count": 2,
   "id": "2e953a50",
   "metadata": {},
   "outputs": [
    {
     "name": "stdout",
     "output_type": "stream",
     "text": [
      "Number of rows in training set: 37931\n",
      "Number of rows in validation set: 2108\n",
      "Number of rows in test set: 2107\n"
     ]
    },
    {
     "name": "stderr",
     "output_type": "stream",
     "text": [
      "/usr/local/anaconda3/lib/python3.8/site-packages/pandas/core/frame.py:4308: SettingWithCopyWarning: \n",
      "A value is trying to be set on a copy of a slice from a DataFrame\n",
      "\n",
      "See the caveats in the documentation: https://pandas.pydata.org/pandas-docs/stable/user_guide/indexing.html#returning-a-view-versus-a-copy\n",
      "  return super().drop(\n"
     ]
    }
   ],
   "source": [
    "train_df, val_df, test_df = prep_and_split_data()"
   ]
  },
  {
   "cell_type": "code",
   "execution_count": 3,
   "id": "c568cee3",
   "metadata": {},
   "outputs": [
    {
     "data": {
      "text/html": [
       "<div>\n",
       "<style scoped>\n",
       "    .dataframe tbody tr th:only-of-type {\n",
       "        vertical-align: middle;\n",
       "    }\n",
       "\n",
       "    .dataframe tbody tr th {\n",
       "        vertical-align: top;\n",
       "    }\n",
       "\n",
       "    .dataframe thead th {\n",
       "        text-align: right;\n",
       "    }\n",
       "</style>\n",
       "<table border=\"1\" class=\"dataframe\">\n",
       "  <thead>\n",
       "    <tr style=\"text-align: right;\">\n",
       "      <th></th>\n",
       "      <th>case</th>\n",
       "      <th>student_notes</th>\n",
       "      <th>clean</th>\n",
       "      <th>targets</th>\n",
       "    </tr>\n",
       "  </thead>\n",
       "  <tbody>\n",
       "    <tr>\n",
       "      <th>28846</th>\n",
       "      <td>7</td>\n",
       "      <td>35yo female presents with complaint of heavier...</td>\n",
       "      <td>35yo female presents complaint heavier period ...</td>\n",
       "      <td>[female, weight gain, heavy periods or irregul...</td>\n",
       "    </tr>\n",
       "    <tr>\n",
       "      <th>25230</th>\n",
       "      <td>5</td>\n",
       "      <td>Patient is a 26 yo F with no PMH who presents ...</td>\n",
       "      <td>patient 26 yo f no pmh presents follow visitin...</td>\n",
       "      <td>[onset 5 years ago, female, no caffeine use, a...</td>\n",
       "    </tr>\n",
       "    <tr>\n",
       "      <th>567</th>\n",
       "      <td>0</td>\n",
       "      <td>This is a 17 yo M presenting with 3 mo of hear...</td>\n",
       "      <td>17 yo presenting 3 mo heart pounding episodes ...</td>\n",
       "      <td>[family history of mi or family history of myo...</td>\n",
       "    </tr>\n",
       "    <tr>\n",
       "      <th>7527</th>\n",
       "      <td>3</td>\n",
       "      <td>Mr. Hamilton is a 35 year old male here with s...</td>\n",
       "      <td>mr hamilton 35 year old male stomach issues be...</td>\n",
       "      <td>[fhx of pud or family history of peptic ulcer ...</td>\n",
       "    </tr>\n",
       "    <tr>\n",
       "      <th>22673</th>\n",
       "      <td>5</td>\n",
       "      <td>Pt is a 26 year old woman with a 5 year histor...</td>\n",
       "      <td>pt 26 year old woman 5 year history palpations...</td>\n",
       "      <td>[onset 5 years ago, female, no caffeine use, a...</td>\n",
       "    </tr>\n",
       "    <tr>\n",
       "      <th>...</th>\n",
       "      <td>...</td>\n",
       "      <td>...</td>\n",
       "      <td>...</td>\n",
       "      <td>...</td>\n",
       "    </tr>\n",
       "    <tr>\n",
       "      <th>14864</th>\n",
       "      <td>4</td>\n",
       "      <td>45 Y/O F C/O NERVOUSNESS X FEW WEEKS STARTED S...</td>\n",
       "      <td>45 f c nervousness x weeks started suddenly sw...</td>\n",
       "      <td>[lack of other thyroid symptoms, anxious or ne...</td>\n",
       "    </tr>\n",
       "    <tr>\n",
       "      <th>28479</th>\n",
       "      <td>6</td>\n",
       "      <td>Kane Smith is a 17 yo male with a 1 day histor...</td>\n",
       "      <td>kane smith 17 yo male 1 day history sharp ches...</td>\n",
       "      <td>[subjective fevers, male, 17 year, recent uppe...</td>\n",
       "    </tr>\n",
       "    <tr>\n",
       "      <th>3293</th>\n",
       "      <td>2</td>\n",
       "      <td>Pt is a 44 F p/w CC of irregular periods\\r\\nSt...</td>\n",
       "      <td>pt 44 f p w cc irregular periods states last 3...</td>\n",
       "      <td>[prior normal periods, last pap smear i year a...</td>\n",
       "    </tr>\n",
       "    <tr>\n",
       "      <th>13993</th>\n",
       "      <td>3</td>\n",
       "      <td>35 yo male comes to clinic with a cc of a 2 mo...</td>\n",
       "      <td>35 yo male comes clinic cc 2 month hisotry gna...</td>\n",
       "      <td>[fhx of pud or family history of peptic ulcer ...</td>\n",
       "    </tr>\n",
       "    <tr>\n",
       "      <th>22432</th>\n",
       "      <td>5</td>\n",
       "      <td>Ms. Whelen is a 26 y/o F with a 5 year hx of i...</td>\n",
       "      <td>ms whelen 26 f 5 year hx intermittent palpitat...</td>\n",
       "      <td>[onset 5 years ago, female, no caffeine use, a...</td>\n",
       "    </tr>\n",
       "  </tbody>\n",
       "</table>\n",
       "<p>37931 rows × 4 columns</p>\n",
       "</div>"
      ],
      "text/plain": [
       "       case                                      student_notes  \\\n",
       "28846     7  35yo female presents with complaint of heavier...   \n",
       "25230     5  Patient is a 26 yo F with no PMH who presents ...   \n",
       "567       0  This is a 17 yo M presenting with 3 mo of hear...   \n",
       "7527      3  Mr. Hamilton is a 35 year old male here with s...   \n",
       "22673     5  Pt is a 26 year old woman with a 5 year histor...   \n",
       "...     ...                                                ...   \n",
       "14864     4  45 Y/O F C/O NERVOUSNESS X FEW WEEKS STARTED S...   \n",
       "28479     6  Kane Smith is a 17 yo male with a 1 day histor...   \n",
       "3293      2  Pt is a 44 F p/w CC of irregular periods\\r\\nSt...   \n",
       "13993     3  35 yo male comes to clinic with a cc of a 2 mo...   \n",
       "22432     5  Ms. Whelen is a 26 y/o F with a 5 year hx of i...   \n",
       "\n",
       "                                                   clean  \\\n",
       "28846  35yo female presents complaint heavier period ...   \n",
       "25230  patient 26 yo f no pmh presents follow visitin...   \n",
       "567    17 yo presenting 3 mo heart pounding episodes ...   \n",
       "7527   mr hamilton 35 year old male stomach issues be...   \n",
       "22673  pt 26 year old woman 5 year history palpations...   \n",
       "...                                                  ...   \n",
       "14864  45 f c nervousness x weeks started suddenly sw...   \n",
       "28479  kane smith 17 yo male 1 day history sharp ches...   \n",
       "3293   pt 44 f p w cc irregular periods states last 3...   \n",
       "13993  35 yo male comes clinic cc 2 month hisotry gna...   \n",
       "22432  ms whelen 26 f 5 year hx intermittent palpitat...   \n",
       "\n",
       "                                                 targets  \n",
       "28846  [female, weight gain, heavy periods or irregul...  \n",
       "25230  [onset 5 years ago, female, no caffeine use, a...  \n",
       "567    [family history of mi or family history of myo...  \n",
       "7527   [fhx of pud or family history of peptic ulcer ...  \n",
       "22673  [onset 5 years ago, female, no caffeine use, a...  \n",
       "...                                                  ...  \n",
       "14864  [lack of other thyroid symptoms, anxious or ne...  \n",
       "28479  [subjective fevers, male, 17 year, recent uppe...  \n",
       "3293   [prior normal periods, last pap smear i year a...  \n",
       "13993  [fhx of pud or family history of peptic ulcer ...  \n",
       "22432  [onset 5 years ago, female, no caffeine use, a...  \n",
       "\n",
       "[37931 rows x 4 columns]"
      ]
     },
     "execution_count": 3,
     "metadata": {},
     "output_type": "execute_result"
    }
   ],
   "source": [
    "train_df"
   ]
  },
  {
   "cell_type": "markdown",
   "id": "8d177ae2",
   "metadata": {},
   "source": [
    "## Multi-label binarization\n",
    "Let's preprocess our labels using the [StringLookup](https://keras.io/api/layers/preprocessing_layers/categorical/string_lookup) layer."
   ]
  },
  {
   "cell_type": "code",
   "execution_count": 4,
   "id": "fd24a52c",
   "metadata": {},
   "outputs": [
    {
     "name": "stderr",
     "output_type": "stream",
     "text": [
      "2022-03-04 22:31:06.499899: I tensorflow/core/platform/cpu_feature_guard.cc:151] This TensorFlow binary is optimized with oneAPI Deep Neural Network Library (oneDNN) to use the following CPU instructions in performance-critical operations:  AVX2 FMA\n",
      "To enable them in other operations, rebuild TensorFlow with the appropriate compiler flags.\n"
     ]
    }
   ],
   "source": [
    "features = tf.ragged.constant(train_df['targets'].values)\n",
    "lookup = tf.keras.layers.StringLookup(output_mode='multi_hot')\n",
    "lookup.adapt(features)\n",
    "vocab = lookup.get_vocabulary()"
   ]
  },
  {
   "cell_type": "code",
   "execution_count": 5,
   "id": "1951acbc",
   "metadata": {},
   "outputs": [
    {
     "name": "stdout",
     "output_type": "stream",
     "text": [
      "Vocabulary:\n",
      "\n",
      "['[UNK]', 'female', 'nausea', '35 year', 'male', 'post prandial bloating or fullness with meals', 'nsaid use or nonsteroidal anti inflammatory drug use', 'no blood in stool', 'minimal to no change with tums', 'intermittent', 'getting worse or progressive or symptoms now daily', 'fhx of pud or family history of peptic ulcer disease', 'epigastric discomfort', 'duration 2 months', 'darker bowel movements', 'burning or gnawing or burning and gnawing', 'awakens at night', '2 to 3 beers a week', 'recent visit to emergency department with negative workup', 'onset 5 years ago', 'no illicit drug use', 'no chest pain', 'no caffeine use', 'increased stress', 'increased frequency recently', 'feels hot or feels clammy', 'fatigue or difficulty concentrating', 'episodes of heart racing', 'episodes last 15 to 30 minutes', 'episode of hand numbness or episode of finger numbness', 'associated throat tightness', 'associated sob or associated shortness of breath', 'associated nausea', 'associated feeling of impending doom', '26 year', '20 year', 'weight stable', 'stress due to caring for elderly parents', 'no depressed mood', 'lack of other thyroid symptoms', 'insomnia', 'heavy caffeine use', 'decreased appetite', 'anxious or nervous', '45 year', 'vomiting', 'viral symptoms or rhinorrhea or scratchy throat', 'subjective fever', 'shares an apartment', 'photophobia', 'no relief with motrin or no relief with tylenol', 'no rash', 'no known illness contacts', 'neck pain', 'myalgias', 'meningococcal vaccine status unknown', 'global headache or diffuse headache', 'family history of migraines', '1 day duration or 2 days duration', 'visual hallucination once', 'unsuccessful napping', 'tossing and turning', 'son died 3 weeks ago', 'sleeping medication ineffective', 'no suicidal ideations', 'loss of interest', 'increased appetite', 'hallucinations after taking ambien', 'fhx of depression or family history of depression', 'early wakening', 'duration 3 weeks', 'diminished energy or feeling drained', 'difficulty with sleep', 'difficulty falling asleep', 'auditory hallucination once', '67 year', 'weight gain', 'unprotected sex', 'symptoms for 6 months', 'last menstrual period 2 months ago', 'infertility hx or infertility history', 'heavy periods or irregular periods', 'fatigue', '17 year', 'shortness of breath', 'no hair changes or no nail changes or no temperature intolerance', 'lightheaded', 'intermittent symptoms', 'heart pounding or heart racing', 'few months duration', 'family history of thyroid disorder', 'family history of mi or family history of myocardial infarction', 'chest pressure', 'caffeine use', 'adderall use', 'vaginal dryness', 'stress', 'sleep disturbance or early awakenings', 'sexually active', 'recent nausea vomiting or recent flulike symptoms', 'prior normal periods', 'onset 3 years ago', 'no premenstrual symptoms', 'lmp 2 months ago or last menstrual period 2 months ago', 'last pap smear i year ago', 'iud', 'irregular menses', 'irregular flow or irregular frequency or irregular intervals', 'hot flashes', 'heavy sweating', '44 year', 'worse with deep breath or pleuritic', 'subjective fevers', 'sharp or stabbing or 7 to 8 out of 10 on pain scale', 'recent upper respiratory symptoms', 'recent heavy lifting at work or recent rock climbing', 'no shortness of breath', 'no relief with asthma inhaler', 'exercise induced asthma', 'duration x 1 day', 'chest pain', 'weight loss', 'right sided lq abdominal pain or right lower quadrant abdominal pain', 'recurrent bouts over past 6 months', 'prior episodes of diarrhea', 'not sexually active', 'normal lmp 2 weeks ago or normal last menstrual period 2 weeks ago', 'no vaginal discharge', 'no urinary symptoms', 'no bloody bowel movements', 'diminished appetite', '8 to 10 hours of acute pain']\n"
     ]
    }
   ],
   "source": [
    "def invert_multi_hot(encoded_labels):\n",
    "    '''Reverse a single multi-hot encoded label to a tuple of vocab terms.'''\n",
    "    hot_indices = np.argwhere(encoded_labels == 1.0)[...,0]\n",
    "    return np.take(vocab, hot_indices)\n",
    "\n",
    "print('Vocabulary:\\n')\n",
    "print(vocab)"
   ]
  },
  {
   "cell_type": "markdown",
   "id": "47645f85",
   "metadata": {},
   "source": [
    "### Separate the individual targets from the label pool and then use it to represent a given label set with 0's and 1's"
   ]
  },
  {
   "cell_type": "code",
   "execution_count": 6,
   "id": "6b4af335",
   "metadata": {},
   "outputs": [
    {
     "name": "stdout",
     "output_type": "stream",
     "text": [
      "Original label: ['female', 'weight gain', 'heavy periods or irregular periods', 'last menstrual period 2 months ago', 'unprotected sex', 'fatigue', 'infertility hx or infertility history', '35 year', 'symptoms for 6 months']\n",
      "Label-binarized representation: [[0. 1. 0. 1. 0. 0. 0. 0. 0. 0. 0. 0. 0. 0. 0. 0. 0. 0. 0. 0. 0. 0. 0. 0.\n",
      "  0. 0. 0. 0. 0. 0. 0. 0. 0. 0. 0. 0. 0. 0. 0. 0. 0. 0. 0. 0. 0. 0. 0. 0.\n",
      "  0. 0. 0. 0. 0. 0. 0. 0. 0. 0. 0. 0. 0. 0. 0. 0. 0. 0. 0. 0. 0. 0. 0. 0.\n",
      "  0. 0. 0. 0. 1. 1. 1. 1. 1. 1. 1. 0. 0. 0. 0. 0. 0. 0. 0. 0. 0. 0. 0. 0.\n",
      "  0. 0. 0. 0. 0. 0. 0. 0. 0. 0. 0. 0. 0. 0. 0. 0. 0. 0. 0. 0. 0. 0. 0. 0.\n",
      "  0. 0. 0. 0. 0. 0. 0. 0. 0. 0. 0. 0.]]\n"
     ]
    }
   ],
   "source": [
    "sample_label = train_df['targets'].iloc[0]\n",
    "print(f'Original label: {sample_label}')\n",
    "\n",
    "label_binarized = lookup([sample_label])\n",
    "print(f'Label-binarized representation: {label_binarized}')"
   ]
  },
  {
   "cell_type": "markdown",
   "id": "de1776c2",
   "metadata": {},
   "source": [
    "## Data preprocessing and [tf.data.Dataset](https://www.tensorflow.org/api_docs/python/tf/data/Dataset) objects"
   ]
  },
  {
   "cell_type": "code",
   "execution_count": 7,
   "id": "48b7086c",
   "metadata": {},
   "outputs": [
    {
     "data": {
      "text/plain": [
       "count    37931.000000\n",
       "mean        97.749941\n",
       "std         16.350154\n",
       "min          7.000000\n",
       "25%         88.000000\n",
       "50%        100.000000\n",
       "75%        109.000000\n",
       "max        150.000000\n",
       "Name: clean, dtype: float64"
      ]
     },
     "execution_count": 7,
     "metadata": {},
     "output_type": "execute_result"
    }
   ],
   "source": [
    "train_df['clean'].apply(lambda x: len(x.split(\" \"))).describe()"
   ]
  },
  {
   "cell_type": "code",
   "execution_count": 8,
   "id": "44dac1bb",
   "metadata": {},
   "outputs": [],
   "source": [
    "max_seqlen = 98\n",
    "batch_size = 128\n",
    "padding_token = '<pad>'\n",
    "auto = tf.data.AUTOTUNE\n",
    "\n",
    "def make_dataset(dataframe, is_train=True):\n",
    "    labels = tf.ragged.constant(dataframe['targets'].values)\n",
    "    label_binarized = lookup(labels).numpy()\n",
    "    dataset = tf.data.Dataset.from_tensor_slices(\n",
    "        (dataframe['clean'].values, label_binarized)\n",
    "    )\n",
    "    dataset = dataset.shuffle(batch_size * 10) if is_train else dataset\n",
    "    return dataset.batch(batch_size)"
   ]
  },
  {
   "cell_type": "markdown",
   "id": "76a09421",
   "metadata": {},
   "source": [
    "## Prepare the [tf.data.Dataset](https://www.tensorflow.org/api_docs/python/tf/data/Dataset) objects."
   ]
  },
  {
   "cell_type": "code",
   "execution_count": 9,
   "id": "73f47c8f",
   "metadata": {},
   "outputs": [],
   "source": [
    "train_dataset = make_dataset(train_df, is_train=True)\n",
    "validation_dataset = make_dataset(val_df, is_train=False)\n",
    "test_dataset = make_dataset(test_df, is_train=False)"
   ]
  },
  {
   "cell_type": "markdown",
   "id": "0e592805",
   "metadata": {},
   "source": [
    "## Preview the dataset"
   ]
  },
  {
   "cell_type": "code",
   "execution_count": 10,
   "id": "42d92419",
   "metadata": {},
   "outputs": [
    {
     "name": "stdout",
     "output_type": "stream",
     "text": [
      "Student note: b'45 female presents episodes nervousness feels like much plate taking care work children mother started weeks ago getting worse no major life events professor english literatture affected sleep appetite decreased sexual desire also less usual feel sad kept concentraction interest no effect psychomotor skills no suicide ideations no known history psychiatric disorder no chest pain no palpitations no domestic abuse no allergies no medication fh father died 65'\n",
      "Targets: ['female' 'weight stable' 'stress due to caring for elderly parents'\n",
      " 'no depressed mood' 'lack of other thyroid symptoms' 'insomnia'\n",
      " 'heavy caffeine use' 'decreased appetite' 'anxious or nervous' '45 year']\n",
      " \n",
      "Student note: b'35 year old male presneted clinic epigastric pain past 2 months burning nature no radiating nothing makes worse intermitant occurs lasts 1 2 hours took tams relief pain pain progressed thru past 2 weeks occured 2 3 times nauea no vimiting color stool became dark also period no change bowel habits taking motren past 8 9 years back pain msoker 1 2 1 ppd since 15 years old father bleeding ulcer ros fatigue started perido abdominal apin pmh back pain psh none medications motren tams allergies none sh smoker sicen 15 years age 1 2 1 ppd drink alcohl works high elevation construction fh father ulcer disease'\n",
      "Targets: ['nausea' '35 year' 'male' 'post prandial bloating or fullness with meals'\n",
      " 'nsaid use or nonsteroidal anti inflammatory drug use'\n",
      " 'no blood in stool' 'minimal to no change with tums' 'intermittent'\n",
      " 'getting worse or progressive or symptoms now daily'\n",
      " 'fhx of pud or family history of peptic ulcer disease'\n",
      " 'epigastric discomfort' 'duration 2 months' 'darker bowel movements'\n",
      " 'burning or gnawing or burning and gnawing' 'awakens at night'\n",
      " '2 to 3 beers a week']\n",
      " \n",
      "Student note: b'hpi 35yo complains epigastric pain x 2 months constant non radiating pain 5 10 intensity getting frequent 2x per day episode lasts fro 30 minutes no linked food no aggravating alleviating factors pain awakens night mentions also nausea episodes noticed darkening stool last 2 weeks no heartburn cough change taste weight loss fever ros negative except allergies nkda medications motilin pain helpful anymore pmh psh none fh gastric ulcer father sh 1 2 1 ppd since 15 occasional etoh no illicit drugs'\n",
      "Targets: ['nausea' '35 year' 'male' 'post prandial bloating or fullness with meals'\n",
      " 'nsaid use or nonsteroidal anti inflammatory drug use'\n",
      " 'no blood in stool' 'minimal to no change with tums' 'intermittent'\n",
      " 'getting worse or progressive or symptoms now daily'\n",
      " 'fhx of pud or family history of peptic ulcer disease'\n",
      " 'epigastric discomfort' 'duration 2 months' 'darker bowel movements'\n",
      " 'burning or gnawing or burning and gnawing' 'awakens at night'\n",
      " '2 to 3 beers a week']\n",
      " \n",
      "Student note: b'35 yo complains epigastric pain last 2 months no precipitating event no previous episodes pain worsening pain 5 10 intermittant nonradiating burning gnawing charachter awaken sleep no association pain food previously allevated tums no exacerbatng factors darker stools feels bloated eating 1 hour denies heartburn sour taste mouth pmh meds motrin 2x200 tabllets week no allergies no surgeries no hosptallization no trauma fh uncle bleeding ulcer sh 10 pack year smoker previous use oof etoh since stopped no drugs sexually actuive'\n",
      "Targets: ['nausea' '35 year' 'male' 'post prandial bloating or fullness with meals'\n",
      " 'nsaid use or nonsteroidal anti inflammatory drug use'\n",
      " 'no blood in stool' 'minimal to no change with tums' 'intermittent'\n",
      " 'getting worse or progressive or symptoms now daily'\n",
      " 'fhx of pud or family history of peptic ulcer disease'\n",
      " 'epigastric discomfort' 'duration 2 months' 'darker bowel movements'\n",
      " 'burning or gnawing or burning and gnawing' 'awakens at night'\n",
      " '2 to 3 beers a week']\n",
      " \n",
      "Student note: b'patient 35 comes clinic c stomach pain 2 mo pain started gradually located epigastrium nonradiating burning knawing nature w intensity 5 10 worsening precipated particular event allev taking tums nothing makes pain worse using motrin 10 years muscle pain becuase works construction nausea w vomiting darker stools denies constipation diarrhea changes urinary habits cp sob ros neg except pmhx none meds motrin 400 mg per week 10 years nkda psx none no trauma no travel fx uncle bleeding ulcer sx 1 ppd 20 years denies etoh iv drug use'\n",
      "Targets: ['nausea' '35 year' 'male' 'post prandial bloating or fullness with meals'\n",
      " 'nsaid use or nonsteroidal anti inflammatory drug use'\n",
      " 'no blood in stool' 'minimal to no change with tums' 'intermittent'\n",
      " 'getting worse or progressive or symptoms now daily'\n",
      " 'fhx of pud or family history of peptic ulcer disease'\n",
      " 'epigastric discomfort' 'duration 2 months' 'darker bowel movements'\n",
      " 'burning or gnawing or burning and gnawing' 'awakens at night'\n",
      " '2 to 3 beers a week']\n",
      " \n"
     ]
    }
   ],
   "source": [
    "text_batch, label_batch = next(iter(train_dataset))\n",
    "\n",
    "for i, text in enumerate(text_batch[:5]):\n",
    "    label = label_batch[i].numpy()[None, ...]\n",
    "    print(f'Student note: {text}')\n",
    "    print(f'Targets: {invert_multi_hot(label[0])}')\n",
    "    print(' ')"
   ]
  },
  {
   "cell_type": "markdown",
   "id": "5b3ce7d3",
   "metadata": {},
   "source": [
    "## Vectorization\n",
    "Vectorize the text to represent it as a quantitative value. We will use [TextVectorization layer](https://keras.io/api/layers/preprocessing_layers/text/text_vectorization)"
   ]
  },
  {
   "cell_type": "code",
   "execution_count": 11,
   "id": "39597f1c",
   "metadata": {},
   "outputs": [
    {
     "name": "stdout",
     "output_type": "stream",
     "text": [
      "42065\n"
     ]
    }
   ],
   "source": [
    "# Get unique words in student notes.\n",
    "vocabulary = set()\n",
    "train_df['clean'].str.split().apply(vocabulary.update)\n",
    "vocabulary_size = len(vocabulary)\n",
    "print(vocabulary_size)"
   ]
  },
  {
   "cell_type": "markdown",
   "id": "37594eb7",
   "metadata": {},
   "source": [
    "## Now we create our vectorization layer and map() to the [tf.data.Datasets](https://www.tensorflow.org/api_docs/python/tf/data/Dataset) created earlier."
   ]
  },
  {
   "cell_type": "code",
   "execution_count": 27,
   "id": "00403449",
   "metadata": {},
   "outputs": [
    {
     "ename": "ValueError",
     "evalue": "in user code:\n\n    File \"/usr/local/anaconda3/lib/python3.8/site-packages/keras/engine/base_preprocessing_layer.py\", line 118, in adapt_step  *\n        self.update_state(data)\n    File \"/usr/local/anaconda3/lib/python3.8/site-packages/keras/layers/preprocessing/text_vectorization.py\", line 431, in update_state  **\n        self._lookup_layer.update_state(self._preprocess(data))\n    File \"/usr/local/anaconda3/lib/python3.8/site-packages/keras/layers/preprocessing/text_vectorization.py\", line 520, in _preprocess\n        raise ValueError(\n\n    ValueError: When using `TextVectorization` to tokenize strings, the input rank must be 1 or the last shape dimension must be 1. Received: inputs.shape=(None, 42065) with rank=2\n",
     "output_type": "error",
     "traceback": [
      "\u001b[0;31m---------------------------------------------------------------------------\u001b[0m",
      "\u001b[0;31mValueError\u001b[0m                                Traceback (most recent call last)",
      "\u001b[0;32m/var/folders/jl/s3ptdwdx55v01d2g2wrs7vdc0000gn/T/ipykernel_39652/3936820742.py\u001b[0m in \u001b[0;36m<module>\u001b[0;34m\u001b[0m\n\u001b[1;32m      4\u001b[0m \u001b[0;34m\u001b[0m\u001b[0m\n\u001b[1;32m      5\u001b[0m \u001b[0;32mwith\u001b[0m \u001b[0mtf\u001b[0m\u001b[0;34m.\u001b[0m\u001b[0mdevice\u001b[0m\u001b[0;34m(\u001b[0m\u001b[0;34m'/CPU:0'\u001b[0m\u001b[0;34m)\u001b[0m\u001b[0;34m:\u001b[0m\u001b[0;34m\u001b[0m\u001b[0;34m\u001b[0m\u001b[0m\n\u001b[0;32m----> 6\u001b[0;31m     \u001b[0mtext_vectorizer\u001b[0m\u001b[0;34m.\u001b[0m\u001b[0madapt\u001b[0m\u001b[0;34m(\u001b[0m\u001b[0mtrain_dataset\u001b[0m\u001b[0;34m.\u001b[0m\u001b[0mmap\u001b[0m\u001b[0;34m(\u001b[0m\u001b[0;32mlambda\u001b[0m \u001b[0mtext\u001b[0m\u001b[0;34m,\u001b[0m \u001b[0mlabel\u001b[0m\u001b[0;34m:\u001b[0m \u001b[0mtext\u001b[0m\u001b[0;34m)\u001b[0m\u001b[0;34m)\u001b[0m\u001b[0;34m\u001b[0m\u001b[0;34m\u001b[0m\u001b[0m\n\u001b[0m\u001b[1;32m      7\u001b[0m \u001b[0;34m\u001b[0m\u001b[0m\n\u001b[1;32m      8\u001b[0m train_dataset = train_dataset.map(\n",
      "\u001b[0;32m/usr/local/anaconda3/lib/python3.8/site-packages/keras/layers/preprocessing/text_vectorization.py\u001b[0m in \u001b[0;36madapt\u001b[0;34m(self, data, batch_size, steps)\u001b[0m\n\u001b[1;32m    426\u001b[0m           \u001b[0margument\u001b[0m \u001b[0;32mis\u001b[0m \u001b[0;32mnot\u001b[0m \u001b[0msupported\u001b[0m \u001b[0;32mwith\u001b[0m \u001b[0marray\u001b[0m \u001b[0minputs\u001b[0m\u001b[0;34m.\u001b[0m\u001b[0;34m\u001b[0m\u001b[0;34m\u001b[0m\u001b[0m\n\u001b[1;32m    427\u001b[0m     \"\"\"\n\u001b[0;32m--> 428\u001b[0;31m     \u001b[0msuper\u001b[0m\u001b[0;34m(\u001b[0m\u001b[0;34m)\u001b[0m\u001b[0;34m.\u001b[0m\u001b[0madapt\u001b[0m\u001b[0;34m(\u001b[0m\u001b[0mdata\u001b[0m\u001b[0;34m,\u001b[0m \u001b[0mbatch_size\u001b[0m\u001b[0;34m=\u001b[0m\u001b[0mbatch_size\u001b[0m\u001b[0;34m,\u001b[0m \u001b[0msteps\u001b[0m\u001b[0;34m=\u001b[0m\u001b[0msteps\u001b[0m\u001b[0;34m)\u001b[0m\u001b[0;34m\u001b[0m\u001b[0;34m\u001b[0m\u001b[0m\n\u001b[0m\u001b[1;32m    429\u001b[0m \u001b[0;34m\u001b[0m\u001b[0m\n\u001b[1;32m    430\u001b[0m   \u001b[0;32mdef\u001b[0m \u001b[0mupdate_state\u001b[0m\u001b[0;34m(\u001b[0m\u001b[0mself\u001b[0m\u001b[0;34m,\u001b[0m \u001b[0mdata\u001b[0m\u001b[0;34m)\u001b[0m\u001b[0;34m:\u001b[0m\u001b[0;34m\u001b[0m\u001b[0;34m\u001b[0m\u001b[0m\n",
      "\u001b[0;32m/usr/local/anaconda3/lib/python3.8/site-packages/keras/engine/base_preprocessing_layer.py\u001b[0m in \u001b[0;36madapt\u001b[0;34m(self, data, batch_size, steps)\u001b[0m\n\u001b[1;32m    247\u001b[0m       \u001b[0;32mwith\u001b[0m \u001b[0mdata_handler\u001b[0m\u001b[0;34m.\u001b[0m\u001b[0mcatch_stop_iteration\u001b[0m\u001b[0;34m(\u001b[0m\u001b[0;34m)\u001b[0m\u001b[0;34m:\u001b[0m\u001b[0;34m\u001b[0m\u001b[0;34m\u001b[0m\u001b[0m\n\u001b[1;32m    248\u001b[0m         \u001b[0;32mfor\u001b[0m \u001b[0m_\u001b[0m \u001b[0;32min\u001b[0m \u001b[0mdata_handler\u001b[0m\u001b[0;34m.\u001b[0m\u001b[0msteps\u001b[0m\u001b[0;34m(\u001b[0m\u001b[0;34m)\u001b[0m\u001b[0;34m:\u001b[0m\u001b[0;34m\u001b[0m\u001b[0;34m\u001b[0m\u001b[0m\n\u001b[0;32m--> 249\u001b[0;31m           \u001b[0mself\u001b[0m\u001b[0;34m.\u001b[0m\u001b[0m_adapt_function\u001b[0m\u001b[0;34m(\u001b[0m\u001b[0miterator\u001b[0m\u001b[0;34m)\u001b[0m\u001b[0;34m\u001b[0m\u001b[0;34m\u001b[0m\u001b[0m\n\u001b[0m\u001b[1;32m    250\u001b[0m           \u001b[0;32mif\u001b[0m \u001b[0mdata_handler\u001b[0m\u001b[0;34m.\u001b[0m\u001b[0mshould_sync\u001b[0m\u001b[0;34m:\u001b[0m\u001b[0;34m\u001b[0m\u001b[0;34m\u001b[0m\u001b[0m\n\u001b[1;32m    251\u001b[0m             \u001b[0mcontext\u001b[0m\u001b[0;34m.\u001b[0m\u001b[0masync_wait\u001b[0m\u001b[0;34m(\u001b[0m\u001b[0;34m)\u001b[0m\u001b[0;34m\u001b[0m\u001b[0;34m\u001b[0m\u001b[0m\n",
      "\u001b[0;32m/usr/local/anaconda3/lib/python3.8/site-packages/tensorflow/python/util/traceback_utils.py\u001b[0m in \u001b[0;36merror_handler\u001b[0;34m(*args, **kwargs)\u001b[0m\n\u001b[1;32m    151\u001b[0m     \u001b[0;32mexcept\u001b[0m \u001b[0mException\u001b[0m \u001b[0;32mas\u001b[0m \u001b[0me\u001b[0m\u001b[0;34m:\u001b[0m\u001b[0;34m\u001b[0m\u001b[0;34m\u001b[0m\u001b[0m\n\u001b[1;32m    152\u001b[0m       \u001b[0mfiltered_tb\u001b[0m \u001b[0;34m=\u001b[0m \u001b[0m_process_traceback_frames\u001b[0m\u001b[0;34m(\u001b[0m\u001b[0me\u001b[0m\u001b[0;34m.\u001b[0m\u001b[0m__traceback__\u001b[0m\u001b[0;34m)\u001b[0m\u001b[0;34m\u001b[0m\u001b[0;34m\u001b[0m\u001b[0m\n\u001b[0;32m--> 153\u001b[0;31m       \u001b[0;32mraise\u001b[0m \u001b[0me\u001b[0m\u001b[0;34m.\u001b[0m\u001b[0mwith_traceback\u001b[0m\u001b[0;34m(\u001b[0m\u001b[0mfiltered_tb\u001b[0m\u001b[0;34m)\u001b[0m \u001b[0;32mfrom\u001b[0m \u001b[0;32mNone\u001b[0m\u001b[0;34m\u001b[0m\u001b[0;34m\u001b[0m\u001b[0m\n\u001b[0m\u001b[1;32m    154\u001b[0m     \u001b[0;32mfinally\u001b[0m\u001b[0;34m:\u001b[0m\u001b[0;34m\u001b[0m\u001b[0;34m\u001b[0m\u001b[0m\n\u001b[1;32m    155\u001b[0m       \u001b[0;32mdel\u001b[0m \u001b[0mfiltered_tb\u001b[0m\u001b[0;34m\u001b[0m\u001b[0;34m\u001b[0m\u001b[0m\n",
      "\u001b[0;32m/usr/local/anaconda3/lib/python3.8/site-packages/tensorflow/python/framework/func_graph.py\u001b[0m in \u001b[0;36mautograph_handler\u001b[0;34m(*args, **kwargs)\u001b[0m\n\u001b[1;32m   1145\u001b[0m           \u001b[0;32mexcept\u001b[0m \u001b[0mException\u001b[0m \u001b[0;32mas\u001b[0m \u001b[0me\u001b[0m\u001b[0;34m:\u001b[0m  \u001b[0;31m# pylint:disable=broad-except\u001b[0m\u001b[0;34m\u001b[0m\u001b[0;34m\u001b[0m\u001b[0m\n\u001b[1;32m   1146\u001b[0m             \u001b[0;32mif\u001b[0m \u001b[0mhasattr\u001b[0m\u001b[0;34m(\u001b[0m\u001b[0me\u001b[0m\u001b[0;34m,\u001b[0m \u001b[0;34m\"ag_error_metadata\"\u001b[0m\u001b[0;34m)\u001b[0m\u001b[0;34m:\u001b[0m\u001b[0;34m\u001b[0m\u001b[0;34m\u001b[0m\u001b[0m\n\u001b[0;32m-> 1147\u001b[0;31m               \u001b[0;32mraise\u001b[0m \u001b[0me\u001b[0m\u001b[0;34m.\u001b[0m\u001b[0mag_error_metadata\u001b[0m\u001b[0;34m.\u001b[0m\u001b[0mto_exception\u001b[0m\u001b[0;34m(\u001b[0m\u001b[0me\u001b[0m\u001b[0;34m)\u001b[0m\u001b[0;34m\u001b[0m\u001b[0;34m\u001b[0m\u001b[0m\n\u001b[0m\u001b[1;32m   1148\u001b[0m             \u001b[0;32melse\u001b[0m\u001b[0;34m:\u001b[0m\u001b[0;34m\u001b[0m\u001b[0;34m\u001b[0m\u001b[0m\n\u001b[1;32m   1149\u001b[0m               \u001b[0;32mraise\u001b[0m\u001b[0;34m\u001b[0m\u001b[0;34m\u001b[0m\u001b[0m\n",
      "\u001b[0;31mValueError\u001b[0m: in user code:\n\n    File \"/usr/local/anaconda3/lib/python3.8/site-packages/keras/engine/base_preprocessing_layer.py\", line 118, in adapt_step  *\n        self.update_state(data)\n    File \"/usr/local/anaconda3/lib/python3.8/site-packages/keras/layers/preprocessing/text_vectorization.py\", line 431, in update_state  **\n        self._lookup_layer.update_state(self._preprocess(data))\n    File \"/usr/local/anaconda3/lib/python3.8/site-packages/keras/layers/preprocessing/text_vectorization.py\", line 520, in _preprocess\n        raise ValueError(\n\n    ValueError: When using `TextVectorization` to tokenize strings, the input rank must be 1 or the last shape dimension must be 1. Received: inputs.shape=(None, 42065) with rank=2\n"
     ]
    }
   ],
   "source": [
    "text_vectorizer = layers.TextVectorization(\n",
    "    max_tokens=vocabulary_size, ngrams=2, output_mode='tf_idf'\n",
    ")\n",
    "\n",
    "with tf.device('/CPU:0'):\n",
    "    text_vectorizer.adapt(train_dataset.map(lambda text, label: text))\n",
    "\n",
    "train_dataset = train_dataset.map(\n",
    "    lambda text, label: (text_vectorizer(text), label), num_parallel_calls=auto).prefetch(auto)\n",
    "validation_dataset = validation_dataset.map(\n",
    "    lambda text, label: (text_vectorizer(text), label), num_parallel_calls=auto).prefetch(auto)\n",
    "test_dataset = test_dataset.map(\n",
    "    lambda text, label: (text_vectorizer(text), label), num_parallel_calls=auto).prefetch(auto)"
   ]
  },
  {
   "cell_type": "code",
   "execution_count": 28,
   "id": "1243a804",
   "metadata": {},
   "outputs": [],
   "source": [
    "text_batch, label_batch = next(iter(train_dataset))"
   ]
  },
  {
   "cell_type": "code",
   "execution_count": 30,
   "id": "cc9b4b4c",
   "metadata": {},
   "outputs": [
    {
     "data": {
      "text/plain": [
       "(42065, 132)"
      ]
     },
     "execution_count": 30,
     "metadata": {},
     "output_type": "execute_result"
    }
   ],
   "source": [
    "len(text_batch[0]), len(label_batch[0])"
   ]
  },
  {
   "cell_type": "markdown",
   "id": "779c175f",
   "metadata": {},
   "source": [
    "## Create a text classification model"
   ]
  },
  {
   "cell_type": "code",
   "execution_count": 31,
   "id": "97e576f1",
   "metadata": {},
   "outputs": [],
   "source": [
    "def make_model():\n",
    "    shallow_mlp_model = keras.Sequential(\n",
    "        [\n",
    "            layers.Dense(512, activation=\"relu\"),\n",
    "            layers.Dense(256, activation=\"relu\"),\n",
    "            layers.Dense(lookup.vocabulary_size(), activation=\"softmax\"),\n",
    "        ]\n",
    "    )\n",
    "    return shallow_mlp_model"
   ]
  },
  {
   "cell_type": "markdown",
   "id": "c65c18c4",
   "metadata": {},
   "source": [
    "## Train our model"
   ]
  },
  {
   "cell_type": "code",
   "execution_count": 32,
   "id": "9fdc8c54",
   "metadata": {},
   "outputs": [
    {
     "name": "stdout",
     "output_type": "stream",
     "text": [
      "Epoch 1/2\n",
      " 87/297 [=======>......................] - ETA: 19s - loss: 0.0603 - categorical_accuracy: 0.3050"
     ]
    },
    {
     "ename": "KeyboardInterrupt",
     "evalue": "",
     "output_type": "error",
     "traceback": [
      "\u001b[0;31m---------------------------------------------------------------------------\u001b[0m",
      "\u001b[0;31mKeyboardInterrupt\u001b[0m                         Traceback (most recent call last)",
      "\u001b[0;32m/var/folders/jl/s3ptdwdx55v01d2g2wrs7vdc0000gn/T/ipykernel_39652/1516904206.py\u001b[0m in \u001b[0;36m<module>\u001b[0;34m\u001b[0m\n\u001b[1;32m      6\u001b[0m )\n\u001b[1;32m      7\u001b[0m \u001b[0;34m\u001b[0m\u001b[0m\n\u001b[0;32m----> 8\u001b[0;31m history = shallow_mlp_model.fit(\n\u001b[0m\u001b[1;32m      9\u001b[0m     \u001b[0mtrain_dataset\u001b[0m\u001b[0;34m,\u001b[0m \u001b[0mvalidation_data\u001b[0m\u001b[0;34m=\u001b[0m\u001b[0mvalidation_dataset\u001b[0m\u001b[0;34m,\u001b[0m \u001b[0mepochs\u001b[0m\u001b[0;34m=\u001b[0m\u001b[0mepochs\u001b[0m\u001b[0;34m\u001b[0m\u001b[0;34m\u001b[0m\u001b[0m\n\u001b[1;32m     10\u001b[0m )\n",
      "\u001b[0;32m/usr/local/anaconda3/lib/python3.8/site-packages/keras/utils/traceback_utils.py\u001b[0m in \u001b[0;36merror_handler\u001b[0;34m(*args, **kwargs)\u001b[0m\n\u001b[1;32m     62\u001b[0m     \u001b[0mfiltered_tb\u001b[0m \u001b[0;34m=\u001b[0m \u001b[0;32mNone\u001b[0m\u001b[0;34m\u001b[0m\u001b[0;34m\u001b[0m\u001b[0m\n\u001b[1;32m     63\u001b[0m     \u001b[0;32mtry\u001b[0m\u001b[0;34m:\u001b[0m\u001b[0;34m\u001b[0m\u001b[0;34m\u001b[0m\u001b[0m\n\u001b[0;32m---> 64\u001b[0;31m       \u001b[0;32mreturn\u001b[0m \u001b[0mfn\u001b[0m\u001b[0;34m(\u001b[0m\u001b[0;34m*\u001b[0m\u001b[0margs\u001b[0m\u001b[0;34m,\u001b[0m \u001b[0;34m**\u001b[0m\u001b[0mkwargs\u001b[0m\u001b[0;34m)\u001b[0m\u001b[0;34m\u001b[0m\u001b[0;34m\u001b[0m\u001b[0m\n\u001b[0m\u001b[1;32m     65\u001b[0m     \u001b[0;32mexcept\u001b[0m \u001b[0mException\u001b[0m \u001b[0;32mas\u001b[0m \u001b[0me\u001b[0m\u001b[0;34m:\u001b[0m  \u001b[0;31m# pylint: disable=broad-except\u001b[0m\u001b[0;34m\u001b[0m\u001b[0;34m\u001b[0m\u001b[0m\n\u001b[1;32m     66\u001b[0m       \u001b[0mfiltered_tb\u001b[0m \u001b[0;34m=\u001b[0m \u001b[0m_process_traceback_frames\u001b[0m\u001b[0;34m(\u001b[0m\u001b[0me\u001b[0m\u001b[0;34m.\u001b[0m\u001b[0m__traceback__\u001b[0m\u001b[0;34m)\u001b[0m\u001b[0;34m\u001b[0m\u001b[0;34m\u001b[0m\u001b[0m\n",
      "\u001b[0;32m/usr/local/anaconda3/lib/python3.8/site-packages/keras/engine/training.py\u001b[0m in \u001b[0;36mfit\u001b[0;34m(self, x, y, batch_size, epochs, verbose, callbacks, validation_split, validation_data, shuffle, class_weight, sample_weight, initial_epoch, steps_per_epoch, validation_steps, validation_batch_size, validation_freq, max_queue_size, workers, use_multiprocessing)\u001b[0m\n\u001b[1;32m   1382\u001b[0m                 _r=1):\n\u001b[1;32m   1383\u001b[0m               \u001b[0mcallbacks\u001b[0m\u001b[0;34m.\u001b[0m\u001b[0mon_train_batch_begin\u001b[0m\u001b[0;34m(\u001b[0m\u001b[0mstep\u001b[0m\u001b[0;34m)\u001b[0m\u001b[0;34m\u001b[0m\u001b[0;34m\u001b[0m\u001b[0m\n\u001b[0;32m-> 1384\u001b[0;31m               \u001b[0mtmp_logs\u001b[0m \u001b[0;34m=\u001b[0m \u001b[0mself\u001b[0m\u001b[0;34m.\u001b[0m\u001b[0mtrain_function\u001b[0m\u001b[0;34m(\u001b[0m\u001b[0miterator\u001b[0m\u001b[0;34m)\u001b[0m\u001b[0;34m\u001b[0m\u001b[0;34m\u001b[0m\u001b[0m\n\u001b[0m\u001b[1;32m   1385\u001b[0m               \u001b[0;32mif\u001b[0m \u001b[0mdata_handler\u001b[0m\u001b[0;34m.\u001b[0m\u001b[0mshould_sync\u001b[0m\u001b[0;34m:\u001b[0m\u001b[0;34m\u001b[0m\u001b[0;34m\u001b[0m\u001b[0m\n\u001b[1;32m   1386\u001b[0m                 \u001b[0mcontext\u001b[0m\u001b[0;34m.\u001b[0m\u001b[0masync_wait\u001b[0m\u001b[0;34m(\u001b[0m\u001b[0;34m)\u001b[0m\u001b[0;34m\u001b[0m\u001b[0;34m\u001b[0m\u001b[0m\n",
      "\u001b[0;32m/usr/local/anaconda3/lib/python3.8/site-packages/tensorflow/python/util/traceback_utils.py\u001b[0m in \u001b[0;36merror_handler\u001b[0;34m(*args, **kwargs)\u001b[0m\n\u001b[1;32m    148\u001b[0m     \u001b[0mfiltered_tb\u001b[0m \u001b[0;34m=\u001b[0m \u001b[0;32mNone\u001b[0m\u001b[0;34m\u001b[0m\u001b[0;34m\u001b[0m\u001b[0m\n\u001b[1;32m    149\u001b[0m     \u001b[0;32mtry\u001b[0m\u001b[0;34m:\u001b[0m\u001b[0;34m\u001b[0m\u001b[0;34m\u001b[0m\u001b[0m\n\u001b[0;32m--> 150\u001b[0;31m       \u001b[0;32mreturn\u001b[0m \u001b[0mfn\u001b[0m\u001b[0;34m(\u001b[0m\u001b[0;34m*\u001b[0m\u001b[0margs\u001b[0m\u001b[0;34m,\u001b[0m \u001b[0;34m**\u001b[0m\u001b[0mkwargs\u001b[0m\u001b[0;34m)\u001b[0m\u001b[0;34m\u001b[0m\u001b[0;34m\u001b[0m\u001b[0m\n\u001b[0m\u001b[1;32m    151\u001b[0m     \u001b[0;32mexcept\u001b[0m \u001b[0mException\u001b[0m \u001b[0;32mas\u001b[0m \u001b[0me\u001b[0m\u001b[0;34m:\u001b[0m\u001b[0;34m\u001b[0m\u001b[0;34m\u001b[0m\u001b[0m\n\u001b[1;32m    152\u001b[0m       \u001b[0mfiltered_tb\u001b[0m \u001b[0;34m=\u001b[0m \u001b[0m_process_traceback_frames\u001b[0m\u001b[0;34m(\u001b[0m\u001b[0me\u001b[0m\u001b[0;34m.\u001b[0m\u001b[0m__traceback__\u001b[0m\u001b[0;34m)\u001b[0m\u001b[0;34m\u001b[0m\u001b[0;34m\u001b[0m\u001b[0m\n",
      "\u001b[0;32m/usr/local/anaconda3/lib/python3.8/site-packages/tensorflow/python/eager/def_function.py\u001b[0m in \u001b[0;36m__call__\u001b[0;34m(self, *args, **kwds)\u001b[0m\n\u001b[1;32m    913\u001b[0m \u001b[0;34m\u001b[0m\u001b[0m\n\u001b[1;32m    914\u001b[0m       \u001b[0;32mwith\u001b[0m \u001b[0mOptionalXlaContext\u001b[0m\u001b[0;34m(\u001b[0m\u001b[0mself\u001b[0m\u001b[0;34m.\u001b[0m\u001b[0m_jit_compile\u001b[0m\u001b[0;34m)\u001b[0m\u001b[0;34m:\u001b[0m\u001b[0;34m\u001b[0m\u001b[0;34m\u001b[0m\u001b[0m\n\u001b[0;32m--> 915\u001b[0;31m         \u001b[0mresult\u001b[0m \u001b[0;34m=\u001b[0m \u001b[0mself\u001b[0m\u001b[0;34m.\u001b[0m\u001b[0m_call\u001b[0m\u001b[0;34m(\u001b[0m\u001b[0;34m*\u001b[0m\u001b[0margs\u001b[0m\u001b[0;34m,\u001b[0m \u001b[0;34m**\u001b[0m\u001b[0mkwds\u001b[0m\u001b[0;34m)\u001b[0m\u001b[0;34m\u001b[0m\u001b[0;34m\u001b[0m\u001b[0m\n\u001b[0m\u001b[1;32m    916\u001b[0m \u001b[0;34m\u001b[0m\u001b[0m\n\u001b[1;32m    917\u001b[0m       \u001b[0mnew_tracing_count\u001b[0m \u001b[0;34m=\u001b[0m \u001b[0mself\u001b[0m\u001b[0;34m.\u001b[0m\u001b[0mexperimental_get_tracing_count\u001b[0m\u001b[0;34m(\u001b[0m\u001b[0;34m)\u001b[0m\u001b[0;34m\u001b[0m\u001b[0;34m\u001b[0m\u001b[0m\n",
      "\u001b[0;32m/usr/local/anaconda3/lib/python3.8/site-packages/tensorflow/python/eager/def_function.py\u001b[0m in \u001b[0;36m_call\u001b[0;34m(self, *args, **kwds)\u001b[0m\n\u001b[1;32m    945\u001b[0m       \u001b[0;31m# In this case we have created variables on the first call, so we run the\u001b[0m\u001b[0;34m\u001b[0m\u001b[0;34m\u001b[0m\u001b[0;34m\u001b[0m\u001b[0m\n\u001b[1;32m    946\u001b[0m       \u001b[0;31m# defunned version which is guaranteed to never create variables.\u001b[0m\u001b[0;34m\u001b[0m\u001b[0;34m\u001b[0m\u001b[0;34m\u001b[0m\u001b[0m\n\u001b[0;32m--> 947\u001b[0;31m       \u001b[0;32mreturn\u001b[0m \u001b[0mself\u001b[0m\u001b[0;34m.\u001b[0m\u001b[0m_stateless_fn\u001b[0m\u001b[0;34m(\u001b[0m\u001b[0;34m*\u001b[0m\u001b[0margs\u001b[0m\u001b[0;34m,\u001b[0m \u001b[0;34m**\u001b[0m\u001b[0mkwds\u001b[0m\u001b[0;34m)\u001b[0m  \u001b[0;31m# pylint: disable=not-callable\u001b[0m\u001b[0;34m\u001b[0m\u001b[0;34m\u001b[0m\u001b[0m\n\u001b[0m\u001b[1;32m    948\u001b[0m     \u001b[0;32melif\u001b[0m \u001b[0mself\u001b[0m\u001b[0;34m.\u001b[0m\u001b[0m_stateful_fn\u001b[0m \u001b[0;32mis\u001b[0m \u001b[0;32mnot\u001b[0m \u001b[0;32mNone\u001b[0m\u001b[0;34m:\u001b[0m\u001b[0;34m\u001b[0m\u001b[0;34m\u001b[0m\u001b[0m\n\u001b[1;32m    949\u001b[0m       \u001b[0;31m# Release the lock early so that multiple threads can perform the call\u001b[0m\u001b[0;34m\u001b[0m\u001b[0;34m\u001b[0m\u001b[0;34m\u001b[0m\u001b[0m\n",
      "\u001b[0;32m/usr/local/anaconda3/lib/python3.8/site-packages/tensorflow/python/eager/function.py\u001b[0m in \u001b[0;36m__call__\u001b[0;34m(self, *args, **kwargs)\u001b[0m\n\u001b[1;32m   2954\u001b[0m       (graph_function,\n\u001b[1;32m   2955\u001b[0m        filtered_flat_args) = self._maybe_define_function(args, kwargs)\n\u001b[0;32m-> 2956\u001b[0;31m     return graph_function._call_flat(\n\u001b[0m\u001b[1;32m   2957\u001b[0m         filtered_flat_args, captured_inputs=graph_function.captured_inputs)  # pylint: disable=protected-access\n\u001b[1;32m   2958\u001b[0m \u001b[0;34m\u001b[0m\u001b[0m\n",
      "\u001b[0;32m/usr/local/anaconda3/lib/python3.8/site-packages/tensorflow/python/eager/function.py\u001b[0m in \u001b[0;36m_call_flat\u001b[0;34m(self, args, captured_inputs, cancellation_manager)\u001b[0m\n\u001b[1;32m   1851\u001b[0m         and executing_eagerly):\n\u001b[1;32m   1852\u001b[0m       \u001b[0;31m# No tape is watching; skip to running the function.\u001b[0m\u001b[0;34m\u001b[0m\u001b[0;34m\u001b[0m\u001b[0;34m\u001b[0m\u001b[0m\n\u001b[0;32m-> 1853\u001b[0;31m       return self._build_call_outputs(self._inference_function.call(\n\u001b[0m\u001b[1;32m   1854\u001b[0m           ctx, args, cancellation_manager=cancellation_manager))\n\u001b[1;32m   1855\u001b[0m     forward_backward = self._select_forward_and_backward_functions(\n",
      "\u001b[0;32m/usr/local/anaconda3/lib/python3.8/site-packages/tensorflow/python/eager/function.py\u001b[0m in \u001b[0;36mcall\u001b[0;34m(self, ctx, args, cancellation_manager)\u001b[0m\n\u001b[1;32m    497\u001b[0m       \u001b[0;32mwith\u001b[0m \u001b[0m_InterpolateFunctionError\u001b[0m\u001b[0;34m(\u001b[0m\u001b[0mself\u001b[0m\u001b[0;34m)\u001b[0m\u001b[0;34m:\u001b[0m\u001b[0;34m\u001b[0m\u001b[0;34m\u001b[0m\u001b[0m\n\u001b[1;32m    498\u001b[0m         \u001b[0;32mif\u001b[0m \u001b[0mcancellation_manager\u001b[0m \u001b[0;32mis\u001b[0m \u001b[0;32mNone\u001b[0m\u001b[0;34m:\u001b[0m\u001b[0;34m\u001b[0m\u001b[0;34m\u001b[0m\u001b[0m\n\u001b[0;32m--> 499\u001b[0;31m           outputs = execute.execute(\n\u001b[0m\u001b[1;32m    500\u001b[0m               \u001b[0mstr\u001b[0m\u001b[0;34m(\u001b[0m\u001b[0mself\u001b[0m\u001b[0;34m.\u001b[0m\u001b[0msignature\u001b[0m\u001b[0;34m.\u001b[0m\u001b[0mname\u001b[0m\u001b[0;34m)\u001b[0m\u001b[0;34m,\u001b[0m\u001b[0;34m\u001b[0m\u001b[0;34m\u001b[0m\u001b[0m\n\u001b[1;32m    501\u001b[0m               \u001b[0mnum_outputs\u001b[0m\u001b[0;34m=\u001b[0m\u001b[0mself\u001b[0m\u001b[0;34m.\u001b[0m\u001b[0m_num_outputs\u001b[0m\u001b[0;34m,\u001b[0m\u001b[0;34m\u001b[0m\u001b[0;34m\u001b[0m\u001b[0m\n",
      "\u001b[0;32m/usr/local/anaconda3/lib/python3.8/site-packages/tensorflow/python/eager/execute.py\u001b[0m in \u001b[0;36mquick_execute\u001b[0;34m(op_name, num_outputs, inputs, attrs, ctx, name)\u001b[0m\n\u001b[1;32m     52\u001b[0m   \u001b[0;32mtry\u001b[0m\u001b[0;34m:\u001b[0m\u001b[0;34m\u001b[0m\u001b[0;34m\u001b[0m\u001b[0m\n\u001b[1;32m     53\u001b[0m     \u001b[0mctx\u001b[0m\u001b[0;34m.\u001b[0m\u001b[0mensure_initialized\u001b[0m\u001b[0;34m(\u001b[0m\u001b[0;34m)\u001b[0m\u001b[0;34m\u001b[0m\u001b[0;34m\u001b[0m\u001b[0m\n\u001b[0;32m---> 54\u001b[0;31m     tensors = pywrap_tfe.TFE_Py_Execute(ctx._handle, device_name, op_name,\n\u001b[0m\u001b[1;32m     55\u001b[0m                                         inputs, attrs, num_outputs)\n\u001b[1;32m     56\u001b[0m   \u001b[0;32mexcept\u001b[0m \u001b[0mcore\u001b[0m\u001b[0;34m.\u001b[0m\u001b[0m_NotOkStatusException\u001b[0m \u001b[0;32mas\u001b[0m \u001b[0me\u001b[0m\u001b[0;34m:\u001b[0m\u001b[0;34m\u001b[0m\u001b[0;34m\u001b[0m\u001b[0m\n",
      "\u001b[0;31mKeyboardInterrupt\u001b[0m: "
     ]
    }
   ],
   "source": [
    "epochs = 2\n",
    "\n",
    "shallow_mlp_model = make_model()\n",
    "shallow_mlp_model.compile(\n",
    "    loss=\"binary_crossentropy\", optimizer=\"adam\", metrics=[\"categorical_accuracy\"]\n",
    ")\n",
    "\n",
    "history = shallow_mlp_model.fit(\n",
    "    train_dataset, validation_data=validation_dataset, epochs=epochs\n",
    ")\n",
    "\n",
    "\n",
    "def plot_result(item):\n",
    "    plt.plot(history.history[item], label=item)\n",
    "    plt.plot(history.history[\"val_\" + item], label=\"val_\" + item)\n",
    "    plt.xlabel(\"Epochs\")\n",
    "    plt.ylabel(item)\n",
    "    plt.title(\"Train and Validation {} Over Epochs\".format(item), fontsize=14)\n",
    "    plt.legend()\n",
    "    plt.grid()\n",
    "    plt.show()\n",
    "\n",
    "\n",
    "plot_result(\"loss\")\n",
    "plot_result(\"categorical_accuracy\")"
   ]
  },
  {
   "cell_type": "markdown",
   "id": "601b02c7",
   "metadata": {},
   "source": [
    "## Evaluate the model"
   ]
  },
  {
   "cell_type": "code",
   "execution_count": 22,
   "id": "cc48d5e2",
   "metadata": {},
   "outputs": [
    {
     "data": {
      "text/plain": [
       "<PrefetchDataset element_spec=(TensorSpec(shape=(None, 42065), dtype=tf.float32, name=None), TensorSpec(shape=(None, 132), dtype=tf.float32, name=None))>"
      ]
     },
     "execution_count": 22,
     "metadata": {},
     "output_type": "execute_result"
    }
   ],
   "source": [
    "train_dataset"
   ]
  },
  {
   "cell_type": "code",
   "execution_count": 23,
   "id": "89491213",
   "metadata": {},
   "outputs": [
    {
     "data": {
      "text/plain": [
       "<PrefetchDataset element_spec=(TensorSpec(shape=(None, 42065), dtype=tf.float32, name=None), TensorSpec(shape=(None, 132), dtype=tf.float32, name=None))>"
      ]
     },
     "execution_count": 23,
     "metadata": {},
     "output_type": "execute_result"
    }
   ],
   "source": [
    "validation_dataset"
   ]
  },
  {
   "cell_type": "code",
   "execution_count": 24,
   "id": "de2ad453",
   "metadata": {},
   "outputs": [
    {
     "data": {
      "text/plain": [
       "<PrefetchDataset element_spec=(TensorSpec(shape=(None, 42065), dtype=tf.float32, name=None), TensorSpec(shape=(None, 132), dtype=tf.float32, name=None))>"
      ]
     },
     "execution_count": 24,
     "metadata": {},
     "output_type": "execute_result"
    }
   ],
   "source": [
    "test_dataset"
   ]
  },
  {
   "cell_type": "code",
   "execution_count": 25,
   "id": "2618eec6",
   "metadata": {},
   "outputs": [
    {
     "name": "stdout",
     "output_type": "stream",
     "text": [
      "17/17 [==============================] - 1s 28ms/step - loss: 8.9138e-05 - categorical_accuracy: 0.1761\n",
      "Categorical accuracy on the test set: 17.61%.\n"
     ]
    }
   ],
   "source": [
    "_, categorical_acc = shallow_mlp_model.evaluate(test_dataset)\n",
    "print(f\"Categorical accuracy on the test set: {round(categorical_acc * 100, 2)}%.\")"
   ]
  },
  {
   "cell_type": "code",
   "execution_count": 26,
   "id": "2dd36a59",
   "metadata": {},
   "outputs": [
    {
     "name": "stdout",
     "output_type": "stream",
     "text": [
      "Student notes: b'mr chad hamilton 35 yo pmh chronic lower back pain treated motrin 10 yrs presents upper abd pain last 2 months increased frequency pain comes goes occurs twice daily used occur 1 2 times per week describes pain knawing nature denies radiation reports mild alleviation tums rates pain 5 10 pt denies correlation pain food intake ros significant nausea dark stools negative vomiting weight loss dyruria hematuria myalgias sob sensorineural changes pmh negative aside back pain fh significant uncle reportedly pain secondary bleeding ulcer'\n",
      "Targets(s): ['male' '17 year' 'shortness of breath'\n",
      " 'no hair changes or no nail changes or no temperature intolerance'\n",
      " 'lightheaded' 'intermittent symptoms' 'heart pounding or heart racing'\n",
      " 'few months duration' 'family history of thyroid disorder'\n",
      " 'family history of mi or family history of myocardial infarction'\n",
      " 'chest pressure' 'caffeine use' 'adderall use']\n",
      "Predicted Targets(s): (intermittent symptoms, 17 year, few months duration, family history of mi or family history of myocardial infarction, caffeine use, chest pressure, male, shortness of breath, adderall use, heart pounding or heart racing, lightheaded, family history of thyroid disorder, no hair changes or no nail changes or no temperature intolerance, heavy caffeine use, no depressed mood, stress due to caring for elderly parents, prior normal periods, unsuccessful napping, no suicidal ideations, recent heavy lifting at work or recent rock climbing, exercise induced asthma, visual hallucination once, chest pain, sharp or stabbing or 7 to 8 out of 10 on pain scale, difficulty with sleep, duration 3 weeks, 67 year, worse with deep breath or pleuritic, darker bowel movements, no relief with asthma inhaler, no shortness of breath, nausea, fhx of pud or family history of peptic ulcer disease, auditory hallucination once, hallucinations after taking ambien, heavy sweating, intermittent, 45 year, insomnia, getting worse or progressive or symptoms now daily, 35 year, nsaid use or nonsteroidal anti inflammatory drug use, weight loss, meningococcal vaccine status unknown, difficulty falling asleep, duration x 1 day, subjective fevers, recent upper respiratory symptoms, fatigue, 8 to 10 hours of acute pain, diminished energy or feeling drained, burning or gnawing or burning and gnawing, lmp 2 months ago or last menstrual period 2 months ago, post prandial bloating or fullness with meals, vomiting, weight stable, decreased appetite, global headache or diffuse headache, lack of other thyroid symptoms, anxious or nervous, weight gain, female, epigastric discomfort, sleep disturbance or early awakenings, fhx of depression or family history of depression, no blood in stool, onset 3 years ago, no chest pain, vaginal dryness, episode of hand numbness or episode of finger numbness, iud, sexually active, associated nausea, heavy periods or irregular periods, stress, recent visit to emergency department with negative workup, no illicit drug use, shares an apartment, duration 2 months, no caffeine use, infertility hx or infertility history, feels hot or feels clammy, last pap smear i year ago, fatigue or difficulty concentrating, episodes of heart racing, loss of interest, diminished appetite, tossing and turning, irregular flow or irregular frequency or irregular intervals, not sexually active, no known illness contacts, 26 year, photophobia, episodes last 15 to 30 minutes, sleeping medication ineffective, increased appetite, neck pain, 20 year, myalgias, associated feeling of impending doom, last menstrual period 2 months ago, no premenstrual symptoms, increased stress, son died 3 weeks ago, increased frequency recently, early wakening, onset 5 years ago, no bloody bowel movements, recent nausea vomiting or recent flulike symptoms, subjective fever, viral symptoms or rhinorrhea or scratchy throat, 44 year, associated sob or associated shortness of breath, irregular menses, 2 to 3 beers a week, symptoms for 6 months, associated throat tightness, unprotected sex, awakens at night, prior episodes of diarrhea, 1 day duration or 2 days duration, no rash, no relief with motrin or no relief with tylenol, right sided lq abdominal pain or right lower quadrant abdominal pain, normal lmp 2 weeks ago or normal last menstrual period 2 weeks ago, no vaginal discharge, minimal to no change with tums, hot flashes, family history of migraines, [UNK], recurrent bouts over past 6 months, no urinary symptoms)\n",
      " \n",
      "Student notes: b'hpi 45 yo f c feeling nervousness time x weeks recall particuler events symptoms occurred feels lot stress taking care family member including eldarly job prof also difficulty falling asleep wake middle night denies ha n v sensitivity heat cold skinchange hair change voice change bowel movement urinary habit change weight change excessive sweating obgyn lmp 1 week ago regular periods ros neg except pmh none psh none med tylenol headache rarely nkda fh father heart attack 10 years ago sh engilish profeccer no smoking no etoh no illicit drug use sexually active husband decreasins sex drive nervousness no condom use husband performed vasectomy'\n",
      "Targets(s): ['female' 'weight stable' 'stress due to caring for elderly parents'\n",
      " 'no depressed mood' 'lack of other thyroid symptoms' 'insomnia'\n",
      " 'heavy caffeine use' 'decreased appetite' 'anxious or nervous' '45 year']\n",
      "Predicted Targets(s): (insomnia, anxious or nervous, 45 year, stress due to caring for elderly parents, female, lack of other thyroid symptoms, decreased appetite, heavy caffeine use, no depressed mood, weight stable, 20 year, 8 to 10 hours of acute pain, no urinary symptoms, fatigue, normal lmp 2 weeks ago or normal last menstrual period 2 weeks ago, 35 year, no suicidal ideations, right sided lq abdominal pain or right lower quadrant abdominal pain, nausea, no bloody bowel movements, visual hallucination once, fhx of depression or family history of depression, no vaginal discharge, meningococcal vaccine status unknown, nsaid use or nonsteroidal anti inflammatory drug use, weight gain, prior episodes of diarrhea, loss of interest, lightheaded, subjective fever, epigastric discomfort, heart pounding or heart racing, myalgias, worse with deep breath or pleuritic, no relief with motrin or no relief with tylenol, getting worse or progressive or symptoms now daily, unprotected sex, difficulty falling asleep, son died 3 weeks ago, heavy periods or irregular periods, diminished appetite, darker bowel movements, diminished energy or feeling drained, recurrent bouts over past 6 months, duration 3 weeks, minimal to no change with tums, not sexually active, post prandial bloating or fullness with meals, hallucinations after taking ambien, male, no known illness contacts, iud, fhx of pud or family history of peptic ulcer disease, auditory hallucination once, last menstrual period 2 months ago, symptoms for 6 months, irregular flow or irregular frequency or irregular intervals, shares an apartment, sleeping medication ineffective, viral symptoms or rhinorrhea or scratchy throat, shortness of breath, duration 2 months, infertility hx or infertility history, 67 year, no blood in stool, stress, global headache or diffuse headache, tossing and turning, 17 year, awakens at night, caffeine use, no rash, intermittent symptoms, no hair changes or no nail changes or no temperature intolerance, sleep disturbance or early awakenings, increased appetite, recent nausea vomiting or recent flulike symptoms, weight loss, 1 day duration or 2 days duration, recent upper respiratory symptoms, few months duration, no relief with asthma inhaler, sexually active, burning or gnawing or burning and gnawing, chest pressure, vaginal dryness, vomiting, no premenstrual symptoms, fatigue or difficulty concentrating, associated sob or associated shortness of breath, unsuccessful napping, onset 3 years ago, neck pain, prior normal periods, difficulty with sleep, family history of mi or family history of myocardial infarction, adderall use, intermittent, photophobia, exercise induced asthma, no illicit drug use, 2 to 3 beers a week, lmp 2 months ago or last menstrual period 2 months ago, duration x 1 day, no chest pain, early wakening, associated nausea, chest pain, family history of thyroid disorder, 44 year, last pap smear i year ago, episodes of heart racing, sharp or stabbing or 7 to 8 out of 10 on pain scale, onset 5 years ago, hot flashes, recent heavy lifting at work or recent rock climbing, recent visit to emergency department with negative workup, associated throat tightness, subjective fevers, increased frequency recently, feels hot or feels clammy, 26 year, no caffeine use, no shortness of breath, associated feeling of impending doom, heavy sweating, family history of migraines, increased stress, episodes last 15 to 30 minutes, episode of hand numbness or episode of finger numbness, irregular menses, [UNK])\n",
      " \n",
      "Student notes: b'cc stomach pain hpi 35 yo male come 2 months stomach pain increasing intensity burning knawing 5 10 pain initally relived tums anymore also eating less bloating uncomfortable feeling eats notices darkening stools points epigastric area asked location pain no cough sore throat no hx reflux pain sometimes awaken sleep remember precipating events ros negative except pmh no contributory medical conditions nkda meds takes tums motrin no surgical history social hx 1 2 beer week past 5 years smoke 1 2 pack day since 15'\n",
      "Targets(s): ['female' 'recent visit to emergency department with negative workup'\n",
      " 'onset 5 years ago' 'no illicit drug use' 'no chest pain'\n",
      " 'no caffeine use' 'increased stress' 'increased frequency recently'\n",
      " 'feels hot or feels clammy' 'fatigue or difficulty concentrating'\n",
      " 'episodes of heart racing' 'episodes last 15 to 30 minutes'\n",
      " 'episode of hand numbness or episode of finger numbness'\n",
      " 'associated throat tightness'\n",
      " 'associated sob or associated shortness of breath' 'associated nausea'\n",
      " 'associated feeling of impending doom' '26 year']\n",
      "Predicted Targets(s): (26 year, increased stress, associated throat tightness, associated feeling of impending doom, associated sob or associated shortness of breath, episodes of heart racing, no illicit drug use, increased frequency recently, associated nausea, no chest pain, no caffeine use, onset 5 years ago, episode of hand numbness or episode of finger numbness, episodes last 15 to 30 minutes, fatigue or difficulty concentrating, feels hot or feels clammy, recent visit to emergency department with negative workup, female, male, heart pounding or heart racing, chest pressure, fatigue, 17 year, irregular menses, no hair changes or no nail changes or no temperature intolerance, lightheaded, adderall use, caffeine use, intermittent symptoms, heavy periods or irregular periods, stress, 35 year, few months duration, unprotected sex, family history of thyroid disorder, 2 to 3 beers a week, 45 year, fhx of depression or family history of depression, symptoms for 6 months, 20 year, no relief with asthma inhaler, weight stable, infertility hx or infertility history, viral symptoms or rhinorrhea or scratchy throat, 8 to 10 hours of acute pain, prior normal periods, lmp 2 months ago or last menstrual period 2 months ago, heavy caffeine use, recurrent bouts over past 6 months, worse with deep breath or pleuritic, insomnia, 44 year, weight gain, last menstrual period 2 months ago, onset 3 years ago, lack of other thyroid symptoms, vaginal dryness, early wakening, subjective fever, auditory hallucination once, last pap smear i year ago, burning or gnawing or burning and gnawing, stress due to caring for elderly parents, right sided lq abdominal pain or right lower quadrant abdominal pain, no depressed mood, family history of migraines, diminished appetite, prior episodes of diarrhea, normal lmp 2 weeks ago or normal last menstrual period 2 weeks ago, weight loss, increased appetite, tossing and turning, exercise induced asthma, not sexually active, recent nausea vomiting or recent flulike symptoms, family history of mi or family history of myocardial infarction, heavy sweating, irregular flow or irregular frequency or irregular intervals, no vaginal discharge, shortness of breath, decreased appetite, sleep disturbance or early awakenings, subjective fevers, no rash, no bloody bowel movements, anxious or nervous, difficulty falling asleep, no shortness of breath, nausea, diminished energy or feeling drained, 67 year, unsuccessful napping, no urinary symptoms, sharp or stabbing or 7 to 8 out of 10 on pain scale, no relief with motrin or no relief with tylenol, awakens at night, darker bowel movements, no premenstrual symptoms, recent upper respiratory symptoms, photophobia, meningococcal vaccine status unknown, duration 2 months, no suicidal ideations, difficulty with sleep, minimal to no change with tums, global headache or diffuse headache, nsaid use or nonsteroidal anti inflammatory drug use, neck pain, loss of interest, no known illness contacts, myalgias, visual hallucination once, epigastric discomfort, hot flashes, sleeping medication ineffective, shares an apartment, sexually active, duration 3 weeks, chest pain, iud, recent heavy lifting at work or recent rock climbing, getting worse or progressive or symptoms now daily, post prandial bloating or fullness with meals, son died 3 weeks ago, no blood in stool, duration x 1 day, intermittent, hallucinations after taking ambien, 1 day duration or 2 days duration, fhx of pud or family history of peptic ulcer disease, [UNK], vomiting)\n",
      " \n",
      "Student notes: b'45 year old female c nervousness past weeks reports feeling overwhelmed increased responsibility work caring mother home endorses difficulty falling asleep reports sleeping less denies problems staying asleep reports decreased interest sexual activity denies changes enery concentration reports decreased appetite denies suicidal ideation denies fever skin changes diaphoresis palpitations pmh none psh none meds tylenol nkda shx no smoking glass wine month no drugs drinks 5 6 cups coffee day fhx father died heart attack'\n",
      "Targets(s): ['female' '20 year' 'weight loss'\n",
      " 'right sided lq abdominal pain or right lower quadrant abdominal pain'\n",
      " 'recurrent bouts over past 6 months' 'prior episodes of diarrhea'\n",
      " 'not sexually active'\n",
      " 'normal lmp 2 weeks ago or normal last menstrual period 2 weeks ago'\n",
      " 'no vaginal discharge' 'no urinary symptoms' 'no bloody bowel movements'\n",
      " 'diminished appetite' '8 to 10 hours of acute pain']\n",
      "Predicted Targets(s): (female, normal lmp 2 weeks ago or normal last menstrual period 2 weeks ago, diminished appetite, no vaginal discharge, not sexually active, prior episodes of diarrhea, no urinary symptoms, weight loss, right sided lq abdominal pain or right lower quadrant abdominal pain, 20 year, no bloody bowel movements, recurrent bouts over past 6 months, 8 to 10 hours of acute pain, neck pain, heavy sweating, heavy caffeine use, viral symptoms or rhinorrhea or scratchy throat, no known illness contacts, lack of other thyroid symptoms, no depressed mood, weight gain, family history of migraines, decreased appetite, fatigue or difficulty concentrating, subjective fever, heavy periods or irregular periods, infertility hx or infertility history, exercise induced asthma, associated nausea, increased frequency recently, 35 year, vomiting, 1 day duration or 2 days duration, 45 year, no caffeine use, onset 3 years ago, no illicit drug use, stress due to caring for elderly parents, symptoms for 6 months, episode of hand numbness or episode of finger numbness, recent visit to emergency department with negative workup, meningococcal vaccine status unknown, chest pain, worse with deep breath or pleuritic, fatigue, subjective fevers, hot flashes, feels hot or feels clammy, 2 to 3 beers a week, 26 year, nausea, prior normal periods, no shortness of breath, 17 year, episodes last 15 to 30 minutes, photophobia, weight stable, shares an apartment, insomnia, 67 year, global headache or diffuse headache, irregular menses, increased stress, episodes of heart racing, no rash, recent heavy lifting at work or recent rock climbing, last menstrual period 2 months ago, associated throat tightness, no chest pain, loss of interest, lmp 2 months ago or last menstrual period 2 months ago, male, last pap smear i year ago, 44 year, auditory hallucination once, unsuccessful napping, no premenstrual symptoms, unprotected sex, darker bowel movements, minimal to no change with tums, visual hallucination once, fhx of depression or family history of depression, anxious or nervous, no blood in stool, recent upper respiratory symptoms, chest pressure, stress, no relief with motrin or no relief with tylenol, tossing and turning, irregular flow or irregular frequency or irregular intervals, sexually active, duration 3 weeks, associated feeling of impending doom, [UNK], post prandial bloating or fullness with meals, intermittent symptoms, diminished energy or feeling drained, myalgias, fhx of pud or family history of peptic ulcer disease, sharp or stabbing or 7 to 8 out of 10 on pain scale, onset 5 years ago, lightheaded, epigastric discomfort, recent nausea vomiting or recent flulike symptoms, duration x 1 day, difficulty with sleep, iud, vaginal dryness, nsaid use or nonsteroidal anti inflammatory drug use, associated sob or associated shortness of breath, no relief with asthma inhaler, no suicidal ideations, hallucinations after taking ambien, burning or gnawing or burning and gnawing, shortness of breath, getting worse or progressive or symptoms now daily, early wakening, sleep disturbance or early awakenings, son died 3 weeks ago, difficulty falling asleep, sleeping medication ineffective, caffeine use, heart pounding or heart racing, increased appetite, awakens at night, adderall use, family history of mi or family history of myocardial infarction, intermittent, few months duration, family history of thyroid disorder, duration 2 months, no hair changes or no nail changes or no temperature intolerance)\n",
      " \n",
      "Student notes: b'patient 44 f presenting 3 year history irregular periods varying often come duration well amount bleeding reports last anywhere 2 6 days present spotting heavy bleeding recent period 2 months ago normal lasted 4 days moderate flow accompanied pms symptoms back pain cramping breast tenderness also reports hot flashes vaginal dryness denies dyspareunia vaginal discharge weight changes fatigue mood chnages n v changes bm urination headache lightheadness sob chest pain abdominal pain first period age 14 came 4 days moderate flow every 28 days 3 years ago denies history stis ovarian cysts fibroids two nsvd recently 10 years ago pmh f htn hctz no prior surgery allergies occ alcohol use no smoking recreational drugs'\n",
      "Targets(s): ['female' 'weight stable' 'stress due to caring for elderly parents'\n",
      " 'no depressed mood' 'lack of other thyroid symptoms' 'insomnia'\n",
      " 'heavy caffeine use' 'decreased appetite' 'anxious or nervous' '45 year']\n",
      "Predicted Targets(s): (insomnia, stress due to caring for elderly parents, anxious or nervous, 45 year, lack of other thyroid symptoms, heavy caffeine use, female, weight stable, decreased appetite, no depressed mood, 20 year, fatigue, 35 year, no urinary symptoms, 8 to 10 hours of acute pain, minimal to no change with tums, unprotected sex, normal lmp 2 weeks ago or normal last menstrual period 2 weeks ago, darker bowel movements, right sided lq abdominal pain or right lower quadrant abdominal pain, weight gain, worse with deep breath or pleuritic, epigastric discomfort, nausea, meningococcal vaccine status unknown, infertility hx or infertility history, getting worse or progressive or symptoms now daily, awakens at night, heavy periods or irregular periods, prior episodes of diarrhea, nsaid use or nonsteroidal anti inflammatory drug use, duration 2 months, irregular flow or irregular frequency or irregular intervals, no relief with motrin or no relief with tylenol, fhx of pud or family history of peptic ulcer disease, myalgias, recurrent bouts over past 6 months, post prandial bloating or fullness with meals, no bloody bowel movements, male, heart pounding or heart racing, no vaginal discharge, last menstrual period 2 months ago, no suicidal ideations, stress, lightheaded, shares an apartment, difficulty falling asleep, no blood in stool, iud, diminished energy or feeling drained, sleep disturbance or early awakenings, symptoms for 6 months, subjective fever, viral symptoms or rhinorrhea or scratchy throat, fhx of depression or family history of depression, not sexually active, no known illness contacts, visual hallucination once, diminished appetite, associated sob or associated shortness of breath, duration 3 weeks, burning or gnawing or burning and gnawing, son died 3 weeks ago, recent nausea vomiting or recent flulike symptoms, loss of interest, intermittent symptoms, recent upper respiratory symptoms, auditory hallucination once, no rash, no hair changes or no nail changes or no temperature intolerance, no premenstrual symptoms, vaginal dryness, no chest pain, episodes of heart racing, caffeine use, fatigue or difficulty concentrating, chest pressure, recent visit to emergency department with negative workup, weight loss, shortness of breath, no illicit drug use, exercise induced asthma, tossing and turning, 2 to 3 beers a week, 1 day duration or 2 days duration, associated nausea, hallucinations after taking ambien, global headache or diffuse headache, 67 year, 17 year, onset 3 years ago, sleeping medication ineffective, last pap smear i year ago, sexually active, lmp 2 months ago or last menstrual period 2 months ago, increased appetite, no relief with asthma inhaler, hot flashes, sharp or stabbing or 7 to 8 out of 10 on pain scale, few months duration, onset 5 years ago, neck pain, chest pain, vomiting, 44 year, increased frequency recently, 26 year, feels hot or feels clammy, associated throat tightness, photophobia, duration x 1 day, intermittent, prior normal periods, no caffeine use, associated feeling of impending doom, family history of mi or family history of myocardial infarction, adderall use, increased stress, difficulty with sleep, early wakening, recent heavy lifting at work or recent rock climbing, episodes last 15 to 30 minutes, family history of thyroid disorder, unsuccessful napping, subjective fevers, heavy sweating, episode of hand numbness or episode of finger numbness, no shortness of breath, family history of migraines, [UNK], irregular menses)\n",
      " \n",
      "Student notes: b'45 year old woman no significant past medical history presents constant unbearable nervousness ongoing past month increased stressors taking care mother balancing work 2 kids generally feeling anxious professor used give lectures stopped research recently giving lectures past 2 weeks makes nervous reports loss appetite forces eat trouble falling asleep night able fall asleep sleeps throughout no surgical history occassional headache denies dizziness palpitations weight changes changes bowel movements nausea vomiting heat cold intolerance regular menses denies hot flashes denies family history mental health issues thyroid issues'\n",
      "Targets(s): ['female' 'vaginal dryness' 'stress'\n",
      " 'sleep disturbance or early awakenings' 'sexually active'\n",
      " 'recent nausea vomiting or recent flulike symptoms'\n",
      " 'prior normal periods' 'onset 3 years ago' 'no premenstrual symptoms'\n",
      " 'lmp 2 months ago or last menstrual period 2 months ago'\n",
      " 'last pap smear i year ago' 'iud' 'irregular menses'\n",
      " 'irregular flow or irregular frequency or irregular intervals'\n",
      " 'hot flashes' 'heavy sweating' '44 year']\n",
      "Predicted Targets(s): (female, last pap smear i year ago, no premenstrual symptoms, hot flashes, recent nausea vomiting or recent flulike symptoms, vaginal dryness, sleep disturbance or early awakenings, prior normal periods, irregular menses, heavy sweating, lmp 2 months ago or last menstrual period 2 months ago, 44 year, onset 3 years ago, sexually active, iud, stress, irregular flow or irregular frequency or irregular intervals, fatigue, weight gain, recent visit to emergency department with negative workup, no known illness contacts, neck pain, feels hot or feels clammy, vomiting, 20 year, subjective fever, viral symptoms or rhinorrhea or scratchy throat, male, symptoms for 6 months, heavy periods or irregular periods, no relief with motrin or no relief with tylenol, no rash, no bloody bowel movements, last menstrual period 2 months ago, 17 year, infertility hx or infertility history, associated nausea, no urinary symptoms, right sided lq abdominal pain or right lower quadrant abdominal pain, recurrent bouts over past 6 months, photophobia, heart pounding or heart racing, nausea, myalgias, global headache or diffuse headache, 35 year, unprotected sex, 8 to 10 hours of acute pain, no shortness of breath, onset 5 years ago, chest pain, associated sob or associated shortness of breath, family history of migraines, no chest pain, heavy caffeine use, family history of thyroid disorder, recent upper respiratory symptoms, 1 day duration or 2 days duration, shares an apartment, chest pressure, associated feeling of impending doom, normal lmp 2 weeks ago or normal last menstrual period 2 weeks ago, intermittent symptoms, getting worse or progressive or symptoms now daily, fatigue or difficulty concentrating, 2 to 3 beers a week, not sexually active, prior episodes of diarrhea, family history of mi or family history of myocardial infarction, episodes last 15 to 30 minutes, adderall use, increased frequency recently, loss of interest, nsaid use or nonsteroidal anti inflammatory drug use, lack of other thyroid symptoms, no suicidal ideations, no vaginal discharge, worse with deep breath or pleuritic, burning or gnawing or burning and gnawing, son died 3 weeks ago, 26 year, meningococcal vaccine status unknown, decreased appetite, fhx of depression or family history of depression, insomnia, no depressed mood, 45 year, recent heavy lifting at work or recent rock climbing, no caffeine use, difficulty with sleep, tossing and turning, diminished energy or feeling drained, associated throat tightness, weight stable, visual hallucination once, no hair changes or no nail changes or no temperature intolerance, unsuccessful napping, lightheaded, sleeping medication ineffective, caffeine use, hallucinations after taking ambien, no blood in stool, diminished appetite, 67 year, subjective fevers, few months duration, epigastric discomfort, duration 2 months, difficulty falling asleep, increased stress, awakens at night, minimal to no change with tums, auditory hallucination once, duration x 1 day, episodes of heart racing, early wakening, episode of hand numbness or episode of finger numbness, post prandial bloating or fullness with meals, anxious or nervous, duration 3 weeks, shortness of breath, no relief with asthma inhaler, exercise induced asthma, weight loss, no illicit drug use, fhx of pud or family history of peptic ulcer disease, intermittent, sharp or stabbing or 7 to 8 out of 10 on pain scale, increased appetite, stress due to caring for elderly parents, darker bowel movements, [UNK])\n",
      " \n",
      "Student notes: b'35 yo c stomach problems no fever pt states noying pain epigastric region 5 10 started 2 months ago pt nausea no vomiting no constipation diarrhea pt dark stools pt stressed becoz going thru divorce no recent wt loss pt complains bloatingv eating gastroparesis no acid reflux pmh back pain cobndtruction work nka meds tums otc doesnt work motrin back pain sh fee beers 2 3 week bu qut beer soda coz bloating gastroparesis epigastric pain construction worker sx h no sex active getting divore wife stressed'\n",
      "Targets(s): ['female' 'weight stable' 'stress due to caring for elderly parents'\n",
      " 'no depressed mood' 'lack of other thyroid symptoms' 'insomnia'\n",
      " 'heavy caffeine use' 'decreased appetite' 'anxious or nervous' '45 year']\n",
      "Predicted Targets(s): (insomnia, anxious or nervous, 45 year, stress due to caring for elderly parents, heavy caffeine use, decreased appetite, lack of other thyroid symptoms, weight stable, no depressed mood, female, no urinary symptoms, 20 year, normal lmp 2 weeks ago or normal last menstrual period 2 weeks ago, 35 year, fatigue, 8 to 10 hours of acute pain, epigastric discomfort, minimal to no change with tums, right sided lq abdominal pain or right lower quadrant abdominal pain, nsaid use or nonsteroidal anti inflammatory drug use, weight gain, unprotected sex, worse with deep breath or pleuritic, awakens at night, nausea, no bloody bowel movements, darker bowel movements, fhx of pud or family history of peptic ulcer disease, post prandial bloating or fullness with meals, getting worse or progressive or symptoms now daily, prior episodes of diarrhea, iud, no vaginal discharge, recurrent bouts over past 6 months, no suicidal ideations, duration 2 months, meningococcal vaccine status unknown, infertility hx or infertility history, heavy periods or irregular periods, myalgias, diminished energy or feeling drained, no blood in stool, not sexually active, loss of interest, symptoms for 6 months, irregular flow or irregular frequency or irregular intervals, fhx of depression or family history of depression, visual hallucination once, diminished appetite, last menstrual period 2 months ago, no relief with motrin or no relief with tylenol, difficulty falling asleep, recent upper respiratory symptoms, son died 3 weeks ago, lightheaded, viral symptoms or rhinorrhea or scratchy throat, male, recent nausea vomiting or recent flulike symptoms, stress, heart pounding or heart racing, sleep disturbance or early awakenings, subjective fever, auditory hallucination once, duration 3 weeks, no known illness contacts, no premenstrual symptoms, shortness of breath, burning or gnawing or burning and gnawing, associated sob or associated shortness of breath, tossing and turning, vaginal dryness, weight loss, hallucinations after taking ambien, sleeping medication ineffective, shares an apartment, fatigue or difficulty concentrating, intermittent symptoms, 67 year, increased appetite, associated nausea, episodes of heart racing, no rash, 17 year, no hair changes or no nail changes or no temperature intolerance, no illicit drug use, exercise induced asthma, no relief with asthma inhaler, 2 to 3 beers a week, no chest pain, few months duration, caffeine use, global headache or diffuse headache, sexually active, onset 3 years ago, recent visit to emergency department with negative workup, 1 day duration or 2 days duration, chest pressure, lmp 2 months ago or last menstrual period 2 months ago, hot flashes, onset 5 years ago, prior normal periods, duration x 1 day, sharp or stabbing or 7 to 8 out of 10 on pain scale, last pap smear i year ago, intermittent, vomiting, associated throat tightness, photophobia, neck pain, 44 year, feels hot or feels clammy, difficulty with sleep, chest pain, unsuccessful napping, increased frequency recently, family history of mi or family history of myocardial infarction, 26 year, recent heavy lifting at work or recent rock climbing, no caffeine use, subjective fevers, adderall use, associated feeling of impending doom, early wakening, family history of thyroid disorder, increased stress, no shortness of breath, episodes last 15 to 30 minutes, episode of hand numbness or episode of finger numbness, heavy sweating, family history of migraines, [UNK], irregular menses)\n",
      " \n",
      "Student notes: b'pmi 20 yo female c headache started yesterday morning dull constant 8 10 pain scale no radiation no alleviating factors exacerbated walking moving head says intense photophobia also refers feeling warm today no chills nausea 3 episodes greenish vomiting today denies previous episodes similar pain numbness pmh none meds ocp nkda fh mother migraine father hypercholesterolemia social alcohol 2 3 beers weekends no tobacco use illicit drugs smokes weed throughout week sexually active boyfriend'\n",
      "Targets(s): ['female' 'recent visit to emergency department with negative workup'\n",
      " 'onset 5 years ago' 'no illicit drug use' 'no chest pain'\n",
      " 'no caffeine use' 'increased stress' 'increased frequency recently'\n",
      " 'feels hot or feels clammy' 'fatigue or difficulty concentrating'\n",
      " 'episodes of heart racing' 'episodes last 15 to 30 minutes'\n",
      " 'episode of hand numbness or episode of finger numbness'\n",
      " 'associated throat tightness'\n",
      " 'associated sob or associated shortness of breath' 'associated nausea'\n",
      " 'associated feeling of impending doom' '26 year']\n",
      "Predicted Targets(s): (26 year, increased stress, associated feeling of impending doom, associated throat tightness, associated sob or associated shortness of breath, no illicit drug use, episode of hand numbness or episode of finger numbness, onset 5 years ago, episodes of heart racing, increased frequency recently, no caffeine use, recent visit to emergency department with negative workup, associated nausea, no chest pain, episodes last 15 to 30 minutes, feels hot or feels clammy, fatigue or difficulty concentrating, female, fatigue, irregular menses, recurrent bouts over past 6 months, 2 to 3 beers a week, male, unprotected sex, stress, 20 year, heavy periods or irregular periods, diminished appetite, 8 to 10 hours of acute pain, 35 year, right sided lq abdominal pain or right lower quadrant abdominal pain, prior episodes of diarrhea, viral symptoms or rhinorrhea or scratchy throat, no vaginal discharge, onset 3 years ago, infertility hx or infertility history, weight loss, family history of migraines, normal lmp 2 weeks ago or normal last menstrual period 2 weeks ago, no relief with asthma inhaler, last pap smear i year ago, no bloody bowel movements, weight stable, 45 year, 44 year, lack of other thyroid symptoms, not sexually active, burning or gnawing or burning and gnawing, insomnia, no urinary symptoms, lmp 2 months ago or last menstrual period 2 months ago, subjective fever, vaginal dryness, irregular flow or irregular frequency or irregular intervals, weight gain, exercise induced asthma, last menstrual period 2 months ago, recent nausea vomiting or recent flulike symptoms, fhx of depression or family history of depression, symptoms for 6 months, auditory hallucination once, early wakening, prior normal periods, worse with deep breath or pleuritic, heart pounding or heart racing, 17 year, tossing and turning, chest pressure, no rash, nausea, heavy caffeine use, caffeine use, lightheaded, sleep disturbance or early awakenings, heavy sweating, subjective fevers, intermittent symptoms, increased appetite, stress due to caring for elderly parents, darker bowel movements, adderall use, no premenstrual symptoms, no depressed mood, no hair changes or no nail changes or no temperature intolerance, awakens at night, diminished energy or feeling drained, few months duration, no relief with motrin or no relief with tylenol, difficulty falling asleep, minimal to no change with tums, decreased appetite, no shortness of breath, anxious or nervous, sharp or stabbing or 7 to 8 out of 10 on pain scale, family history of thyroid disorder, hot flashes, unsuccessful napping, photophobia, recent upper respiratory symptoms, neck pain, duration 2 months, meningococcal vaccine status unknown, no suicidal ideations, myalgias, difficulty with sleep, nsaid use or nonsteroidal anti inflammatory drug use, family history of mi or family history of myocardial infarction, shortness of breath, 67 year, no known illness contacts, global headache or diffuse headache, epigastric discomfort, loss of interest, shares an apartment, visual hallucination once, sleeping medication ineffective, sexually active, chest pain, no blood in stool, getting worse or progressive or symptoms now daily, recent heavy lifting at work or recent rock climbing, iud, post prandial bloating or fullness with meals, duration 3 weeks, son died 3 weeks ago, intermittent, duration x 1 day, 1 day duration or 2 days duration, fhx of pud or family history of peptic ulcer disease, [UNK], hallucinations after taking ambien, vomiting)\n",
      " \n",
      "Student notes: b'ms angela tompkins presented menorrhagia since 6 months ago periods lasted 7 days said used 2 pads day no associated events onset no pain bleeding nausia vomiting urinary bowel disturbances pmh none psh none medications none allergies none'\n",
      "Targets(s): ['female' 'weight stable' 'stress due to caring for elderly parents'\n",
      " 'no depressed mood' 'lack of other thyroid symptoms' 'insomnia'\n",
      " 'heavy caffeine use' 'decreased appetite' 'anxious or nervous' '45 year']\n",
      "Predicted Targets(s): (insomnia, anxious or nervous, 45 year, weight stable, heavy caffeine use, stress due to caring for elderly parents, decreased appetite, no depressed mood, female, lack of other thyroid symptoms, 20 year, fatigue, normal lmp 2 weeks ago or normal last menstrual period 2 weeks ago, 35 year, no urinary symptoms, 8 to 10 hours of acute pain, epigastric discomfort, nsaid use or nonsteroidal anti inflammatory drug use, nausea, worse with deep breath or pleuritic, weight gain, minimal to no change with tums, meningococcal vaccine status unknown, right sided lq abdominal pain or right lower quadrant abdominal pain, darker bowel movements, irregular flow or irregular frequency or irregular intervals, unprotected sex, no bloody bowel movements, myalgias, no vaginal discharge, associated sob or associated shortness of breath, lightheaded, awakens at night, heart pounding or heart racing, male, no relief with motrin or no relief with tylenol, prior episodes of diarrhea, iud, stress, duration 2 months, sleep disturbance or early awakenings, heavy periods or irregular periods, fhx of pud or family history of peptic ulcer disease, recurrent bouts over past 6 months, getting worse or progressive or symptoms now daily, post prandial bloating or fullness with meals, subjective fever, viral symptoms or rhinorrhea or scratchy throat, no suicidal ideations, not sexually active, no illicit drug use, fatigue or difficulty concentrating, last menstrual period 2 months ago, infertility hx or infertility history, diminished appetite, symptoms for 6 months, recent nausea vomiting or recent flulike symptoms, associated nausea, fhx of depression or family history of depression, shares an apartment, no hair changes or no nail changes or no temperature intolerance, no known illness contacts, episodes of heart racing, intermittent symptoms, recent upper respiratory symptoms, shortness of breath, no blood in stool, onset 5 years ago, recent visit to emergency department with negative workup, difficulty falling asleep, no premenstrual symptoms, burning or gnawing or burning and gnawing, no chest pain, diminished energy or feeling drained, visual hallucination once, vaginal dryness, no relief with asthma inhaler, loss of interest, caffeine use, no rash, 17 year, weight loss, associated feeling of impending doom, feels hot or feels clammy, 1 day duration or 2 days duration, exercise induced asthma, onset 3 years ago, few months duration, global headache or diffuse headache, chest pressure, associated throat tightness, auditory hallucination once, son died 3 weeks ago, sexually active, lmp 2 months ago or last menstrual period 2 months ago, family history of mi or family history of myocardial infarction, 26 year, duration 3 weeks, increased frequency recently, chest pain, neck pain, prior normal periods, hot flashes, hallucinations after taking ambien, 2 to 3 beers a week, tossing and turning, no caffeine use, 44 year, sharp or stabbing or 7 to 8 out of 10 on pain scale, last pap smear i year ago, increased appetite, vomiting, photophobia, episodes last 15 to 30 minutes, 67 year, sleeping medication ineffective, increased stress, duration x 1 day, family history of thyroid disorder, adderall use, intermittent, subjective fevers, episode of hand numbness or episode of finger numbness, recent heavy lifting at work or recent rock climbing, unsuccessful napping, early wakening, heavy sweating, difficulty with sleep, no shortness of breath, family history of migraines, irregular menses, [UNK])\n",
      " \n",
      "Student notes: b'45f nervousness hpi describes feeling constantly nervous overwhelmed past 3 wks onsent coincident change responsibilities english professor asked teach large classes also stressors home husband living groups parents handful take care decreased appetite sunday nights monday mornings work difficulty falling asleep night sleeps night good energy levels no fatique no cold hot intolerance good mood no si no palpitations nervousness discussed anyone ros non contributory except pmh nil psh nil meds tylenol headache allergies nkda sh non smoker etoh socially no drugs sexually active husband vasectomy monogamous fh father died mi 65'\n",
      "Targets(s): ['female' 'nausea' '20 year' 'vomiting'\n",
      " 'viral symptoms or rhinorrhea or scratchy throat' 'subjective fever'\n",
      " 'shares an apartment' 'photophobia'\n",
      " 'no relief with motrin or no relief with tylenol' 'no rash'\n",
      " 'no known illness contacts' 'neck pain' 'myalgias'\n",
      " 'meningococcal vaccine status unknown'\n",
      " 'global headache or diffuse headache' 'family history of migraines'\n",
      " '1 day duration or 2 days duration']\n",
      "Predicted Targets(s): (global headache or diffuse headache, shares an apartment, photophobia, 20 year, meningococcal vaccine status unknown, vomiting, neck pain, female, no known illness contacts, myalgias, 1 day duration or 2 days duration, viral symptoms or rhinorrhea or scratchy throat, subjective fever, no relief with motrin or no relief with tylenol, family history of migraines, no rash, nausea, no bloody bowel movements, right sided lq abdominal pain or right lower quadrant abdominal pain, prior episodes of diarrhea, 8 to 10 hours of acute pain, diminished appetite, not sexually active, recurrent bouts over past 6 months, normal lmp 2 weeks ago or normal last menstrual period 2 weeks ago, no vaginal discharge, no urinary symptoms, weight loss, increased frequency recently, last menstrual period 2 months ago, fhx of depression or family history of depression, weight stable, decreased appetite, lack of other thyroid symptoms, fatigue or difficulty concentrating, weight gain, unprotected sex, sharp or stabbing or 7 to 8 out of 10 on pain scale, chest pressure, anxious or nervous, recent heavy lifting at work or recent rock climbing, worse with deep breath or pleuritic, duration x 1 day, male, exercise induced asthma, sexually active, recent upper respiratory symptoms, chest pain, no relief with asthma inhaler, family history of thyroid disorder, lmp 2 months ago or last menstrual period 2 months ago, increased stress, post prandial bloating or fullness with meals, symptoms for 6 months, heart pounding or heart racing, associated throat tightness, sleep disturbance or early awakenings, infertility hx or infertility history, diminished energy or feeling drained, recent nausea vomiting or recent flulike symptoms, episode of hand numbness or episode of finger numbness, no shortness of breath, associated feeling of impending doom, onset 3 years ago, nsaid use or nonsteroidal anti inflammatory drug use, duration 3 weeks, difficulty falling asleep, duration 2 months, prior normal periods, no depressed mood, irregular flow or irregular frequency or irregular intervals, lightheaded, minimal to no change with tums, associated sob or associated shortness of breath, onset 5 years ago, tossing and turning, vaginal dryness, heavy caffeine use, few months duration, fatigue, 2 to 3 beers a week, heavy sweating, irregular menses, stress, no premenstrual symptoms, last pap smear i year ago, no hair changes or no nail changes or no temperature intolerance, 45 year, intermittent, no chest pain, 17 year, 44 year, subjective fevers, feels hot or feels clammy, son died 3 weeks ago, visual hallucination once, stress due to caring for elderly parents, insomnia, difficulty with sleep, adderall use, heavy periods or irregular periods, episodes last 15 to 30 minutes, 67 year, hallucinations after taking ambien, increased appetite, intermittent symptoms, caffeine use, no illicit drug use, 35 year, unsuccessful napping, episodes of heart racing, hot flashes, associated nausea, family history of mi or family history of myocardial infarction, loss of interest, early wakening, burning or gnawing or burning and gnawing, darker bowel movements, epigastric discomfort, shortness of breath, fhx of pud or family history of peptic ulcer disease, no suicidal ideations, no blood in stool, auditory hallucination once, recent visit to emergency department with negative workup, [UNK], sleeping medication ineffective, awakens at night, 26 year, iud, no caffeine use, getting worse or progressive or symptoms now daily)\n",
      " \n",
      "Student notes: b'mrs wicks 67 yo female htn presents 3 weeks difficulty sleeping trouble falling asleep staying asleep waking early morning sleeps husband noticed snoring sleep walking stated last nigh thought heard neighbor party turned real 4 days ago thought saw son kitchen son passed feb 1 due motor vehicle crash feeling sad time endorses decreased interests activities increased appeptite decreased energy denies decreased concentration feeling guilty hopeless suicidal ideation time ros no constipation diarrhea dry skin pmh htn breast cancer status post lumpectomy chemotherapy radiation remission 11 years psh appendectomy fh mother depression sh no illicit drugs drinks sometimes lives h'\n",
      "Targets(s): ['nausea' '35 year' 'male' 'post prandial bloating or fullness with meals'\n",
      " 'nsaid use or nonsteroidal anti inflammatory drug use'\n",
      " 'no blood in stool' 'minimal to no change with tums' 'intermittent'\n",
      " 'getting worse or progressive or symptoms now daily'\n",
      " 'fhx of pud or family history of peptic ulcer disease'\n",
      " 'epigastric discomfort' 'duration 2 months' 'darker bowel movements'\n",
      " 'burning or gnawing or burning and gnawing' 'awakens at night'\n",
      " '2 to 3 beers a week']\n",
      "Predicted Targets(s): (getting worse or progressive or symptoms now daily, awakens at night, burning or gnawing or burning and gnawing, minimal to no change with tums, intermittent, 2 to 3 beers a week, fhx of pud or family history of peptic ulcer disease, epigastric discomfort, duration 2 months, post prandial bloating or fullness with meals, no blood in stool, male, nsaid use or nonsteroidal anti inflammatory drug use, darker bowel movements, nausea, 35 year, 17 year, no relief with asthma inhaler, recent heavy lifting at work or recent rock climbing, duration x 1 day, sharp or stabbing or 7 to 8 out of 10 on pain scale, no shortness of breath, adderall use, fatigue, onset 5 years ago, neck pain, heavy periods or irregular periods, weight gain, viral symptoms or rhinorrhea or scratchy throat, family history of mi or family history of myocardial infarction, symptoms for 6 months, prior episodes of diarrhea, infertility hx or infertility history, normal lmp 2 weeks ago or normal last menstrual period 2 weeks ago, heavy caffeine use, sleep disturbance or early awakenings, last pap smear i year ago, iud, 20 year, recent visit to emergency department with negative workup, associated nausea, exercise induced asthma, heart pounding or heart racing, no bloody bowel movements, decreased appetite, no depressed mood, weight stable, recurrent bouts over past 6 months, onset 3 years ago, 67 year, meningococcal vaccine status unknown, heavy sweating, no vaginal discharge, no rash, chest pain, diminished energy or feeling drained, weight loss, family history of thyroid disorder, unprotected sex, family history of migraines, irregular menses, lightheaded, not sexually active, son died 3 weeks ago, diminished appetite, female, caffeine use, no suicidal ideations, no urinary symptoms, worse with deep breath or pleuritic, hot flashes, 45 year, early wakening, lmp 2 months ago or last menstrual period 2 months ago, shortness of breath, associated feeling of impending doom, 8 to 10 hours of acute pain, stress due to caring for elderly parents, lack of other thyroid symptoms, no hair changes or no nail changes or no temperature intolerance, fatigue or difficulty concentrating, stress, sexually active, 1 day duration or 2 days duration, vomiting, anxious or nervous, shares an apartment, subjective fevers, insomnia, chest pressure, no illicit drug use, fhx of depression or family history of depression, difficulty with sleep, right sided lq abdominal pain or right lower quadrant abdominal pain, global headache or diffuse headache, unsuccessful napping, last menstrual period 2 months ago, increased stress, 44 year, episode of hand numbness or episode of finger numbness, 26 year, prior normal periods, no known illness contacts, increased appetite, irregular flow or irregular frequency or irregular intervals, duration 3 weeks, photophobia, no caffeine use, myalgias, vaginal dryness, recent upper respiratory symptoms, associated throat tightness, no relief with motrin or no relief with tylenol, associated sob or associated shortness of breath, few months duration, episodes of heart racing, auditory hallucination once, intermittent symptoms, [UNK], no premenstrual symptoms, feels hot or feels clammy, recent nausea vomiting or recent flulike symptoms, tossing and turning, hallucinations after taking ambien, loss of interest, no chest pain, difficulty falling asleep, increased frequency recently, subjective fever, visual hallucination once, episodes last 15 to 30 minutes, sleeping medication ineffective)\n",
      " \n",
      "Student notes: b'45 yr female complains nervousness patient describes constant anxiety past weeks first time feeling way no sweating no palpitations no hyperventilation g2p2 stressful family situation lost weight memory intact sleeps 7hrs day trouble falling sleep no changes bowel movements no changes micturation pmh irrelevant allergies none meds ocassional acetaminophen headache married husband libido diminished lately fmhx father died mi lmp 2 weeks ago'\n",
      "Targets(s): ['female' 'weight stable' 'stress due to caring for elderly parents'\n",
      " 'no depressed mood' 'lack of other thyroid symptoms' 'insomnia'\n",
      " 'heavy caffeine use' 'decreased appetite' 'anxious or nervous' '45 year']\n",
      "Predicted Targets(s): (insomnia, female, anxious or nervous, heavy caffeine use, 45 year, stress due to caring for elderly parents, decreased appetite, weight stable, lack of other thyroid symptoms, no depressed mood, fatigue, worse with deep breath or pleuritic, no urinary symptoms, 8 to 10 hours of acute pain, weight gain, 20 year, normal lmp 2 weeks ago or normal last menstrual period 2 weeks ago, irregular flow or irregular frequency or irregular intervals, right sided lq abdominal pain or right lower quadrant abdominal pain, 35 year, iud, no suicidal ideations, unprotected sex, lightheaded, sleep disturbance or early awakenings, associated sob or associated shortness of breath, prior episodes of diarrhea, stress, no vaginal discharge, vaginal dryness, recent nausea vomiting or recent flulike symptoms, no bloody bowel movements, epigastric discomfort, heart pounding or heart racing, heavy periods or irregular periods, male, intermittent symptoms, loss of interest, visual hallucination once, fhx of depression or family history of depression, fatigue or difficulty concentrating, 17 year, onset 5 years ago, infertility hx or infertility history, nsaid use or nonsteroidal anti inflammatory drug use, diminished energy or feeling drained, meningococcal vaccine status unknown, recurrent bouts over past 6 months, symptoms for 6 months, subjective fever, difficulty falling asleep, no chest pain, recent upper respiratory symptoms, no illicit drug use, last menstrual period 2 months ago, not sexually active, associated nausea, no premenstrual symptoms, getting worse or progressive or symptoms now daily, recent visit to emergency department with negative workup, minimal to no change with tums, myalgias, sleeping medication ineffective, shortness of breath, episodes of heart racing, auditory hallucination once, 44 year, son died 3 weeks ago, awakens at night, onset 3 years ago, increased frequency recently, diminished appetite, no hair changes or no nail changes or no temperature intolerance, no relief with motrin or no relief with tylenol, nausea, prior normal periods, lmp 2 months ago or last menstrual period 2 months ago, 67 year, darker bowel movements, sexually active, 26 year, hot flashes, no blood in stool, duration 2 months, viral symptoms or rhinorrhea or scratchy throat, no known illness contacts, last pap smear i year ago, few months duration, duration 3 weeks, no caffeine use, hallucinations after taking ambien, associated throat tightness, post prandial bloating or fullness with meals, tossing and turning, shares an apartment, caffeine use, feels hot or feels clammy, episodes last 15 to 30 minutes, no relief with asthma inhaler, fhx of pud or family history of peptic ulcer disease, chest pressure, associated feeling of impending doom, burning or gnawing or burning and gnawing, increased appetite, increased stress, exercise induced asthma, weight loss, no rash, family history of mi or family history of myocardial infarction, chest pain, unsuccessful napping, adderall use, difficulty with sleep, duration x 1 day, global headache or diffuse headache, family history of thyroid disorder, 1 day duration or 2 days duration, early wakening, 2 to 3 beers a week, subjective fevers, episode of hand numbness or episode of finger numbness, photophobia, heavy sweating, recent heavy lifting at work or recent rock climbing, sharp or stabbing or 7 to 8 out of 10 on pain scale, neck pain, intermittent, vomiting, no shortness of breath, irregular menses, family history of migraines, [UNK])\n",
      " \n",
      "Student notes: b'ms tomkins 35 year old female 6 months heavy menstrual bleeding irregular menses previously regular periods every 5 6 weeks normal bleeding though last 6 months 2 menses heavy bleeding requiring change tampon every couple hours menses last 7 days heaviest first day never occured no blood clots no spotting periods no new medications menstrual cramping first day menses lmp 2 months ago normal pap 6 months ago recent 10 lb weight gain eating no cold intolerance no new hair growth pmh infertility meds none nkda fh unremarkable social sexually active boyfriend 2 adopted children no condom use infrequent alcohol use no smoking drug use'\n",
      "Targets(s): ['nausea' '35 year' 'male' 'post prandial bloating or fullness with meals'\n",
      " 'nsaid use or nonsteroidal anti inflammatory drug use'\n",
      " 'no blood in stool' 'minimal to no change with tums' 'intermittent'\n",
      " 'getting worse or progressive or symptoms now daily'\n",
      " 'fhx of pud or family history of peptic ulcer disease'\n",
      " 'epigastric discomfort' 'duration 2 months' 'darker bowel movements'\n",
      " 'burning or gnawing or burning and gnawing' 'awakens at night'\n",
      " '2 to 3 beers a week']\n",
      "Predicted Targets(s): (getting worse or progressive or symptoms now daily, minimal to no change with tums, awakens at night, fhx of pud or family history of peptic ulcer disease, epigastric discomfort, duration 2 months, burning or gnawing or burning and gnawing, 2 to 3 beers a week, male, no blood in stool, intermittent, post prandial bloating or fullness with meals, darker bowel movements, nsaid use or nonsteroidal anti inflammatory drug use, 35 year, nausea, 17 year, weight gain, no relief with asthma inhaler, recent heavy lifting at work or recent rock climbing, fatigue, weight stable, heavy periods or irregular periods, heavy caffeine use, symptoms for 6 months, sharp or stabbing or 7 to 8 out of 10 on pain scale, no depressed mood, duration x 1 day, infertility hx or infertility history, neck pain, no shortness of breath, viral symptoms or rhinorrhea or scratchy throat, decreased appetite, meningococcal vaccine status unknown, lack of other thyroid symptoms, unprotected sex, stress due to caring for elderly parents, sleep disturbance or early awakenings, exercise induced asthma, adderall use, anxious or nervous, no rash, 45 year, onset 5 years ago, iud, heart pounding or heart racing, female, insomnia, normal lmp 2 weeks ago or normal last menstrual period 2 weeks ago, 20 year, family history of migraines, 67 year, family history of mi or family history of myocardial infarction, 1 day duration or 2 days duration, family history of thyroid disorder, last pap smear i year ago, diminished energy or feeling drained, heavy sweating, chest pain, worse with deep breath or pleuritic, prior episodes of diarrhea, not sexually active, sexually active, recurrent bouts over past 6 months, recent visit to emergency department with negative workup, associated nausea, hot flashes, no bloody bowel movements, onset 3 years ago, caffeine use, no hair changes or no nail changes or no temperature intolerance, son died 3 weeks ago, no suicidal ideations, shares an apartment, lightheaded, shortness of breath, lmp 2 months ago or last menstrual period 2 months ago, weight loss, diminished appetite, 8 to 10 hours of acute pain, stress, fhx of depression or family history of depression, no vaginal discharge, last menstrual period 2 months ago, irregular menses, vomiting, recent upper respiratory symptoms, myalgias, early wakening, associated feeling of impending doom, fatigue or difficulty concentrating, global headache or diffuse headache, no urinary symptoms, subjective fevers, no known illness contacts, photophobia, increased appetite, no relief with motrin or no relief with tylenol, unsuccessful napping, no illicit drug use, duration 3 weeks, 44 year, prior normal periods, chest pressure, vaginal dryness, right sided lq abdominal pain or right lower quadrant abdominal pain, difficulty with sleep, irregular flow or irregular frequency or irregular intervals, increased stress, episode of hand numbness or episode of finger numbness, 26 year, few months duration, no caffeine use, associated sob or associated shortness of breath, episodes of heart racing, associated throat tightness, auditory hallucination once, recent nausea vomiting or recent flulike symptoms, intermittent symptoms, tossing and turning, [UNK], loss of interest, feels hot or feels clammy, no premenstrual symptoms, hallucinations after taking ambien, subjective fever, difficulty falling asleep, no chest pain, visual hallucination once, increased frequency recently, episodes last 15 to 30 minutes, sleeping medication ineffective)\n",
      " \n",
      "Student notes: b'hpi 17 man no pmh presenting 5 6 episodes palpitations last 2 3 months reports no triggers nothing improves symptoms episodes last 3 4 minutes last one 2 days ago lasted 10 minutes accompanied midline chest pressure lightheadedness shortness breath no chest pain pressure radiate no diaphoresis syncope no history suggestive sudden cardiac death family mis young age uses roommates adderall prescription times week last used 3 4 days ago order improve school performance ros w neg pmh none psh none meds none prescribed use roommate adderall allergies none sh student 3 4 beers weekends never tobacco marijuana adderall mentioned never recreational drugs occasional caffeine use sexually active girlfriend monogamous'\n",
      "Targets(s): ['female' 'weight stable' 'stress due to caring for elderly parents'\n",
      " 'no depressed mood' 'lack of other thyroid symptoms' 'insomnia'\n",
      " 'heavy caffeine use' 'decreased appetite' 'anxious or nervous' '45 year']\n",
      "Predicted Targets(s): (insomnia, stress due to caring for elderly parents, anxious or nervous, female, decreased appetite, 45 year, heavy caffeine use, lack of other thyroid symptoms, weight stable, no depressed mood, no suicidal ideations, diminished energy or feeling drained, duration 3 weeks, fhx of depression or family history of depression, difficulty falling asleep, visual hallucination once, loss of interest, auditory hallucination once, son died 3 weeks ago, hallucinations after taking ambien, tossing and turning, sleeping medication ineffective, 20 year, increased appetite, 67 year, fhx of pud or family history of peptic ulcer disease, nausea, fatigue, epigastric discomfort, getting worse or progressive or symptoms now daily, minimal to no change with tums, post prandial bloating or fullness with meals, prior episodes of diarrhea, no urinary symptoms, nsaid use or nonsteroidal anti inflammatory drug use, darker bowel movements, 8 to 10 hours of acute pain, 35 year, male, normal lmp 2 weeks ago or normal last menstrual period 2 weeks ago, awakens at night, worse with deep breath or pleuritic, unprotected sex, difficulty with sleep, no blood in stool, heart pounding or heart racing, duration 2 months, meningococcal vaccine status unknown, weight gain, heavy periods or irregular periods, no relief with motrin or no relief with tylenol, unsuccessful napping, iud, lightheaded, burning or gnawing or burning and gnawing, no bloody bowel movements, early wakening, right sided lq abdominal pain or right lower quadrant abdominal pain, irregular flow or irregular frequency or irregular intervals, viral symptoms or rhinorrhea or scratchy throat, recurrent bouts over past 6 months, infertility hx or infertility history, diminished appetite, myalgias, caffeine use, 17 year, subjective fever, shares an apartment, no known illness contacts, stress, sleep disturbance or early awakenings, not sexually active, recent upper respiratory symptoms, weight loss, exercise induced asthma, chest pressure, no rash, no relief with asthma inhaler, 1 day duration or 2 days duration, recent nausea vomiting or recent flulike symptoms, 2 to 3 beers a week, last menstrual period 2 months ago, symptoms for 6 months, global headache or diffuse headache, no vaginal discharge, shortness of breath, intermittent symptoms, few months duration, sexually active, onset 3 years ago, no hair changes or no nail changes or no temperature intolerance, neck pain, sharp or stabbing or 7 to 8 out of 10 on pain scale, vaginal dryness, vomiting, associated sob or associated shortness of breath, episodes of heart racing, prior normal periods, duration x 1 day, fatigue or difficulty concentrating, intermittent, adderall use, photophobia, no premenstrual symptoms, family history of mi or family history of myocardial infarction, recent heavy lifting at work or recent rock climbing, 44 year, last pap smear i year ago, no chest pain, associated nausea, onset 5 years ago, lmp 2 months ago or last menstrual period 2 months ago, hot flashes, subjective fevers, no illicit drug use, chest pain, no shortness of breath, associated throat tightness, feels hot or feels clammy, no caffeine use, family history of thyroid disorder, recent visit to emergency department with negative workup, increased frequency recently, heavy sweating, increased stress, 26 year, family history of migraines, episodes last 15 to 30 minutes, episode of hand numbness or episode of finger numbness, associated feeling of impending doom, [UNK], irregular menses)\n",
      " \n",
      "Student notes: b'angela tomkins 35 yo f presents menstrual abnormalities last 6 months states periods gotten apart heavier occured 2x lsat 5 months lasting 7 days requiring tampon every couple hours normal level cramping contrast periods every 4 5 weeks lasting 3 days requiring 3 tampons one day never pregnent though tried 9 years ex husband never treated std knowledge menarche 12 years old no family history gynecologic problems recent pap smear 6 months ago normal according patient agained 10 lbs last 6 months fatigue reported no changes hot cold tolerance pmh no diagnoses knowledge surgical history none currend medications none allergies nkda family history aunt breast cancer maternal grandmother cervical cancer social adopted daugh'\n",
      "Targets(s): ['female' 'vaginal dryness' 'stress'\n",
      " 'sleep disturbance or early awakenings' 'sexually active'\n",
      " 'recent nausea vomiting or recent flulike symptoms'\n",
      " 'prior normal periods' 'onset 3 years ago' 'no premenstrual symptoms'\n",
      " 'lmp 2 months ago or last menstrual period 2 months ago'\n",
      " 'last pap smear i year ago' 'iud' 'irregular menses'\n",
      " 'irregular flow or irregular frequency or irregular intervals'\n",
      " 'hot flashes' 'heavy sweating' '44 year']\n",
      "Predicted Targets(s): (female, hot flashes, last pap smear i year ago, no premenstrual symptoms, vaginal dryness, recent nausea vomiting or recent flulike symptoms, 44 year, sexually active, iud, sleep disturbance or early awakenings, irregular menses, onset 3 years ago, prior normal periods, heavy sweating, lmp 2 months ago or last menstrual period 2 months ago, irregular flow or irregular frequency or irregular intervals, stress, fatigue, weight gain, symptoms for 6 months, heavy periods or irregular periods, infertility hx or infertility history, last menstrual period 2 months ago, 35 year, unprotected sex, recent visit to emergency department with negative workup, no shortness of breath, male, feels hot or feels clammy, no urinary symptoms, recurrent bouts over past 6 months, neck pain, chest pain, 8 to 10 hours of acute pain, recent upper respiratory symptoms, normal lmp 2 weeks ago or normal last menstrual period 2 weeks ago, right sided lq abdominal pain or right lower quadrant abdominal pain, heavy caffeine use, 17 year, no known illness contacts, no relief with motrin or no relief with tylenol, no bloody bowel movements, 20 year, getting worse or progressive or symptoms now daily, associated nausea, 2 to 3 beers a week, no rash, subjective fever, vomiting, chest pressure, onset 5 years ago, no chest pain, no suicidal ideations, prior episodes of diarrhea, viral symptoms or rhinorrhea or scratchy throat, nsaid use or nonsteroidal anti inflammatory drug use, photophobia, myalgias, loss of interest, fatigue or difficulty concentrating, 1 day duration or 2 days duration, nausea, not sexually active, global headache or diffuse headache, worse with deep breath or pleuritic, son died 3 weeks ago, heart pounding or heart racing, associated sob or associated shortness of breath, intermittent symptoms, difficulty with sleep, tossing and turning, no vaginal discharge, 45 year, family history of migraines, insomnia, family history of thyroid disorder, fhx of depression or family history of depression, burning or gnawing or burning and gnawing, decreased appetite, recent heavy lifting at work or recent rock climbing, episodes last 15 to 30 minutes, lack of other thyroid symptoms, no depressed mood, unsuccessful napping, increased frequency recently, diminished energy or feeling drained, associated feeling of impending doom, shares an apartment, weight stable, no blood in stool, 67 year, sleeping medication ineffective, no caffeine use, family history of mi or family history of myocardial infarction, epigastric discomfort, adderall use, 26 year, visual hallucination once, hallucinations after taking ambien, difficulty falling asleep, subjective fevers, lightheaded, meningococcal vaccine status unknown, awakens at night, associated throat tightness, minimal to no change with tums, no hair changes or no nail changes or no temperature intolerance, diminished appetite, duration 2 months, auditory hallucination once, early wakening, duration x 1 day, caffeine use, episodes of heart racing, increased stress, duration 3 weeks, few months duration, anxious or nervous, post prandial bloating or fullness with meals, exercise induced asthma, fhx of pud or family history of peptic ulcer disease, episode of hand numbness or episode of finger numbness, weight loss, sharp or stabbing or 7 to 8 out of 10 on pain scale, no relief with asthma inhaler, shortness of breath, intermittent, no illicit drug use, increased appetite, stress due to caring for elderly parents, darker bowel movements, [UNK])\n",
      " \n",
      "Student notes: b'stephanie madden 20 year old female come doctor office complaining headache reports ahd stiff neck ha past day reports bright lights hurt head general pain denies aura preceding headache reports nothing like happened vommitted 3 times past day tylenol helped medical hs no signioficant medical hx surgical hx no surgical hx famhx reports mother history migraines father hld nka nkda immuinization status unkown no meningitis vaccine medications none sochx works retail lives friend no tobacco use smoke smokeless etoh marijuana use sexually active boy friend use condoms ros no cp sob no ear throat pain no abdominal pain last menses 3 weeks'\n",
      "Targets(s): ['female' 'weight stable' 'stress due to caring for elderly parents'\n",
      " 'no depressed mood' 'lack of other thyroid symptoms' 'insomnia'\n",
      " 'heavy caffeine use' 'decreased appetite' 'anxious or nervous' '45 year']\n",
      "Predicted Targets(s): (insomnia, female, anxious or nervous, 45 year, weight stable, lack of other thyroid symptoms, heavy caffeine use, stress due to caring for elderly parents, decreased appetite, no depressed mood, 20 year, fatigue, 35 year, no urinary symptoms, unprotected sex, 8 to 10 hours of acute pain, weight gain, normal lmp 2 weeks ago or normal last menstrual period 2 weeks ago, minimal to no change with tums, meningococcal vaccine status unknown, irregular flow or irregular frequency or irregular intervals, right sided lq abdominal pain or right lower quadrant abdominal pain, nausea, epigastric discomfort, no relief with motrin or no relief with tylenol, myalgias, infertility hx or infertility history, no vaginal discharge, darker bowel movements, associated sob or associated shortness of breath, heavy periods or irregular periods, nsaid use or nonsteroidal anti inflammatory drug use, prior episodes of diarrhea, getting worse or progressive or symptoms now daily, stress, last menstrual period 2 months ago, iud, duration 2 months, awakens at night, no bloody bowel movements, recurrent bouts over past 6 months, symptoms for 6 months, heart pounding or heart racing, sleep disturbance or early awakenings, subjective fever, post prandial bloating or fullness with meals, worse with deep breath or pleuritic, no known illness contacts, viral symptoms or rhinorrhea or scratchy throat, not sexually active, fhx of pud or family history of peptic ulcer disease, recent nausea vomiting or recent flulike symptoms, male, shares an apartment, lightheaded, no blood in stool, associated nausea, episodes of heart racing, no illicit drug use, difficulty falling asleep, no suicidal ideations, fhx of depression or family history of depression, no chest pain, burning or gnawing or burning and gnawing, fatigue or difficulty concentrating, intermittent symptoms, no rash, diminished energy or feeling drained, diminished appetite, recent visit to emergency department with negative workup, no premenstrual symptoms, onset 5 years ago, visual hallucination once, recent upper respiratory symptoms, vaginal dryness, no hair changes or no nail changes or no temperature intolerance, onset 3 years ago, sexually active, shortness of breath, son died 3 weeks ago, loss of interest, feels hot or feels clammy, caffeine use, auditory hallucination once, global headache or diffuse headache, 1 day duration or 2 days duration, chest pressure, hot flashes, lmp 2 months ago or last menstrual period 2 months ago, 2 to 3 beers a week, associated feeling of impending doom, last pap smear i year ago, associated throat tightness, duration 3 weeks, weight loss, 44 year, photophobia, neck pain, few months duration, increased frequency recently, no relief with asthma inhaler, 17 year, 26 year, tossing and turning, prior normal periods, increased stress, exercise induced asthma, hallucinations after taking ambien, 67 year, no caffeine use, vomiting, increased appetite, episodes last 15 to 30 minutes, sleeping medication ineffective, sharp or stabbing or 7 to 8 out of 10 on pain scale, family history of mi or family history of myocardial infarction, intermittent, chest pain, episode of hand numbness or episode of finger numbness, duration x 1 day, adderall use, heavy sweating, family history of thyroid disorder, difficulty with sleep, unsuccessful napping, early wakening, subjective fevers, recent heavy lifting at work or recent rock climbing, family history of migraines, no shortness of breath, irregular menses, [UNK])\n",
      " \n",
      "Student notes: b'35 yo stomach pain pain en epigastrium started 2 months ago gotten frequent interrupting sleep associated nausea bloating meals associated fatigue due sleep issues dark stools denies weigth changes diarrhea constipation vomiting fever chills pmh back pain meds motrin tums psh none nkda fh uncle gastric ulcer 2'\n",
      "Targets(s): ['nausea' '35 year' 'male' 'post prandial bloating or fullness with meals'\n",
      " 'nsaid use or nonsteroidal anti inflammatory drug use'\n",
      " 'no blood in stool' 'minimal to no change with tums' 'intermittent'\n",
      " 'getting worse or progressive or symptoms now daily'\n",
      " 'fhx of pud or family history of peptic ulcer disease'\n",
      " 'epigastric discomfort' 'duration 2 months' 'darker bowel movements'\n",
      " 'burning or gnawing or burning and gnawing' 'awakens at night'\n",
      " '2 to 3 beers a week']\n",
      "Predicted Targets(s): (intermittent, awakens at night, getting worse or progressive or symptoms now daily, fhx of pud or family history of peptic ulcer disease, duration 2 months, burning or gnawing or burning and gnawing, minimal to no change with tums, no blood in stool, epigastric discomfort, post prandial bloating or fullness with meals, 2 to 3 beers a week, nsaid use or nonsteroidal anti inflammatory drug use, nausea, darker bowel movements, male, 35 year, decreased appetite, no depressed mood, heavy caffeine use, adderall use, symptoms for 6 months, heavy periods or irregular periods, weight stable, fatigue, 17 year, infertility hx or infertility history, no relief with asthma inhaler, stress due to caring for elderly parents, duration x 1 day, sharp or stabbing or 7 to 8 out of 10 on pain scale, weight gain, 45 year, lack of other thyroid symptoms, anxious or nervous, viral symptoms or rhinorrhea or scratchy throat, recent heavy lifting at work or recent rock climbing, son died 3 weeks ago, normal lmp 2 weeks ago or normal last menstrual period 2 weeks ago, neck pain, family history of mi or family history of myocardial infarction, insomnia, onset 5 years ago, no rash, 67 year, not sexually active, no suicidal ideations, 20 year, meningococcal vaccine status unknown, sleep disturbance or early awakenings, unprotected sex, diminished energy or feeling drained, associated nausea, no bloody bowel movements, prior episodes of diarrhea, recent visit to emergency department with negative workup, recurrent bouts over past 6 months, female, iud, no vaginal discharge, family history of thyroid disorder, no hair changes or no nail changes or no temperature intolerance, heavy sweating, no shortness of breath, heart pounding or heart racing, onset 3 years ago, 1 day duration or 2 days duration, 8 to 10 hours of acute pain, exercise induced asthma, lightheaded, family history of migraines, caffeine use, early wakening, difficulty with sleep, weight loss, sexually active, shortness of breath, chest pain, fatigue or difficulty concentrating, irregular menses, last pap smear i year ago, fhx of depression or family history of depression, diminished appetite, unsuccessful napping, last menstrual period 2 months ago, hot flashes, associated feeling of impending doom, vomiting, increased appetite, no urinary symptoms, stress, worse with deep breath or pleuritic, global headache or diffuse headache, shares an apartment, right sided lq abdominal pain or right lower quadrant abdominal pain, subjective fevers, lmp 2 months ago or last menstrual period 2 months ago, duration 3 weeks, no known illness contacts, no illicit drug use, photophobia, myalgias, increased stress, chest pressure, vaginal dryness, recent upper respiratory symptoms, episode of hand numbness or episode of finger numbness, irregular flow or irregular frequency or irregular intervals, prior normal periods, no relief with motrin or no relief with tylenol, 44 year, associated sob or associated shortness of breath, associated throat tightness, few months duration, 26 year, episodes of heart racing, tossing and turning, no caffeine use, auditory hallucination once, hallucinations after taking ambien, intermittent symptoms, loss of interest, [UNK], recent nausea vomiting or recent flulike symptoms, no premenstrual symptoms, feels hot or feels clammy, no chest pain, subjective fever, visual hallucination once, difficulty falling asleep, increased frequency recently, episodes last 15 to 30 minutes, sleeping medication ineffective)\n",
      " \n",
      "Student notes: b'17 yo male no pmhx presenting heart palpitations x2 months 5 6 episodes total course 2 months episdoe lasting 3 4 min long previously no pain shortness breath last episode pt noticed chest pressure sob resolved resolution palpitations pt describes sensation pounding chest episdoes happen randomly no preciptiating events never night note patient taking roommmate adderall prescription 2x week unknown dose pmh none psh none meds meds adderall non presribed doctor exercise active intramural sports runs 2 3 miles wk diet college meal plan fam hx mom thyroid problem unknown takes meds dad mi age 52 alcohol 3 4 drinks weekend cage negative tobacco none drugs marijuana x1 life l sexually active girlfriend x1 year wears condoms'\n",
      "Targets(s): ['female' 'nausea' '20 year' 'vomiting'\n",
      " 'viral symptoms or rhinorrhea or scratchy throat' 'subjective fever'\n",
      " 'shares an apartment' 'photophobia'\n",
      " 'no relief with motrin or no relief with tylenol' 'no rash'\n",
      " 'no known illness contacts' 'neck pain' 'myalgias'\n",
      " 'meningococcal vaccine status unknown'\n",
      " 'global headache or diffuse headache' 'family history of migraines'\n",
      " '1 day duration or 2 days duration']\n",
      "Predicted Targets(s): (shares an apartment, photophobia, global headache or diffuse headache, vomiting, neck pain, no relief with motrin or no relief with tylenol, meningococcal vaccine status unknown, family history of migraines, myalgias, no known illness contacts, 1 day duration or 2 days duration, nausea, viral symptoms or rhinorrhea or scratchy throat, 20 year, subjective fever, no rash, female, sharp or stabbing or 7 to 8 out of 10 on pain scale, no bloody bowel movements, prior episodes of diarrhea, fhx of depression or family history of depression, male, recurrent bouts over past 6 months, duration x 1 day, diminished appetite, 8 to 10 hours of acute pain, worse with deep breath or pleuritic, right sided lq abdominal pain or right lower quadrant abdominal pain, unprotected sex, recent heavy lifting at work or recent rock climbing, lack of other thyroid symptoms, normal lmp 2 weeks ago or normal last menstrual period 2 weeks ago, not sexually active, no vaginal discharge, weight loss, exercise induced asthma, diminished energy or feeling drained, no urinary symptoms, recent upper respiratory symptoms, family history of thyroid disorder, sexually active, nsaid use or nonsteroidal anti inflammatory drug use, increased frequency recently, weight gain, duration 3 weeks, chest pressure, last menstrual period 2 months ago, duration 2 months, no relief with asthma inhaler, sleep disturbance or early awakenings, decreased appetite, anxious or nervous, weight stable, difficulty falling asleep, post prandial bloating or fullness with meals, chest pain, minimal to no change with tums, lmp 2 months ago or last menstrual period 2 months ago, no shortness of breath, recent nausea vomiting or recent flulike symptoms, infertility hx or infertility history, heart pounding or heart racing, increased stress, 2 to 3 beers a week, tossing and turning, increased appetite, son died 3 weeks ago, fatigue or difficulty concentrating, onset 3 years ago, irregular flow or irregular frequency or irregular intervals, intermittent, associated feeling of impending doom, symptoms for 6 months, lightheaded, difficulty with sleep, associated throat tightness, prior normal periods, no hair changes or no nail changes or no temperature intolerance, fatigue, few months duration, episode of hand numbness or episode of finger numbness, vaginal dryness, associated sob or associated shortness of breath, 17 year, heavy sweating, heavy caffeine use, no depressed mood, hallucinations after taking ambien, stress, irregular menses, 67 year, adderall use, last pap smear i year ago, subjective fevers, no premenstrual symptoms, 45 year, 44 year, onset 5 years ago, insomnia, visual hallucination once, stress due to caring for elderly parents, unsuccessful napping, no chest pain, early wakening, heavy periods or irregular periods, caffeine use, hot flashes, loss of interest, darker bowel movements, intermittent symptoms, feels hot or feels clammy, no suicidal ideations, episodes last 15 to 30 minutes, burning or gnawing or burning and gnawing, fhx of pud or family history of peptic ulcer disease, family history of mi or family history of myocardial infarction, episodes of heart racing, 35 year, epigastric discomfort, no illicit drug use, associated nausea, shortness of breath, auditory hallucination once, no blood in stool, sleeping medication ineffective, awakens at night, [UNK], recent visit to emergency department with negative workup, iud, getting worse or progressive or symptoms now daily, 26 year, no caffeine use)\n",
      " \n",
      "Student notes: b'karin moore 45 yo f presenting feelings anxiety past several weeks states feels nervous time constant provoked anything particular never experienced anything similar past anxiety seems worsen sunday night monday morning work week starting recently transitioned work researcher primarily giving classroom lectures big adjustment feels mood good overall feels overwhelmed notes slight decrease appetite without weight loss difficulty falling asleep wake night laws health problems mother needs help home ros no palpitations cp sob hair loss bowel changes abdominal pain urinary changes pmh psh none meds occasional tylenol no allergies sh nonsmoker social alcohol no drugs english professor'\n",
      "Targets(s): ['female' '35 year' 'weight gain' 'unprotected sex'\n",
      " 'symptoms for 6 months' 'last menstrual period 2 months ago'\n",
      " 'infertility hx or infertility history'\n",
      " 'heavy periods or irregular periods' 'fatigue']\n",
      "Predicted Targets(s): (female, symptoms for 6 months, last menstrual period 2 months ago, infertility hx or infertility history, unprotected sex, heavy periods or irregular periods, fatigue, weight gain, 35 year, heavy sweating, recent nausea vomiting or recent flulike symptoms, sexually active, no chest pain, irregular flow or irregular frequency or irregular intervals, no illicit drug use, 44 year, lack of other thyroid symptoms, no premenstrual symptoms, feels hot or feels clammy, irregular menses, recent visit to emergency department with negative workup, associated nausea, episodes of heart racing, no urinary symptoms, no depressed mood, associated sob or associated shortness of breath, weight loss, stress, onset 3 years ago, prior episodes of diarrhea, lmp 2 months ago or last menstrual period 2 months ago, 45 year, intermittent symptoms, prior normal periods, normal lmp 2 weeks ago or normal last menstrual period 2 weeks ago, anxious or nervous, vaginal dryness, insomnia, no caffeine use, weight stable, last pap smear i year ago, right sided lq abdominal pain or right lower quadrant abdominal pain, associated throat tightness, male, nsaid use or nonsteroidal anti inflammatory drug use, heavy caffeine use, iud, fatigue or difficulty concentrating, no vaginal discharge, sleep disturbance or early awakenings, unsuccessful napping, hot flashes, difficulty falling asleep, recent upper respiratory symptoms, 20 year, no rash, chest pressure, increased frequency recently, meningococcal vaccine status unknown, neck pain, increased stress, not sexually active, family history of thyroid disorder, onset 5 years ago, stress due to caring for elderly parents, fhx of depression or family history of depression, myalgias, early wakening, decreased appetite, loss of interest, recurrent bouts over past 6 months, episodes last 15 to 30 minutes, nausea, no blood in stool, family history of migraines, episode of hand numbness or episode of finger numbness, 17 year, epigastric discomfort, 1 day duration or 2 days duration, exercise induced asthma, awakens at night, darker bowel movements, no relief with motrin or no relief with tylenol, sharp or stabbing or 7 to 8 out of 10 on pain scale, few months duration, duration 2 months, 8 to 10 hours of acute pain, photophobia, duration 3 weeks, diminished appetite, auditory hallucination once, tossing and turning, post prandial bloating or fullness with meals, getting worse or progressive or symptoms now daily, 67 year, no suicidal ideations, global headache or diffuse headache, no shortness of breath, 26 year, lightheaded, difficulty with sleep, worse with deep breath or pleuritic, subjective fever, viral symptoms or rhinorrhea or scratchy throat, burning or gnawing or burning and gnawing, no known illness contacts, vomiting, 2 to 3 beers a week, no bloody bowel movements, diminished energy or feeling drained, heart pounding or heart racing, chest pain, no hair changes or no nail changes or no temperature intolerance, visual hallucination once, fhx of pud or family history of peptic ulcer disease, duration x 1 day, no relief with asthma inhaler, caffeine use, shortness of breath, associated feeling of impending doom, shares an apartment, increased appetite, minimal to no change with tums, son died 3 weeks ago, recent heavy lifting at work or recent rock climbing, family history of mi or family history of myocardial infarction, sleeping medication ineffective, adderall use, [UNK], intermittent, hallucinations after taking ambien, subjective fevers)\n",
      " \n",
      "Student notes: b'35yo woman presents irregular periods last normal period 6 months ago two periods since one four months ago one two months ago periods heavy going 7 opposed 3 pads day lasting 7 days opposed 3 days no pain symptoms periods endorses fatigue last 2 years since adopting daughters ex husband left tried children 9 years unsuccessful no fh difficulty periods fertility gained 10 lbs last 6 mos trouble sleeping denies sadness diet okay could better unprotected sex new boyfriend no vaginal discharge dyspareunia denies breast discharge pmh none surg none allergy none meds none bc 10 years ago fh mathernal grandmother cervical ca died 65 maternal aunt breast ca died 58 sh denies tobac'\n",
      "Targets(s): ['female' 'weight stable' 'stress due to caring for elderly parents'\n",
      " 'no depressed mood' 'lack of other thyroid symptoms' 'insomnia'\n",
      " 'heavy caffeine use' 'decreased appetite' 'anxious or nervous' '45 year']\n",
      "Predicted Targets(s): (insomnia, anxious or nervous, stress due to caring for elderly parents, 45 year, decreased appetite, heavy caffeine use, weight stable, lack of other thyroid symptoms, female, no depressed mood, no urinary symptoms, fatigue, 20 year, normal lmp 2 weeks ago or normal last menstrual period 2 weeks ago, 8 to 10 hours of acute pain, 35 year, no suicidal ideations, unprotected sex, weight gain, epigastric discomfort, loss of interest, right sided lq abdominal pain or right lower quadrant abdominal pain, worse with deep breath or pleuritic, visual hallucination once, prior episodes of diarrhea, myalgias, diminished energy or feeling drained, fhx of depression or family history of depression, nsaid use or nonsteroidal anti inflammatory drug use, nausea, no bloody bowel movements, heavy periods or irregular periods, meningococcal vaccine status unknown, fhx of pud or family history of peptic ulcer disease, darker bowel movements, son died 3 weeks ago, difficulty falling asleep, infertility hx or infertility history, recurrent bouts over past 6 months, awakens at night, no relief with motrin or no relief with tylenol, no vaginal discharge, irregular flow or irregular frequency or irregular intervals, post prandial bloating or fullness with meals, minimal to no change with tums, auditory hallucination once, sleeping medication ineffective, getting worse or progressive or symptoms now daily, not sexually active, duration 3 weeks, last menstrual period 2 months ago, iud, subjective fever, duration 2 months, increased appetite, diminished appetite, heart pounding or heart racing, lightheaded, hallucinations after taking ambien, no blood in stool, tossing and turning, viral symptoms or rhinorrhea or scratchy throat, symptoms for 6 months, stress, no known illness contacts, 67 year, shares an apartment, sleep disturbance or early awakenings, recent upper respiratory symptoms, male, recent nausea vomiting or recent flulike symptoms, associated sob or associated shortness of breath, weight loss, intermittent symptoms, burning or gnawing or burning and gnawing, no premenstrual symptoms, fatigue or difficulty concentrating, no rash, vaginal dryness, shortness of breath, no illicit drug use, global headache or diffuse headache, episodes of heart racing, no hair changes or no nail changes or no temperature intolerance, 1 day duration or 2 days duration, no relief with asthma inhaler, difficulty with sleep, no chest pain, chest pressure, caffeine use, 17 year, associated nausea, exercise induced asthma, few months duration, sexually active, onset 3 years ago, sharp or stabbing or 7 to 8 out of 10 on pain scale, 2 to 3 beers a week, photophobia, early wakening, neck pain, recent visit to emergency department with negative workup, unsuccessful napping, vomiting, associated throat tightness, lmp 2 months ago or last menstrual period 2 months ago, last pap smear i year ago, duration x 1 day, prior normal periods, onset 5 years ago, increased frequency recently, 44 year, intermittent, hot flashes, feels hot or feels clammy, no caffeine use, chest pain, adderall use, family history of mi or family history of myocardial infarction, recent heavy lifting at work or recent rock climbing, subjective fevers, 26 year, increased stress, episodes last 15 to 30 minutes, associated feeling of impending doom, family history of thyroid disorder, no shortness of breath, episode of hand numbness or episode of finger numbness, heavy sweating, family history of migraines, [UNK], irregular menses)\n",
      " \n",
      "Student notes: b'pt 35 yo c 2 months epigastric pain nonradiating describes burning nawing sensation intermittenet nature pt doesnt associate pain food etoh use caffine chocolate recumbancy doesnt make pain worse tums occasionally make pain better patient use motrin weekly 2 pills 200mg every week aches construction occupation rates pain 5 10 also noticed melana no pain defacation no heamtruia penile discharge no weight loss no change heavy meals no recent sick contacts travel pmh none meds tums motrin fh uncle bleeding ulcer tb 1 2 1 ppd past 20 yrs no illict drug use 2 beers per week'\n",
      "Targets(s): ['female' 'visual hallucination once' 'unsuccessful napping'\n",
      " 'tossing and turning' 'son died 3 weeks ago'\n",
      " 'sleeping medication ineffective' 'no suicidal ideations'\n",
      " 'loss of interest' 'increased appetite'\n",
      " 'hallucinations after taking ambien'\n",
      " 'fhx of depression or family history of depression' 'early wakening'\n",
      " 'duration 3 weeks' 'diminished energy or feeling drained'\n",
      " 'difficulty with sleep' 'difficulty falling asleep'\n",
      " 'auditory hallucination once' '67 year']\n",
      "Predicted Targets(s): (sleeping medication ineffective, hallucinations after taking ambien, difficulty with sleep, 67 year, difficulty falling asleep, unsuccessful napping, duration 3 weeks, early wakening, auditory hallucination once, tossing and turning, loss of interest, diminished energy or feeling drained, increased appetite, no suicidal ideations, visual hallucination once, son died 3 weeks ago, fhx of depression or family history of depression, female, male, nausea, heavy periods or irregular periods, 20 year, prior episodes of diarrhea, exercise induced asthma, no rash, lack of other thyroid symptoms, worse with deep breath or pleuritic, irregular menses, burning or gnawing or burning and gnawing, recent upper respiratory symptoms, heavy caffeine use, unprotected sex, no shortness of breath, iud, 1 day duration or 2 days duration, recent heavy lifting at work or recent rock climbing, 17 year, onset 3 years ago, 44 year, sexually active, sharp or stabbing or 7 to 8 out of 10 on pain scale, getting worse or progressive or symptoms now daily, no relief with asthma inhaler, anxious or nervous, weight loss, vomiting, shares an apartment, irregular flow or irregular frequency or irregular intervals, decreased appetite, stress due to caring for elderly parents, prior normal periods, recent nausea vomiting or recent flulike symptoms, fatigue, subjective fever, subjective fevers, global headache or diffuse headache, lmp 2 months ago or last menstrual period 2 months ago, no caffeine use, duration x 1 day, weight stable, no bloody bowel movements, sleep disturbance or early awakenings, diminished appetite, 45 year, insomnia, no relief with motrin or no relief with tylenol, no depressed mood, photophobia, stress, neck pain, family history of migraines, increased stress, vaginal dryness, myalgias, caffeine use, infertility hx or infertility history, post prandial bloating or fullness with meals, no premenstrual symptoms, no chest pain, 8 to 10 hours of acute pain, adderall use, recurrent bouts over past 6 months, weight gain, last menstrual period 2 months ago, heavy sweating, no urinary symptoms, no known illness contacts, viral symptoms or rhinorrhea or scratchy throat, feels hot or feels clammy, lightheaded, minimal to no change with tums, associated throat tightness, episodes of heart racing, family history of thyroid disorder, onset 5 years ago, 2 to 3 beers a week, hot flashes, no hair changes or no nail changes or no temperature intolerance, last pap smear i year ago, awakens at night, meningococcal vaccine status unknown, increased frequency recently, nsaid use or nonsteroidal anti inflammatory drug use, family history of mi or family history of myocardial infarction, epigastric discomfort, episodes last 15 to 30 minutes, chest pressure, fhx of pud or family history of peptic ulcer disease, associated sob or associated shortness of breath, normal lmp 2 weeks ago or normal last menstrual period 2 weeks ago, few months duration, heart pounding or heart racing, darker bowel movements, episode of hand numbness or episode of finger numbness, associated nausea, right sided lq abdominal pain or right lower quadrant abdominal pain, symptoms for 6 months, no blood in stool, intermittent, 35 year, not sexually active, duration 2 months, chest pain, fatigue or difficulty concentrating, shortness of breath, 26 year, recent visit to emergency department with negative workup, no vaginal discharge, intermittent symptoms, associated feeling of impending doom, no illicit drug use, [UNK])\n",
      " \n",
      "Student notes: b'45 yo f c nervousness x 4 weeks states worsening x2weeks worst symptoms sunday night monday morning due new lecture preparation lecturer university houston states constant problem states trouble falling asleep night due stress takes care mother children laws near home well denies trauma travel hx chest pain hair changes temperature intollerance palpitations decreased appetite ros pmh none nkda meds tylenol occassional headaches reading work psh none hospitalizations birth 2children fh father mi deceased sh sexually active husband husband vasectomy no stis no tobacco illicit drug use etoh ocassionally'\n",
      "Targets(s): ['female' 'weight stable' 'stress due to caring for elderly parents'\n",
      " 'no depressed mood' 'lack of other thyroid symptoms' 'insomnia'\n",
      " 'heavy caffeine use' 'decreased appetite' 'anxious or nervous' '45 year']\n",
      "Predicted Targets(s): (insomnia, 45 year, female, anxious or nervous, lack of other thyroid symptoms, heavy caffeine use, stress due to caring for elderly parents, weight stable, decreased appetite, no depressed mood, 20 year, no suicidal ideations, no urinary symptoms, 8 to 10 hours of acute pain, diminished energy or feeling drained, fatigue, son died 3 weeks ago, visual hallucination once, epigastric discomfort, loss of interest, nausea, normal lmp 2 weeks ago or normal last menstrual period 2 weeks ago, prior episodes of diarrhea, no bloody bowel movements, myalgias, difficulty falling asleep, minimal to no change with tums, 35 year, no relief with motrin or no relief with tylenol, fhx of depression or family history of depression, nsaid use or nonsteroidal anti inflammatory drug use, hallucinations after taking ambien, right sided lq abdominal pain or right lower quadrant abdominal pain, irregular flow or irregular frequency or irregular intervals, meningococcal vaccine status unknown, iud, getting worse or progressive or symptoms now daily, sleeping medication ineffective, duration 3 weeks, recurrent bouts over past 6 months, weight gain, viral symptoms or rhinorrhea or scratchy throat, awakens at night, worse with deep breath or pleuritic, subjective fever, no known illness contacts, unprotected sex, diminished appetite, 67 year, no vaginal discharge, darker bowel movements, increased appetite, shares an apartment, recent nausea vomiting or recent flulike symptoms, auditory hallucination once, sleep disturbance or early awakenings, tossing and turning, heavy periods or irregular periods, not sexually active, lightheaded, stress, heart pounding or heart racing, fhx of pud or family history of peptic ulcer disease, vaginal dryness, duration 2 months, no blood in stool, post prandial bloating or fullness with meals, associated sob or associated shortness of breath, last menstrual period 2 months ago, burning or gnawing or burning and gnawing, no rash, fatigue or difficulty concentrating, male, infertility hx or infertility history, no premenstrual symptoms, sexually active, onset 3 years ago, symptoms for 6 months, 1 day duration or 2 days duration, difficulty with sleep, no chest pain, associated nausea, 44 year, prior normal periods, hot flashes, intermittent symptoms, global headache or diffuse headache, recent upper respiratory symptoms, no illicit drug use, vomiting, unsuccessful napping, episodes of heart racing, associated throat tightness, 2 to 3 beers a week, onset 5 years ago, no hair changes or no nail changes or no temperature intolerance, last pap smear i year ago, photophobia, weight loss, 17 year, lmp 2 months ago or last menstrual period 2 months ago, few months duration, no relief with asthma inhaler, shortness of breath, neck pain, caffeine use, intermittent, early wakening, chest pressure, feels hot or feels clammy, increased frequency recently, recent visit to emergency department with negative workup, associated feeling of impending doom, 26 year, adderall use, sharp or stabbing or 7 to 8 out of 10 on pain scale, exercise induced asthma, no caffeine use, increased stress, duration x 1 day, episodes last 15 to 30 minutes, subjective fevers, chest pain, family history of mi or family history of myocardial infarction, recent heavy lifting at work or recent rock climbing, heavy sweating, family history of thyroid disorder, family history of migraines, episode of hand numbness or episode of finger numbness, no shortness of breath, irregular menses, [UNK])\n",
      " \n",
      "Student notes: b'35 yo presents stomach problems pain epigastric area 2 months burning gnawing pain 5 10 severity no radiation feels like might vomit nausea no fevers used happen 1x week 2 3x day no relation eating happens random times tums used help anymore takes motrin 1x week back pain noted stools darker usual recently no constipation diarrhea no urinary changes pain awakens sleep 3x week returns sleep pain goes away tired recently deines weight changes chest pain sob headaches pmh none no surgeries meds nkda fam parents alive healthy uncle bleeding ulcer social works construction eats fast food food trucks exercises 3 4x week smokes cigarettes 15 years 0 5 1 ppd want quit drinks beer none past weeks no drug use sexually active'\n",
      "Targets(s): ['female' '35 year' 'weight gain' 'unprotected sex'\n",
      " 'symptoms for 6 months' 'last menstrual period 2 months ago'\n",
      " 'infertility hx or infertility history'\n",
      " 'heavy periods or irregular periods' 'fatigue']\n",
      "Predicted Targets(s): (female, infertility hx or infertility history, 35 year, symptoms for 6 months, heavy periods or irregular periods, unprotected sex, last menstrual period 2 months ago, fatigue, weight gain, episodes of heart racing, heavy sweating, sexually active, no illicit drug use, recent nausea vomiting or recent flulike symptoms, weight loss, male, no chest pain, 44 year, feels hot or feels clammy, no urinary symptoms, lack of other thyroid symptoms, recent visit to emergency department with negative workup, nsaid use or nonsteroidal anti inflammatory drug use, normal lmp 2 weeks ago or normal last menstrual period 2 weeks ago, associated nausea, associated sob or associated shortness of breath, no caffeine use, irregular flow or irregular frequency or irregular intervals, stress, intermittent symptoms, 45 year, no premenstrual symptoms, recent upper respiratory symptoms, weight stable, no depressed mood, prior episodes of diarrhea, no rash, no blood in stool, onset 3 years ago, sharp or stabbing or 7 to 8 out of 10 on pain scale, awakens at night, difficulty falling asleep, irregular menses, anxious or nervous, neck pain, meningococcal vaccine status unknown, darker bowel movements, insomnia, epigastric discomfort, prior normal periods, exercise induced asthma, last pap smear i year ago, nausea, fhx of depression or family history of depression, fatigue or difficulty concentrating, myalgias, vaginal dryness, right sided lq abdominal pain or right lower quadrant abdominal pain, family history of thyroid disorder, associated throat tightness, lmp 2 months ago or last menstrual period 2 months ago, unsuccessful napping, duration 2 months, no relief with motrin or no relief with tylenol, no vaginal discharge, chest pressure, family history of migraines, 20 year, increased stress, getting worse or progressive or symptoms now daily, heavy caffeine use, stress due to caring for elderly parents, photophobia, onset 5 years ago, hot flashes, early wakening, increased frequency recently, post prandial bloating or fullness with meals, sleep disturbance or early awakenings, 1 day duration or 2 days duration, iud, no shortness of breath, diminished appetite, worse with deep breath or pleuritic, 17 year, 2 to 3 beers a week, loss of interest, not sexually active, recurrent bouts over past 6 months, fhx of pud or family history of peptic ulcer disease, tossing and turning, episodes last 15 to 30 minutes, 67 year, episode of hand numbness or episode of finger numbness, duration 3 weeks, 26 year, burning or gnawing or burning and gnawing, auditory hallucination once, decreased appetite, viral symptoms or rhinorrhea or scratchy throat, global headache or diffuse headache, difficulty with sleep, vomiting, subjective fever, few months duration, duration x 1 day, no suicidal ideations, chest pain, lightheaded, no relief with asthma inhaler, 8 to 10 hours of acute pain, no known illness contacts, no hair changes or no nail changes or no temperature intolerance, diminished energy or feeling drained, minimal to no change with tums, no bloody bowel movements, caffeine use, heart pounding or heart racing, shortness of breath, recent heavy lifting at work or recent rock climbing, associated feeling of impending doom, shares an apartment, son died 3 weeks ago, visual hallucination once, increased appetite, [UNK], sleeping medication ineffective, family history of mi or family history of myocardial infarction, intermittent, adderall use, hallucinations after taking ambien, subjective fevers)\n",
      " \n",
      "Student notes: b'35 male 2 months worsening burning gnawing intermittent epigastric pain assocaited nausea burping bloating reports decreased appetite reports darker stools no overt blood stool denies triggers pain tums helped awhile stopped working food factor pain c increased fatigue states may bedue pain waking sleep bloating occurs eating ros no vomiting no weight loss no fevers chills no chest pain no sob no urine changes no numbness tingling noncontributory past medical surgical histories meds motrin 400 mg week aches pains fhx uncle peptic ulcer disease sochx construction worker lives alone 5 1ppd x20 years no interest quitting beers per week recently cut alcohol pain no illicit drug use'\n",
      "Targets(s): ['male' '17 year' 'shortness of breath'\n",
      " 'no hair changes or no nail changes or no temperature intolerance'\n",
      " 'lightheaded' 'intermittent symptoms' 'heart pounding or heart racing'\n",
      " 'few months duration' 'family history of thyroid disorder'\n",
      " 'family history of mi or family history of myocardial infarction'\n",
      " 'chest pressure' 'caffeine use' 'adderall use']\n",
      "Predicted Targets(s): (17 year, intermittent symptoms, family history of mi or family history of myocardial infarction, caffeine use, chest pressure, few months duration, shortness of breath, male, adderall use, heart pounding or heart racing, no hair changes or no nail changes or no temperature intolerance, lightheaded, family history of thyroid disorder, chest pain, heavy sweating, sharp or stabbing or 7 to 8 out of 10 on pain scale, exercise induced asthma, prior normal periods, no relief with asthma inhaler, nausea, no shortness of breath, worse with deep breath or pleuritic, meningococcal vaccine status unknown, recent heavy lifting at work or recent rock climbing, lmp 2 months ago or last menstrual period 2 months ago, recent visit to emergency department with negative workup, vomiting, darker bowel movements, duration x 1 day, fatigue, sexually active, recent upper respiratory symptoms, heavy caffeine use, shares an apartment, weight loss, weight gain, sleep disturbance or early awakenings, vaginal dryness, onset 3 years ago, 35 year, subjective fevers, visual hallucination once, no depressed mood, last pap smear i year ago, no chest pain, associated nausea, episodes of heart racing, female, global headache or diffuse headache, unsuccessful napping, auditory hallucination once, fhx of pud or family history of peptic ulcer disease, 67 year, intermittent, episode of hand numbness or episode of finger numbness, no caffeine use, difficulty falling asleep, no known illness contacts, stress, stress due to caring for elderly parents, no suicidal ideations, iud, irregular flow or irregular frequency or irregular intervals, duration 2 months, burning or gnawing or burning and gnawing, feels hot or feels clammy, not sexually active, 8 to 10 hours of acute pain, getting worse or progressive or symptoms now daily, no illicit drug use, hallucinations after taking ambien, infertility hx or infertility history, no blood in stool, heavy periods or irregular periods, post prandial bloating or fullness with meals, nsaid use or nonsteroidal anti inflammatory drug use, associated feeling of impending doom, neck pain, 45 year, 26 year, fatigue or difficulty concentrating, duration 3 weeks, 20 year, diminished appetite, diminished energy or feeling drained, difficulty with sleep, insomnia, episodes last 15 to 30 minutes, photophobia, subjective fever, myalgias, increased frequency recently, last menstrual period 2 months ago, onset 5 years ago, no premenstrual symptoms, irregular menses, 44 year, fhx of depression or family history of depression, recent nausea vomiting or recent flulike symptoms, weight stable, increased stress, associated sob or associated shortness of breath, viral symptoms or rhinorrhea or scratchy throat, epigastric discomfort, decreased appetite, anxious or nervous, 2 to 3 beers a week, loss of interest, lack of other thyroid symptoms, no rash, increased appetite, tossing and turning, associated throat tightness, 1 day duration or 2 days duration, prior episodes of diarrhea, no relief with motrin or no relief with tylenol, no bloody bowel movements, sleeping medication ineffective, son died 3 weeks ago, unprotected sex, symptoms for 6 months, early wakening, right sided lq abdominal pain or right lower quadrant abdominal pain, awakens at night, normal lmp 2 weeks ago or normal last menstrual period 2 weeks ago, no vaginal discharge, minimal to no change with tums, hot flashes, family history of migraines, [UNK], recurrent bouts over past 6 months, no urinary symptoms)\n",
      " \n",
      "Student notes: b'35 yo f comes heavy periods past past 6 months regular used 3 tampons day heavy needs change tampon every hour lmp 2 months ago no vaginal dryness itchness breast discharge cramping periods no spotting periods pap smear 6 months ago normal cant get pregnant never seen doctor no abdominal pain no fever chills gained 10 pounds last 6 months eats alot normal appetite no cold intolerance normal bm urination no usual hair growth mood good no headaches no blood clots ros negative except pmh none allergies nkda meds none psh none fh noncontributory sh no smoking drinks socially no ilicit drugs sexually active bf no condoms poor excersise diet poor busy works scheduler'\n",
      "Targets(s): ['female' '35 year' 'weight gain' 'unprotected sex'\n",
      " 'symptoms for 6 months' 'last menstrual period 2 months ago'\n",
      " 'infertility hx or infertility history'\n",
      " 'heavy periods or irregular periods' 'fatigue']\n",
      "Predicted Targets(s): (female, symptoms for 6 months, fatigue, last menstrual period 2 months ago, infertility hx or infertility history, heavy periods or irregular periods, unprotected sex, 35 year, weight gain, 45 year, lack of other thyroid symptoms, no depressed mood, male, anxious or nervous, weight loss, insomnia, meningococcal vaccine status unknown, nsaid use or nonsteroidal anti inflammatory drug use, sexually active, unsuccessful napping, no urinary symptoms, difficulty falling asleep, no blood in stool, neck pain, intermittent symptoms, recent upper respiratory symptoms, heavy sweating, weight stable, no rash, heavy caffeine use, prior episodes of diarrhea, recent nausea vomiting or recent flulike symptoms, sharp or stabbing or 7 to 8 out of 10 on pain scale, exercise induced asthma, normal lmp 2 weeks ago or normal last menstrual period 2 weeks ago, post prandial bloating or fullness with meals, myalgias, 44 year, early wakening, epigastric discomfort, no illicit drug use, nausea, irregular flow or irregular frequency or irregular intervals, stress due to caring for elderly parents, fhx of depression or family history of depression, darker bowel movements, no relief with motrin or no relief with tylenol, right sided lq abdominal pain or right lower quadrant abdominal pain, 20 year, no chest pain, irregular menses, no vaginal discharge, duration 2 months, 1 day duration or 2 days duration, lmp 2 months ago or last menstrual period 2 months ago, no premenstrual symptoms, chest pressure, stress, episodes of heart racing, getting worse or progressive or symptoms now daily, family history of thyroid disorder, loss of interest, family history of migraines, awakens at night, duration 3 weeks, 17 year, onset 3 years ago, associated nausea, recent visit to emergency department with negative workup, vaginal dryness, not sexually active, recurrent bouts over past 6 months, prior normal periods, auditory hallucination once, sleep disturbance or early awakenings, last pap smear i year ago, decreased appetite, photophobia, feels hot or feels clammy, 67 year, vomiting, global headache or diffuse headache, associated sob or associated shortness of breath, worse with deep breath or pleuritic, no shortness of breath, associated throat tightness, few months duration, fhx of pud or family history of peptic ulcer disease, iud, no caffeine use, fatigue or difficulty concentrating, burning or gnawing or burning and gnawing, chest pain, no suicidal ideations, diminished appetite, 2 to 3 beers a week, difficulty with sleep, tossing and turning, duration x 1 day, increased stress, onset 5 years ago, diminished energy or feeling drained, viral symptoms or rhinorrhea or scratchy throat, subjective fever, no known illness contacts, hot flashes, 8 to 10 hours of acute pain, no relief with asthma inhaler, lightheaded, increased frequency recently, heart pounding or heart racing, no hair changes or no nail changes or no temperature intolerance, caffeine use, shares an apartment, increased appetite, minimal to no change with tums, recent heavy lifting at work or recent rock climbing, son died 3 weeks ago, episodes last 15 to 30 minutes, shortness of breath, visual hallucination once, no bloody bowel movements, episode of hand numbness or episode of finger numbness, 26 year, sleeping medication ineffective, family history of mi or family history of myocardial infarction, intermittent, hallucinations after taking ambien, [UNK], adderall use, associated feeling of impending doom, subjective fevers)\n",
      " \n",
      "Student notes: b'mrs whelan 26 year old female coming feelings heart pounding started 5 years ago occuring 2 3 times per month 3 weeks ago started occurring every day no identifiable trigger associated sob throat tightness nausea cold clammy feeling fatigue afterwards difficulty concentration sochx smoke drink etoh use illicit drugs pmh no medical problems meds takes no medications supplements nkda famhx none ros negative headaches weight changes fever chest pain cough abdominal pain vomiting diarrhea weakness numbness tingling complete blood count within normal limits metabolic panel within normal limits cardiac enzymes within normal limits ecg within normal limits'\n",
      "Targets(s): ['female' 'nausea' '20 year' 'vomiting'\n",
      " 'viral symptoms or rhinorrhea or scratchy throat' 'subjective fever'\n",
      " 'shares an apartment' 'photophobia'\n",
      " 'no relief with motrin or no relief with tylenol' 'no rash'\n",
      " 'no known illness contacts' 'neck pain' 'myalgias'\n",
      " 'meningococcal vaccine status unknown'\n",
      " 'global headache or diffuse headache' 'family history of migraines'\n",
      " '1 day duration or 2 days duration']\n",
      "Predicted Targets(s): (photophobia, global headache or diffuse headache, shares an apartment, female, no relief with motrin or no relief with tylenol, meningococcal vaccine status unknown, neck pain, vomiting, myalgias, family history of migraines, 1 day duration or 2 days duration, subjective fever, no rash, viral symptoms or rhinorrhea or scratchy throat, no known illness contacts, nausea, 20 year, unprotected sex, last menstrual period 2 months ago, weight gain, increased frequency recently, sexually active, symptoms for 6 months, infertility hx or infertility history, family history of thyroid disorder, sharp or stabbing or 7 to 8 out of 10 on pain scale, lack of other thyroid symptoms, associated sob or associated shortness of breath, increased stress, heart pounding or heart racing, sleep disturbance or early awakenings, chest pressure, difficulty falling asleep, fatigue or difficulty concentrating, associated throat tightness, fhx of depression or family history of depression, no hair changes or no nail changes or no temperature intolerance, lmp 2 months ago or last menstrual period 2 months ago, fatigue, irregular flow or irregular frequency or irregular intervals, recent nausea vomiting or recent flulike symptoms, prior normal periods, weight stable, no relief with asthma inhaler, diminished energy or feeling drained, irregular menses, onset 3 years ago, associated feeling of impending doom, onset 5 years ago, prior episodes of diarrhea, male, no vaginal discharge, few months duration, anxious or nervous, vaginal dryness, duration 2 months, no chest pain, 8 to 10 hours of acute pain, chest pain, no urinary symptoms, heavy periods or irregular periods, lightheaded, recent upper respiratory symptoms, stress, right sided lq abdominal pain or right lower quadrant abdominal pain, episode of hand numbness or episode of finger numbness, exercise induced asthma, no bloody bowel movements, feels hot or feels clammy, recent heavy lifting at work or recent rock climbing, duration x 1 day, last pap smear i year ago, normal lmp 2 weeks ago or normal last menstrual period 2 weeks ago, diminished appetite, worse with deep breath or pleuritic, post prandial bloating or fullness with meals, nsaid use or nonsteroidal anti inflammatory drug use, duration 3 weeks, weight loss, decreased appetite, not sexually active, increased appetite, tossing and turning, caffeine use, recurrent bouts over past 6 months, no shortness of breath, no premenstrual symptoms, heavy sweating, 44 year, no depressed mood, 17 year, episodes last 15 to 30 minutes, 2 to 3 beers a week, difficulty with sleep, adderall use, heavy caffeine use, early wakening, intermittent symptoms, no illicit drug use, 45 year, minimal to no change with tums, visual hallucination once, associated nausea, son died 3 weeks ago, episodes of heart racing, 67 year, insomnia, hallucinations after taking ambien, unsuccessful napping, intermittent, family history of mi or family history of myocardial infarction, 35 year, burning or gnawing or burning and gnawing, stress due to caring for elderly parents, no suicidal ideations, loss of interest, hot flashes, subjective fevers, darker bowel movements, shortness of breath, sleeping medication ineffective, auditory hallucination once, epigastric discomfort, recent visit to emergency department with negative workup, no blood in stool, fhx of pud or family history of peptic ulcer disease, iud, awakens at night, no caffeine use, 26 year, [UNK], getting worse or progressive or symptoms now daily)\n",
      " \n",
      "Student notes: b'20 f complains headache x yesterday woke severe worsening since bending forwards walking decreases tylenol ibuprofen res dull aching present head reports runny nose scratchy thorat stiffness neck subjective feeling fever x yesterday also reports nausea vomiting x yesterday 3 episodes vomiting vomitus contained food particles green liquid no blood vomitus no abdominal pain denies cough sob chest pain changes urinary bowel habits no loss weight appetite no travel ill contacts unable tolerate bright light ros negative except hpi pmh none takes ocp psh none allergies none occupation store employee fh mother migraine father high cholestrol sh no tobacco occ etoh 2 3 week marijuana 3 4 joints week patient counselled sexual sexually active 1 bf uses condom ocp'\n",
      "Targets(s): ['nausea' '35 year' 'male' 'post prandial bloating or fullness with meals'\n",
      " 'nsaid use or nonsteroidal anti inflammatory drug use'\n",
      " 'no blood in stool' 'minimal to no change with tums' 'intermittent'\n",
      " 'getting worse or progressive or symptoms now daily'\n",
      " 'fhx of pud or family history of peptic ulcer disease'\n",
      " 'epigastric discomfort' 'duration 2 months' 'darker bowel movements'\n",
      " 'burning or gnawing or burning and gnawing' 'awakens at night'\n",
      " '2 to 3 beers a week']\n",
      "Predicted Targets(s): (getting worse or progressive or symptoms now daily, awakens at night, minimal to no change with tums, fhx of pud or family history of peptic ulcer disease, burning or gnawing or burning and gnawing, duration 2 months, intermittent, 2 to 3 beers a week, epigastric discomfort, post prandial bloating or fullness with meals, nausea, no blood in stool, darker bowel movements, 35 year, nsaid use or nonsteroidal anti inflammatory drug use, male, fatigue, weight gain, heavy periods or irregular periods, infertility hx or infertility history, neck pain, viral symptoms or rhinorrhea or scratchy throat, symptoms for 6 months, meningococcal vaccine status unknown, weight stable, no relief with asthma inhaler, 17 year, unprotected sex, no rash, family history of migraines, recent heavy lifting at work or recent rock climbing, decreased appetite, lack of other thyroid symptoms, diminished energy or feeling drained, sleep disturbance or early awakenings, duration x 1 day, female, adderall use, heavy caffeine use, stress due to caring for elderly parents, no depressed mood, anxious or nervous, no suicidal ideations, sharp or stabbing or 7 to 8 out of 10 on pain scale, onset 5 years ago, last pap smear i year ago, 1 day duration or 2 days duration, 67 year, 20 year, son died 3 weeks ago, heart pounding or heart racing, 45 year, iud, exercise induced asthma, onset 3 years ago, heavy sweating, family history of thyroid disorder, no shortness of breath, hot flashes, last menstrual period 2 months ago, fhx of depression or family history of depression, no bloody bowel movements, no hair changes or no nail changes or no temperature intolerance, caffeine use, family history of mi or family history of myocardial infarction, early wakening, insomnia, normal lmp 2 weeks ago or normal last menstrual period 2 weeks ago, associated nausea, recurrent bouts over past 6 months, prior episodes of diarrhea, recent visit to emergency department with negative workup, shares an apartment, sexually active, irregular menses, not sexually active, lmp 2 months ago or last menstrual period 2 months ago, diminished appetite, vomiting, myalgias, chest pain, unsuccessful napping, difficulty with sleep, weight loss, 8 to 10 hours of acute pain, lightheaded, no vaginal discharge, global headache or diffuse headache, worse with deep breath or pleuritic, stress, shortness of breath, increased appetite, no urinary symptoms, associated feeling of impending doom, no known illness contacts, duration 3 weeks, fatigue or difficulty concentrating, photophobia, chest pressure, no relief with motrin or no relief with tylenol, no illicit drug use, 44 year, recent upper respiratory symptoms, prior normal periods, vaginal dryness, irregular flow or irregular frequency or irregular intervals, right sided lq abdominal pain or right lower quadrant abdominal pain, increased stress, episode of hand numbness or episode of finger numbness, associated throat tightness, subjective fevers, auditory hallucination once, episodes of heart racing, associated sob or associated shortness of breath, 26 year, few months duration, no caffeine use, tossing and turning, hallucinations after taking ambien, recent nausea vomiting or recent flulike symptoms, [UNK], loss of interest, intermittent symptoms, no premenstrual symptoms, difficulty falling asleep, feels hot or feels clammy, visual hallucination once, subjective fever, no chest pain, increased frequency recently, episodes last 15 to 30 minutes, sleeping medication ineffective)\n",
      " \n",
      "Student notes: b'mr hamilton 35 year old male presenting focal epigastric tenderness started 2 months ago tums initially helped no longer no associated food positional change endorses nausea no vomiting rates pain 5 10 pain progressively gotten worse stool appears darker past 2 weeks no recent illness sick contacts no eaten fish undercooked meat recently no recent travel ros no recent weight loss fever sob chest pain no changes urination occasional back pain due work baseline no skin color changes pmh back pain meds motrin surgery history none allergies nka social construction worker recently divorced 20 pack year history cigarettes stopped etoh use 3 weeks ago due pain 1 2 drinks per week no drug use'\n",
      "Targets(s): ['male' '17 year' 'shortness of breath'\n",
      " 'no hair changes or no nail changes or no temperature intolerance'\n",
      " 'lightheaded' 'intermittent symptoms' 'heart pounding or heart racing'\n",
      " 'few months duration' 'family history of thyroid disorder'\n",
      " 'family history of mi or family history of myocardial infarction'\n",
      " 'chest pressure' 'caffeine use' 'adderall use']\n",
      "Predicted Targets(s): (17 year, intermittent symptoms, family history of mi or family history of myocardial infarction, few months duration, caffeine use, chest pressure, shortness of breath, adderall use, no hair changes or no nail changes or no temperature intolerance, lightheaded, heart pounding or heart racing, male, family history of thyroid disorder, nausea, meningococcal vaccine status unknown, prior normal periods, heavy sweating, vomiting, shares an apartment, no relief with asthma inhaler, intermittent, global headache or diffuse headache, chest pain, heavy caffeine use, recent heavy lifting at work or recent rock climbing, darker bowel movements, no shortness of breath, sexually active, no known illness contacts, fhx of pud or family history of peptic ulcer disease, duration 3 weeks, unsuccessful napping, lmp 2 months ago or last menstrual period 2 months ago, sharp or stabbing or 7 to 8 out of 10 on pain scale, no suicidal ideations, exercise induced asthma, worse with deep breath or pleuritic, visual hallucination once, duration 2 months, fatigue, difficulty falling asleep, nsaid use or nonsteroidal anti inflammatory drug use, hallucinations after taking ambien, 67 year, stress due to caring for elderly parents, no depressed mood, photophobia, sleep disturbance or early awakenings, difficulty with sleep, burning or gnawing or burning and gnawing, no blood in stool, recent upper respiratory symptoms, vaginal dryness, auditory hallucination once, duration x 1 day, 35 year, getting worse or progressive or symptoms now daily, last pap smear i year ago, onset 3 years ago, post prandial bloating or fullness with meals, iud, heavy periods or irregular periods, weight gain, insomnia, female, diminished energy or feeling drained, myalgias, neck pain, no chest pain, subjective fever, 20 year, irregular flow or irregular frequency or irregular intervals, 8 to 10 hours of acute pain, weight loss, stress, 45 year, infertility hx or infertility history, episode of hand numbness or episode of finger numbness, recent visit to emergency department with negative workup, feels hot or feels clammy, subjective fevers, viral symptoms or rhinorrhea or scratchy throat, fhx of depression or family history of depression, weight stable, increased appetite, no illicit drug use, anxious or nervous, fatigue or difficulty concentrating, episodes of heart racing, associated nausea, lack of other thyroid symptoms, associated feeling of impending doom, epigastric discomfort, last menstrual period 2 months ago, no rash, no relief with motrin or no relief with tylenol, no premenstrual symptoms, not sexually active, no caffeine use, decreased appetite, loss of interest, 1 day duration or 2 days duration, recent nausea vomiting or recent flulike symptoms, episodes last 15 to 30 minutes, 44 year, diminished appetite, 26 year, irregular menses, increased frequency recently, sleeping medication ineffective, son died 3 weeks ago, tossing and turning, onset 5 years ago, 2 to 3 beers a week, associated sob or associated shortness of breath, increased stress, early wakening, associated throat tightness, unprotected sex, no bloody bowel movements, awakens at night, prior episodes of diarrhea, symptoms for 6 months, minimal to no change with tums, right sided lq abdominal pain or right lower quadrant abdominal pain, family history of migraines, no vaginal discharge, hot flashes, normal lmp 2 weeks ago or normal last menstrual period 2 weeks ago, [UNK], recurrent bouts over past 6 months, no urinary symptoms)\n",
      " \n",
      "Student notes: b'ms wicks 67 yo female trouble sleeping difficulty falling asleep tossing turning awaking sleep spontaneously past 3 weeks new son died mva 3 weeks ago triggered inability sleep husband says snore decreased interest activities increased appetite otherwise no guilt no slowed thinking no suicidality 1 cup coffee cannot fall asleep naps day 4 days ago also saw vision son kitchen table last night though heard muffled voices party going next door pmhx htn breast cancer p lumectomy appendectomy meds hctz lisinopril ambien last 5 nights helped mother mdd no smoking alcohol several glasses wine 2 3 nights no recent alcohol use 3 weeks no drug use encouraged stop taking ambien'\n",
      "Targets(s): ['female' 'weight stable' 'stress due to caring for elderly parents'\n",
      " 'no depressed mood' 'lack of other thyroid symptoms' 'insomnia'\n",
      " 'heavy caffeine use' 'decreased appetite' 'anxious or nervous' '45 year']\n",
      "Predicted Targets(s): (anxious or nervous, insomnia, stress due to caring for elderly parents, decreased appetite, weight stable, heavy caffeine use, lack of other thyroid symptoms, 45 year, no depressed mood, female, 20 year, 35 year, minimal to no change with tums, nausea, epigastric discomfort, 8 to 10 hours of acute pain, no urinary symptoms, darker bowel movements, normal lmp 2 weeks ago or normal last menstrual period 2 weeks ago, duration 2 months, awakens at night, fhx of pud or family history of peptic ulcer disease, fatigue, nsaid use or nonsteroidal anti inflammatory drug use, post prandial bloating or fullness with meals, getting worse or progressive or symptoms now daily, right sided lq abdominal pain or right lower quadrant abdominal pain, no blood in stool, meningococcal vaccine status unknown, weight gain, prior episodes of diarrhea, unprotected sex, no bloody bowel movements, recurrent bouts over past 6 months, myalgias, no relief with motrin or no relief with tylenol, no vaginal discharge, heavy periods or irregular periods, worse with deep breath or pleuritic, not sexually active, irregular flow or irregular frequency or irregular intervals, no suicidal ideations, viral symptoms or rhinorrhea or scratchy throat, infertility hx or infertility history, fhx of depression or family history of depression, diminished appetite, burning or gnawing or burning and gnawing, no known illness contacts, male, shares an apartment, subjective fever, iud, heart pounding or heart racing, last menstrual period 2 months ago, associated sob or associated shortness of breath, stress, diminished energy or feeling drained, 2 to 3 beers a week, son died 3 weeks ago, lightheaded, symptoms for 6 months, visual hallucination once, sleep disturbance or early awakenings, loss of interest, no illicit drug use, duration 3 weeks, no rash, fatigue or difficulty concentrating, associated nausea, difficulty falling asleep, episodes of heart racing, recent upper respiratory symptoms, weight loss, recent nausea vomiting or recent flulike symptoms, recent visit to emergency department with negative workup, increased appetite, intermittent, auditory hallucination once, no hair changes or no nail changes or no temperature intolerance, tossing and turning, 1 day duration or 2 days duration, shortness of breath, global headache or diffuse headache, hallucinations after taking ambien, intermittent symptoms, vaginal dryness, caffeine use, chest pressure, exercise induced asthma, no chest pain, no relief with asthma inhaler, no premenstrual symptoms, vomiting, neck pain, 67 year, onset 5 years ago, few months duration, feels hot or feels clammy, associated throat tightness, photophobia, 17 year, sharp or stabbing or 7 to 8 out of 10 on pain scale, sleeping medication ineffective, onset 3 years ago, sexually active, hot flashes, associated feeling of impending doom, family history of mi or family history of myocardial infarction, 26 year, last pap smear i year ago, duration x 1 day, adderall use, increased stress, no caffeine use, chest pain, increased frequency recently, 44 year, lmp 2 months ago or last menstrual period 2 months ago, difficulty with sleep, prior normal periods, recent heavy lifting at work or recent rock climbing, episode of hand numbness or episode of finger numbness, unsuccessful napping, early wakening, episodes last 15 to 30 minutes, subjective fevers, family history of migraines, family history of thyroid disorder, heavy sweating, no shortness of breath, [UNK], irregular menses)\n",
      " \n",
      "Student notes: b'26f presents follow seen ed 2 weeks ago complaint palpatations ongoing 5 years recently become worse last 3 weeks 3 weeks ago everyday today every days episoides associated neck tightness sense impending doom hot cold clamy shortness breath nasuea no acute precipitating events context recent purchase condo loss job review ed 2 weeks ago negative see report mood described fine no weight changes no appetite change no problems sleeping no avoidance particular places events no urinary bowel changes no abnormal dreams pmh non conrtibutory mx none nkda shx no smoking etoh drugs lives alone good social support sexually active 1 partner 1 year ob gy normal menstrual cycle no menorrhagia 30 day cycle fhx none'\n",
      "Targets(s): ['female' '35 year' 'weight gain' 'unprotected sex'\n",
      " 'symptoms for 6 months' 'last menstrual period 2 months ago'\n",
      " 'infertility hx or infertility history'\n",
      " 'heavy periods or irregular periods' 'fatigue']\n",
      "Predicted Targets(s): (female, fatigue, unprotected sex, heavy periods or irregular periods, last menstrual period 2 months ago, symptoms for 6 months, infertility hx or infertility history, weight gain, 35 year, sexually active, 44 year, unsuccessful napping, recent nausea vomiting or recent flulike symptoms, no depressed mood, difficulty falling asleep, heavy sweating, 45 year, lack of other thyroid symptoms, irregular menses, early wakening, insomnia, no premenstrual symptoms, irregular flow or irregular frequency or irregular intervals, stress, fhx of depression or family history of depression, vaginal dryness, male, nsaid use or nonsteroidal anti inflammatory drug use, lmp 2 months ago or last menstrual period 2 months ago, anxious or nervous, recent upper respiratory symptoms, onset 3 years ago, heavy caffeine use, neck pain, no urinary symptoms, no rash, weight loss, weight stable, sleep disturbance or early awakenings, iud, no blood in stool, loss of interest, last pap smear i year ago, prior episodes of diarrhea, prior normal periods, 20 year, meningococcal vaccine status unknown, normal lmp 2 weeks ago or normal last menstrual period 2 weeks ago, exercise induced asthma, intermittent symptoms, duration 3 weeks, myalgias, 67 year, right sided lq abdominal pain or right lower quadrant abdominal pain, epigastric discomfort, auditory hallucination once, nausea, tossing and turning, difficulty with sleep, no relief with motrin or no relief with tylenol, sharp or stabbing or 7 to 8 out of 10 on pain scale, getting worse or progressive or symptoms now daily, 1 day duration or 2 days duration, hot flashes, stress due to caring for elderly parents, duration 2 months, post prandial bloating or fullness with meals, no chest pain, darker bowel movements, no suicidal ideations, awakens at night, no vaginal discharge, decreased appetite, diminished energy or feeling drained, recent visit to emergency department with negative workup, chest pressure, 17 year, photophobia, episodes of heart racing, no illicit drug use, associated nausea, recurrent bouts over past 6 months, family history of thyroid disorder, no shortness of breath, family history of migraines, vomiting, feels hot or feels clammy, not sexually active, worse with deep breath or pleuritic, global headache or diffuse headache, no caffeine use, associated sob or associated shortness of breath, burning or gnawing or burning and gnawing, fhx of pud or family history of peptic ulcer disease, chest pain, fatigue or difficulty concentrating, few months duration, duration x 1 day, diminished appetite, 2 to 3 beers a week, associated throat tightness, viral symptoms or rhinorrhea or scratchy throat, 8 to 10 hours of acute pain, subjective fever, son died 3 weeks ago, onset 5 years ago, increased stress, increased frequency recently, increased appetite, no known illness contacts, visual hallucination once, no relief with asthma inhaler, lightheaded, sleeping medication ineffective, recent heavy lifting at work or recent rock climbing, minimal to no change with tums, no bloody bowel movements, no hair changes or no nail changes or no temperature intolerance, episodes last 15 to 30 minutes, heart pounding or heart racing, caffeine use, shares an apartment, hallucinations after taking ambien, 26 year, shortness of breath, episode of hand numbness or episode of finger numbness, family history of mi or family history of myocardial infarction, intermittent, [UNK], associated feeling of impending doom, adderall use, subjective fevers)\n",
      " \n",
      "Student notes: b'mr hamilton 35yo presenting 2 month history progressively worsening gnawing midline epigastric pain nause started without specific trigger pain comes goes worse eating pain radiate anywhere severity 5 10 initially started mild pain tums initially helped nausea no vomiting bloating fullness small amount food food intake decreasing months no fever chills no dietary restriction past no recent travel ros negative except listed pmh back ache psh none fh uncle bleeding ulcer sh works construction worker recently stopped drinking 1 2 1ppd since age 15 interested quitting time no recr drug use nkda meds motrin'\n",
      "Targets(s): ['nausea' '35 year' 'male' 'post prandial bloating or fullness with meals'\n",
      " 'nsaid use or nonsteroidal anti inflammatory drug use'\n",
      " 'no blood in stool' 'minimal to no change with tums' 'intermittent'\n",
      " 'getting worse or progressive or symptoms now daily'\n",
      " 'fhx of pud or family history of peptic ulcer disease'\n",
      " 'epigastric discomfort' 'duration 2 months' 'darker bowel movements'\n",
      " 'burning or gnawing or burning and gnawing' 'awakens at night'\n",
      " '2 to 3 beers a week']\n",
      "Predicted Targets(s): (minimal to no change with tums, awakens at night, intermittent, getting worse or progressive or symptoms now daily, 2 to 3 beers a week, burning or gnawing or burning and gnawing, epigastric discomfort, fhx of pud or family history of peptic ulcer disease, post prandial bloating or fullness with meals, nausea, nsaid use or nonsteroidal anti inflammatory drug use, duration 2 months, darker bowel movements, no blood in stool, 35 year, male, weight gain, fatigue, viral symptoms or rhinorrhea or scratchy throat, 20 year, no relief with asthma inhaler, neck pain, heavy periods or irregular periods, female, duration x 1 day, symptoms for 6 months, no rash, meningococcal vaccine status unknown, heavy caffeine use, infertility hx or infertility history, sharp or stabbing or 7 to 8 out of 10 on pain scale, weight stable, prior episodes of diarrhea, no bloody bowel movements, not sexually active, 1 day duration or 2 days duration, family history of migraines, recurrent bouts over past 6 months, recent heavy lifting at work or recent rock climbing, 17 year, decreased appetite, normal lmp 2 weeks ago or normal last menstrual period 2 weeks ago, no depressed mood, unprotected sex, exercise induced asthma, no vaginal discharge, diminished appetite, vomiting, 45 year, weight loss, lack of other thyroid symptoms, stress due to caring for elderly parents, no shortness of breath, 8 to 10 hours of acute pain, anxious or nervous, shares an apartment, insomnia, no urinary symptoms, adderall use, son died 3 weeks ago, chest pain, sleep disturbance or early awakenings, diminished energy or feeling drained, no known illness contacts, onset 5 years ago, 67 year, myalgias, onset 3 years ago, last pap smear i year ago, fhx of depression or family history of depression, right sided lq abdominal pain or right lower quadrant abdominal pain, iud, heavy sweating, global headache or diffuse headache, heart pounding or heart racing, no suicidal ideations, family history of thyroid disorder, worse with deep breath or pleuritic, last menstrual period 2 months ago, sexually active, hot flashes, early wakening, photophobia, caffeine use, family history of mi or family history of myocardial infarction, recent visit to emergency department with negative workup, irregular menses, fatigue or difficulty concentrating, associated nausea, no relief with motrin or no relief with tylenol, unsuccessful napping, stress, lightheaded, lmp 2 months ago or last menstrual period 2 months ago, recent upper respiratory symptoms, duration 3 weeks, subjective fevers, no hair changes or no nail changes or no temperature intolerance, increased appetite, shortness of breath, associated feeling of impending doom, difficulty with sleep, prior normal periods, no illicit drug use, chest pressure, vaginal dryness, irregular flow or irregular frequency or irregular intervals, 44 year, increased stress, episode of hand numbness or episode of finger numbness, [UNK], episodes of heart racing, associated sob or associated shortness of breath, auditory hallucination once, associated throat tightness, few months duration, tossing and turning, subjective fever, no caffeine use, recent nausea vomiting or recent flulike symptoms, 26 year, no premenstrual symptoms, loss of interest, intermittent symptoms, hallucinations after taking ambien, feels hot or feels clammy, difficulty falling asleep, visual hallucination once, no chest pain, increased frequency recently, episodes last 15 to 30 minutes, sleeping medication ineffective)\n",
      " \n",
      "Student notes: b'20 yo f complains rlq pain started 10 hrous ago pain dull aching getting worse ibuprofen makes better walking makes worse fever weight loss loss appetite morning reporsts episodes diarrhea six months ne tenesmus no blood diarrhea previous symptoms no constipation no stress lmp 2 weeks ago menarche 13 g0 regular menses 4 days 4 tampons heavy days no vaginal discharge never pap smear pmh psh none meds none fh none sh lives alone 2 sexual partners last year last relationship 9 months ago alcohol 2 times month no tobacco no ilicit drugs'\n",
      "Targets(s): ['female' 'weight stable' 'stress due to caring for elderly parents'\n",
      " 'no depressed mood' 'lack of other thyroid symptoms' 'insomnia'\n",
      " 'heavy caffeine use' 'decreased appetite' 'anxious or nervous' '45 year']\n",
      "Predicted Targets(s): (insomnia, stress due to caring for elderly parents, anxious or nervous, 45 year, weight stable, heavy caffeine use, lack of other thyroid symptoms, decreased appetite, no depressed mood, female, 20 year, nausea, no urinary symptoms, 35 year, fatigue, meningococcal vaccine status unknown, epigastric discomfort, myalgias, normal lmp 2 weeks ago or normal last menstrual period 2 weeks ago, unprotected sex, no relief with motrin or no relief with tylenol, darker bowel movements, 8 to 10 hours of acute pain, worse with deep breath or pleuritic, weight gain, nsaid use or nonsteroidal anti inflammatory drug use, subjective fever, viral symptoms or rhinorrhea or scratchy throat, no known illness contacts, minimal to no change with tums, post prandial bloating or fullness with meals, right sided lq abdominal pain or right lower quadrant abdominal pain, shares an apartment, duration 2 months, awakens at night, recurrent bouts over past 6 months, prior episodes of diarrhea, fhx of depression or family history of depression, diminished energy or feeling drained, no vaginal discharge, fhx of pud or family history of peptic ulcer disease, infertility hx or infertility history, heavy periods or irregular periods, no bloody bowel movements, no suicidal ideations, not sexually active, getting worse or progressive or symptoms now daily, visual hallucination once, symptoms for 6 months, male, no blood in stool, irregular flow or irregular frequency or irregular intervals, loss of interest, last menstrual period 2 months ago, diminished appetite, lightheaded, no rash, recent upper respiratory symptoms, son died 3 weeks ago, duration 3 weeks, global headache or diffuse headache, heart pounding or heart racing, difficulty falling asleep, 1 day duration or 2 days duration, stress, no relief with asthma inhaler, auditory hallucination once, no illicit drug use, associated sob or associated shortness of breath, fatigue or difficulty concentrating, exercise induced asthma, iud, sleep disturbance or early awakenings, episodes of heart racing, increased appetite, 2 to 3 beers a week, burning or gnawing or burning and gnawing, tossing and turning, recent nausea vomiting or recent flulike symptoms, intermittent symptoms, associated nausea, sleeping medication ineffective, hallucinations after taking ambien, vomiting, photophobia, no chest pain, weight loss, no hair changes or no nail changes or no temperature intolerance, caffeine use, onset 5 years ago, 67 year, neck pain, 17 year, few months duration, sharp or stabbing or 7 to 8 out of 10 on pain scale, vaginal dryness, shortness of breath, recent visit to emergency department with negative workup, no premenstrual symptoms, associated throat tightness, intermittent, sexually active, chest pain, duration x 1 day, chest pressure, increased frequency recently, feels hot or feels clammy, onset 3 years ago, associated feeling of impending doom, recent heavy lifting at work or recent rock climbing, lmp 2 months ago or last menstrual period 2 months ago, 26 year, early wakening, last pap smear i year ago, no caffeine use, difficulty with sleep, subjective fevers, 44 year, adderall use, unsuccessful napping, hot flashes, increased stress, prior normal periods, family history of mi or family history of myocardial infarction, family history of migraines, episodes last 15 to 30 minutes, family history of thyroid disorder, episode of hand numbness or episode of finger numbness, no shortness of breath, heavy sweating, [UNK], irregular menses)\n",
      " \n",
      "Student notes: b'mrs tompkins 35 year old female presents today abnormal periods become spaced lmp 2 months ago never pregnant though tried 9 years ex husband periods become heavy uses 7 pad first day 1 pad last 7 days long recent weight gain 10 15lbs last 6 months fatigued denies hirsutism discharge decreased sleep fever chills night sweats weight loss nausea vomiting breast discharge constipation diarrhea chest pain sob last pap 6 months ago normal no hx stds sexually active boyfriend no contraception no past medical surgical hx no medications no allergies meds grandma died cervical cancer aunt breast cancer 2 adopted children works scheduling administrator drinks 1 2 drinks month no tobacco drug caffeine usage'\n",
      "Targets(s): ['nausea' '35 year' 'male' 'post prandial bloating or fullness with meals'\n",
      " 'nsaid use or nonsteroidal anti inflammatory drug use'\n",
      " 'no blood in stool' 'minimal to no change with tums' 'intermittent'\n",
      " 'getting worse or progressive or symptoms now daily'\n",
      " 'fhx of pud or family history of peptic ulcer disease'\n",
      " 'epigastric discomfort' 'duration 2 months' 'darker bowel movements'\n",
      " 'burning or gnawing or burning and gnawing' 'awakens at night'\n",
      " '2 to 3 beers a week']\n",
      "Predicted Targets(s): (getting worse or progressive or symptoms now daily, awakens at night, minimal to no change with tums, intermittent, burning or gnawing or burning and gnawing, epigastric discomfort, duration 2 months, fhx of pud or family history of peptic ulcer disease, no blood in stool, 2 to 3 beers a week, nsaid use or nonsteroidal anti inflammatory drug use, post prandial bloating or fullness with meals, darker bowel movements, male, nausea, 35 year, fatigue, heavy caffeine use, no relief with asthma inhaler, weight stable, 17 year, no depressed mood, weight gain, decreased appetite, heavy periods or irregular periods, neck pain, symptoms for 6 months, onset 5 years ago, adderall use, viral symptoms or rhinorrhea or scratchy throat, lack of other thyroid symptoms, infertility hx or infertility history, recent heavy lifting at work or recent rock climbing, stress due to caring for elderly parents, sharp or stabbing or 7 to 8 out of 10 on pain scale, duration x 1 day, sleep disturbance or early awakenings, 45 year, female, no rash, meningococcal vaccine status unknown, heart pounding or heart racing, family history of mi or family history of myocardial infarction, anxious or nervous, family history of migraines, no shortness of breath, normal lmp 2 weeks ago or normal last menstrual period 2 weeks ago, recent visit to emergency department with negative workup, unprotected sex, exercise induced asthma, 20 year, associated nausea, insomnia, family history of thyroid disorder, onset 3 years ago, iud, diminished energy or feeling drained, no suicidal ideations, no hair changes or no nail changes or no temperature intolerance, prior episodes of diarrhea, 1 day duration or 2 days duration, caffeine use, lightheaded, 67 year, heavy sweating, son died 3 weeks ago, last pap smear i year ago, worse with deep breath or pleuritic, no bloody bowel movements, recurrent bouts over past 6 months, associated feeling of impending doom, weight loss, no vaginal discharge, shortness of breath, not sexually active, chest pain, sexually active, diminished appetite, hot flashes, fatigue or difficulty concentrating, 8 to 10 hours of acute pain, shares an apartment, irregular menses, lmp 2 months ago or last menstrual period 2 months ago, early wakening, stress, fhx of depression or family history of depression, vomiting, no illicit drug use, last menstrual period 2 months ago, myalgias, increased appetite, global headache or diffuse headache, no urinary symptoms, difficulty with sleep, photophobia, chest pressure, unsuccessful napping, no relief with motrin or no relief with tylenol, duration 3 weeks, subjective fevers, recent upper respiratory symptoms, increased stress, no known illness contacts, prior normal periods, right sided lq abdominal pain or right lower quadrant abdominal pain, 44 year, episode of hand numbness or episode of finger numbness, associated sob or associated shortness of breath, vaginal dryness, irregular flow or irregular frequency or irregular intervals, no caffeine use, 26 year, episodes of heart racing, few months duration, associated throat tightness, auditory hallucination once, intermittent symptoms, recent nausea vomiting or recent flulike symptoms, tossing and turning, hallucinations after taking ambien, [UNK], feels hot or feels clammy, loss of interest, no premenstrual symptoms, subjective fever, no chest pain, difficulty falling asleep, increased frequency recently, visual hallucination once, episodes last 15 to 30 minutes, sleeping medication ineffective)\n",
      " \n",
      "Student notes: b'patient 35 year old female presents complaint abnormal periods symptoms began 6 months ago periods lengthened 30 35 cycle menarche 12 used use 4 pads per day requires changing every hours week no spotting outide period age 13 received oral contraceptives regulate periods age 24 unable get pregnant 9 years despite frequent sexual intercourse husband ex since adopted 2 children instead denies deepening voice excess body hair abdominal pain past medical history none no surgeries miscarraiges allergies none medications none family history aunt breast cancer grandma cervical cancer parents healthy social rarely drinks occasional beer no smoking illicit drug use sexually active boyfriend review symptoms denies headache fever chills night sweats dysuria'\n",
      "Targets(s): ['nausea' '35 year' 'male' 'post prandial bloating or fullness with meals'\n",
      " 'nsaid use or nonsteroidal anti inflammatory drug use'\n",
      " 'no blood in stool' 'minimal to no change with tums' 'intermittent'\n",
      " 'getting worse or progressive or symptoms now daily'\n",
      " 'fhx of pud or family history of peptic ulcer disease'\n",
      " 'epigastric discomfort' 'duration 2 months' 'darker bowel movements'\n",
      " 'burning or gnawing or burning and gnawing' 'awakens at night'\n",
      " '2 to 3 beers a week']\n",
      "Predicted Targets(s): (getting worse or progressive or symptoms now daily, minimal to no change with tums, awakens at night, burning or gnawing or burning and gnawing, fhx of pud or family history of peptic ulcer disease, intermittent, epigastric discomfort, duration 2 months, 2 to 3 beers a week, no blood in stool, darker bowel movements, post prandial bloating or fullness with meals, nsaid use or nonsteroidal anti inflammatory drug use, male, nausea, 35 year, weight stable, decreased appetite, heavy caffeine use, no depressed mood, fatigue, 17 year, stress due to caring for elderly parents, weight gain, heavy periods or irregular periods, no relief with asthma inhaler, lack of other thyroid symptoms, adderall use, symptoms for 6 months, 45 year, infertility hx or infertility history, anxious or nervous, sleep disturbance or early awakenings, neck pain, recent heavy lifting at work or recent rock climbing, sharp or stabbing or 7 to 8 out of 10 on pain scale, family history of mi or family history of myocardial infarction, onset 5 years ago, female, viral symptoms or rhinorrhea or scratchy throat, iud, duration x 1 day, insomnia, meningococcal vaccine status unknown, no rash, heart pounding or heart racing, diminished energy or feeling drained, normal lmp 2 weeks ago or normal last menstrual period 2 weeks ago, 20 year, no shortness of breath, unprotected sex, family history of migraines, exercise induced asthma, no suicidal ideations, onset 3 years ago, associated nausea, son died 3 weeks ago, recent visit to emergency department with negative workup, family history of thyroid disorder, hot flashes, heavy sweating, sexually active, 67 year, 1 day duration or 2 days duration, caffeine use, lightheaded, last pap smear i year ago, no hair changes or no nail changes or no temperature intolerance, prior episodes of diarrhea, recurrent bouts over past 6 months, stress, no bloody bowel movements, chest pain, 8 to 10 hours of acute pain, shares an apartment, no vaginal discharge, shortness of breath, diminished appetite, irregular menses, not sexually active, lmp 2 months ago or last menstrual period 2 months ago, fhx of depression or family history of depression, associated feeling of impending doom, weight loss, early wakening, worse with deep breath or pleuritic, vomiting, fatigue or difficulty concentrating, last menstrual period 2 months ago, increased appetite, duration 3 weeks, myalgias, difficulty with sleep, global headache or diffuse headache, no urinary symptoms, no known illness contacts, unsuccessful napping, 44 year, prior normal periods, no illicit drug use, irregular flow or irregular frequency or irregular intervals, chest pressure, photophobia, subjective fevers, recent upper respiratory symptoms, vaginal dryness, right sided lq abdominal pain or right lower quadrant abdominal pain, no relief with motrin or no relief with tylenol, episode of hand numbness or episode of finger numbness, increased stress, 26 year, few months duration, no caffeine use, auditory hallucination once, associated throat tightness, associated sob or associated shortness of breath, episodes of heart racing, recent nausea vomiting or recent flulike symptoms, intermittent symptoms, tossing and turning, [UNK], hallucinations after taking ambien, loss of interest, no premenstrual symptoms, feels hot or feels clammy, difficulty falling asleep, no chest pain, subjective fever, visual hallucination once, increased frequency recently, episodes last 15 to 30 minutes, sleeping medication ineffective)\n",
      " \n",
      "Student notes: b'35 year old male come physician office today stomach problems onset 2 months ago epigastric pain relieved tums stopped week ago since relieving symptoms associated nausea no vomiting rate 5 10 painful comes go throughout day no progression no association food position no recent travelling smoke since 15 yo 1 1 half pack per day beers weekend no illicit drugs use ros negative except pmhx back pain chronic relieved motrin 200mg 1x week allergies none meds motrin 200mg'\n",
      "Targets(s): ['female' '35 year' 'weight gain' 'unprotected sex'\n",
      " 'symptoms for 6 months' 'last menstrual period 2 months ago'\n",
      " 'infertility hx or infertility history'\n",
      " 'heavy periods or irregular periods' 'fatigue']\n",
      "Predicted Targets(s): (female, symptoms for 6 months, 35 year, infertility hx or infertility history, fatigue, heavy periods or irregular periods, last menstrual period 2 months ago, unprotected sex, weight gain, lack of other thyroid symptoms, recent nausea vomiting or recent flulike symptoms, 44 year, heavy sweating, sexually active, no depressed mood, no urinary symptoms, 45 year, irregular flow or irregular frequency or irregular intervals, episodes of heart racing, normal lmp 2 weeks ago or normal last menstrual period 2 weeks ago, insomnia, weight loss, prior episodes of diarrhea, no premenstrual symptoms, weight stable, stress, anxious or nervous, no illicit drug use, recent visit to emergency department with negative workup, male, irregular menses, no chest pain, onset 3 years ago, nsaid use or nonsteroidal anti inflammatory drug use, recent upper respiratory symptoms, no blood in stool, heavy caffeine use, vaginal dryness, right sided lq abdominal pain or right lower quadrant abdominal pain, feels hot or feels clammy, last pap smear i year ago, lmp 2 months ago or last menstrual period 2 months ago, associated nausea, no vaginal discharge, prior normal periods, epigastric discomfort, stress due to caring for elderly parents, difficulty falling asleep, neck pain, unsuccessful napping, associated sob or associated shortness of breath, 20 year, awakens at night, no caffeine use, intermittent symptoms, fhx of depression or family history of depression, iud, no rash, exercise induced asthma, sleep disturbance or early awakenings, darker bowel movements, hot flashes, duration 2 months, myalgias, recurrent bouts over past 6 months, nausea, sharp or stabbing or 7 to 8 out of 10 on pain scale, getting worse or progressive or symptoms now daily, meningococcal vaccine status unknown, fatigue or difficulty concentrating, early wakening, no relief with motrin or no relief with tylenol, post prandial bloating or fullness with meals, increased stress, associated throat tightness, decreased appetite, not sexually active, photophobia, diminished appetite, family history of migraines, chest pressure, 1 day duration or 2 days duration, loss of interest, increased frequency recently, no shortness of breath, worse with deep breath or pleuritic, tossing and turning, onset 5 years ago, family history of thyroid disorder, 8 to 10 hours of acute pain, 2 to 3 beers a week, 17 year, 67 year, fhx of pud or family history of peptic ulcer disease, burning or gnawing or burning and gnawing, auditory hallucination once, duration 3 weeks, episodes last 15 to 30 minutes, vomiting, no suicidal ideations, subjective fever, viral symptoms or rhinorrhea or scratchy throat, difficulty with sleep, duration x 1 day, global headache or diffuse headache, minimal to no change with tums, chest pain, no bloody bowel movements, episode of hand numbness or episode of finger numbness, 26 year, diminished energy or feeling drained, no known illness contacts, no relief with asthma inhaler, few months duration, lightheaded, recent heavy lifting at work or recent rock climbing, no hair changes or no nail changes or no temperature intolerance, heart pounding or heart racing, son died 3 weeks ago, caffeine use, shares an apartment, visual hallucination once, increased appetite, associated feeling of impending doom, shortness of breath, sleeping medication ineffective, [UNK], intermittent, family history of mi or family history of myocardial infarction, hallucinations after taking ambien, adderall use, subjective fevers)\n",
      " \n",
      "Student notes: b'35 yo male stomahc problems 2 months byrning nawing pain mid epigastric area worsening 5 10 pain tums helped first occurs 3 times day 1 2 hours identified triggers feels nausea like could vomit feels bloated meals fatigue stolls become darker brown past 2 weeks no blood bm pain wakes night pain radiate feels tired lately eing woken pain no fevers chills sore throat runny nose pmh back pain muscle spasms realted work psh none nkda meds motrinonce per week 400 mg chewable tums sh divorced smokes 5 1 ppd since age 15 alcobhol sotpped used 2 beers weekends no drugs no travel diet fast food mom dad healthy uncle bleeding ulcer'\n",
      "Targets(s): ['female' 'recent visit to emergency department with negative workup'\n",
      " 'onset 5 years ago' 'no illicit drug use' 'no chest pain'\n",
      " 'no caffeine use' 'increased stress' 'increased frequency recently'\n",
      " 'feels hot or feels clammy' 'fatigue or difficulty concentrating'\n",
      " 'episodes of heart racing' 'episodes last 15 to 30 minutes'\n",
      " 'episode of hand numbness or episode of finger numbness'\n",
      " 'associated throat tightness'\n",
      " 'associated sob or associated shortness of breath' 'associated nausea'\n",
      " 'associated feeling of impending doom' '26 year']\n",
      "Predicted Targets(s): (26 year, increased stress, associated throat tightness, episodes of heart racing, no illicit drug use, increased frequency recently, onset 5 years ago, associated sob or associated shortness of breath, episode of hand numbness or episode of finger numbness, associated feeling of impending doom, no chest pain, no caffeine use, episodes last 15 to 30 minutes, associated nausea, fatigue or difficulty concentrating, feels hot or feels clammy, recent visit to emergency department with negative workup, female, male, irregular menses, unprotected sex, fatigue, fhx of depression or family history of depression, heavy periods or irregular periods, stress, chest pressure, heart pounding or heart racing, 20 year, 17 year, recurrent bouts over past 6 months, early wakening, no hair changes or no nail changes or no temperature intolerance, adderall use, increased appetite, no relief with asthma inhaler, caffeine use, 2 to 3 beers a week, lightheaded, tossing and turning, prior episodes of diarrhea, auditory hallucination once, viral symptoms or rhinorrhea or scratchy throat, few months duration, 8 to 10 hours of acute pain, 35 year, worse with deep breath or pleuritic, lmp 2 months ago or last menstrual period 2 months ago, infertility hx or infertility history, subjective fever, intermittent symptoms, weight gain, right sided lq abdominal pain or right lower quadrant abdominal pain, 44 year, weight stable, prior normal periods, diminished appetite, onset 3 years ago, symptoms for 6 months, exercise induced asthma, insomnia, burning or gnawing or burning and gnawing, 45 year, vaginal dryness, lack of other thyroid symptoms, last pap smear i year ago, family history of migraines, not sexually active, difficulty falling asleep, recent nausea vomiting or recent flulike symptoms, weight loss, diminished energy or feeling drained, heavy caffeine use, last menstrual period 2 months ago, irregular flow or irregular frequency or irregular intervals, family history of thyroid disorder, heavy sweating, sleep disturbance or early awakenings, no vaginal discharge, no rash, normal lmp 2 weeks ago or normal last menstrual period 2 weeks ago, no depressed mood, subjective fevers, 67 year, nausea, unsuccessful napping, family history of mi or family history of myocardial infarction, stress due to caring for elderly parents, decreased appetite, no bloody bowel movements, no shortness of breath, recent upper respiratory symptoms, difficulty with sleep, no suicidal ideations, no urinary symptoms, no relief with motrin or no relief with tylenol, darker bowel movements, anxious or nervous, shortness of breath, sharp or stabbing or 7 to 8 out of 10 on pain scale, no premenstrual symptoms, awakens at night, photophobia, meningococcal vaccine status unknown, neck pain, minimal to no change with tums, loss of interest, duration 2 months, visual hallucination once, global headache or diffuse headache, sleeping medication ineffective, no known illness contacts, nsaid use or nonsteroidal anti inflammatory drug use, myalgias, hot flashes, shares an apartment, epigastric discomfort, duration 3 weeks, iud, son died 3 weeks ago, recent heavy lifting at work or recent rock climbing, sexually active, chest pain, getting worse or progressive or symptoms now daily, no blood in stool, post prandial bloating or fullness with meals, duration x 1 day, hallucinations after taking ambien, intermittent, 1 day duration or 2 days duration, fhx of pud or family history of peptic ulcer disease, [UNK], vomiting)\n",
      " \n",
      "Student notes: b'cc cp hpi 17 yo aa male history exercise induced asthama presents l sided chest pain since yesterday denies history trauma chest reports rhinorrhea body aches 3 days ago pain constant exacerbated breathing movement states pain improved tylenol inhaler reports subjective fever denies cough chills abd pain n v constipation diarrhea lymphadenopathy weight changes fatigue ros negative except pmh exercise induced asthma uses inhaler no surgeries hospitalizations allergies fh dad asthma grandfather mi age 70 mother healthy sh denies tobacco use 1 2 beers parties occasional marijuana use last use weekend'\n",
      "Targets(s): ['female' 'nausea' '20 year' 'vomiting'\n",
      " 'viral symptoms or rhinorrhea or scratchy throat' 'subjective fever'\n",
      " 'shares an apartment' 'photophobia'\n",
      " 'no relief with motrin or no relief with tylenol' 'no rash'\n",
      " 'no known illness contacts' 'neck pain' 'myalgias'\n",
      " 'meningococcal vaccine status unknown'\n",
      " 'global headache or diffuse headache' 'family history of migraines'\n",
      " '1 day duration or 2 days duration']\n",
      "Predicted Targets(s): (photophobia, shares an apartment, global headache or diffuse headache, no relief with motrin or no relief with tylenol, vomiting, neck pain, meningococcal vaccine status unknown, myalgias, viral symptoms or rhinorrhea or scratchy throat, nausea, 1 day duration or 2 days duration, family history of migraines, no known illness contacts, no rash, subjective fever, 20 year, female, fhx of depression or family history of depression, sharp or stabbing or 7 to 8 out of 10 on pain scale, increased frequency recently, unprotected sex, sexually active, sleep disturbance or early awakenings, last menstrual period 2 months ago, family history of thyroid disorder, recent nausea vomiting or recent flulike symptoms, weight gain, lack of other thyroid symptoms, difficulty falling asleep, diminished energy or feeling drained, chest pressure, no bloody bowel movements, prior episodes of diarrhea, lmp 2 months ago or last menstrual period 2 months ago, increased stress, duration 2 months, male, fatigue or difficulty concentrating, nsaid use or nonsteroidal anti inflammatory drug use, 8 to 10 hours of acute pain, duration x 1 day, irregular flow or irregular frequency or irregular intervals, anxious or nervous, duration 3 weeks, worse with deep breath or pleuritic, recent heavy lifting at work or recent rock climbing, recent upper respiratory symptoms, no hair changes or no nail changes or no temperature intolerance, recurrent bouts over past 6 months, heart pounding or heart racing, minimal to no change with tums, onset 3 years ago, prior normal periods, associated feeling of impending doom, exercise induced asthma, decreased appetite, irregular menses, diminished appetite, no relief with asthma inhaler, vaginal dryness, associated sob or associated shortness of breath, normal lmp 2 weeks ago or normal last menstrual period 2 weeks ago, associated throat tightness, weight stable, increased appetite, infertility hx or infertility history, post prandial bloating or fullness with meals, no urinary symptoms, symptoms for 6 months, episode of hand numbness or episode of finger numbness, no vaginal discharge, not sexually active, right sided lq abdominal pain or right lower quadrant abdominal pain, last pap smear i year ago, chest pain, son died 3 weeks ago, stress, 2 to 3 beers a week, tossing and turning, heavy sweating, lightheaded, difficulty with sleep, intermittent, few months duration, 44 year, no premenstrual symptoms, fatigue, onset 5 years ago, weight loss, no shortness of breath, no depressed mood, adderall use, hallucinations after taking ambien, no chest pain, 67 year, feels hot or feels clammy, heavy caffeine use, visual hallucination once, hot flashes, episodes last 15 to 30 minutes, 17 year, early wakening, 45 year, heavy periods or irregular periods, unsuccessful napping, caffeine use, insomnia, no suicidal ideations, loss of interest, subjective fevers, episodes of heart racing, associated nausea, burning or gnawing or burning and gnawing, family history of mi or family history of myocardial infarction, stress due to caring for elderly parents, intermittent symptoms, no illicit drug use, darker bowel movements, fhx of pud or family history of peptic ulcer disease, epigastric discomfort, 35 year, auditory hallucination once, shortness of breath, sleeping medication ineffective, no blood in stool, awakens at night, iud, recent visit to emergency department with negative workup, [UNK], getting worse or progressive or symptoms now daily, 26 year, no caffeine use)\n",
      " \n",
      "Student notes: b'hpi ch 35 yo hx smoking p w epigastric pain nausea 2 months pain burning gnawing occurs 2 times per day lasts 1 2 hours increasing frequency pain associated food wakes patient night tums initially improved pain no longer effective patient also endorses feeling bloated whenever eats decreased appetite past two weeks also bowel movements become much darker dark brown denies vomiting diarrhea constipation endorses recent stressor divorce started 6 months ago pmh none psh none medications motrin back pain 2x200mg q wk allergies nkda fhx paternal uncle bleeding ulcer parents alive well shx works construction single lives alone smokes 1 2 1ppd x 20yr denies drug use previously drank 2 beers wk stopped 3 wks ago ros per hpi'\n",
      "Targets(s): ['nausea' '35 year' 'male' 'post prandial bloating or fullness with meals'\n",
      " 'nsaid use or nonsteroidal anti inflammatory drug use'\n",
      " 'no blood in stool' 'minimal to no change with tums' 'intermittent'\n",
      " 'getting worse or progressive or symptoms now daily'\n",
      " 'fhx of pud or family history of peptic ulcer disease'\n",
      " 'epigastric discomfort' 'duration 2 months' 'darker bowel movements'\n",
      " 'burning or gnawing or burning and gnawing' 'awakens at night'\n",
      " '2 to 3 beers a week']\n",
      "Predicted Targets(s): (getting worse or progressive or symptoms now daily, awakens at night, burning or gnawing or burning and gnawing, intermittent, minimal to no change with tums, fhx of pud or family history of peptic ulcer disease, 2 to 3 beers a week, no blood in stool, epigastric discomfort, duration 2 months, post prandial bloating or fullness with meals, darker bowel movements, nsaid use or nonsteroidal anti inflammatory drug use, male, nausea, 35 year, weight gain, onset 5 years ago, female, no depressed mood, heavy periods or irregular periods, fatigue, 17 year, weight stable, no relief with asthma inhaler, heavy caffeine use, neck pain, symptoms for 6 months, recent visit to emergency department with negative workup, lack of other thyroid symptoms, normal lmp 2 weeks ago or normal last menstrual period 2 weeks ago, viral symptoms or rhinorrhea or scratchy throat, associated nausea, 20 year, recurrent bouts over past 6 months, adderall use, prior episodes of diarrhea, no bloody bowel movements, decreased appetite, sharp or stabbing or 7 to 8 out of 10 on pain scale, not sexually active, infertility hx or infertility history, recent heavy lifting at work or recent rock climbing, 45 year, exercise induced asthma, no vaginal discharge, meningococcal vaccine status unknown, duration x 1 day, stress due to caring for elderly parents, heart pounding or heart racing, sleep disturbance or early awakenings, fatigue or difficulty concentrating, no shortness of breath, associated feeling of impending doom, onset 3 years ago, weight loss, diminished appetite, 8 to 10 hours of acute pain, unprotected sex, diminished energy or feeling drained, insomnia, no rash, family history of migraines, chest pain, anxious or nervous, last pap smear i year ago, no illicit drug use, no urinary symptoms, family history of thyroid disorder, family history of mi or family history of myocardial infarction, iud, lightheaded, heavy sweating, irregular menses, no hair changes or no nail changes or no temperature intolerance, 1 day duration or 2 days duration, no suicidal ideations, right sided lq abdominal pain or right lower quadrant abdominal pain, 67 year, son died 3 weeks ago, worse with deep breath or pleuritic, shortness of breath, increased stress, caffeine use, hot flashes, stress, shares an apartment, episode of hand numbness or episode of finger numbness, sexually active, lmp 2 months ago or last menstrual period 2 months ago, vomiting, last menstrual period 2 months ago, fhx of depression or family history of depression, 26 year, global headache or diffuse headache, no caffeine use, subjective fevers, early wakening, no known illness contacts, photophobia, chest pressure, myalgias, episodes of heart racing, increased appetite, associated throat tightness, associated sob or associated shortness of breath, unsuccessful napping, no relief with motrin or no relief with tylenol, recent upper respiratory symptoms, irregular flow or irregular frequency or irregular intervals, difficulty with sleep, 44 year, duration 3 weeks, vaginal dryness, prior normal periods, few months duration, intermittent symptoms, feels hot or feels clammy, auditory hallucination once, tossing and turning, recent nausea vomiting or recent flulike symptoms, [UNK], no chest pain, no premenstrual symptoms, loss of interest, subjective fever, hallucinations after taking ambien, increased frequency recently, episodes last 15 to 30 minutes, difficulty falling asleep, visual hallucination once, sleeping medication ineffective)\n",
      " \n",
      "Student notes: b'cc episode heart pounding numbness hand hpi miss whelen 26 female comes follow sensation heart pounding numbness status tests prior visit showed complete blood count metabolic panel cardiac enzymes ecg wnlthe pounding taken place every 2 3 days past 5 years lasts 15 30 minutes time gets shorty breath nauseous feels hot subsequently feels cold clammy 15 30 minutes afterwards two weeks ago also noted hand weakness no history heart problems takes no medications ros negative pmh unremarkable meds none allergies none surgery none hospitalizations none gyn g0p0 menarche 12 periods regular every 30 days 4 days denies spotting shx recently laid 2 months ago monogomous boyfriend always uses condoms unmarried'\n",
      "Targets(s): ['female' 'visual hallucination once' 'unsuccessful napping'\n",
      " 'tossing and turning' 'son died 3 weeks ago'\n",
      " 'sleeping medication ineffective' 'no suicidal ideations'\n",
      " 'loss of interest' 'increased appetite'\n",
      " 'hallucinations after taking ambien'\n",
      " 'fhx of depression or family history of depression' 'early wakening'\n",
      " 'duration 3 weeks' 'diminished energy or feeling drained'\n",
      " 'difficulty with sleep' 'difficulty falling asleep'\n",
      " 'auditory hallucination once' '67 year']\n",
      "Predicted Targets(s): (sleeping medication ineffective, hallucinations after taking ambien, difficulty with sleep, 67 year, unsuccessful napping, duration 3 weeks, difficulty falling asleep, early wakening, auditory hallucination once, tossing and turning, loss of interest, increased appetite, diminished energy or feeling drained, visual hallucination once, no suicidal ideations, son died 3 weeks ago, fhx of depression or family history of depression, female, male, exercise induced asthma, prior episodes of diarrhea, 20 year, worse with deep breath or pleuritic, 17 year, no rash, recent heavy lifting at work or recent rock climbing, irregular menses, nausea, lack of other thyroid symptoms, no shortness of breath, heavy caffeine use, recent upper respiratory symptoms, burning or gnawing or burning and gnawing, heavy periods or irregular periods, onset 3 years ago, no caffeine use, iud, sharp or stabbing or 7 to 8 out of 10 on pain scale, irregular flow or irregular frequency or irregular intervals, 1 day duration or 2 days duration, getting worse or progressive or symptoms now daily, 44 year, no relief with asthma inhaler, no chest pain, sexually active, decreased appetite, subjective fevers, weight loss, shares an apartment, unprotected sex, subjective fever, anxious or nervous, stress due to caring for elderly parents, prior normal periods, fatigue, increased stress, global headache or diffuse headache, vaginal dryness, lmp 2 months ago or last menstrual period 2 months ago, sleep disturbance or early awakenings, recent nausea vomiting or recent flulike symptoms, vomiting, adderall use, caffeine use, stress, duration x 1 day, photophobia, weight stable, no depressed mood, no relief with motrin or no relief with tylenol, neck pain, 8 to 10 hours of acute pain, 45 year, no bloody bowel movements, diminished appetite, family history of migraines, insomnia, post prandial bloating or fullness with meals, no premenstrual symptoms, associated throat tightness, myalgias, recurrent bouts over past 6 months, feels hot or feels clammy, episodes of heart racing, family history of thyroid disorder, lightheaded, infertility hx or infertility history, no urinary symptoms, onset 5 years ago, last menstrual period 2 months ago, no known illness contacts, no hair changes or no nail changes or no temperature intolerance, heavy sweating, episodes last 15 to 30 minutes, chest pressure, increased frequency recently, viral symptoms or rhinorrhea or scratchy throat, weight gain, minimal to no change with tums, last pap smear i year ago, family history of mi or family history of myocardial infarction, heart pounding or heart racing, associated sob or associated shortness of breath, few months duration, 2 to 3 beers a week, associated nausea, episode of hand numbness or episode of finger numbness, hot flashes, meningococcal vaccine status unknown, epigastric discomfort, normal lmp 2 weeks ago or normal last menstrual period 2 weeks ago, awakens at night, nsaid use or nonsteroidal anti inflammatory drug use, fhx of pud or family history of peptic ulcer disease, darker bowel movements, right sided lq abdominal pain or right lower quadrant abdominal pain, symptoms for 6 months, no blood in stool, fatigue or difficulty concentrating, 26 year, not sexually active, chest pain, intermittent, 35 year, shortness of breath, duration 2 months, recent visit to emergency department with negative workup, intermittent symptoms, no illicit drug use, associated feeling of impending doom, no vaginal discharge, [UNK])\n",
      " \n",
      "Student notes: b'hpi 67 yo f c insomnia problems falling asleep multiple awakenings night wokes eraly started 3 weeks ago lost son feels tired tine denies feeling guilty anhedonia weight increased apettite lsat 2 weeks no thought hurting self others think worth living good support system husband family friends first time happended ros stated hpi pmh htn 15 years remission breast cancer 10 years received chemo radio surgery nka meds lisinopril hctz psh laparotomy peritonitis 20s pfh father stroke dyslipidemia mother 90 history depression ob gy g1p1 lmp 52yo social retired receptionist no smoking used drink 2 glasses wine per week right drink anything no illicit drug use'\n",
      "Targets(s): ['female' 'recent visit to emergency department with negative workup'\n",
      " 'onset 5 years ago' 'no illicit drug use' 'no chest pain'\n",
      " 'no caffeine use' 'increased stress' 'increased frequency recently'\n",
      " 'feels hot or feels clammy' 'fatigue or difficulty concentrating'\n",
      " 'episodes of heart racing' 'episodes last 15 to 30 minutes'\n",
      " 'episode of hand numbness or episode of finger numbness'\n",
      " 'associated throat tightness'\n",
      " 'associated sob or associated shortness of breath' 'associated nausea'\n",
      " 'associated feeling of impending doom' '26 year']\n",
      "Predicted Targets(s): (26 year, associated feeling of impending doom, female, associated throat tightness, increased stress, associated sob or associated shortness of breath, feels hot or feels clammy, increased frequency recently, onset 5 years ago, episodes of heart racing, no chest pain, associated nausea, episode of hand numbness or episode of finger numbness, episodes last 15 to 30 minutes, recent visit to emergency department with negative workup, fatigue or difficulty concentrating, no caffeine use, no illicit drug use, stress, weight stable, irregular menses, lack of other thyroid symptoms, heavy caffeine use, insomnia, decreased appetite, stress due to caring for elderly parents, 45 year, fhx of depression or family history of depression, vaginal dryness, onset 3 years ago, 20 year, 8 to 10 hours of acute pain, fatigue, prior normal periods, last pap smear i year ago, recurrent bouts over past 6 months, anxious or nervous, prior episodes of diarrhea, right sided lq abdominal pain or right lower quadrant abdominal pain, no bloody bowel movements, heavy periods or irregular periods, recent nausea vomiting or recent flulike symptoms, unprotected sex, 44 year, lmp 2 months ago or last menstrual period 2 months ago, no depressed mood, infertility hx or infertility history, 2 to 3 beers a week, normal lmp 2 weeks ago or normal last menstrual period 2 weeks ago, no vaginal discharge, male, irregular flow or irregular frequency or irregular intervals, weight loss, early wakening, family history of migraines, no urinary symptoms, increased appetite, auditory hallucination once, adderall use, last menstrual period 2 months ago, subjective fever, viral symptoms or rhinorrhea or scratchy throat, weight gain, diminished appetite, burning or gnawing or burning and gnawing, tossing and turning, worse with deep breath or pleuritic, not sexually active, 35 year, no rash, lightheaded, chest pressure, intermittent symptoms, no hair changes or no nail changes or no temperature intolerance, sleep disturbance or early awakenings, diminished energy or feeling drained, unsuccessful napping, heart pounding or heart racing, symptoms for 6 months, no premenstrual symptoms, hot flashes, few months duration, no suicidal ideations, heavy sweating, 17 year, difficulty falling asleep, caffeine use, 67 year, photophobia, nausea, no relief with asthma inhaler, exercise induced asthma, subjective fevers, no relief with motrin or no relief with tylenol, family history of thyroid disorder, visual hallucination once, darker bowel movements, myalgias, minimal to no change with tums, difficulty with sleep, shortness of breath, awakens at night, loss of interest, meningococcal vaccine status unknown, no known illness contacts, duration 2 months, family history of mi or family history of myocardial infarction, recent upper respiratory symptoms, no shortness of breath, sleeping medication ineffective, nsaid use or nonsteroidal anti inflammatory drug use, epigastric discomfort, neck pain, global headache or diffuse headache, shares an apartment, sexually active, sharp or stabbing or 7 to 8 out of 10 on pain scale, iud, son died 3 weeks ago, duration 3 weeks, no blood in stool, getting worse or progressive or symptoms now daily, post prandial bloating or fullness with meals, hallucinations after taking ambien, chest pain, recent heavy lifting at work or recent rock climbing, intermittent, 1 day duration or 2 days duration, duration x 1 day, [UNK], fhx of pud or family history of peptic ulcer disease, vomiting)\n",
      " \n"
     ]
    }
   ],
   "source": [
    "# Create a model for inference.\n",
    "model_for_inference = keras.Sequential([text_vectorizer, shallow_mlp_model])\n",
    "\n",
    "# Create a small dataset just for demoing inference.\n",
    "inference_dataset = make_dataset(test_df.sample(100), is_train=False)\n",
    "text_batch, label_batch = next(iter(inference_dataset))\n",
    "predicted_probabilities = model_for_inference.predict(text_batch)\n",
    "\n",
    "# Perform inference.\n",
    "for i, text in enumerate(text_batch[10:50]):\n",
    "    label = label_batch[i].numpy()[None, ...]\n",
    "    print(f\"Student notes: {text}\")\n",
    "    print(f\"Targets(s): {invert_multi_hot(label[0])}\")\n",
    "    predicted_proba = [proba for proba in predicted_probabilities[i]]\n",
    "    all_labels = [\n",
    "        x\n",
    "        for _, x in sorted(\n",
    "            zip(predicted_probabilities[i], lookup.get_vocabulary()),\n",
    "            key=lambda pair: pair[0],\n",
    "            reverse=True,\n",
    "            \n",
    "        )\n",
    "    ][:]\n",
    "    print(f\"Predicted Targets(s): ({', '.join([label for label in all_labels])})\")\n",
    "    print(\" \")"
   ]
  },
  {
   "cell_type": "code",
   "execution_count": null,
   "id": "450d3cae",
   "metadata": {},
   "outputs": [],
   "source": []
  }
 ],
 "metadata": {
  "kernelspec": {
   "display_name": "Python 3 (ipykernel)",
   "language": "python",
   "name": "python3"
  },
  "language_info": {
   "codemirror_mode": {
    "name": "ipython",
    "version": 3
   },
   "file_extension": ".py",
   "mimetype": "text/x-python",
   "name": "python",
   "nbconvert_exporter": "python",
   "pygments_lexer": "ipython3",
   "version": "3.8.8"
  }
 },
 "nbformat": 4,
 "nbformat_minor": 5
}
