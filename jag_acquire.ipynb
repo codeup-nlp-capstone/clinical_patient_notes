{
 "cells": [
  {
   "cell_type": "code",
   "execution_count": 1,
   "metadata": {},
   "outputs": [],
   "source": [
    "import matplotlib.pyplot as plt\n",
    "import seaborn as sns\n",
    "import pandas as pd\n",
    "import json\n",
    "import numpy as np\n",
    "pd.set_option('display.max_rows', 500)\n",
    "import prepare_jag"
   ]
  },
  {
   "cell_type": "markdown",
   "metadata": {},
   "source": [
    "---"
   ]
  },
  {
   "cell_type": "markdown",
   "metadata": {},
   "source": [
    "Download the data from the [Kaggle Competition Site](https://www.kaggle.com/c/medicalnotes-2019/data)"
   ]
  },
  {
   "cell_type": "markdown",
   "metadata": {},
   "source": [
    "Test all the code together"
   ]
  },
  {
   "cell_type": "code",
   "execution_count": null,
   "metadata": {},
   "outputs": [],
   "source": [
    "# Load data\n",
    "df = pd.read_csv('train.csv')\n",
    "notes = pd.read_csv('patient_notes.csv')\n",
    "features = pd.read_csv('features_kaggle.csv')\n",
    "print('Test, notes, and features loaded.')\n",
    "#Merge dataframes\n",
    "df = df.merge(notes, how='inner', on='pn_num')\n",
    "df.drop(columns='case_num_y', inplace=True)\n",
    "df.rename(columns={'case_num_x':'case_num'}, inplace=True)\n",
    "df = df.merge(features, how='inner', on='feature_num')\n",
    "df.drop(columns='case_num_y', inplace=True)\n",
    "df.rename(columns={'case_num_x':'case_num'}, inplace=True)\n",
    "df.rename(columns={'pn_history': 'original'}, inplace=True)\n",
    "print('Merged dataframes')\n",
    "df = prepare_jag.prep_article_data(df, 'original', extra_words=[], exclude_words=['no'])"
   ]
  },
  {
   "cell_type": "code",
   "execution_count": 2,
   "metadata": {},
   "outputs": [
    {
     "name": "stdout",
     "output_type": "stream",
     "text": [
      "Test, notes, and features loaded.\n",
      "Merged dataframes\n",
      "Renamed 'pn_history' column to 'original'\n",
      "Added a basic clean column lowercaseing and removing special characters\n",
      "Added stemmed column with tokenized words and stopwords removed\n",
      "Added lemmatized column with lemmatized words and stopwords removed\n",
      "Data preparation complete\n"
     ]
    }
   ],
   "source": [
    "df = prepare_jag.prep_train()"
   ]
  },
  {
   "cell_type": "code",
   "execution_count": 3,
   "metadata": {},
   "outputs": [
    {
     "data": {
      "text/html": [
       "<div>\n",
       "<style scoped>\n",
       "    .dataframe tbody tr th:only-of-type {\n",
       "        vertical-align: middle;\n",
       "    }\n",
       "\n",
       "    .dataframe tbody tr th {\n",
       "        vertical-align: top;\n",
       "    }\n",
       "\n",
       "    .dataframe thead th {\n",
       "        text-align: right;\n",
       "    }\n",
       "</style>\n",
       "<table border=\"1\" class=\"dataframe\">\n",
       "  <thead>\n",
       "    <tr style=\"text-align: right;\">\n",
       "      <th></th>\n",
       "      <th>id</th>\n",
       "      <th>case_num</th>\n",
       "      <th>pn_num</th>\n",
       "      <th>feature_num</th>\n",
       "      <th>feature_text</th>\n",
       "      <th>annotation</th>\n",
       "      <th>location</th>\n",
       "      <th>original</th>\n",
       "      <th>clean</th>\n",
       "      <th>stemmed</th>\n",
       "      <th>lemmatized</th>\n",
       "    </tr>\n",
       "  </thead>\n",
       "  <tbody>\n",
       "    <tr>\n",
       "      <th>0</th>\n",
       "      <td>00016_000</td>\n",
       "      <td>0</td>\n",
       "      <td>16</td>\n",
       "      <td>0</td>\n",
       "      <td>Family-history-of-MI-OR-Family-history-of-myoc...</td>\n",
       "      <td>['dad with recent heart attcak']</td>\n",
       "      <td>['696 724']</td>\n",
       "      <td>HPI: 17yo M presents with palpitations. Patien...</td>\n",
       "      <td>hpi 17yo presents palpitations patient reports...</td>\n",
       "      <td>hpi 17yo present palpit patient report 34 mont...</td>\n",
       "      <td>hpi 17yo present palpitation patient report 34...</td>\n",
       "    </tr>\n",
       "    <tr>\n",
       "      <th>1</th>\n",
       "      <td>00041_000</td>\n",
       "      <td>0</td>\n",
       "      <td>41</td>\n",
       "      <td>0</td>\n",
       "      <td>Family-history-of-MI-OR-Family-history-of-myoc...</td>\n",
       "      <td>[]</td>\n",
       "      <td>[]</td>\n",
       "      <td>17 Y/O M CAME TO THE CLINIC C/O HEART POUNDING...</td>\n",
       "      <td>17 yo came clinic co heart pounding started 23...</td>\n",
       "      <td>17 yo came clinic co heart pound start 23 mo a...</td>\n",
       "      <td>17 yo came clinic co heart pounding started 23...</td>\n",
       "    </tr>\n",
       "    <tr>\n",
       "      <th>2</th>\n",
       "      <td>00046_000</td>\n",
       "      <td>0</td>\n",
       "      <td>46</td>\n",
       "      <td>0</td>\n",
       "      <td>Family-history-of-MI-OR-Family-history-of-myoc...</td>\n",
       "      <td>['father: heart attack']</td>\n",
       "      <td>['824 844']</td>\n",
       "      <td>Mr. Cleveland is a 17yo M who was consented by...</td>\n",
       "      <td>mr cleveland 17yo consented parents alone toda...</td>\n",
       "      <td>mr cleveland 17yo wa consent parent alon today...</td>\n",
       "      <td>mr cleveland 17yo wa consented parent alone to...</td>\n",
       "    </tr>\n",
       "    <tr>\n",
       "      <th>3</th>\n",
       "      <td>00082_000</td>\n",
       "      <td>0</td>\n",
       "      <td>82</td>\n",
       "      <td>0</td>\n",
       "      <td>Family-history-of-MI-OR-Family-history-of-myoc...</td>\n",
       "      <td>['Father MI']</td>\n",
       "      <td>['622 631']</td>\n",
       "      <td>17 yo M w/ no cardiac or arrhythmia PMH presen...</td>\n",
       "      <td>17 yo w no cardiac arrhythmia pmh presents com...</td>\n",
       "      <td>17 yo w no cardiac arrhythmia pmh present comp...</td>\n",
       "      <td>17 yo w no cardiac arrhythmia pmh present comp...</td>\n",
       "    </tr>\n",
       "    <tr>\n",
       "      <th>4</th>\n",
       "      <td>00100_000</td>\n",
       "      <td>0</td>\n",
       "      <td>100</td>\n",
       "      <td>0</td>\n",
       "      <td>Family-history-of-MI-OR-Family-history-of-myoc...</td>\n",
       "      <td>['Dad-MI']</td>\n",
       "      <td>['735 741']</td>\n",
       "      <td>HPI: Dillon Cleveland is an otherwise healthy ...</td>\n",
       "      <td>hpi dillon cleveland otherwise healthy 17 year...</td>\n",
       "      <td>hpi dillon cleveland otherwis healthi 17 year ...</td>\n",
       "      <td>hpi dillon cleveland otherwise healthy 17 year...</td>\n",
       "    </tr>\n",
       "  </tbody>\n",
       "</table>\n",
       "</div>"
      ],
      "text/plain": [
       "          id  case_num  pn_num  feature_num  \\\n",
       "0  00016_000         0      16            0   \n",
       "1  00041_000         0      41            0   \n",
       "2  00046_000         0      46            0   \n",
       "3  00082_000         0      82            0   \n",
       "4  00100_000         0     100            0   \n",
       "\n",
       "                                        feature_text  \\\n",
       "0  Family-history-of-MI-OR-Family-history-of-myoc...   \n",
       "1  Family-history-of-MI-OR-Family-history-of-myoc...   \n",
       "2  Family-history-of-MI-OR-Family-history-of-myoc...   \n",
       "3  Family-history-of-MI-OR-Family-history-of-myoc...   \n",
       "4  Family-history-of-MI-OR-Family-history-of-myoc...   \n",
       "\n",
       "                         annotation     location  \\\n",
       "0  ['dad with recent heart attcak']  ['696 724']   \n",
       "1                                []           []   \n",
       "2          ['father: heart attack']  ['824 844']   \n",
       "3                     ['Father MI']  ['622 631']   \n",
       "4                        ['Dad-MI']  ['735 741']   \n",
       "\n",
       "                                            original  \\\n",
       "0  HPI: 17yo M presents with palpitations. Patien...   \n",
       "1  17 Y/O M CAME TO THE CLINIC C/O HEART POUNDING...   \n",
       "2  Mr. Cleveland is a 17yo M who was consented by...   \n",
       "3  17 yo M w/ no cardiac or arrhythmia PMH presen...   \n",
       "4  HPI: Dillon Cleveland is an otherwise healthy ...   \n",
       "\n",
       "                                               clean  \\\n",
       "0  hpi 17yo presents palpitations patient reports...   \n",
       "1  17 yo came clinic co heart pounding started 23...   \n",
       "2  mr cleveland 17yo consented parents alone toda...   \n",
       "3  17 yo w no cardiac arrhythmia pmh presents com...   \n",
       "4  hpi dillon cleveland otherwise healthy 17 year...   \n",
       "\n",
       "                                             stemmed  \\\n",
       "0  hpi 17yo present palpit patient report 34 mont...   \n",
       "1  17 yo came clinic co heart pound start 23 mo a...   \n",
       "2  mr cleveland 17yo wa consent parent alon today...   \n",
       "3  17 yo w no cardiac arrhythmia pmh present comp...   \n",
       "4  hpi dillon cleveland otherwis healthi 17 year ...   \n",
       "\n",
       "                                          lemmatized  \n",
       "0  hpi 17yo present palpitation patient report 34...  \n",
       "1  17 yo came clinic co heart pounding started 23...  \n",
       "2  mr cleveland 17yo wa consented parent alone to...  \n",
       "3  17 yo w no cardiac arrhythmia pmh present comp...  \n",
       "4  hpi dillon cleveland otherwise healthy 17 year...  "
      ]
     },
     "execution_count": 3,
     "metadata": {},
     "output_type": "execute_result"
    }
   ],
   "source": [
    "df.head()"
   ]
  },
  {
   "cell_type": "code",
   "execution_count": null,
   "metadata": {},
   "outputs": [],
   "source": []
  }
 ],
 "metadata": {
  "interpreter": {
   "hash": "38cca0c38332a56087b24af0bc80247f4fced29cb4f7f437d91dc159adec9c4e"
  },
  "kernelspec": {
   "display_name": "Python 3 (ipykernel)",
   "language": "python",
   "name": "python3"
  },
  "language_info": {
   "codemirror_mode": {
    "name": "ipython",
    "version": 3
   },
   "file_extension": ".py",
   "mimetype": "text/x-python",
   "name": "python",
   "nbconvert_exporter": "python",
   "pygments_lexer": "ipython3",
   "version": "3.9.7"
  }
 },
 "nbformat": 4,
 "nbformat_minor": 2
}
