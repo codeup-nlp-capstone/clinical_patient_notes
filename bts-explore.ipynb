{
 "cells": [
  {
   "cell_type": "code",
   "execution_count": 1,
   "id": "702048fa",
   "metadata": {},
   "outputs": [],
   "source": [
    "import matplotlib.pyplot as plt\n",
    "import seaborn as sns\n",
    "import pandas as pd\n",
    "import json\n",
    "import numpy as np"
   ]
  },
  {
   "cell_type": "markdown",
   "id": "20f924fb",
   "metadata": {},
   "source": [
    "Download the data from the [Kaggle Competition Site](https://www.kaggle.com/c/medicalnotes-2019/data)"
   ]
  },
  {
   "cell_type": "markdown",
   "id": "74380cef",
   "metadata": {},
   "source": [
    "# Data Dictionary\n",
    "descriptor: the value held in the 'feature_text' column. These are features that describe the individual."
   ]
  },
  {
   "cell_type": "code",
   "execution_count": 4,
   "id": "a1d8f1d5",
   "metadata": {},
   "outputs": [],
   "source": [
    "# Read csv files into a Pandas dataframe.\n",
    "features = pd.read_csv('features.csv')\n",
    "notes = pd.read_csv('patient_notes.csv')"
   ]
  },
  {
   "cell_type": "code",
   "execution_count": 34,
   "id": "cb0cb442",
   "metadata": {},
   "outputs": [
    {
     "data": {
      "text/html": [
       "<div>\n",
       "<style scoped>\n",
       "    .dataframe tbody tr th:only-of-type {\n",
       "        vertical-align: middle;\n",
       "    }\n",
       "\n",
       "    .dataframe tbody tr th {\n",
       "        vertical-align: top;\n",
       "    }\n",
       "\n",
       "    .dataframe thead th {\n",
       "        text-align: right;\n",
       "    }\n",
       "</style>\n",
       "<table border=\"1\" class=\"dataframe\">\n",
       "  <thead>\n",
       "    <tr style=\"text-align: right;\">\n",
       "      <th></th>\n",
       "      <th>feature_num</th>\n",
       "      <th>case_num</th>\n",
       "      <th>feature_text</th>\n",
       "    </tr>\n",
       "  </thead>\n",
       "  <tbody>\n",
       "    <tr>\n",
       "      <th>0</th>\n",
       "      <td>0</td>\n",
       "      <td>0</td>\n",
       "      <td>Family-history-of-MI-OR-Family-history-of-myoc...</td>\n",
       "    </tr>\n",
       "    <tr>\n",
       "      <th>1</th>\n",
       "      <td>1</td>\n",
       "      <td>0</td>\n",
       "      <td>Family-history-of-thyroid-disorder</td>\n",
       "    </tr>\n",
       "    <tr>\n",
       "      <th>2</th>\n",
       "      <td>2</td>\n",
       "      <td>0</td>\n",
       "      <td>Chest-pressure</td>\n",
       "    </tr>\n",
       "    <tr>\n",
       "      <th>3</th>\n",
       "      <td>3</td>\n",
       "      <td>0</td>\n",
       "      <td>Intermittent-symptoms</td>\n",
       "    </tr>\n",
       "    <tr>\n",
       "      <th>4</th>\n",
       "      <td>4</td>\n",
       "      <td>0</td>\n",
       "      <td>Lightheaded</td>\n",
       "    </tr>\n",
       "    <tr>\n",
       "      <th>...</th>\n",
       "      <td>...</td>\n",
       "      <td>...</td>\n",
       "      <td>...</td>\n",
       "    </tr>\n",
       "    <tr>\n",
       "      <th>138</th>\n",
       "      <td>912</td>\n",
       "      <td>9</td>\n",
       "      <td>Family-history-of-migraines</td>\n",
       "    </tr>\n",
       "    <tr>\n",
       "      <th>139</th>\n",
       "      <td>913</td>\n",
       "      <td>9</td>\n",
       "      <td>Female</td>\n",
       "    </tr>\n",
       "    <tr>\n",
       "      <th>140</th>\n",
       "      <td>914</td>\n",
       "      <td>9</td>\n",
       "      <td>Photophobia</td>\n",
       "    </tr>\n",
       "    <tr>\n",
       "      <th>141</th>\n",
       "      <td>915</td>\n",
       "      <td>9</td>\n",
       "      <td>No-known-illness-contacts</td>\n",
       "    </tr>\n",
       "    <tr>\n",
       "      <th>142</th>\n",
       "      <td>916</td>\n",
       "      <td>9</td>\n",
       "      <td>Subjective-fever</td>\n",
       "    </tr>\n",
       "  </tbody>\n",
       "</table>\n",
       "<p>143 rows × 3 columns</p>\n",
       "</div>"
      ],
      "text/plain": [
       "     feature_num  case_num                                       feature_text\n",
       "0              0         0  Family-history-of-MI-OR-Family-history-of-myoc...\n",
       "1              1         0                 Family-history-of-thyroid-disorder\n",
       "2              2         0                                     Chest-pressure\n",
       "3              3         0                              Intermittent-symptoms\n",
       "4              4         0                                        Lightheaded\n",
       "..           ...       ...                                                ...\n",
       "138          912         9                        Family-history-of-migraines\n",
       "139          913         9                                             Female\n",
       "140          914         9                                        Photophobia\n",
       "141          915         9                          No-known-illness-contacts\n",
       "142          916         9                                   Subjective-fever\n",
       "\n",
       "[143 rows x 3 columns]"
      ]
     },
     "execution_count": 34,
     "metadata": {},
     "output_type": "execute_result"
    }
   ],
   "source": [
    "# Get familiar with the 'features' dataframe.\n",
    "features"
   ]
  },
  {
   "cell_type": "markdown",
   "id": "9957e958",
   "metadata": {},
   "source": [
    "# Set sights on target:\n",
    "'feature_text' targeted\n",
    "\n",
    "I will have to create a function that will iterate through the students' patient notes and identify the different ways different students express the descriptors.\n",
    "\n",
    "Tentative plan: \n",
    "1. Normalize the text in features.feature_text and notes.pn_history.\n",
    "    * clean it, stem it, lemmatize it"
   ]
  },
  {
   "cell_type": "code",
   "execution_count": 17,
   "id": "e3bfe073",
   "metadata": {},
   "outputs": [
    {
     "name": "stdout",
     "output_type": "stream",
     "text": [
      "<class 'pandas.core.frame.DataFrame'>\n",
      "RangeIndex: 143 entries, 0 to 142\n",
      "Data columns (total 3 columns):\n",
      " #   Column        Non-Null Count  Dtype \n",
      "---  ------        --------------  ----- \n",
      " 0   feature_num   143 non-null    int64 \n",
      " 1   case_num      143 non-null    int64 \n",
      " 2   feature_text  143 non-null    object\n",
      "dtypes: int64(2), object(1)\n",
      "memory usage: 3.5+ KB\n"
     ]
    }
   ],
   "source": [
    "# Check 'features' dataframe for null values and data types.\n",
    "features.info()"
   ]
  },
  {
   "cell_type": "markdown",
   "id": "117eacf1",
   "metadata": {},
   "source": [
    "# Takeaways\n",
    "* The 'feature_text' column seems to hold values related to the individual patient. \n",
    "* There are no null values and the data types seems to make sense."
   ]
  },
  {
   "cell_type": "code",
   "execution_count": 39,
   "id": "f2b47387",
   "metadata": {},
   "outputs": [
    {
     "data": {
      "text/plain": [
       "Female                                                              7\n",
       "Male                                                                3\n",
       "20-year                                                             2\n",
       "Nausea                                                              2\n",
       "17-year                                                             2\n",
       "35-year                                                             2\n",
       "Minimal-to-no-change-with-Tums                                      1\n",
       "Global-headache-OR-diffuse-headache                                 1\n",
       "No-shortness-of-breath                                              1\n",
       "Episodes-last-15-to-30-minutes                                      1\n",
       "Increased-frequency-recently                                        1\n",
       "Family-history-of-migraines                                         1\n",
       "No-rash                                                             1\n",
       "No-suicidal-ideations                                               1\n",
       "Few-months-duration                                                 1\n",
       "Caffeine-use                                                        1\n",
       "26-year                                                             1\n",
       "duration-2-months                                                   1\n",
       "duration-3-weeks                                                    1\n",
       "Not-sexually-active                                                 1\n",
       "No-chest-pain                                                       1\n",
       "Fatigue                                                             1\n",
       "Weight-Gain                                                         1\n",
       "1-day-duration-OR-2-days-duration                                   1\n",
       "Fatigue-OR-Difficulty-concentrating                                 1\n",
       "44-year                                                             1\n",
       "Recent-heavy-lifting-at-work-OR-recent-rock-climbing                1\n",
       "Increased-stress                                                    1\n",
       "No-relief-with-Motrin-OR-no-relief-with-tylenol                     1\n",
       "Duration-x-1-day                                                    1\n",
       "Meningococcal-vaccine-status-unknown                                1\n",
       "2-to-3-beers-a-week                                                 1\n",
       "Associated-throat-tightness                                         1\n",
       "Adderall-use                                                        1\n",
       "Episode-of-hand-numbness-OR-Episode-of-finger-numbness              1\n",
       "Sleeping-medication-ineffective                                     1\n",
       "No-blood-in-stool                                                   1\n",
       "Sexually-active                                                     1\n",
       "Feels-hot-OR-Feels-clammy                                           1\n",
       "Onset-3-years-ago                                                   1\n",
       "Insomnia                                                            1\n",
       "Neck-pain                                                           1\n",
       "getting-worse-OR-progressive-OR-symptoms-now-daily                  1\n",
       "Shortness-of-breath                                                 1\n",
       "LMP-2-months-ago-or-Last-menstrual-period-2-months-ago              1\n",
       "Sharp-OR-stabbing-OR-7-to-8-out-of-10-on-pain-scale                 1\n",
       "Hallucinations-after-taking-Ambien                                  1\n",
       "No-hair-changes-OR-no-nail-changes-OR-no-temperature-intolerance    1\n",
       "heavy-periods-OR-irregular-periods                                  1\n",
       "Subjective-fevers                                                   1\n",
       "Name: feature_text, dtype: int64"
      ]
     },
     "execution_count": 39,
     "metadata": {},
     "output_type": "execute_result"
    }
   ],
   "source": [
    "# Check the type of values in the 'feature_text' column.\n",
    "features.feature_text.value_counts().head(50)"
   ]
  },
  {
   "cell_type": "markdown",
   "id": "e2f9645a",
   "metadata": {},
   "source": [
    "# Takeaways\n",
    "* It seems as if they created a unique list of features for each patient."
   ]
  },
  {
   "cell_type": "code",
   "execution_count": 43,
   "id": "3c6e7af4",
   "metadata": {},
   "outputs": [
    {
     "data": {
      "text/plain": [
       "count    10.000\n",
       "mean     14.300\n",
       "std       3.335\n",
       "min       9.000\n",
       "25%      12.250\n",
       "50%      14.500\n",
       "75%      17.000\n",
       "max      18.000\n",
       "Name: case_num, dtype: float64"
      ]
     },
     "execution_count": 43,
     "metadata": {},
     "output_type": "execute_result"
    }
   ],
   "source": [
    "features.case_num.value_counts().describe()"
   ]
  },
  {
   "cell_type": "markdown",
   "id": "93aa1728",
   "metadata": {},
   "source": [
    "# Takeaways\n",
    "* Each patient has ~14 descriptors."
   ]
  },
  {
   "cell_type": "code",
   "execution_count": 27,
   "id": "de592447",
   "metadata": {},
   "outputs": [
    {
     "data": {
      "text/plain": [
       "Vaginal-dryness                                                 1\n",
       "LMP-2-months-ago-or-Last-menstrual-period-2-months-ago          1\n",
       "Sexually-active                                                 1\n",
       "Recent-nausea-vomiting-OR-Recent-flulike-symptoms               1\n",
       "44-year                                                         1\n",
       "IUD                                                             1\n",
       "Hot-flashes                                                     1\n",
       "Sleep-disturbance-OR-Early-awakenings                           1\n",
       "Female                                                          1\n",
       "Last-Pap-smear-I-year-ago                                       1\n",
       "Prior-normal-periods                                            1\n",
       "No-premenstrual-symptoms                                        1\n",
       "Stress                                                          1\n",
       "Irregular-menses                                                1\n",
       "Onset-3-years-ago                                               1\n",
       "Irregular-flow-OR-Irregular-frequency-OR-Irregular-intervals    1\n",
       "Heavy-sweating                                                  1\n",
       "Name: feature_text, dtype: int64"
      ]
     },
     "execution_count": 27,
     "metadata": {},
     "output_type": "execute_result"
    }
   ],
   "source": [
    "features[features.case_num == 2].feature_text.value_counts()"
   ]
  },
  {
   "cell_type": "code",
   "execution_count": 6,
   "id": "ae9e1c79",
   "metadata": {},
   "outputs": [
    {
     "data": {
      "text/html": [
       "<div>\n",
       "<style scoped>\n",
       "    .dataframe tbody tr th:only-of-type {\n",
       "        vertical-align: middle;\n",
       "    }\n",
       "\n",
       "    .dataframe tbody tr th {\n",
       "        vertical-align: top;\n",
       "    }\n",
       "\n",
       "    .dataframe thead th {\n",
       "        text-align: right;\n",
       "    }\n",
       "</style>\n",
       "<table border=\"1\" class=\"dataframe\">\n",
       "  <thead>\n",
       "    <tr style=\"text-align: right;\">\n",
       "      <th></th>\n",
       "      <th>pn_num</th>\n",
       "      <th>case_num</th>\n",
       "      <th>pn_history</th>\n",
       "    </tr>\n",
       "  </thead>\n",
       "  <tbody>\n",
       "    <tr>\n",
       "      <th>0</th>\n",
       "      <td>0</td>\n",
       "      <td>0</td>\n",
       "      <td>17-year-old male, has come to the student heal...</td>\n",
       "    </tr>\n",
       "    <tr>\n",
       "      <th>1</th>\n",
       "      <td>1</td>\n",
       "      <td>0</td>\n",
       "      <td>17 yo male with recurrent palpitations for the...</td>\n",
       "    </tr>\n",
       "    <tr>\n",
       "      <th>2</th>\n",
       "      <td>2</td>\n",
       "      <td>0</td>\n",
       "      <td>Dillon Cleveland is a 17 y.o. male patient wit...</td>\n",
       "    </tr>\n",
       "    <tr>\n",
       "      <th>3</th>\n",
       "      <td>3</td>\n",
       "      <td>0</td>\n",
       "      <td>a 17 yo m c/o palpitation started 3 mos ago; \\...</td>\n",
       "    </tr>\n",
       "    <tr>\n",
       "      <th>4</th>\n",
       "      <td>4</td>\n",
       "      <td>0</td>\n",
       "      <td>17yo male with no pmh here for evaluation of p...</td>\n",
       "    </tr>\n",
       "    <tr>\n",
       "      <th>...</th>\n",
       "      <td>...</td>\n",
       "      <td>...</td>\n",
       "      <td>...</td>\n",
       "    </tr>\n",
       "    <tr>\n",
       "      <th>42141</th>\n",
       "      <td>95330</td>\n",
       "      <td>9</td>\n",
       "      <td>Ms. Madden is a 20 yo female presenting w/ the...</td>\n",
       "    </tr>\n",
       "    <tr>\n",
       "      <th>42142</th>\n",
       "      <td>95331</td>\n",
       "      <td>9</td>\n",
       "      <td>A 20 YO F CAME COMPLAIN A DULL 8/10 HEADACHE T...</td>\n",
       "    </tr>\n",
       "    <tr>\n",
       "      <th>42143</th>\n",
       "      <td>95332</td>\n",
       "      <td>9</td>\n",
       "      <td>Ms. Madden is a 20yo female who presents with ...</td>\n",
       "    </tr>\n",
       "    <tr>\n",
       "      <th>42144</th>\n",
       "      <td>95333</td>\n",
       "      <td>9</td>\n",
       "      <td>Stephanie madden is a 20 year old woman compla...</td>\n",
       "    </tr>\n",
       "    <tr>\n",
       "      <th>42145</th>\n",
       "      <td>95334</td>\n",
       "      <td>9</td>\n",
       "      <td>patient is a 20 yo F who presents with a heada...</td>\n",
       "    </tr>\n",
       "  </tbody>\n",
       "</table>\n",
       "<p>42146 rows × 3 columns</p>\n",
       "</div>"
      ],
      "text/plain": [
       "       pn_num  case_num                                         pn_history\n",
       "0           0         0  17-year-old male, has come to the student heal...\n",
       "1           1         0  17 yo male with recurrent palpitations for the...\n",
       "2           2         0  Dillon Cleveland is a 17 y.o. male patient wit...\n",
       "3           3         0  a 17 yo m c/o palpitation started 3 mos ago; \\...\n",
       "4           4         0  17yo male with no pmh here for evaluation of p...\n",
       "...       ...       ...                                                ...\n",
       "42141   95330         9  Ms. Madden is a 20 yo female presenting w/ the...\n",
       "42142   95331         9  A 20 YO F CAME COMPLAIN A DULL 8/10 HEADACHE T...\n",
       "42143   95332         9  Ms. Madden is a 20yo female who presents with ...\n",
       "42144   95333         9  Stephanie madden is a 20 year old woman compla...\n",
       "42145   95334         9  patient is a 20 yo F who presents with a heada...\n",
       "\n",
       "[42146 rows x 3 columns]"
      ]
     },
     "execution_count": 6,
     "metadata": {},
     "output_type": "execute_result"
    }
   ],
   "source": [
    "notes"
   ]
  },
  {
   "cell_type": "code",
   "execution_count": 10,
   "id": "2810898f",
   "metadata": {},
   "outputs": [
    {
     "data": {
      "text/plain": [
       "\"17-year-old male, has come to the student health clinic complaining of heart pounding. Mr. Cleveland's mother has given verbal consent for a history, physical examination, and treatment\\r\\n-began 2-3 months ago,sudden,intermittent for 2 days(lasting 3-4 min),worsening,non-allev/aggrav\\r\\n-associated with dispnea on exersion and rest,stressed out about school\\r\\n-reports fe feels like his heart is jumping out of his chest\\r\\n-ros:denies chest pain,dyaphoresis,wt loss,chills,fever,nausea,vomiting,pedal edeam\\r\\n-pmh:non,meds :aderol (from a friend),nkda\\r\\n-fh:father had MI recently,mother has thyroid dz\\r\\n-sh:non-smoker,mariguana 5-6 months ago,3 beers on the weekend, basketball at school\\r\\n-sh:no std\""
      ]
     },
     "execution_count": 10,
     "metadata": {},
     "output_type": "execute_result"
    }
   ],
   "source": [
    "notes.pn_history[0]"
   ]
  },
  {
   "cell_type": "code",
   "execution_count": 14,
   "id": "53ad9d6a",
   "metadata": {},
   "outputs": [
    {
     "data": {
      "text/plain": [
       "3    9753\n",
       "5    6909\n",
       "4    5405\n",
       "9    5151\n",
       "8    4196\n",
       "7    4101\n",
       "0    2268\n",
       "2    1958\n",
       "6    1597\n",
       "1     808\n",
       "Name: case_num, dtype: int64"
      ]
     },
     "execution_count": 14,
     "metadata": {},
     "output_type": "execute_result"
    }
   ],
   "source": [
    "notes.case_num.value_counts()"
   ]
  },
  {
   "cell_type": "code",
   "execution_count": 29,
   "id": "31357532",
   "metadata": {},
   "outputs": [
    {
     "data": {
      "text/plain": [
       "3076    44 yo F. C/o irregular mestrual periods.  prev...\n",
       "3077    CC: 44 yo female c/o irregular periods\\r\\nHPI:...\n",
       "3078    Dolores Montgomery, a 44-year-old female, has ...\n",
       "3079    HPI: 44 yo female presenting with menstrual ir...\n",
       "3080    CC: irregular mentrual bleeding \\r\\n44 yo F G2...\n",
       "Name: pn_history, dtype: object"
      ]
     },
     "execution_count": 29,
     "metadata": {},
     "output_type": "execute_result"
    }
   ],
   "source": [
    "notes[notes.case_num == 2].pn_history[:5]"
   ]
  },
  {
   "cell_type": "code",
   "execution_count": null,
   "id": "e50e69f1",
   "metadata": {},
   "outputs": [],
   "source": []
  }
 ],
 "metadata": {
  "kernelspec": {
   "display_name": "Python 3 (ipykernel)",
   "language": "python",
   "name": "python3"
  },
  "language_info": {
   "codemirror_mode": {
    "name": "ipython",
    "version": 3
   },
   "file_extension": ".py",
   "mimetype": "text/x-python",
   "name": "python",
   "nbconvert_exporter": "python",
   "pygments_lexer": "ipython3",
   "version": "3.8.8"
  }
 },
 "nbformat": 4,
 "nbformat_minor": 5
}
