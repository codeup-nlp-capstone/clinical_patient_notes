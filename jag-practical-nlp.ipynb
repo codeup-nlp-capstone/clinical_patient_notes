{
 "cells": [
  {
   "cell_type": "code",
   "execution_count": null,
   "metadata": {},
   "outputs": [],
   "source": [
    "import re\n",
    "import string\n"
   ]
  }
 ],
 "metadata": {
  "interpreter": {
   "hash": "d46d0b16b6dfb26952155ae99484e24306e7f71c69074255537796a78dd10e38"
  },
  "kernelspec": {
   "display_name": "Python 3.9.7 ('scispacy')",
   "language": "python",
   "name": "python3"
  },
  "language_info": {
   "name": "python",
   "version": "3.9.7"
  },
  "orig_nbformat": 4
 },
 "nbformat": 4,
 "nbformat_minor": 2
}
